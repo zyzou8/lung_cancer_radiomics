{
 "cells": [
  {
   "attachments": {},
   "cell_type": "markdown",
   "metadata": {},
   "source": [
    "# Fine tune ResNet-50"
   ]
  },
  {
   "cell_type": "code",
   "execution_count": 14,
   "metadata": {},
   "outputs": [],
   "source": [
    "from torchvision import models\n",
    "import pandas as pd\n",
    "import shutil\n",
    "import random\n",
    "from DicomRTTool.ReaderWriter import DicomReaderWriter, ROIAssociationClass\n",
    "import SimpleITK as sitk\n",
    "import matplotlib.pyplot as plt\n",
    "import numpy as np\n",
    "import os\n",
    "from sklearn.model_selection import train_test_split\n",
    "import torch\n",
    "import torch.nn as nn\n",
    "import torch.optim as optim\n",
    "from torch.utils.data import DataLoader, Dataset, ConcatDataset, TensorDataset\n",
    "import pickle\n",
    "import json\n",
    "import torch.nn.functional as F\n",
    "import tqdm\n",
    "from sklearn.metrics import confusion_matrix, roc_auc_score, accuracy_score\n",
    "import seaborn as sns\n",
    "from sklearn.preprocessing import label_binarize\n",
    "import wandb\n",
    "from sklearn.metrics import roc_curve, auc"
   ]
  },
  {
   "attachments": {},
   "cell_type": "markdown",
   "metadata": {},
   "source": [
    "## Load train dataset"
   ]
  },
  {
   "cell_type": "code",
   "execution_count": 4,
   "metadata": {},
   "outputs": [],
   "source": [
    "class CTDataset(Dataset):\n",
    "    def __init__(self, data, labels):\n",
    "        self.data = data\n",
    "        self.labels = labels\n",
    "\n",
    "    def __len__(self):\n",
    "        return len(self.data)\n",
    "\n",
    "    def __getitem__(self, index):\n",
    "        image = self.data[index]\n",
    "        label = self.labels[index]\n",
    "        return image, label"
   ]
  },
  {
   "cell_type": "code",
   "execution_count": 5,
   "metadata": {},
   "outputs": [],
   "source": [
    "np_folder_path = '/home/lam3654/MSAI_pneumonitis/data/pneumonitis_np'\n",
    "\n",
    "train_array_list = np.load(os.path.join(np_folder_path, \"small_train_arrays.npy\"), allow_pickle=True)\n",
    "\n",
    "\n",
    "with open(os.path.join(np_folder_path, \"small_train_labels_np.json\"), \"r\") as file:\n",
    "    train_labels_list = json.load(file)"
   ]
  },
  {
   "cell_type": "code",
   "execution_count": 6,
   "metadata": {},
   "outputs": [],
   "source": [
    "dataset = CTDataset(train_array_list, train_labels_list)\n",
    "data_loader = DataLoader(dataset, batch_size=4, shuffle=True)"
   ]
  },
  {
   "attachments": {},
   "cell_type": "markdown",
   "metadata": {},
   "source": [
    "## Load dev dataset"
   ]
  },
  {
   "cell_type": "code",
   "execution_count": 21,
   "metadata": {},
   "outputs": [],
   "source": [
    "path = '/home/lam3654/MSAI_pneumonitis/lung_cancer_radiomics/train_dev_test_lists'\n",
    "with open(os.path.join(path, \"small_dev_data.json\"), \"r\") as file:\n",
    "    dev_data = json.load(file)\n",
    "\n",
    "with open(os.path.join(path, \"small_dev_labels.json\"), \"r\") as file:\n",
    "    dev_labels = json.load(file)"
   ]
  },
  {
   "cell_type": "code",
   "execution_count": 22,
   "metadata": {},
   "outputs": [
    {
     "name": "stderr",
     "output_type": "stream",
     "text": [
      "Loading through DICOM files:   0%|                                                                              | 0/1 [00:00<?, ?it/s]"
     ]
    },
    {
     "name": "stdout",
     "output_type": "stream",
     "text": [
      "Loading from /home/lam3654/MSAI_pneumonitis/data/train/small_pneumonitis_negative/P0652\n"
     ]
    },
    {
     "name": "stderr",
     "output_type": "stream",
     "text": [
      "Loading through DICOM files: 100%|██████████████████████████████████████████████████████████████████████| 1/1 [00:21<00:00, 21.83s/it]\n"
     ]
    },
    {
     "name": "stdout",
     "output_type": "stream",
     "text": [
      "Compiling dictionaries together...\n",
      "Index 0, description 4D CT/OncoBody at /home/lam3654/MSAI_pneumonitis/data/train/small_pneumonitis_negative/P0652\n",
      "Index 1, description 3MMCHEST  3.0  B35f  at /home/lam3654/MSAI_pneumonitis/data/train/small_pneumonitis_negative/P0652\n",
      "Index 2, description CHEST 3MM  3.0  B35f at /home/lam3654/MSAI_pneumonitis/data/train/small_pneumonitis_negative/P0652\n",
      "Index 3, description THORAX  3.0  B35f  at /home/lam3654/MSAI_pneumonitis/data/train/small_pneumonitis_negative/P0652\n",
      "Index 4, description THORAX  3.0  B35f  at /home/lam3654/MSAI_pneumonitis/data/train/small_pneumonitis_negative/P0652\n",
      "Index 5, description 3mm Chest  3.0  B35s at /home/lam3654/MSAI_pneumonitis/data/train/small_pneumonitis_negative/P0652\n",
      "Index 6, description None at None\n",
      "7 unique series IDs were found. Default is index 0, to change use set_index(index)\n",
      "Lacking ['lung'] in index 1, location /home/lam3654/MSAI_pneumonitis/data/train/small_pneumonitis_negative/P0652. Found []\n",
      "Lacking ['lung'] in index 2, location /home/lam3654/MSAI_pneumonitis/data/train/small_pneumonitis_negative/P0652. Found []\n",
      "Lacking ['lung'] in index 3, location /home/lam3654/MSAI_pneumonitis/data/train/small_pneumonitis_negative/P0652. Found []\n",
      "Lacking ['lung'] in index 4, location /home/lam3654/MSAI_pneumonitis/data/train/small_pneumonitis_negative/P0652. Found []\n",
      "Lacking ['lung'] in index 5, location /home/lam3654/MSAI_pneumonitis/data/train/small_pneumonitis_negative/P0652. Found []\n",
      "Contour names or associations changed, resetting mask\n",
      "The following indexes have all ROIs present\n",
      "Index 0, located at /home/lam3654/MSAI_pneumonitis/data/train/small_pneumonitis_negative/P0652\n",
      "Finished listing present indexes\n",
      "Loading images for 4D CT/OncoBody at \n",
      " /home/lam3654/MSAI_pneumonitis/data/train/small_pneumonitis_negative/P0652\n",
      "\n",
      "Erasing any previous mask as we load a new new image set\n"
     ]
    },
    {
     "name": "stderr",
     "output_type": "stream",
     "text": [
      "Loading through DICOM files:   0%|                                                                              | 0/1 [00:00<?, ?it/s]"
     ]
    },
    {
     "name": "stdout",
     "output_type": "stream",
     "text": [
      "Loading from /home/lam3654/MSAI_pneumonitis/data/train/small_pneumonitis_negative/P0050\n"
     ]
    },
    {
     "name": "stderr",
     "output_type": "stream",
     "text": [
      "Loading through DICOM files: 100%|██████████████████████████████████████████████████████████████████████| 1/1 [00:10<00:00, 10.04s/it]\n"
     ]
    },
    {
     "name": "stdout",
     "output_type": "stream",
     "text": [
      "Compiling dictionaries together...\n",
      "Index 0, description 4D CT/OncoBody at /home/lam3654/MSAI_pneumonitis/data/train/small_pneumonitis_negative/P0050\n",
      "Index 1, description 3mm Chest  3.0  B35s at /home/lam3654/MSAI_pneumonitis/data/train/small_pneumonitis_negative/P0050\n",
      "Index 2, description 3mm Chest  3.0  B35s at /home/lam3654/MSAI_pneumonitis/data/train/small_pneumonitis_negative/P0050\n",
      "Index 3, description None at None\n",
      "4 unique series IDs were found. Default is index 0, to change use set_index(index)\n",
      "Lacking ['lung'] in index 1, location /home/lam3654/MSAI_pneumonitis/data/train/small_pneumonitis_negative/P0050. Found []\n",
      "Lacking ['lung'] in index 2, location /home/lam3654/MSAI_pneumonitis/data/train/small_pneumonitis_negative/P0050. Found []\n",
      "Contour names or associations changed, resetting mask\n",
      "The following indexes have all ROIs present\n",
      "Index 0, located at /home/lam3654/MSAI_pneumonitis/data/train/small_pneumonitis_negative/P0050\n",
      "Finished listing present indexes\n",
      "Loading images for 4D CT/OncoBody at \n",
      " /home/lam3654/MSAI_pneumonitis/data/train/small_pneumonitis_negative/P0050\n",
      "\n",
      "Erasing any previous mask as we load a new new image set\n"
     ]
    },
    {
     "name": "stderr",
     "output_type": "stream",
     "text": [
      "Loading through DICOM files:   0%|                                                                              | 0/1 [00:00<?, ?it/s]"
     ]
    },
    {
     "name": "stdout",
     "output_type": "stream",
     "text": [
      "Loading from /home/lam3654/MSAI_pneumonitis/data/train/small_pneumonitis_negative/P1106\n"
     ]
    },
    {
     "name": "stderr",
     "output_type": "stream",
     "text": [
      "Loading through DICOM files: 100%|██████████████████████████████████████████████████████████████████████| 1/1 [00:10<00:00, 10.92s/it]\n"
     ]
    },
    {
     "name": "stdout",
     "output_type": "stream",
     "text": [
      "Compiling dictionaries together...\n",
      "Index 0, description NEW 4DCT/OncoBody  at /home/lam3654/MSAI_pneumonitis/data/train/small_pneumonitis_negative/P1106\n",
      "Index 1, description 3mm Chest  3.0  B35s at /home/lam3654/MSAI_pneumonitis/data/train/small_pneumonitis_negative/P1106\n",
      "Index 2, description 3mm Chest  3.0  B35s at /home/lam3654/MSAI_pneumonitis/data/train/small_pneumonitis_negative/P1106\n",
      "Index 3, description None at None\n",
      "4 unique series IDs were found. Default is index 0, to change use set_index(index)\n",
      "Lacking ['lung'] in index 1, location /home/lam3654/MSAI_pneumonitis/data/train/small_pneumonitis_negative/P1106. Found []\n",
      "Lacking ['lung'] in index 2, location /home/lam3654/MSAI_pneumonitis/data/train/small_pneumonitis_negative/P1106. Found []\n",
      "Contour names or associations changed, resetting mask\n",
      "The following indexes have all ROIs present\n",
      "Index 0, located at /home/lam3654/MSAI_pneumonitis/data/train/small_pneumonitis_negative/P1106\n",
      "Finished listing present indexes\n",
      "Loading images for NEW 4DCT/OncoBody  at \n",
      " /home/lam3654/MSAI_pneumonitis/data/train/small_pneumonitis_negative/P1106\n",
      "\n",
      "Erasing any previous mask as we load a new new image set\n"
     ]
    },
    {
     "name": "stderr",
     "output_type": "stream",
     "text": [
      "Loading through DICOM files:   0%|                                                                              | 0/1 [00:00<?, ?it/s]"
     ]
    },
    {
     "name": "stdout",
     "output_type": "stream",
     "text": [
      "Loading from /home/lam3654/MSAI_pneumonitis/data/train/pneumonitis_positive/P0985\n"
     ]
    },
    {
     "name": "stderr",
     "output_type": "stream",
     "text": [
      "Loading through DICOM files: 100%|██████████████████████████████████████████████████████████████████████| 1/1 [00:13<00:00, 13.24s/it]\n"
     ]
    },
    {
     "name": "stdout",
     "output_type": "stream",
     "text": [
      "Compiling dictionaries together...\n",
      "Index 0, description AVG 0.0,10.0,20.0,30.0,40.0,50.0,60.0,70.0,80.0,90.0 at /home/lam3654/MSAI_pneumonitis/data/train/pneumonitis_positive/P0985\n",
      "Index 1, description Axial Mediastinum Chest  3.0  B35f at /home/lam3654/MSAI_pneumonitis/data/train/pneumonitis_positive/P0985\n",
      "Index 2, description Axial Mediastinum Chest  3.0  B35f at /home/lam3654/MSAI_pneumonitis/data/train/pneumonitis_positive/P0985\n",
      "Index 3, description Axial Mediastinum Chest  3.0  B35f at /home/lam3654/MSAI_pneumonitis/data/train/pneumonitis_positive/P0985\n",
      "4 unique series IDs were found. Default is index 0, to change use set_index(index)\n",
      "Lacking ['lung'] in index 1, location /home/lam3654/MSAI_pneumonitis/data/train/pneumonitis_positive/P0985. Found []\n",
      "Lacking ['lung'] in index 2, location /home/lam3654/MSAI_pneumonitis/data/train/pneumonitis_positive/P0985. Found []\n",
      "Lacking ['lung'] in index 3, location /home/lam3654/MSAI_pneumonitis/data/train/pneumonitis_positive/P0985. Found []\n",
      "Contour names or associations changed, resetting mask\n",
      "The following indexes have all ROIs present\n",
      "Index 0, located at /home/lam3654/MSAI_pneumonitis/data/train/pneumonitis_positive/P0985\n",
      "Finished listing present indexes\n",
      "Loading images for AVG 0.0,10.0,20.0,30.0,40.0,50.0,60.0,70.0,80.0,90.0 at \n",
      " /home/lam3654/MSAI_pneumonitis/data/train/pneumonitis_positive/P0985\n",
      "\n",
      "Erasing any previous mask as we load a new new image set\n"
     ]
    },
    {
     "name": "stderr",
     "output_type": "stream",
     "text": [
      "Loading through DICOM files:   0%|                                                                              | 0/1 [00:00<?, ?it/s]"
     ]
    },
    {
     "name": "stdout",
     "output_type": "stream",
     "text": [
      "Loading from /home/lam3654/MSAI_pneumonitis/data/train/pneumonitis_positive/P0472\n"
     ]
    },
    {
     "name": "stderr",
     "output_type": "stream",
     "text": [
      "Loading through DICOM files: 100%|██████████████████████████████████████████████████████████████████████| 1/1 [00:02<00:00,  2.92s/it]\n"
     ]
    },
    {
     "name": "stdout",
     "output_type": "stream",
     "text": [
      "Compiling dictionaries together...\n",
      "Index 0, description 4D CT/OncoBody at /home/lam3654/MSAI_pneumonitis/data/train/pneumonitis_positive/P0472\n",
      "Index 1, description None at None\n",
      "2 unique series IDs were found. Default is index 0, to change use set_index(index)\n",
      "Contour names or associations changed, resetting mask\n",
      "The following indexes have all ROIs present\n",
      "Index 0, located at /home/lam3654/MSAI_pneumonitis/data/train/pneumonitis_positive/P0472\n",
      "Finished listing present indexes\n",
      "Loading images for 4D CT/OncoBody at \n",
      " /home/lam3654/MSAI_pneumonitis/data/train/pneumonitis_positive/P0472\n",
      "\n",
      "Erasing any previous mask as we load a new new image set\n"
     ]
    },
    {
     "name": "stderr",
     "output_type": "stream",
     "text": [
      "Loading through DICOM files:   0%|                                                                              | 0/1 [00:00<?, ?it/s]"
     ]
    },
    {
     "name": "stdout",
     "output_type": "stream",
     "text": [
      "Loading from /home/lam3654/MSAI_pneumonitis/data/train/pneumonitis_positive/P0663\n"
     ]
    },
    {
     "name": "stderr",
     "output_type": "stream",
     "text": [
      "Loading through DICOM files: 100%|██████████████████████████████████████████████████████████████████████| 1/1 [00:24<00:00, 24.64s/it]\n"
     ]
    },
    {
     "name": "stdout",
     "output_type": "stream",
     "text": [
      "Compiling dictionaries together...\n",
      "Index 0, description CHEST  3.0  B35f at /home/lam3654/MSAI_pneumonitis/data/train/pneumonitis_positive/P0663\n",
      "Index 1, description 3mm Chest  3.0  B35s at /home/lam3654/MSAI_pneumonitis/data/train/pneumonitis_positive/P0663\n",
      "Index 2, description 3MMCHEST  3.0  B35f  at /home/lam3654/MSAI_pneumonitis/data/train/pneumonitis_positive/P0663\n",
      "Index 3, description CHEST  at /home/lam3654/MSAI_pneumonitis/data/train/pneumonitis_positive/P0663\n",
      "Index 4, description CHEST  at /home/lam3654/MSAI_pneumonitis/data/train/pneumonitis_positive/P0663\n",
      "Index 5, description CHEST  at /home/lam3654/MSAI_pneumonitis/data/train/pneumonitis_positive/P0663\n",
      "Index 6, description CHEST W/O  at /home/lam3654/MSAI_pneumonitis/data/train/pneumonitis_positive/P0663\n",
      "Index 7, description CHEST W/O  at /home/lam3654/MSAI_pneumonitis/data/train/pneumonitis_positive/P0663\n",
      "Index 8, description AVG BODY/OncoBody  at /home/lam3654/MSAI_pneumonitis/data/train/pneumonitis_positive/P0663\n",
      "Index 9, description None at None\n",
      "10 unique series IDs were found. Default is index 0, to change use set_index(index)\n",
      "Lacking ['lung'] in index 0, location /home/lam3654/MSAI_pneumonitis/data/train/pneumonitis_positive/P0663. Found []\n",
      "Lacking ['lung'] in index 1, location /home/lam3654/MSAI_pneumonitis/data/train/pneumonitis_positive/P0663. Found []\n",
      "Lacking ['lung'] in index 2, location /home/lam3654/MSAI_pneumonitis/data/train/pneumonitis_positive/P0663. Found []\n",
      "Lacking ['lung'] in index 3, location /home/lam3654/MSAI_pneumonitis/data/train/pneumonitis_positive/P0663. Found []\n",
      "Lacking ['lung'] in index 4, location /home/lam3654/MSAI_pneumonitis/data/train/pneumonitis_positive/P0663. Found []\n",
      "Lacking ['lung'] in index 5, location /home/lam3654/MSAI_pneumonitis/data/train/pneumonitis_positive/P0663. Found []\n",
      "Lacking ['lung'] in index 6, location /home/lam3654/MSAI_pneumonitis/data/train/pneumonitis_positive/P0663. Found []\n",
      "Lacking ['lung'] in index 7, location /home/lam3654/MSAI_pneumonitis/data/train/pneumonitis_positive/P0663. Found []\n",
      "Lacking ['lung'] in index 8, location /home/lam3654/MSAI_pneumonitis/data/train/pneumonitis_positive/P0663. Found ['gtv abc2', 'ptv', 'pbt', 'trachea', 'outer contour', 'lt lung', 'heart', 'rt lung', 'itv', 'gtv abc3', 'esophagus', 'wall of ptv', 'gtv abc1', 'cord']\n",
      "Contour names or associations changed, resetting mask\n",
      "The following indexes have all ROIs present\n",
      "Finished listing present indexes\n"
     ]
    },
    {
     "name": "stderr",
     "output_type": "stream",
     "text": [
      "Loading through DICOM files:   0%|                                                                              | 0/1 [00:00<?, ?it/s]"
     ]
    },
    {
     "name": "stdout",
     "output_type": "stream",
     "text": [
      "Loading from /home/lam3654/MSAI_pneumonitis/data/train/small_pneumonitis_negative/P0659\n"
     ]
    },
    {
     "name": "stderr",
     "output_type": "stream",
     "text": [
      "Loading through DICOM files: 100%|██████████████████████████████████████████████████████████████████████| 1/1 [00:05<00:00,  5.06s/it]\n"
     ]
    },
    {
     "name": "stdout",
     "output_type": "stream",
     "text": [
      "Compiling dictionaries together...\n",
      "Index 0, description AVG 0.0,10.0,20.0,30.0,40.0,50.0,60.0,70.0,80.0,90.0 at /home/lam3654/MSAI_pneumonitis/data/train/small_pneumonitis_negative/P0659\n",
      "Index 1, description CHEST W/O  at /home/lam3654/MSAI_pneumonitis/data/train/small_pneumonitis_negative/P0659\n",
      "Index 2, description None at None\n",
      "3 unique series IDs were found. Default is index 0, to change use set_index(index)\n",
      "Lacking ['lung'] in index 1, location /home/lam3654/MSAI_pneumonitis/data/train/small_pneumonitis_negative/P0659. Found []\n",
      "Contour names or associations changed, resetting mask\n",
      "The following indexes have all ROIs present\n",
      "Index 0, located at /home/lam3654/MSAI_pneumonitis/data/train/small_pneumonitis_negative/P0659\n",
      "Finished listing present indexes\n",
      "Loading images for AVG 0.0,10.0,20.0,30.0,40.0,50.0,60.0,70.0,80.0,90.0 at \n",
      " /home/lam3654/MSAI_pneumonitis/data/train/small_pneumonitis_negative/P0659\n",
      "\n",
      "Erasing any previous mask as we load a new new image set\n"
     ]
    },
    {
     "name": "stderr",
     "output_type": "stream",
     "text": [
      "Loading through DICOM files:   0%|                                                                              | 0/1 [00:00<?, ?it/s]"
     ]
    },
    {
     "name": "stdout",
     "output_type": "stream",
     "text": [
      "Loading from /home/lam3654/MSAI_pneumonitis/data/train/small_pneumonitis_negative/P1061\n"
     ]
    },
    {
     "name": "stderr",
     "output_type": "stream",
     "text": [
      "Loading through DICOM files: 100%|██████████████████████████████████████████████████████████████████████| 1/1 [00:02<00:00,  2.37s/it]\n"
     ]
    },
    {
     "name": "stdout",
     "output_type": "stream",
     "text": [
      "Compiling dictionaries together...\n",
      "Index 0, description  at /home/lam3654/MSAI_pneumonitis/data/train/small_pneumonitis_negative/P1061\n",
      "1 unique series IDs were found. Default is index 0, to change use set_index(index)\n",
      "Contour names or associations changed, resetting mask\n",
      "The following indexes have all ROIs present\n",
      "Index 0, located at /home/lam3654/MSAI_pneumonitis/data/train/small_pneumonitis_negative/P1061\n",
      "Finished listing present indexes\n",
      "Loading images for  at \n",
      " /home/lam3654/MSAI_pneumonitis/data/train/small_pneumonitis_negative/P1061\n",
      "\n",
      "Erasing any previous mask as we load a new new image set\n"
     ]
    },
    {
     "name": "stderr",
     "output_type": "stream",
     "text": [
      "Loading through DICOM files:   0%|                                                                              | 0/1 [00:00<?, ?it/s]"
     ]
    },
    {
     "name": "stdout",
     "output_type": "stream",
     "text": [
      "Loading from /home/lam3654/MSAI_pneumonitis/data/train/pneumonitis_positive/P1133\n"
     ]
    },
    {
     "name": "stderr",
     "output_type": "stream",
     "text": [
      "Loading through DICOM files: 100%|██████████████████████████████████████████████████████████████████████| 1/1 [00:24<00:00, 24.22s/it]\n"
     ]
    },
    {
     "name": "stdout",
     "output_type": "stream",
     "text": [
      "Compiling dictionaries together...\n",
      "Index 0, description NEW 4DCT/OncoBody  at /home/lam3654/MSAI_pneumonitis/data/train/pneumonitis_positive/P1133\n",
      "Index 1, description 3MMCHEST  3.0  B35f  at /home/lam3654/MSAI_pneumonitis/data/train/pneumonitis_positive/P1133\n",
      "Index 2, description 3mm Chest  3.0  B35s at /home/lam3654/MSAI_pneumonitis/data/train/pneumonitis_positive/P1133\n",
      "Index 3, description CHEST  3.0  B35f at /home/lam3654/MSAI_pneumonitis/data/train/pneumonitis_positive/P1133\n",
      "Index 4, description 3mm Chest  3.0  B35s at /home/lam3654/MSAI_pneumonitis/data/train/pneumonitis_positive/P1133\n",
      "Index 5, description 3mm Chest  3.0  B35s at /home/lam3654/MSAI_pneumonitis/data/train/pneumonitis_positive/P1133\n",
      "6 unique series IDs were found. Default is index 0, to change use set_index(index)\n",
      "Lacking ['lung'] in index 1, location /home/lam3654/MSAI_pneumonitis/data/train/pneumonitis_positive/P1133. Found []\n",
      "Lacking ['lung'] in index 2, location /home/lam3654/MSAI_pneumonitis/data/train/pneumonitis_positive/P1133. Found []\n",
      "Lacking ['lung'] in index 3, location /home/lam3654/MSAI_pneumonitis/data/train/pneumonitis_positive/P1133. Found []\n",
      "Lacking ['lung'] in index 4, location /home/lam3654/MSAI_pneumonitis/data/train/pneumonitis_positive/P1133. Found []\n",
      "Lacking ['lung'] in index 5, location /home/lam3654/MSAI_pneumonitis/data/train/pneumonitis_positive/P1133. Found []\n",
      "Contour names or associations changed, resetting mask\n",
      "The following indexes have all ROIs present\n",
      "Index 0, located at /home/lam3654/MSAI_pneumonitis/data/train/pneumonitis_positive/P1133\n",
      "Finished listing present indexes\n",
      "Loading images for NEW 4DCT/OncoBody  at \n",
      " /home/lam3654/MSAI_pneumonitis/data/train/pneumonitis_positive/P1133\n",
      "\n",
      "Erasing any previous mask as we load a new new image set\n"
     ]
    },
    {
     "name": "stderr",
     "output_type": "stream",
     "text": [
      "Loading through DICOM files:   0%|                                                                              | 0/1 [00:00<?, ?it/s]"
     ]
    },
    {
     "name": "stdout",
     "output_type": "stream",
     "text": [
      "Loading from /home/lam3654/MSAI_pneumonitis/data/train/small_pneumonitis_negative/P0996\n"
     ]
    },
    {
     "name": "stderr",
     "output_type": "stream",
     "text": [
      "Loading through DICOM files: 100%|██████████████████████████████████████████████████████████████████████| 1/1 [00:12<00:00, 12.52s/it]\n"
     ]
    },
    {
     "name": "stdout",
     "output_type": "stream",
     "text": [
      "Compiling dictionaries together...\n",
      "Index 0, description AVG 0.0,10.0,20.0,30.0,40.0,50.0,60.0,70.0,80.0,90.0 at /home/lam3654/MSAI_pneumonitis/data/train/small_pneumonitis_negative/P0996\n",
      "Index 1, description THORAX  3.0  B35f  at /home/lam3654/MSAI_pneumonitis/data/train/small_pneumonitis_negative/P0996\n",
      "Index 2, description Axial Mediastinum Chest  3.0  B35f at /home/lam3654/MSAI_pneumonitis/data/train/small_pneumonitis_negative/P0996\n",
      "Index 3, description Axial Mediastinum Chest  3.0  B35f at /home/lam3654/MSAI_pneumonitis/data/train/small_pneumonitis_negative/P0996\n",
      "4 unique series IDs were found. Default is index 0, to change use set_index(index)\n",
      "Lacking ['lung'] in index 0, location /home/lam3654/MSAI_pneumonitis/data/train/small_pneumonitis_negative/P0996. Found ['isocenter', 'cord', 'esophagus', 'external', 'great vessels', 'gtv', 'heart', 'ipsi bp', 'itv', 'lt lung', 'pbt', 'ptv', 'rt lung', 'trachea']\n",
      "Lacking ['lung'] in index 1, location /home/lam3654/MSAI_pneumonitis/data/train/small_pneumonitis_negative/P0996. Found []\n",
      "Lacking ['lung'] in index 2, location /home/lam3654/MSAI_pneumonitis/data/train/small_pneumonitis_negative/P0996. Found []\n",
      "Lacking ['lung'] in index 3, location /home/lam3654/MSAI_pneumonitis/data/train/small_pneumonitis_negative/P0996. Found []\n",
      "Contour names or associations changed, resetting mask\n",
      "The following indexes have all ROIs present\n",
      "Finished listing present indexes\n"
     ]
    },
    {
     "name": "stderr",
     "output_type": "stream",
     "text": [
      "Loading through DICOM files:   0%|                                                                              | 0/1 [00:00<?, ?it/s]"
     ]
    },
    {
     "name": "stdout",
     "output_type": "stream",
     "text": [
      "Loading from /home/lam3654/MSAI_pneumonitis/data/train/pneumonitis_positive/P1012\n"
     ]
    },
    {
     "name": "stderr",
     "output_type": "stream",
     "text": [
      "Loading through DICOM files: 100%|██████████████████████████████████████████████████████████████████████| 1/1 [00:06<00:00,  6.22s/it]\n"
     ]
    },
    {
     "name": "stdout",
     "output_type": "stream",
     "text": [
      "Compiling dictionaries together...\n",
      "Index 0, description AVG 0.0,10.0,20.0,30.0,40.0,50.0,60.0,70.0,80.0,90.0 at /home/lam3654/MSAI_pneumonitis/data/train/pneumonitis_positive/P1012\n",
      "Index 1, description AXIAL MEDIASTINUM  at /home/lam3654/MSAI_pneumonitis/data/train/pneumonitis_positive/P1012\n",
      "Index 2, description None at None\n",
      "3 unique series IDs were found. Default is index 0, to change use set_index(index)\n",
      "Lacking ['lung'] in index 1, location /home/lam3654/MSAI_pneumonitis/data/train/pneumonitis_positive/P1012. Found []\n",
      "Contour names or associations changed, resetting mask\n",
      "The following indexes have all ROIs present\n",
      "Index 0, located at /home/lam3654/MSAI_pneumonitis/data/train/pneumonitis_positive/P1012\n",
      "Finished listing present indexes\n",
      "Loading images for AVG 0.0,10.0,20.0,30.0,40.0,50.0,60.0,70.0,80.0,90.0 at \n",
      " /home/lam3654/MSAI_pneumonitis/data/train/pneumonitis_positive/P1012\n",
      "\n",
      "Erasing any previous mask as we load a new new image set\n"
     ]
    },
    {
     "name": "stderr",
     "output_type": "stream",
     "text": [
      "Loading through DICOM files:   0%|                                                                              | 0/1 [00:00<?, ?it/s]"
     ]
    },
    {
     "name": "stdout",
     "output_type": "stream",
     "text": [
      "Loading from /home/lam3654/MSAI_pneumonitis/data/train/small_pneumonitis_negative/P1104\n"
     ]
    },
    {
     "name": "stderr",
     "output_type": "stream",
     "text": [
      "Loading through DICOM files: 100%|██████████████████████████████████████████████████████████████████████| 1/1 [00:02<00:00,  2.57s/it]\n"
     ]
    },
    {
     "name": "stdout",
     "output_type": "stream",
     "text": [
      "Compiling dictionaries together...\n",
      "Index 0, description  at /home/lam3654/MSAI_pneumonitis/data/train/small_pneumonitis_negative/P1104\n",
      "1 unique series IDs were found. Default is index 0, to change use set_index(index)\n",
      "Contour names or associations changed, resetting mask\n",
      "The following indexes have all ROIs present\n",
      "Index 0, located at /home/lam3654/MSAI_pneumonitis/data/train/small_pneumonitis_negative/P1104\n",
      "Finished listing present indexes\n",
      "Loading images for  at \n",
      " /home/lam3654/MSAI_pneumonitis/data/train/small_pneumonitis_negative/P1104\n",
      "\n",
      "Erasing any previous mask as we load a new new image set\n"
     ]
    },
    {
     "name": "stderr",
     "output_type": "stream",
     "text": [
      "Loading through DICOM files:   0%|                                                                              | 0/1 [00:00<?, ?it/s]"
     ]
    },
    {
     "name": "stdout",
     "output_type": "stream",
     "text": [
      "Loading from /home/lam3654/MSAI_pneumonitis/data/train/pneumonitis_positive/P0636\n"
     ]
    },
    {
     "name": "stderr",
     "output_type": "stream",
     "text": [
      "Loading through DICOM files: 100%|██████████████████████████████████████████████████████████████████████| 1/1 [00:06<00:00,  6.37s/it]\n"
     ]
    },
    {
     "name": "stdout",
     "output_type": "stream",
     "text": [
      "Compiling dictionaries together...\n",
      "Index 0, description 3mm Chest  3.0  B35s at /home/lam3654/MSAI_pneumonitis/data/train/pneumonitis_positive/P0636\n",
      "Index 1, description 4D CT/OncoBody at /home/lam3654/MSAI_pneumonitis/data/train/pneumonitis_positive/P0636\n",
      "Index 2, description None at None\n",
      "3 unique series IDs were found. Default is index 0, to change use set_index(index)\n",
      "Lacking ['lung'] in index 0, location /home/lam3654/MSAI_pneumonitis/data/train/pneumonitis_positive/P0636. Found []\n",
      "Contour names or associations changed, resetting mask\n",
      "The following indexes have all ROIs present\n",
      "Index 1, located at /home/lam3654/MSAI_pneumonitis/data/train/pneumonitis_positive/P0636\n",
      "Finished listing present indexes\n",
      "Loading images for 4D CT/OncoBody at \n",
      " /home/lam3654/MSAI_pneumonitis/data/train/pneumonitis_positive/P0636\n",
      "\n",
      "Erasing any previous mask as we load a new new image set\n"
     ]
    },
    {
     "name": "stderr",
     "output_type": "stream",
     "text": [
      "Loading through DICOM files:   0%|                                                                              | 0/1 [00:00<?, ?it/s]"
     ]
    },
    {
     "name": "stdout",
     "output_type": "stream",
     "text": [
      "Loading from /home/lam3654/MSAI_pneumonitis/data/train/pneumonitis_positive/P0149\n"
     ]
    },
    {
     "name": "stderr",
     "output_type": "stream",
     "text": [
      "Loading through DICOM files: 100%|██████████████████████████████████████████████████████████████████████| 1/1 [00:36<00:00, 36.56s/it]\n"
     ]
    },
    {
     "name": "stdout",
     "output_type": "stream",
     "text": [
      "Compiling dictionaries together...\n",
      "Index 0, description NEW 4DCT/OncoBody  at /home/lam3654/MSAI_pneumonitis/data/train/pneumonitis_positive/P0149\n",
      "Index 1, description ThoraxRoutine 5.0 B40s at /home/lam3654/MSAI_pneumonitis/data/train/pneumonitis_positive/P0149\n",
      "Index 2, description ThoraxRoutine 5.0 B40s at /home/lam3654/MSAI_pneumonitis/data/train/pneumonitis_positive/P0149\n",
      "Index 3, description 3mm Chest  3.0  B35s at /home/lam3654/MSAI_pneumonitis/data/train/pneumonitis_positive/P0149\n",
      "Index 4, description 3mm Chest  3.0  B35s at /home/lam3654/MSAI_pneumonitis/data/train/pneumonitis_positive/P0149\n",
      "Index 5, description 3mm Chest  3.0  B35s at /home/lam3654/MSAI_pneumonitis/data/train/pneumonitis_positive/P0149\n",
      "Index 6, description 3mm Chest  3.0  B35s at /home/lam3654/MSAI_pneumonitis/data/train/pneumonitis_positive/P0149\n",
      "Index 7, description 3mm Chest  3.0  B35s at /home/lam3654/MSAI_pneumonitis/data/train/pneumonitis_positive/P0149\n",
      "Index 8, description 3MMCHEST  3.0  B35f  at /home/lam3654/MSAI_pneumonitis/data/train/pneumonitis_positive/P0149\n",
      "Index 9, description None at None\n",
      "10 unique series IDs were found. Default is index 0, to change use set_index(index)\n",
      "Lacking ['lung'] in index 1, location /home/lam3654/MSAI_pneumonitis/data/train/pneumonitis_positive/P0149. Found []\n",
      "Lacking ['lung'] in index 2, location /home/lam3654/MSAI_pneumonitis/data/train/pneumonitis_positive/P0149. Found []\n",
      "Lacking ['lung'] in index 3, location /home/lam3654/MSAI_pneumonitis/data/train/pneumonitis_positive/P0149. Found []\n",
      "Lacking ['lung'] in index 4, location /home/lam3654/MSAI_pneumonitis/data/train/pneumonitis_positive/P0149. Found []\n",
      "Lacking ['lung'] in index 5, location /home/lam3654/MSAI_pneumonitis/data/train/pneumonitis_positive/P0149. Found []\n",
      "Lacking ['lung'] in index 6, location /home/lam3654/MSAI_pneumonitis/data/train/pneumonitis_positive/P0149. Found []\n",
      "Lacking ['lung'] in index 7, location /home/lam3654/MSAI_pneumonitis/data/train/pneumonitis_positive/P0149. Found []\n",
      "Lacking ['lung'] in index 8, location /home/lam3654/MSAI_pneumonitis/data/train/pneumonitis_positive/P0149. Found []\n",
      "Contour names or associations changed, resetting mask\n",
      "The following indexes have all ROIs present\n",
      "Index 0, located at /home/lam3654/MSAI_pneumonitis/data/train/pneumonitis_positive/P0149\n",
      "Finished listing present indexes\n",
      "Loading images for NEW 4DCT/OncoBody  at \n",
      " /home/lam3654/MSAI_pneumonitis/data/train/pneumonitis_positive/P0149\n",
      "\n",
      "Erasing any previous mask as we load a new new image set\n"
     ]
    },
    {
     "name": "stderr",
     "output_type": "stream",
     "text": [
      "Loading through DICOM files:   0%|                                                                              | 0/1 [00:00<?, ?it/s]"
     ]
    },
    {
     "name": "stdout",
     "output_type": "stream",
     "text": [
      "Loading from /home/lam3654/MSAI_pneumonitis/data/train/small_pneumonitis_negative/P0475\n"
     ]
    },
    {
     "name": "stderr",
     "output_type": "stream",
     "text": [
      "Loading through DICOM files: 100%|██████████████████████████████████████████████████████████████████████| 1/1 [00:56<00:00, 56.88s/it]\n"
     ]
    },
    {
     "name": "stdout",
     "output_type": "stream",
     "text": [
      "Compiling dictionaries together...\n",
      "Index 0, description 3mm Chest  3.0  B35s at /home/lam3654/MSAI_pneumonitis/data/train/small_pneumonitis_negative/P0475\n",
      "Index 1, description 3mm Chest  3.0  B35s at /home/lam3654/MSAI_pneumonitis/data/train/small_pneumonitis_negative/P0475\n",
      "Index 2, description 3mm Chest  3.0  B35s at /home/lam3654/MSAI_pneumonitis/data/train/small_pneumonitis_negative/P0475\n",
      "Index 3, description 3mm Chest  3.0  B35s at /home/lam3654/MSAI_pneumonitis/data/train/small_pneumonitis_negative/P0475\n",
      "Index 4, description 3mm Chest  3.0  B35s at /home/lam3654/MSAI_pneumonitis/data/train/small_pneumonitis_negative/P0475\n",
      "Index 5, description CHEST  3.0  B35f at /home/lam3654/MSAI_pneumonitis/data/train/small_pneumonitis_negative/P0475\n",
      "Index 6, description 3mm Chest  3.0  B35s at /home/lam3654/MSAI_pneumonitis/data/train/small_pneumonitis_negative/P0475\n",
      "Index 7, description 3mm Chest  3.0  B35s at /home/lam3654/MSAI_pneumonitis/data/train/small_pneumonitis_negative/P0475\n",
      "Index 8, description 3mm Chest  3.0  B35s at /home/lam3654/MSAI_pneumonitis/data/train/small_pneumonitis_negative/P0475\n",
      "Index 9, description 3mm Chest  3.0  B35s at /home/lam3654/MSAI_pneumonitis/data/train/small_pneumonitis_negative/P0475\n",
      "Index 10, description abc 1; AVG BODY/OncoBody at /home/lam3654/MSAI_pneumonitis/data/train/small_pneumonitis_negative/P0475\n",
      "Index 11, description None at None\n",
      "12 unique series IDs were found. Default is index 0, to change use set_index(index)\n",
      "Lacking ['lung'] in index 0, location /home/lam3654/MSAI_pneumonitis/data/train/small_pneumonitis_negative/P0475. Found []\n",
      "Lacking ['lung'] in index 1, location /home/lam3654/MSAI_pneumonitis/data/train/small_pneumonitis_negative/P0475. Found []\n",
      "Lacking ['lung'] in index 2, location /home/lam3654/MSAI_pneumonitis/data/train/small_pneumonitis_negative/P0475. Found []\n",
      "Lacking ['lung'] in index 3, location /home/lam3654/MSAI_pneumonitis/data/train/small_pneumonitis_negative/P0475. Found []\n",
      "Lacking ['lung'] in index 4, location /home/lam3654/MSAI_pneumonitis/data/train/small_pneumonitis_negative/P0475. Found []\n",
      "Lacking ['lung'] in index 5, location /home/lam3654/MSAI_pneumonitis/data/train/small_pneumonitis_negative/P0475. Found []\n",
      "Lacking ['lung'] in index 6, location /home/lam3654/MSAI_pneumonitis/data/train/small_pneumonitis_negative/P0475. Found []\n",
      "Lacking ['lung'] in index 7, location /home/lam3654/MSAI_pneumonitis/data/train/small_pneumonitis_negative/P0475. Found []\n",
      "Lacking ['lung'] in index 8, location /home/lam3654/MSAI_pneumonitis/data/train/small_pneumonitis_negative/P0475. Found []\n",
      "Lacking ['lung'] in index 9, location /home/lam3654/MSAI_pneumonitis/data/train/small_pneumonitis_negative/P0475. Found []\n",
      "Contour names or associations changed, resetting mask\n",
      "The following indexes have all ROIs present\n",
      "Index 10, located at /home/lam3654/MSAI_pneumonitis/data/train/small_pneumonitis_negative/P0475\n",
      "Finished listing present indexes\n",
      "Loading images for abc 1; AVG BODY/OncoBody at \n",
      " /home/lam3654/MSAI_pneumonitis/data/train/small_pneumonitis_negative/P0475\n",
      "\n",
      "Erasing any previous mask as we load a new new image set\n"
     ]
    },
    {
     "name": "stderr",
     "output_type": "stream",
     "text": [
      "Loading through DICOM files:  50%|███████████████████████████████████                                   | 2/4 [00:00<00:00, 16.11it/s]"
     ]
    },
    {
     "name": "stdout",
     "output_type": "stream",
     "text": [
      "Loading from /home/lam3654/MSAI_pneumonitis/data/train/small_pneumonitis_negative/NU_0116/2017-08__Studies/NU.0116_NU.0116_RTPLAN_2017-08-08_090415_SBRT.planning_NU.0116_n1__00000\n",
      "Loading from /home/lam3654/MSAI_pneumonitis/data/train/small_pneumonitis_negative/NU_0116/2017-08__Studies/NU.0116_NU.0116_RTDOSE_2017-08-08_090415_SBRT.planning_NU.0116_n1__00000\n",
      "Loading from /home/lam3654/MSAI_pneumonitis/data/train/small_pneumonitis_negative/NU_0116/2017-08__Studies/NU.0116_NU.0116_CT_2017-08-08_090415_SBRT.planning_NU.0116_n146__00000\n",
      "Loading from /home/lam3654/MSAI_pneumonitis/data/train/small_pneumonitis_negative/NU_0116/2017-08__Studies/NU.0116_NU.0116_RTst_2017-08-08_090415_SBRT.planning_AY_n1__00000\n",
      "Had an error loading /home/lam3654/MSAI_pneumonitis/data/train/small_pneumonitis_negative/NU_0116/2017-08__Studies/NU.0116_NU.0116_RTPLAN_2017-08-08_090415_SBRT.planning_NU.0116_n1__00000/2.16.840.1.114362.1.11940992.22933840372.569048569.132.1779.dcm\n"
     ]
    },
    {
     "name": "stderr",
     "output_type": "stream",
     "text": [
      "Loading through DICOM files: 100%|██████████████████████████████████████████████████████████████████████| 4/4 [00:02<00:00,  1.59it/s]\n"
     ]
    },
    {
     "name": "stdout",
     "output_type": "stream",
     "text": [
      "Compiling dictionaries together...\n",
      "Index 0, description NU_0116  at /home/lam3654/MSAI_pneumonitis/data/train/small_pneumonitis_negative/NU_0116/2017-08__Studies/NU.0116_NU.0116_CT_2017-08-08_090415_SBRT.planning_NU.0116_n146__00000\n",
      "Index 1, description None at None\n",
      "2 unique series IDs were found. Default is index 0, to change use set_index(index)\n",
      "Contour names or associations changed, resetting mask\n",
      "The following indexes have all ROIs present\n",
      "Index 0, located at /home/lam3654/MSAI_pneumonitis/data/train/small_pneumonitis_negative/NU_0116/2017-08__Studies/NU.0116_NU.0116_CT_2017-08-08_090415_SBRT.planning_NU.0116_n146__00000\n",
      "Finished listing present indexes\n",
      "Loading images for NU_0116  at \n",
      " /home/lam3654/MSAI_pneumonitis/data/train/small_pneumonitis_negative/NU_0116/2017-08__Studies/NU.0116_NU.0116_CT_2017-08-08_090415_SBRT.planning_NU.0116_n146__00000\n",
      "\n",
      "Erasing any previous mask as we load a new new image set\n"
     ]
    },
    {
     "name": "stderr",
     "output_type": "stream",
     "text": [
      "Loading through DICOM files:   0%|                                                                              | 0/1 [00:00<?, ?it/s]"
     ]
    },
    {
     "name": "stdout",
     "output_type": "stream",
     "text": [
      "Loading from /home/lam3654/MSAI_pneumonitis/data/train/small_pneumonitis_negative/P1072\n"
     ]
    },
    {
     "name": "stderr",
     "output_type": "stream",
     "text": [
      "Loading through DICOM files: 100%|██████████████████████████████████████████████████████████████████████| 1/1 [00:13<00:00, 13.43s/it]\n"
     ]
    },
    {
     "name": "stdout",
     "output_type": "stream",
     "text": [
      "Compiling dictionaries together...\n",
      "Index 0, description 4D CT/OncoBody at /home/lam3654/MSAI_pneumonitis/data/train/small_pneumonitis_negative/P1072\n",
      "Index 1, description 3mm Chest  3.0  B35s at /home/lam3654/MSAI_pneumonitis/data/train/small_pneumonitis_negative/P1072\n",
      "Index 2, description 3mm Chest  3.0  B35s at /home/lam3654/MSAI_pneumonitis/data/train/small_pneumonitis_negative/P1072\n",
      "Index 3, description None at None\n",
      "4 unique series IDs were found. Default is index 0, to change use set_index(index)\n",
      "Lacking ['lung'] in index 1, location /home/lam3654/MSAI_pneumonitis/data/train/small_pneumonitis_negative/P1072. Found []\n",
      "Lacking ['lung'] in index 2, location /home/lam3654/MSAI_pneumonitis/data/train/small_pneumonitis_negative/P1072. Found []\n",
      "Contour names or associations changed, resetting mask\n",
      "The following indexes have all ROIs present\n",
      "Index 0, located at /home/lam3654/MSAI_pneumonitis/data/train/small_pneumonitis_negative/P1072\n",
      "Finished listing present indexes\n",
      "Loading images for 4D CT/OncoBody at \n",
      " /home/lam3654/MSAI_pneumonitis/data/train/small_pneumonitis_negative/P1072\n",
      "\n",
      "Erasing any previous mask as we load a new new image set\n"
     ]
    },
    {
     "name": "stderr",
     "output_type": "stream",
     "text": [
      "Loading through DICOM files:   0%|                                                                              | 0/1 [00:00<?, ?it/s]"
     ]
    },
    {
     "name": "stdout",
     "output_type": "stream",
     "text": [
      "Loading from /home/lam3654/MSAI_pneumonitis/data/train/pneumonitis_positive/P0753\n"
     ]
    },
    {
     "name": "stderr",
     "output_type": "stream",
     "text": [
      "Loading through DICOM files: 100%|██████████████████████████████████████████████████████████████████████| 1/1 [00:11<00:00, 11.94s/it]\n"
     ]
    },
    {
     "name": "stdout",
     "output_type": "stream",
     "text": [
      "Compiling dictionaries together...\n",
      "Index 0, description AVG 0.0,10.0,20.0,30.0,40.0,50.0,60.0,70.0,80.0,90.0 at /home/lam3654/MSAI_pneumonitis/data/train/pneumonitis_positive/P0753\n",
      "Index 1, description ThorRoutine  3.0  B40f at /home/lam3654/MSAI_pneumonitis/data/train/pneumonitis_positive/P0753\n",
      "Index 2, description Axial Mediastinum Chest  3.0  B35f at /home/lam3654/MSAI_pneumonitis/data/train/pneumonitis_positive/P0753\n",
      "Index 3, description None at None\n",
      "4 unique series IDs were found. Default is index 0, to change use set_index(index)\n",
      "Lacking ['lung'] in index 1, location /home/lam3654/MSAI_pneumonitis/data/train/pneumonitis_positive/P0753. Found []\n",
      "Lacking ['lung'] in index 2, location /home/lam3654/MSAI_pneumonitis/data/train/pneumonitis_positive/P0753. Found []\n",
      "Contour names or associations changed, resetting mask\n",
      "The following indexes have all ROIs present\n",
      "Index 0, located at /home/lam3654/MSAI_pneumonitis/data/train/pneumonitis_positive/P0753\n",
      "Finished listing present indexes\n",
      "Loading images for AVG 0.0,10.0,20.0,30.0,40.0,50.0,60.0,70.0,80.0,90.0 at \n",
      " /home/lam3654/MSAI_pneumonitis/data/train/pneumonitis_positive/P0753\n",
      "\n",
      "Erasing any previous mask as we load a new new image set\n"
     ]
    }
   ],
   "source": [
    "skip = 4\n",
    "total_dev_arrays = []\n",
    "total_dev_labels = []\n",
    "missed_list = []\n",
    "lung_list = ['both lungs', 'lung_whole', 'total lung', 'combo lung', 'combined lung', 'whole lung', 'lungs', 'whole_lung', 'composite lung', 'combo lungs']\n",
    "\n",
    "\n",
    "for i in range(len(dev_data)):\n",
    "    try:\n",
    "        single_arrays = []\n",
    "        Dicom_path = dev_data[i]\n",
    "        Dicom_reader = DicomReaderWriter(description='Examples', arg_max=True)\n",
    "        Dicom_reader.walk_through_folders(Dicom_path) \n",
    "        # all_rois = Dicom_reader.return_rois(print_rois=True) # Return a list of all rois present\n",
    "\n",
    "        Contour_names = ['lung'] \n",
    "        associations = [ROIAssociationClass('lung', lung_list)]\n",
    "        Dicom_reader.set_contour_names_and_associations(contour_names=Contour_names, associations=associations)\n",
    "        indexes = Dicom_reader.which_indexes_have_all_rois()\n",
    "        if indexes != []:\n",
    "            pt_indx = indexes[-1]\n",
    "            Dicom_reader.set_index(pt_indx) \n",
    "            Dicom_reader.get_images_and_mask()  \n",
    "\n",
    "            image = Dicom_reader.ArrayDicom # image array\n",
    "            mask = Dicom_reader.mask # mask array\n",
    "\n",
    "            slice_locations = np.unique(np.where(mask != 0)[0]) # get indexes for where there is a contour present \n",
    "            slice_start = slice_locations[0] # first slice of contour \n",
    "            slice_end = slice_locations[len(slice_locations)-1] # last slice of contour\n",
    "\n",
    "            counter = 1\n",
    "\n",
    "            for img_arr, contour_arr in zip(image[slice_start:slice_end+1], mask[slice_start:slice_end+1]): \n",
    "                if counter % skip == 0: # if current slice is divisible by desired skip amount \n",
    "                    select = np.multiply(img_arr, contour_arr)\n",
    "                    single_arrays.append(select)\n",
    "                counter += 1\n",
    "        single_labels = [dev_labels[i] for x in range(len(single_arrays))]\n",
    "        total_dev_arrays = total_dev_arrays + single_arrays\n",
    "        total_dev_labels = total_dev_labels + single_labels\n",
    "    except TypeError:\n",
    "        print(\"skip this dataset\")\n",
    "        missed_list.append(dev_data[i])\n",
    "        continue"
   ]
  },
  {
   "cell_type": "code",
   "execution_count": 26,
   "metadata": {},
   "outputs": [
    {
     "name": "stdout",
     "output_type": "stream",
     "text": [
      "[]\n"
     ]
    }
   ],
   "source": [
    "print(missed_list)"
   ]
  },
  {
   "cell_type": "code",
   "execution_count": 27,
   "metadata": {},
   "outputs": [],
   "source": [
    "np.save(os.path.join(np_folder_path, \"small_dev_arrays.npy\"), total_dev_arrays)\n",
    "\n",
    "with open(os.path.join(np_folder_path, \"small_dev_labels_np.json\"), \"w\") as file:\n",
    "    json.dump(total_dev_labels, file)"
   ]
  },
  {
   "cell_type": "code",
   "execution_count": 29,
   "metadata": {},
   "outputs": [],
   "source": [
    "dev_array_list = np.load(os.path.join(np_folder_path, \"small_dev_arrays.npy\"), allow_pickle=True)\n",
    "\n",
    "\n",
    "with open(os.path.join(np_folder_path, \"small_dev_labels_np.json\"), \"r\") as file:\n",
    "    dev_labels_list = json.load(file)"
   ]
  },
  {
   "cell_type": "code",
   "execution_count": 30,
   "metadata": {},
   "outputs": [],
   "source": [
    "dev_dataset = CTDataset(dev_array_list, dev_labels_list)\n",
    "dev_data_loader = DataLoader(dev_dataset, batch_size=4, shuffle=True)"
   ]
  },
  {
   "attachments": {},
   "cell_type": "markdown",
   "metadata": {},
   "source": [
    "## Load test dataset"
   ]
  },
  {
   "cell_type": "code",
   "execution_count": 23,
   "metadata": {},
   "outputs": [],
   "source": [
    "test_array_list = np.load(os.path.join(np_folder_path, \"small_test_arrays.npy\"), allow_pickle=True)\n",
    "\n",
    "with open(os.path.join(np_folder_path, \"small_test_labels_np.json\"), \"r\") as file:\n",
    "    test_labels_list = json.load(file)"
   ]
  },
  {
   "cell_type": "code",
   "execution_count": 24,
   "metadata": {},
   "outputs": [],
   "source": [
    "test_dataset = CTDataset(test_array_list, test_labels_list)\n",
    "test_data_loader = DataLoader(test_dataset, batch_size=4, shuffle=True)"
   ]
  },
  {
   "attachments": {},
   "cell_type": "markdown",
   "metadata": {},
   "source": [
    "## Load pre-trained model"
   ]
  },
  {
   "cell_type": "code",
   "execution_count": 16,
   "metadata": {},
   "outputs": [
    {
     "name": "stdout",
     "output_type": "stream",
     "text": [
      "Training on cuda:0\n"
     ]
    },
    {
     "name": "stderr",
     "output_type": "stream",
     "text": [
      "/home/lam3654/.conda/envs/practicum_env/lib/python3.8/site-packages/torchvision/models/_utils.py:208: UserWarning: The parameter 'pretrained' is deprecated since 0.13 and may be removed in the future, please use 'weights' instead.\n",
      "  warnings.warn(\n",
      "/home/lam3654/.conda/envs/practicum_env/lib/python3.8/site-packages/torchvision/models/_utils.py:223: UserWarning: Arguments other than a weight enum or `None` for 'weights' are deprecated since 0.13 and may be removed in the future. The current behavior is equivalent to passing `weights=ResNet18_Weights.IMAGENET1K_V1`. You can also use `weights=ResNet18_Weights.DEFAULT` to get the most up-to-date weights.\n",
      "  warnings.warn(msg)\n"
     ]
    }
   ],
   "source": [
    "device = torch.device(\"cuda:0\" if torch.cuda.is_available() else \"cpu\")\n",
    "print(f\"Training on {device}\")\n",
    "# Load pre-trained model and modify the last layer\n",
    "model = models.resnet18(pretrained=True)\n",
    "model.conv1 = nn.Conv2d(1, 64, kernel_size=7, stride=2, padding=3, bias=False)\n",
    "num_features = model.fc.in_features\n",
    "model.fc = nn.Linear(num_features, 2)  # Assuming binary classification\n",
    "model = model.to(device) # Send model to device (GPU if available, else CPU)\n",
    "# Loss function and optimizer\n",
    "criterion = nn.CrossEntropyLoss()\n",
    "optimizer = optim.SGD(model.parameters(), lr=0.001, momentum=0.9)"
   ]
  },
  {
   "attachments": {},
   "cell_type": "markdown",
   "metadata": {},
   "source": [
    "## Train and test simultaneously"
   ]
  },
  {
   "cell_type": "code",
   "execution_count": 36,
   "metadata": {},
   "outputs": [
    {
     "name": "stdout",
     "output_type": "stream",
     "text": [
      "Training on cuda:0\n"
     ]
    },
    {
     "name": "stderr",
     "output_type": "stream",
     "text": [
      "/home/lam3654/.conda/envs/practicum_env/lib/python3.8/site-packages/torchvision/models/_utils.py:208: UserWarning: The parameter 'pretrained' is deprecated since 0.13 and may be removed in the future, please use 'weights' instead.\n",
      "  warnings.warn(\n",
      "/home/lam3654/.conda/envs/practicum_env/lib/python3.8/site-packages/torchvision/models/_utils.py:223: UserWarning: Arguments other than a weight enum or `None` for 'weights' are deprecated since 0.13 and may be removed in the future. The current behavior is equivalent to passing `weights=ResNet18_Weights.IMAGENET1K_V1`. You can also use `weights=ResNet18_Weights.DEFAULT` to get the most up-to-date weights.\n",
      "  warnings.warn(msg)\n"
     ]
    }
   ],
   "source": [
    "device = torch.device(\"cuda:0\" if torch.cuda.is_available() else \"cpu\")\n",
    "print(f\"Training on {device}\")\n",
    "# Load pre-trained model and modify the last layer\n",
    "model_2 = models.resnet18(pretrained=True)\n",
    "model_2.conv1 = nn.Conv2d(1, 64, kernel_size=7, stride=2, padding=3, bias=False)\n",
    "num_features = model_2.fc.in_features\n",
    "model_2.fc = nn.Linear(num_features, 2)  # Assuming binary classification\n",
    "model_2 = model_2.to(device) # Send model to device (GPU if available, else CPU)\n",
    "# Loss function and optimizer\n",
    "criterion = nn.CrossEntropyLoss()\n",
    "optimizer = optim.SGD(model.parameters(), lr=0.001, momentum=0.9)"
   ]
  },
  {
   "cell_type": "code",
   "execution_count": 38,
   "metadata": {},
   "outputs": [
    {
     "name": "stdout",
     "output_type": "stream",
     "text": [
      "Epoch [1/50], Loss: 0.8943\n",
      "Epoch [2/50], Loss: 0.5445\n",
      "Epoch [3/50], Loss: 0.5222\n",
      "Epoch [4/50], Loss: 0.5454\n",
      "Epoch [5/50], Loss: 0.8750\n",
      "Epoch [6/50], Loss: 0.5391\n",
      "Epoch [7/50], Loss: 0.5353\n",
      "Epoch [8/50], Loss: 0.5303\n",
      "Epoch [9/50], Loss: 0.8885\n",
      "Epoch [10/50], Loss: 0.5380\n",
      "Epoch [11/50], Loss: 0.5400\n",
      "Epoch [12/50], Loss: 0.8844\n",
      "Epoch [13/50], Loss: 0.8707\n",
      "Epoch [14/50], Loss: 0.5454\n",
      "Epoch [15/50], Loss: 0.5452\n",
      "Epoch [16/50], Loss: 0.5323\n",
      "Epoch [17/50], Loss: 0.8669\n",
      "Epoch [18/50], Loss: 0.5579\n",
      "Epoch [19/50], Loss: 0.5459\n",
      "Epoch [20/50], Loss: 0.5327\n",
      "Epoch [21/50], Loss: 0.5366\n",
      "Epoch [22/50], Loss: 0.8669\n",
      "Epoch [23/50], Loss: 0.5246\n",
      "Epoch [24/50], Loss: 0.8953\n",
      "Epoch [25/50], Loss: 0.5324\n",
      "Epoch [26/50], Loss: 0.8791\n",
      "Epoch [27/50], Loss: 0.8805\n",
      "Epoch [28/50], Loss: 0.8736\n",
      "Epoch [29/50], Loss: 0.5341\n"
     ]
    }
   ],
   "source": [
    "accuracy_list = []\n",
    "loss_list = []\n",
    "\n",
    "\n",
    "\n",
    "\n",
    "output_list = []\n",
    "num_epochs = 50\n",
    "for epoch in range(num_epochs):\n",
    "    true_labels = []\n",
    "    pred_labels = []\n",
    "    for images, labels in data_loader:\n",
    "        images = images.to(device)\n",
    "        labels = labels.to(device)\n",
    "        optimizer.zero_grad()\n",
    "        images = images[:, np.newaxis, :, :]\n",
    "        images = images.float()\n",
    "\n",
    "        # Forward pass\n",
    "        outputs = model_2(images)\n",
    "        output_list.append(outputs)\n",
    "        loss = criterion(outputs, labels)\n",
    "\n",
    "        _, preds = torch.max(outputs, 1)  # Get the predicted classes\n",
    "\n",
    "        true_labels.extend(labels.cpu().numpy())\n",
    "        pred_labels.extend(preds.cpu().numpy())\n",
    "\n",
    "        # Backward and optimize\n",
    "        loss.backward()\n",
    "        optimizer.step()\n",
    "\n",
    "    # Convert to numpy arrays for use with sklearn\n",
    "    true_labels = np.array(true_labels)\n",
    "    pred_labels = np.array(pred_labels)\n",
    "    accuracy = accuracy_score(true_labels, pred_labels)\n",
    "    accuracy_list.append(accuracy)\n",
    "    loss_list.append(loss.item())\n",
    "\n",
    " \n",
    "    # Print the loss after each epoch\n",
    "    print(f\"Epoch [{epoch+1}/{num_epochs}], Loss: {loss.item():.4f}\")\n",
    "\n",
    "    # After training for each epoch, evaluate on validation set\n",
    "    val_loss = 0\n",
    "    model_2.eval()\n",
    "    with torch.no_grad():\n",
    "        for val_images, val_labels in dev_data_loader:\n",
    "            val_images = val_images.to(device)\n",
    "            val_labels = val_labels.to(device)\n",
    "            val_images = val_images[:, np.newaxis, :, :]\n",
    "            val_images = val_images.float()\n",
    "\n",
    "            val_outputs = model_2(val_images)\n",
    "            loss = criterion(val_outputs, val_labels)\n",
    "            val_loss += loss.item()\n",
    "\n",
    "    val_loss /= len(dev_data_loader)\n",
    "\n",
    "    # If this model is the best so far, save it as a checkpoint\n",
    "    if val_loss < best_val_loss:\n",
    "        best_val_loss = val_loss\n",
    "        model_path = '/home/lam3654/MSAI_pneumonitis/lung_cancer_radiomics'\n",
    "        torch.save(model_2.state_dict(), os.path.join(np_folder_path, f'best_model_checkpoint{epoch+1}.pt'))\n",
    "    \n",
    "    model_2.train()\n",
    "\n",
    "x_list = [x for x in range(num_epochs)]\n",
    "\n",
    "plt.subplot(2, 1, 1)  # (rows, columns, subplot index)\n",
    "plt.plot(x_list, loss_list)\n",
    "plt.xlabel('Epochs')\n",
    "plt.ylabel('Loss')\n",
    "plt.title('Training loss over epochs')\n",
    "\n",
    "# Create the second subplot\n",
    "plt.subplot(2, 1, 2)  # (rows, columns, subplot index)\n",
    "plt.plot(x_list, accuracy_list)\n",
    "plt.xlabel('Epochs')\n",
    "plt.ylabel('Accuracy')\n",
    "plt.title('Training accuracy over epochs')\n",
    "\n",
    "\n",
    "# Adjust the spacing between plots\n",
    "plt.tight_layout()\n",
    "\n",
    "# Display the plots\n",
    "plt.show()\n"
   ]
  },
  {
   "cell_type": "code",
   "execution_count": 37,
   "metadata": {},
   "outputs": [
    {
     "name": "stdout",
     "output_type": "stream",
     "text": [
      "Epoch [1/50], Loss: 0.5301\n",
      "Epoch [2/50], Loss: 0.8828\n",
      "Epoch [3/50], Loss: 0.8948\n",
      "Epoch [4/50], Loss: 0.5301\n",
      "Epoch [5/50], Loss: 0.8797\n",
      "Epoch [6/50], Loss: 0.9033\n",
      "Epoch [7/50], Loss: 0.8806\n",
      "Epoch [8/50], Loss: 0.5395\n",
      "Epoch [9/50], Loss: 0.8757\n",
      "Epoch [10/50], Loss: 0.9070\n",
      "Epoch [11/50], Loss: 0.8989\n",
      "Epoch [12/50], Loss: 0.5343\n",
      "Epoch [13/50], Loss: 0.8589\n",
      "Epoch [14/50], Loss: 0.8912\n",
      "Epoch [15/50], Loss: 0.8863\n",
      "Epoch [16/50], Loss: 0.5342\n",
      "Epoch [17/50], Loss: 0.5227\n",
      "Epoch [18/50], Loss: 0.8810\n",
      "Epoch [19/50], Loss: 0.9002\n",
      "Epoch [20/50], Loss: 0.5179\n",
      "Epoch [21/50], Loss: 0.5391\n",
      "Epoch [22/50], Loss: 0.5422\n",
      "Epoch [23/50], Loss: 0.8936\n",
      "Epoch [24/50], Loss: 0.8579\n",
      "Epoch [25/50], Loss: 0.5210\n",
      "Epoch [26/50], Loss: 0.8607\n",
      "Epoch [27/50], Loss: 0.5540\n",
      "Epoch [28/50], Loss: 0.9023\n",
      "Epoch [29/50], Loss: 0.8706\n",
      "Epoch [30/50], Loss: 0.8495\n",
      "Epoch [31/50], Loss: 0.9065\n",
      "Epoch [32/50], Loss: 0.5465\n",
      "Epoch [33/50], Loss: 0.8930\n",
      "Epoch [34/50], Loss: 0.8812\n",
      "Epoch [35/50], Loss: 0.5445\n",
      "Epoch [36/50], Loss: 0.5418\n",
      "Epoch [37/50], Loss: 0.5411\n",
      "Epoch [38/50], Loss: 0.8686\n",
      "Epoch [39/50], Loss: 0.5460\n",
      "Epoch [40/50], Loss: 0.5143\n"
     ]
    },
    {
     "ename": "KeyboardInterrupt",
     "evalue": "",
     "output_type": "error",
     "traceback": [
      "\u001b[0;31m---------------------------------------------------------------------------\u001b[0m",
      "\u001b[0;31mKeyboardInterrupt\u001b[0m                         Traceback (most recent call last)",
      "Cell \u001b[0;32mIn[37], line 15\u001b[0m\n\u001b[1;32m     13\u001b[0m \u001b[39m# model_2.train()\u001b[39;00m\n\u001b[1;32m     14\u001b[0m \u001b[39mfor\u001b[39;00m images, labels \u001b[39min\u001b[39;00m data_loader:\n\u001b[0;32m---> 15\u001b[0m     images \u001b[39m=\u001b[39m images\u001b[39m.\u001b[39;49mto(device)\n\u001b[1;32m     16\u001b[0m     labels \u001b[39m=\u001b[39m labels\u001b[39m.\u001b[39mto(device)\n\u001b[1;32m     17\u001b[0m     optimizer\u001b[39m.\u001b[39mzero_grad()\n",
      "\u001b[0;31mKeyboardInterrupt\u001b[0m: "
     ]
    }
   ],
   "source": [
    "accuracy_list = []\n",
    "loss_list = []\n",
    "best_val_loss = float('inf')\n",
    "val_loss_list = []\n",
    "\n",
    "\n",
    "\n",
    "output_list = []\n",
    "num_epochs = 50\n",
    "for epoch in range(num_epochs):\n",
    "    true_labels = []\n",
    "    pred_labels = []\n",
    "    # model_2.train()\n",
    "    for images, labels in data_loader:\n",
    "        images = images.to(device)\n",
    "        labels = labels.to(device)\n",
    "        optimizer.zero_grad()\n",
    "        images = images[:, np.newaxis, :, :]\n",
    "        images = images.float()\n",
    "\n",
    "        # Forward pass\n",
    "        outputs = model_2(images)\n",
    "        output_list.append(outputs)\n",
    "        loss = criterion(outputs, labels)\n",
    "\n",
    "        _, preds = torch.max(outputs, 1)  # Get the predicted classes\n",
    "\n",
    "        true_labels.extend(labels.cpu().numpy())\n",
    "        pred_labels.extend(preds.cpu().numpy())\n",
    "\n",
    "        # Backward and optimize\n",
    "        loss.backward()\n",
    "        optimizer.step()\n",
    "\n",
    "    # Convert to numpy arrays for use with sklearn\n",
    "    true_labels = np.array(true_labels)\n",
    "    pred_labels = np.array(pred_labels)\n",
    "    accuracy = accuracy_score(true_labels, pred_labels)\n",
    "    accuracy_list.append(accuracy)\n",
    "    loss_list.append(loss.item())\n",
    "\n",
    " \n",
    "    # Print the loss after each epoch\n",
    "    print(f\"Epoch [{epoch+1}/{num_epochs}], Loss: {loss.item():.4f}\")\n",
    "\n",
    "\n",
    "    # After training for each epoch, evaluate on validation set\n",
    "    val_loss = 0\n",
    "    # model_2.eval()\n",
    "    with torch.no_grad():\n",
    "        for val_images, val_labels in dev_data_loader:\n",
    "            val_images = val_images.to(device)\n",
    "            val_labels = val_labels.to(device)\n",
    "            val_images = val_images[:, np.newaxis, :, :]\n",
    "            val_images = val_images.float()\n",
    "\n",
    "            val_outputs = model_2(val_images)\n",
    "            loss = criterion(val_outputs, val_labels)\n",
    "            val_loss += loss.item()\n",
    "\n",
    "    val_loss /= len(dev_data_loader)\n",
    "    \n",
    "\n",
    "    # If this model is the best so far, save it as a checkpoint\n",
    "    if val_loss < best_val_loss:\n",
    "        best_val_loss = val_loss\n",
    "        model_path = '/home/lam3654/MSAI_pneumonitis/lung_cancer_radiomics/best_model_checkpoint.pt'\n",
    "        torch.save(model_2.state_dict(), model_path)\n",
    "    \n",
    "\n",
    "x_list = [x for x in range(num_epochs)]\n",
    "\n",
    "plt.subplot(3, 1, 1)  # (rows, columns, subplot index)\n",
    "plt.plot(x_list, loss_list)\n",
    "plt.xlabel('Epochs')\n",
    "plt.ylabel('Loss')\n",
    "plt.title('Training loss over epochs')\n",
    "\n",
    "# Create the second subplot\n",
    "plt.subplot(3, 1, 2)  # (rows, columns, subplot index)\n",
    "plt.plot(x_list, accuracy_list)\n",
    "plt.xlabel('Epochs')\n",
    "plt.ylabel('Accuracy')\n",
    "plt.title('Training accuracy over epochs')\n",
    "\n",
    "plt.subplot(3, 1, 3)  # (rows, columns, subplot index)\n",
    "plt.plot(x_list, val_loss_list)\n",
    "plt.xlabel('Epochs')\n",
    "plt.ylabel('Validation Loss')\n",
    "plt.title('Validation loss over epochs')\n",
    "\n",
    "# Adjust the spacing between plots\n",
    "plt.tight_layout()\n",
    "\n",
    "# Display the plots\n",
    "plt.show()\n"
   ]
  },
  {
   "attachments": {},
   "cell_type": "markdown",
   "metadata": {},
   "source": [
    "## Train"
   ]
  },
  {
   "cell_type": "code",
   "execution_count": 17,
   "metadata": {},
   "outputs": [
    {
     "name": "stdout",
     "output_type": "stream",
     "text": [
      "Epoch [1/50], Loss: 0.5852\n",
      "Epoch [2/50], Loss: 1.1450\n",
      "Epoch [3/50], Loss: 0.2173\n",
      "Epoch [4/50], Loss: 1.1090\n",
      "Epoch [5/50], Loss: 0.5014\n",
      "Epoch [6/50], Loss: 1.4866\n",
      "Epoch [7/50], Loss: 0.3580\n",
      "Epoch [8/50], Loss: 0.4885\n",
      "Epoch [9/50], Loss: 1.0191\n",
      "Epoch [10/50], Loss: 1.2438\n",
      "Epoch [11/50], Loss: 0.0655\n",
      "Epoch [12/50], Loss: 1.3581\n",
      "Epoch [13/50], Loss: 0.0614\n",
      "Epoch [14/50], Loss: 1.7540\n",
      "Epoch [15/50], Loss: 0.1130\n",
      "Epoch [16/50], Loss: 0.0591\n",
      "Epoch [17/50], Loss: 0.0201\n",
      "Epoch [18/50], Loss: 1.0662\n",
      "Epoch [19/50], Loss: 0.0182\n",
      "Epoch [20/50], Loss: 2.0205\n",
      "Epoch [21/50], Loss: 0.0167\n",
      "Epoch [22/50], Loss: 0.0043\n",
      "Epoch [23/50], Loss: 0.0016\n",
      "Epoch [24/50], Loss: 0.0038\n",
      "Epoch [25/50], Loss: 0.0057\n",
      "Epoch [26/50], Loss: 0.0027\n",
      "Epoch [27/50], Loss: 0.6338\n",
      "Epoch [28/50], Loss: 0.0015\n",
      "Epoch [29/50], Loss: 1.8489\n",
      "Epoch [30/50], Loss: 0.0131\n",
      "Epoch [31/50], Loss: 0.0004\n",
      "Epoch [32/50], Loss: 0.0093\n",
      "Epoch [33/50], Loss: 0.0006\n",
      "Epoch [34/50], Loss: 0.0011\n",
      "Epoch [35/50], Loss: 0.0030\n",
      "Epoch [36/50], Loss: 0.0062\n",
      "Epoch [37/50], Loss: 0.0027\n",
      "Epoch [38/50], Loss: 0.0012\n",
      "Epoch [39/50], Loss: 0.0075\n",
      "Epoch [40/50], Loss: 0.0025\n",
      "Epoch [41/50], Loss: 0.0044\n",
      "Epoch [42/50], Loss: 0.1006\n",
      "Epoch [43/50], Loss: 0.0154\n",
      "Epoch [44/50], Loss: 0.0003\n",
      "Epoch [45/50], Loss: 0.0138\n",
      "Epoch [46/50], Loss: 0.0008\n",
      "Epoch [47/50], Loss: 0.0007\n",
      "Epoch [48/50], Loss: 0.0009\n",
      "Epoch [49/50], Loss: 0.0003\n",
      "Epoch [50/50], Loss: 0.0052\n"
     ]
    },
    {
     "data": {
      "image/png": "[encoded data removed]",
      "text/plain": [
       "<Figure size 640x480 with 2 Axes>"
      ]
     },
     "metadata": {},
     "output_type": "display_data"
    }
   ],
   "source": [
    "accuracy_list = []\n",
    "loss_list = []\n",
    "\n",
    "\n",
    "\n",
    "\n",
    "output_list = []\n",
    "num_epochs = 50\n",
    "for epoch in range(num_epochs):\n",
    "    true_labels = []\n",
    "    pred_labels = []\n",
    "    for images, labels in data_loader:\n",
    "        images = images.to(device)\n",
    "        labels = labels.to(device)\n",
    "        optimizer.zero_grad()\n",
    "        images = images[:, np.newaxis, :, :]\n",
    "        images = images.float()\n",
    "\n",
    "        # Forward pass\n",
    "        outputs = model(images)\n",
    "        output_list.append(outputs)\n",
    "        loss = criterion(outputs, labels)\n",
    "\n",
    "        _, preds = torch.max(outputs, 1)  # Get the predicted classes\n",
    "\n",
    "        true_labels.extend(labels.cpu().numpy())\n",
    "        pred_labels.extend(preds.cpu().numpy())\n",
    "\n",
    "        # Backward and optimize\n",
    "        loss.backward()\n",
    "        optimizer.step()\n",
    "\n",
    "    # Convert to numpy arrays for use with sklearn\n",
    "    true_labels = np.array(true_labels)\n",
    "    pred_labels = np.array(pred_labels)\n",
    "    accuracy = accuracy_score(true_labels, pred_labels)\n",
    "    accuracy_list.append(accuracy)\n",
    "    loss_list.append(loss.item())\n",
    "\n",
    " \n",
    "    # Print the loss after each epoch\n",
    "    print(f\"Epoch [{epoch+1}/{num_epochs}], Loss: {loss.item():.4f}\")\n",
    "\n",
    "x_list = [x for x in range(num_epochs)]\n",
    "\n",
    "plt.subplot(2, 1, 1)  # (rows, columns, subplot index)\n",
    "plt.plot(x_list, loss_list)\n",
    "plt.xlabel('Epochs')\n",
    "plt.ylabel('Loss')\n",
    "plt.title('Training loss over epochs')\n",
    "\n",
    "# Create the second subplot\n",
    "plt.subplot(2, 1, 2)  # (rows, columns, subplot index)\n",
    "plt.plot(x_list, accuracy_list)\n",
    "plt.xlabel('Epochs')\n",
    "plt.ylabel('Accuracy')\n",
    "plt.title('Training accuracy over epochs')\n",
    "\n",
    "\n",
    "# Adjust the spacing between plots\n",
    "plt.tight_layout()\n",
    "\n",
    "# Display the plots\n",
    "plt.show()\n"
   ]
  },
  {
   "attachments": {},
   "cell_type": "markdown",
   "metadata": {},
   "source": [
    "## Testing"
   ]
  },
  {
   "cell_type": "code",
   "execution_count": 25,
   "metadata": {},
   "outputs": [
    {
     "data": {
      "image/png": "[encoded data removed]",
      "text/plain": [
       "<Figure size 640x480 with 2 Axes>"
      ]
     },
     "metadata": {},
     "output_type": "display_data"
    },
    {
     "name": "stdout",
     "output_type": "stream",
     "text": [
      "Accuracy: 0.6081081081081081\n",
      "ROC AUC: 0.6096821877309682\n"
     ]
    }
   ],
   "source": [
    "model = model.to(device)\n",
    "model.eval()  # Set the model to evaluation mode\n",
    "\n",
    "true_labels = []\n",
    "pred_labels = []\n",
    "outputs_list = []\n",
    "\n",
    "# Loop through the test data\n",
    "for inputs, labels in test_data_loader:\n",
    "    inputs, labels = inputs.to(device), labels.to(device)\n",
    "    inputs = inputs[:, np.newaxis, :, :]\n",
    "    inputs = inputs.float()\n",
    "\n",
    "\n",
    "    # Forward pass\n",
    "    outputs = model(inputs)\n",
    "    _, preds = torch.max(outputs, 1)  # Get the predicted classes\n",
    "\n",
    "    true_labels.extend(labels.cpu().numpy())\n",
    "    pred_labels.extend(preds.cpu().numpy())\n",
    "    outputs_list.extend(outputs.detach().cpu().numpy())\n",
    "\n",
    "# Convert to numpy arrays for use with sklearn\n",
    "true_labels = np.array(true_labels)\n",
    "pred_labels = np.array(pred_labels)\n",
    "\n",
    "# Compute ROC AUC\n",
    "roc_auc = roc_auc_score(label_binarize(true_labels, classes=[0,1]),\n",
    "                        label_binarize(pred_labels, classes=[0,1]), \n",
    "                        average='macro')\n",
    "\n",
    "# Compute accuracy\n",
    "accuracy = accuracy_score(true_labels, pred_labels)\n",
    "\n",
    "# Compute confusion matrix\n",
    "cm = confusion_matrix(true_labels, pred_labels)\n",
    "\n",
    "# Plot confusion matrix\n",
    "sns.heatmap(cm, annot=True, cmap='Blues', fmt='g')\n",
    "plt.xlabel('Predicted')\n",
    "plt.ylabel('True')\n",
    "plt.show()\n",
    "\n",
    "print(f\"Accuracy: {accuracy}\")\n",
    "print(f\"ROC AUC: {roc_auc}\")"
   ]
  },
  {
   "cell_type": "code",
   "execution_count": null,
   "metadata": {},
   "outputs": [],
   "source": []
  }
 ],
 "metadata": {
  "kernelspec": {
   "display_name": "Python (practicum_env)",
   "language": "python",
   "name": "practicum_env"
  },
  "language_info": {
   "codemirror_mode": {
    "name": "ipython",
    "version": 3
   },
   "file_extension": ".py",
   "mimetype": "text/x-python",
   "name": "python",
   "nbconvert_exporter": "python",
   "pygments_lexer": "ipython3",
   "version": "3.8.13"
  },
  "orig_nbformat": 4
 },
 "nbformat": 4,
 "nbformat_minor": 2
}

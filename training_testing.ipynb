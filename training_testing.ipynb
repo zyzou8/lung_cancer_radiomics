{
 "cells": [
  {
   "attachments": {},
   "cell_type": "markdown",
   "metadata": {},
   "source": [
    "# Training and Testing"
   ]
  },
  {
   "cell_type": "code",
   "execution_count": null,
   "metadata": {},
   "outputs": [],
   "source": [
    "import pandas as pd\n",
    "import shutil\n",
    "import random\n",
    "from DicomRTTool.ReaderWriter import DicomReaderWriter, ROIAssociationClass\n",
    "import SimpleITK as sitk\n",
    "import matplotlib.pyplot as plt\n",
    "import numpy as np\n",
    "import os\n",
    "from sklearn.model_selection import train_test_split\n",
    "import torch\n",
    "import torch.nn as nn\n",
    "import torch.optim as optim\n",
    "from torch.utils.data import DataLoader, Dataset, ConcatDataset, TensorDataset\n",
    "import pickle"
   ]
  },
  {
   "attachments": {},
   "cell_type": "markdown",
   "metadata": {},
   "source": [
    "## Load dataset"
   ]
  },
  {
   "cell_type": "code",
   "execution_count": null,
   "metadata": {},
   "outputs": [],
   "source": [
    "class CTMaskDataset(Dataset):\n",
    "    def __init__(self, ct_path, label):\n",
    "        self.ct_path = ct_path\n",
    "        self.label = label\n",
    "\n",
    "        self.Dicom_reader = DicomReaderWriter(description='Examples', arg_max=True)\n",
    "        self.Dicom_reader.walk_through_folders(ct_path)\n",
    "\n",
    "        Contour_names = ['lung'] # Define what rois you want\n",
    "        associations = [ROIAssociationClass('lung', ['lungs', 'whole lung'])] \n",
    "        self.Dicom_reader.set_contour_names_and_associations(contour_names=Contour_names, associations=associations)\n",
    "\n",
    "        self.indexes = self.Dicom_reader.which_indexes_have_all_rois()\n",
    "\n",
    "    def __len__(self):\n",
    "        return len(self.indexes)\n",
    "\n",
    "    def __getitem__(self, idx):\n",
    "\n",
    "        pt_indx = self.indexes[idx]\n",
    "        self.Dicom_reader.set_index(pt_indx)  \n",
    "        self.Dicom_reader.get_images_and_mask()  # Load up the images and mask for the requested index\n",
    "\n",
    "        image = self.Dicom_reader.ArrayDicom # image array\n",
    "        mask = self.Dicom_reader.mask # mask array\n",
    "\n",
    "        return image, mask, self.label"
   ]
  },
  {
   "cell_type": "code",
   "execution_count": null,
   "metadata": {},
   "outputs": [],
   "source": [
    "with open('train_dataset.pkl', 'rb') as f:\n",
    "    data_tuple = pickle.load(f)\n",
    "\n",
    "# Extract the data and labels from the data tuple\n",
    "data, labels = data_tuple\n",
    "\n",
    "# Create a new dataset from the data and labels\n",
    "dataset = CTMaskDataset(data, labels)\n",
    "\n",
    "# Create the DataLoader\n",
    "data_loader = DataLoader(dataset, batch_size=4, shuffle=True)"
   ]
  },
  {
   "attachments": {},
   "cell_type": "markdown",
   "metadata": {},
   "source": [
    "## Define model structure"
   ]
  },
  {
   "cell_type": "code",
   "execution_count": null,
   "metadata": {},
   "outputs": [],
   "source": [
    "class CNNClassifier(nn.Module):\n",
    "    def __init__(self):\n",
    "        super(CNNClassifier, self).__init__()\n",
    "        self.conv1 = nn.Conv2d(1, 32, kernel_size=3, padding=1)\n",
    "        self.conv2 = nn.Conv2d(32, 64, kernel_size=3, padding=1)\n",
    "        self.pool = nn.MaxPool2d(2, 2)\n",
    "        self.fc1 = nn.Linear(64 * 128 * 128, 512)\n",
    "        self.fc2 = nn.Linear(512, 2)\n",
    "        self.relu = nn.ReLU()\n",
    "\n",
    "    def forward(self, x):\n",
    "        x = self.pool(self.relu(self.conv1(x)))\n",
    "        x = self.pool(self.relu(self.conv2(x)))\n",
    "        x = x.view(-1, 64 * 128 * 128)\n",
    "        x = self.relu(self.fc1(x))\n",
    "        x = self.fc2(x)\n",
    "        return x"
   ]
  },
  {
   "attachments": {},
   "cell_type": "markdown",
   "metadata": {},
   "source": [
    "## Train model"
   ]
  },
  {
   "cell_type": "code",
   "execution_count": null,
   "metadata": {},
   "outputs": [],
   "source": [
    "# Check if a GPU is available and if not, default to CPU\n",
    "device = torch.device(\"cuda:0\" if torch.cuda.is_available() else \"cpu\")\n",
    "print(f\"Training on {device}\")\n",
    "\n",
    "# Initialize the model, loss function, and optimizer\n",
    "model = CNNClassifier().to(device)\n",
    "criterion = nn.CrossEntropyLoss()\n",
    "optimizer = optim.Adam(model.parameters(), lr=0.001)\n",
    "\n",
    "# Now you can use the model in your training loop\n",
    "n_epochs = 10\n",
    "for epoch in range(n_epochs):\n",
    "    model.train()\n",
    "    running_loss = 0.0\n",
    "    for i, (inputs, masks, labels) in enumerate(data_loader):\n",
    "        # Move data and labels to device\n",
    "        inputs, labels = inputs.to(device), labels.to(device)\n",
    "        mask = masks.to(device)\n",
    "        inputs = masks.unsqueeze(1).float()\n",
    "        optimizer.zero_grad()\n",
    "        outputs = model(inputs).float()\n",
    "        labels = labels.long()\n",
    "        loss = criterion(outputs, labels)\n",
    "\n",
    "        loss.backward()\n",
    "        optimizer.step()\n",
    "\n",
    "        running_loss += loss.item()\n",
    "\n",
    "    print(f\"Epoch {epoch + 1}/{n_epochs}, Loss: {running_loss / len(data_loader)}\")\n",
    "# Save the model\n",
    "model_save_path = \"./model.pth\"\n",
    "torch.save(model.state_dict(), model_save_path)\n",
    "print(f\"Model saved to {model_save_path}\")"
   ]
  },
  {
   "attachments": {},
   "cell_type": "markdown",
   "metadata": {},
   "source": []
  }
 ],
 "metadata": {
  "language_info": {
   "name": "python"
  },
  "orig_nbformat": 4
 },
 "nbformat": 4,
 "nbformat_minor": 2
}

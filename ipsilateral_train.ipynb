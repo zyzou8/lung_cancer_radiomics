{
 "cells": [
  {
   "attachments": {},
   "cell_type": "markdown",
   "metadata": {},
   "source": [
    "# Ipsilateral Model Pipeline\n"
   ]
  },
  {
   "attachments": {},
   "cell_type": "markdown",
   "metadata": {},
   "source": [
    "## Environment setup"
   ]
  },
  {
   "cell_type": "code",
   "execution_count": 1,
   "metadata": {},
   "outputs": [],
   "source": [
    "import pandas as pd\n",
    "import shutil\n",
    "import random\n",
    "from DicomRTTool.ReaderWriter import DicomReaderWriter, ROIAssociationClass\n",
    "import SimpleITK as sitk\n",
    "import matplotlib.pyplot as plt\n",
    "import numpy as np\n",
    "import os\n",
    "from sklearn.model_selection import train_test_split\n",
    "import torch\n",
    "import torch.nn as nn\n",
    "import torch.optim as optim\n",
    "from torch.utils.data import DataLoader, Dataset, ConcatDataset, TensorDataset\n",
    "import pickle\n",
    "import json\n",
    "import torch.nn.functional as F\n",
    "import tqdm\n",
    "from sklearn.metrics import confusion_matrix, roc_auc_score, accuracy_score\n",
    "import seaborn as sns\n",
    "from sklearn.preprocessing import label_binarize\n",
    "import wandb"
   ]
  },
  {
   "attachments": {},
   "cell_type": "markdown",
   "metadata": {},
   "source": [
    "## Data preparation"
   ]
  },
  {
   "attachments": {},
   "cell_type": "markdown",
   "metadata": {},
   "source": [
    "### Load train/dev/test split lists"
   ]
  },
  {
   "cell_type": "code",
   "execution_count": 2,
   "metadata": {},
   "outputs": [],
   "source": [
    "path = '/home/lam3654/MSAI_pneumonitis/lung_cancer_radiomics/train_dev_test_lists'\n",
    "\n",
    "with open(os.path.join(path, \"small_train_data.json\"), \"r\") as file:\n",
    "    train_data = json.load(file)\n",
    "\n",
    "with open(os.path.join(path, \"small_train_labels.json\"), \"r\") as file:\n",
    "    train_labels = json.load(file)\n",
    "    \n",
    "with open(os.path.join(path, \"small_dev_data.json\"), \"r\") as file:\n",
    "    dev_data = json.load(file)\n",
    "\n",
    "with open(os.path.join(path, \"small_dev_labels.json\"), \"r\") as file:\n",
    "    dev_labels = json.load(file)\n",
    "\n",
    "with open(os.path.join(path, \"small_test_data.json\"), \"r\") as file:\n",
    "    test_data = json.load(file)\n",
    "\n",
    "with open(os.path.join(path, \"small_test_labels.json\"), \"r\") as file:\n",
    "    test_labels = json.load(file)"
   ]
  },
  {
   "attachments": {},
   "cell_type": "markdown",
   "metadata": {},
   "source": [
    "### Load as numpy arrays"
   ]
  },
  {
   "cell_type": "code",
   "execution_count": 3,
   "metadata": {},
   "outputs": [],
   "source": [
    "## set number of skipped slices\n",
    "skip = 4\n",
    "\n",
    "left_contours = ['l lung', 'tru left lung', 'lt lung 2', 'lt lung', 'lung_l', 'l_lung', 'left lung']\n",
    "right_contours = ['new right lung', 'r_lung', 'rt lung', 'lung_r', 'r lung', 'right lung']"
   ]
  },
  {
   "cell_type": "code",
   "execution_count": 4,
   "metadata": {},
   "outputs": [],
   "source": [
    "def lung_side(path_name):\n",
    "    # Load the Excel spreadsheet into a pandas DataFrame\n",
    "    df = pd.read_excel(r'/home/lam3654/MSAI_pneumonitis/all_data_labels.xlsx')\n",
    "\n",
    "    # Define the unique column and the column to retrieve values from\n",
    "    unique_column = 'anon_id'\n",
    "    retrieve_column = 'side'\n",
    "    \n",
    "    # Prompt the user for the unique column value to search\n",
    "    split_values = path_name.split('/')\n",
    "    search_value = split_values[-1]\n",
    "\n",
    "    # Find the rows matching the search value in the unique column\n",
    "    matching_rows = df[df[unique_column] == search_value]\n",
    "\n",
    "    # Retrieve the corresponding values from the retrieve column\n",
    "    side_values = matching_rows[retrieve_column]\n",
    "\n",
    "    if 'R' in side_values:\n",
    "        return True\n",
    "    else:\n",
    "        return False\n"
   ]
  },
  {
   "cell_type": "code",
   "execution_count": 5,
   "metadata": {},
   "outputs": [
    {
     "data": {
      "text/plain": [
       "False"
      ]
     },
     "execution_count": 5,
     "metadata": {},
     "output_type": "execute_result"
    }
   ],
   "source": [
    "lung_side('/home/lam3654/MSAI_pneumonitis/data/train/small_pneumonitis_negative/P1067')"
   ]
  },
  {
   "cell_type": "code",
   "execution_count": 6,
   "metadata": {},
   "outputs": [
    {
     "name": "stderr",
     "output_type": "stream",
     "text": [
      "Loading through DICOM files:   0%|                                                                              | 0/1 [00:00<?, ?it/s]"
     ]
    },
    {
     "name": "stdout",
     "output_type": "stream",
     "text": [
      "Loading from /home/lam3654/MSAI_pneumonitis/data/train/pneumonitis_positive/P1316\n"
     ]
    },
    {
     "name": "stderr",
     "output_type": "stream",
     "text": [
      "Loading through DICOM files: 100%|██████████████████████████████████████████████████████████████████████| 1/1 [00:09<00:00,  9.41s/it]\n"
     ]
    },
    {
     "name": "stdout",
     "output_type": "stream",
     "text": [
      "Compiling dictionaries together...\n",
      "Index 0, description CHEST  3.0  B35f at /home/lam3654/MSAI_pneumonitis/data/train/pneumonitis_positive/P1316\n",
      "Index 1, description Chest 3mm  3.0  B35f at /home/lam3654/MSAI_pneumonitis/data/train/pneumonitis_positive/P1316\n",
      "Index 2, description AVG 0.0,10.0,20.0,30.0,40.0,50.0,60.0,70.0,80.0,90.0 at /home/lam3654/MSAI_pneumonitis/data/train/pneumonitis_positive/P1316\n",
      "Index 3, description None at None\n",
      "4 unique series IDs were found. Default is index 0, to change use set_index(index)\n",
      "Lacking ['llung'] in index 0, location /home/lam3654/MSAI_pneumonitis/data/train/pneumonitis_positive/P1316. Found []\n",
      "Lacking ['llung'] in index 1, location /home/lam3654/MSAI_pneumonitis/data/train/pneumonitis_positive/P1316. Found []\n",
      "Contour names or associations changed, resetting mask\n",
      "The following indexes have all ROIs present\n",
      "Index 2, located at /home/lam3654/MSAI_pneumonitis/data/train/pneumonitis_positive/P1316\n",
      "Finished listing present indexes\n",
      "Loading images for AVG 0.0,10.0,20.0,30.0,40.0,50.0,60.0,70.0,80.0,90.0 at \n",
      " /home/lam3654/MSAI_pneumonitis/data/train/pneumonitis_positive/P1316\n",
      "\n",
      "Erasing any previous mask as we load a new new image set\n"
     ]
    },
    {
     "name": "stderr",
     "output_type": "stream",
     "text": [
      "Loading through DICOM files:  50%|███████████████████████████████████                                   | 2/4 [00:00<00:00, 18.09it/s]"
     ]
    },
    {
     "name": "stdout",
     "output_type": "stream",
     "text": [
      "Loading from /home/lam3654/MSAI_pneumonitis/data/train/small_pneumonitis_negative/NU_0171/2018-10__Studies/NU.0171_NU.0171_RTst_2018-10-21_105503_SBRT.Chest.planning.scan_AY_n1__00000\n",
      "Loading from /home/lam3654/MSAI_pneumonitis/data/train/small_pneumonitis_negative/NU_0171/2018-10__Studies/NU.0171_NU.0171_RTDOSE_2018-10-21_105503_SBRT.Chest.planning.scan_NU.0171_n1__00000\n",
      "Loading from /home/lam3654/MSAI_pneumonitis/data/train/small_pneumonitis_negative/NU_0171/2018-10__Studies/NU.0171_NU.0171_RTPLAN_2018-10-21_105503_SBRT.Chest.planning.scan_NU.0171_n1__00000\n",
      "Loading from /home/lam3654/MSAI_pneumonitis/data/train/small_pneumonitis_negative/NU_0171/2018-10__Studies/NU.0171_NU.0171_CT_2018-10-21_105503_SBRT.Chest.planning.scan_NU.0171_n177__00000\n",
      "Had an error loading /home/lam3654/MSAI_pneumonitis/data/train/small_pneumonitis_negative/NU_0171/2018-10__Studies/NU.0171_NU.0171_RTPLAN_2018-10-21_105503_SBRT.Chest.planning.scan_NU.0171_n1__00000/2.16.840.1.114362.1.11940992.22933840372.569048923.1013.542.dcm\n"
     ]
    },
    {
     "name": "stderr",
     "output_type": "stream",
     "text": [
      "Loading through DICOM files: 100%|██████████████████████████████████████████████████████████████████████| 4/4 [00:03<00:00,  1.22it/s]\n"
     ]
    },
    {
     "name": "stdout",
     "output_type": "stream",
     "text": [
      "Compiling dictionaries together...\n",
      "Index 0, description NU_0171  at /home/lam3654/MSAI_pneumonitis/data/train/small_pneumonitis_negative/NU_0171/2018-10__Studies/NU.0171_NU.0171_CT_2018-10-21_105503_SBRT.Chest.planning.scan_NU.0171_n177__00000\n",
      "Index 1, description None at None\n",
      "2 unique series IDs were found. Default is index 0, to change use set_index(index)\n",
      "Contour names or associations changed, resetting mask\n",
      "The following indexes have all ROIs present\n",
      "Index 0, located at /home/lam3654/MSAI_pneumonitis/data/train/small_pneumonitis_negative/NU_0171/2018-10__Studies/NU.0171_NU.0171_CT_2018-10-21_105503_SBRT.Chest.planning.scan_NU.0171_n177__00000\n",
      "Finished listing present indexes\n",
      "Loading images for NU_0171  at \n",
      " /home/lam3654/MSAI_pneumonitis/data/train/small_pneumonitis_negative/NU_0171/2018-10__Studies/NU.0171_NU.0171_CT_2018-10-21_105503_SBRT.Chest.planning.scan_NU.0171_n177__00000\n",
      "\n",
      "Erasing any previous mask as we load a new new image set\n"
     ]
    },
    {
     "name": "stderr",
     "output_type": "stream",
     "text": [
      "Loading through DICOM files:   0%|                                                                              | 0/1 [00:00<?, ?it/s]"
     ]
    },
    {
     "name": "stdout",
     "output_type": "stream",
     "text": [
      "Loading from /home/lam3654/MSAI_pneumonitis/data/train/small_pneumonitis_negative/P1146\n"
     ]
    },
    {
     "name": "stderr",
     "output_type": "stream",
     "text": [
      "Loading through DICOM files: 100%|██████████████████████████████████████████████████████████████████████| 1/1 [00:03<00:00,  3.07s/it]\n"
     ]
    },
    {
     "name": "stdout",
     "output_type": "stream",
     "text": [
      "Compiling dictionaries together...\n",
      "Index 0, description KV_BM_Research at /home/lam3654/MSAI_pneumonitis/data/train/small_pneumonitis_negative/P1146\n",
      "1 unique series IDs were found. Default is index 0, to change use set_index(index)\n",
      "Contour names or associations changed, resetting mask\n",
      "The following indexes have all ROIs present\n",
      "Index 0, located at /home/lam3654/MSAI_pneumonitis/data/train/small_pneumonitis_negative/P1146\n",
      "Finished listing present indexes\n",
      "Loading images for KV_BM_Research at \n",
      " /home/lam3654/MSAI_pneumonitis/data/train/small_pneumonitis_negative/P1146\n",
      "\n",
      "Erasing any previous mask as we load a new new image set\n"
     ]
    },
    {
     "name": "stderr",
     "output_type": "stream",
     "text": [
      "Loading through DICOM files:   0%|                                                                              | 0/4 [00:00<?, ?it/s]"
     ]
    },
    {
     "name": "stdout",
     "output_type": "stream",
     "text": [
      "Loading from /home/lam3654/MSAI_pneumonitis/data/train/small_pneumonitis_negative/NU_0034/2012-08__Studies/NU.0034_NU.0034_RTst_2012-08-30_110406_SBRT.planning.+.bellows_AY_n1__00000\n",
      "Loading from /home/lam3654/MSAI_pneumonitis/data/train/small_pneumonitis_negative/NU_0034/2012-08__Studies/NU.0034_NU.0034_RTDOSE_2012-08-30_110406_SBRT.planning.+.bellows_NU.0034_n1__00000\n",
      "Loading from /home/lam3654/MSAI_pneumonitis/data/train/small_pneumonitis_negative/NU_0034/2012-08__Studies/NU.0034_NU.0034_CT_2012-08-30_110406_SBRT.planning.+.bellows_NU.0034_n148__00000\n",
      "Loading from /home/lam3654/MSAI_pneumonitis/data/train/small_pneumonitis_negative/NU_0034/2012-08__Studies/NU.0034_NU.0034_RTPLAN_2012-08-30_110406_SBRT.planning.+.bellows_NU.0034_n1__00000\n",
      "Had an error loading /home/lam3654/MSAI_pneumonitis/data/train/small_pneumonitis_negative/NU_0034/2012-08__Studies/NU.0034_NU.0034_RTPLAN_2012-08-30_110406_SBRT.planning.+.bellows_NU.0034_n1__00000/2.16.840.1.114362.1.11940992.22933840372.569052778.528.453.dcm\n"
     ]
    },
    {
     "name": "stderr",
     "output_type": "stream",
     "text": [
      "Loading through DICOM files: 100%|██████████████████████████████████████████████████████████████████████| 4/4 [00:03<00:00,  1.22it/s]\n"
     ]
    },
    {
     "name": "stdout",
     "output_type": "stream",
     "text": [
      "Compiling dictionaries together...\n",
      "Index 0, description NU_0034  at /home/lam3654/MSAI_pneumonitis/data/train/small_pneumonitis_negative/NU_0034/2012-08__Studies/NU.0034_NU.0034_CT_2012-08-30_110406_SBRT.planning.+.bellows_NU.0034_n148__00000\n",
      "Index 1, description None at None\n",
      "2 unique series IDs were found. Default is index 0, to change use set_index(index)\n",
      "Contour names or associations changed, resetting mask\n",
      "The following indexes have all ROIs present\n",
      "Index 0, located at /home/lam3654/MSAI_pneumonitis/data/train/small_pneumonitis_negative/NU_0034/2012-08__Studies/NU.0034_NU.0034_CT_2012-08-30_110406_SBRT.planning.+.bellows_NU.0034_n148__00000\n",
      "Finished listing present indexes\n",
      "Loading images for NU_0034  at \n",
      " /home/lam3654/MSAI_pneumonitis/data/train/small_pneumonitis_negative/NU_0034/2012-08__Studies/NU.0034_NU.0034_CT_2012-08-30_110406_SBRT.planning.+.bellows_NU.0034_n148__00000\n",
      "\n",
      "Erasing any previous mask as we load a new new image set\n"
     ]
    },
    {
     "name": "stderr",
     "output_type": "stream",
     "text": [
      "Loading through DICOM files:   0%|                                                                              | 0/4 [00:00<?, ?it/s]"
     ]
    },
    {
     "name": "stdout",
     "output_type": "stream",
     "text": [
      "Loading from /home/lam3654/MSAI_pneumonitis/data/train/small_pneumonitis_negative/NU_0068/2014-12__Studies/NU.0068_NU.0068_CT_2014-12-15_150552_Sbrt.planning.bellows_NU.0068_n172__00000\n",
      "Loading from /home/lam3654/MSAI_pneumonitis/data/train/small_pneumonitis_negative/NU_0068/2014-12__Studies/NU.0068_NU.0068_RTPLAN_2014-12-15_150552_Sbrt.planning.bellows_NU.0068_n1__00000\n",
      "Loading from /home/lam3654/MSAI_pneumonitis/data/train/small_pneumonitis_negative/NU_0068/2014-12__Studies/NU.0068_NU.0068_RTst_2014-12-15_150552_Sbrt.planning.bellows_AY_n1__00000\n",
      "Loading from /home/lam3654/MSAI_pneumonitis/data/train/small_pneumonitis_negative/NU_0068/2014-12__Studies/NU.0068_NU.0068_RTDOSE_2014-12-15_150552_Sbrt.planning.bellows_NU.0068_n1__00000\n",
      "Had an error loading /home/lam3654/MSAI_pneumonitis/data/train/small_pneumonitis_negative/NU_0068/2014-12__Studies/NU.0068_NU.0068_RTPLAN_2014-12-15_150552_Sbrt.planning.bellows_NU.0068_n1__00000/2.16.840.1.114362.1.11940992.22933840372.569052830.195.2946.dcm\n"
     ]
    },
    {
     "name": "stderr",
     "output_type": "stream",
     "text": [
      "Loading through DICOM files: 100%|██████████████████████████████████████████████████████████████████████| 4/4 [00:03<00:00,  1.23it/s]\n"
     ]
    },
    {
     "name": "stdout",
     "output_type": "stream",
     "text": [
      "Compiling dictionaries together...\n",
      "Index 0, description NU_0068  at /home/lam3654/MSAI_pneumonitis/data/train/small_pneumonitis_negative/NU_0068/2014-12__Studies/NU.0068_NU.0068_CT_2014-12-15_150552_Sbrt.planning.bellows_NU.0068_n172__00000\n",
      "Index 1, description None at None\n",
      "2 unique series IDs were found. Default is index 0, to change use set_index(index)\n",
      "Contour names or associations changed, resetting mask\n",
      "The following indexes have all ROIs present\n",
      "Index 0, located at /home/lam3654/MSAI_pneumonitis/data/train/small_pneumonitis_negative/NU_0068/2014-12__Studies/NU.0068_NU.0068_CT_2014-12-15_150552_Sbrt.planning.bellows_NU.0068_n172__00000\n",
      "Finished listing present indexes\n",
      "Loading images for NU_0068  at \n",
      " /home/lam3654/MSAI_pneumonitis/data/train/small_pneumonitis_negative/NU_0068/2014-12__Studies/NU.0068_NU.0068_CT_2014-12-15_150552_Sbrt.planning.bellows_NU.0068_n172__00000\n",
      "\n",
      "Erasing any previous mask as we load a new new image set\n"
     ]
    },
    {
     "name": "stderr",
     "output_type": "stream",
     "text": [
      "Loading through DICOM files:   0%|                                                                              | 0/1 [00:00<?, ?it/s]"
     ]
    },
    {
     "name": "stdout",
     "output_type": "stream",
     "text": [
      "Loading from /home/lam3654/MSAI_pneumonitis/data/train/pneumonitis_positive/P0581\n"
     ]
    },
    {
     "name": "stderr",
     "output_type": "stream",
     "text": [
      "Loading through DICOM files: 100%|██████████████████████████████████████████████████████████████████████| 1/1 [00:15<00:00, 15.31s/it]\n"
     ]
    },
    {
     "name": "stdout",
     "output_type": "stream",
     "text": [
      "Compiling dictionaries together...\n",
      "Index 0, description NEW 4DCT/OncoBody  at /home/lam3654/MSAI_pneumonitis/data/train/pneumonitis_positive/P0581\n",
      "Index 1, description ThoraxRoutine 5.0 B40s at /home/lam3654/MSAI_pneumonitis/data/train/pneumonitis_positive/P0581\n",
      "Index 2, description ThoraxRoutine 5.0 B40s at /home/lam3654/MSAI_pneumonitis/data/train/pneumonitis_positive/P0581\n",
      "Index 3, description ThoraxRoutine 5.0 B40s at /home/lam3654/MSAI_pneumonitis/data/train/pneumonitis_positive/P0581\n",
      "Index 4, description None at None\n",
      "5 unique series IDs were found. Default is index 0, to change use set_index(index)\n",
      "Lacking ['llung'] in index 1, location /home/lam3654/MSAI_pneumonitis/data/train/pneumonitis_positive/P0581. Found []\n",
      "Lacking ['llung'] in index 2, location /home/lam3654/MSAI_pneumonitis/data/train/pneumonitis_positive/P0581. Found []\n",
      "Lacking ['llung'] in index 3, location /home/lam3654/MSAI_pneumonitis/data/train/pneumonitis_positive/P0581. Found []\n",
      "Contour names or associations changed, resetting mask\n",
      "The following indexes have all ROIs present\n",
      "Index 0, located at /home/lam3654/MSAI_pneumonitis/data/train/pneumonitis_positive/P0581\n",
      "Finished listing present indexes\n",
      "Loading images for NEW 4DCT/OncoBody  at \n",
      " /home/lam3654/MSAI_pneumonitis/data/train/pneumonitis_positive/P0581\n",
      "\n",
      "Erasing any previous mask as we load a new new image set\n"
     ]
    },
    {
     "name": "stderr",
     "output_type": "stream",
     "text": [
      "Loading through DICOM files:   0%|                                                                              | 0/1 [00:00<?, ?it/s]"
     ]
    },
    {
     "name": "stdout",
     "output_type": "stream",
     "text": [
      "Loading from /home/lam3654/MSAI_pneumonitis/data/train/small_pneumonitis_negative/P1119\n"
     ]
    },
    {
     "name": "stderr",
     "output_type": "stream",
     "text": [
      "Loading through DICOM files: 100%|██████████████████████████████████████████████████████████████████████| 1/1 [00:08<00:00,  8.91s/it]\n"
     ]
    },
    {
     "name": "stdout",
     "output_type": "stream",
     "text": [
      "Compiling dictionaries together...\n",
      "Index 0, description 4D CT/OncoBody at /home/lam3654/MSAI_pneumonitis/data/train/small_pneumonitis_negative/P1119\n",
      "Index 1, description 3mm Chest  3.0  B35s at /home/lam3654/MSAI_pneumonitis/data/train/small_pneumonitis_negative/P1119\n",
      "Index 2, description None at None\n",
      "3 unique series IDs were found. Default is index 0, to change use set_index(index)\n",
      "Lacking ['llung'] in index 1, location /home/lam3654/MSAI_pneumonitis/data/train/small_pneumonitis_negative/P1119. Found []\n",
      "Contour names or associations changed, resetting mask\n",
      "The following indexes have all ROIs present\n",
      "Index 0, located at /home/lam3654/MSAI_pneumonitis/data/train/small_pneumonitis_negative/P1119\n",
      "Finished listing present indexes\n",
      "Loading images for 4D CT/OncoBody at \n",
      " /home/lam3654/MSAI_pneumonitis/data/train/small_pneumonitis_negative/P1119\n",
      "\n",
      "Erasing any previous mask as we load a new new image set\n"
     ]
    },
    {
     "name": "stderr",
     "output_type": "stream",
     "text": [
      "Loading through DICOM files:   0%|                                                                              | 0/1 [00:00<?, ?it/s]"
     ]
    },
    {
     "name": "stdout",
     "output_type": "stream",
     "text": [
      "Loading from /home/lam3654/MSAI_pneumonitis/data/train/small_pneumonitis_negative/P0311\n"
     ]
    },
    {
     "name": "stderr",
     "output_type": "stream",
     "text": [
      "Loading through DICOM files: 100%|██████████████████████████████████████████████████████████████████████| 1/1 [00:03<00:00,  3.01s/it]\n"
     ]
    },
    {
     "name": "stdout",
     "output_type": "stream",
     "text": [
      "Compiling dictionaries together...\n",
      "Index 0, description abc 1; AVG BODY/OncoBody at /home/lam3654/MSAI_pneumonitis/data/train/small_pneumonitis_negative/P0311\n",
      "Index 1, description None at None\n",
      "2 unique series IDs were found. Default is index 0, to change use set_index(index)\n",
      "Contour names or associations changed, resetting mask\n",
      "The following indexes have all ROIs present\n",
      "Index 0, located at /home/lam3654/MSAI_pneumonitis/data/train/small_pneumonitis_negative/P0311\n",
      "Finished listing present indexes\n",
      "Loading images for abc 1; AVG BODY/OncoBody at \n",
      " /home/lam3654/MSAI_pneumonitis/data/train/small_pneumonitis_negative/P0311\n",
      "\n",
      "Erasing any previous mask as we load a new new image set\n"
     ]
    },
    {
     "name": "stderr",
     "output_type": "stream",
     "text": [
      "Loading through DICOM files:   0%|                                                                              | 0/1 [00:00<?, ?it/s]"
     ]
    },
    {
     "name": "stdout",
     "output_type": "stream",
     "text": [
      "Loading from /home/lam3654/MSAI_pneumonitis/data/train/pneumonitis_positive/P1192\n"
     ]
    },
    {
     "name": "stderr",
     "output_type": "stream",
     "text": [
      "Loading through DICOM files: 100%|██████████████████████████████████████████████████████████████████████| 1/1 [00:06<00:00,  6.62s/it]\n"
     ]
    },
    {
     "name": "stdout",
     "output_type": "stream",
     "text": [
      "Compiling dictionaries together...\n",
      "Index 0, description NEW 4DCT/OncoBody  at /home/lam3654/MSAI_pneumonitis/data/train/pneumonitis_positive/P1192\n",
      "Index 1, description CHEST  3.0  B35f at /home/lam3654/MSAI_pneumonitis/data/train/pneumonitis_positive/P1192\n",
      "Index 2, description None at None\n",
      "3 unique series IDs were found. Default is index 0, to change use set_index(index)\n",
      "Lacking ['llung'] in index 1, location /home/lam3654/MSAI_pneumonitis/data/train/pneumonitis_positive/P1192. Found []\n",
      "Contour names or associations changed, resetting mask\n",
      "The following indexes have all ROIs present\n",
      "Index 0, located at /home/lam3654/MSAI_pneumonitis/data/train/pneumonitis_positive/P1192\n",
      "Finished listing present indexes\n",
      "Loading images for NEW 4DCT/OncoBody  at \n",
      " /home/lam3654/MSAI_pneumonitis/data/train/pneumonitis_positive/P1192\n",
      "\n",
      "Erasing any previous mask as we load a new new image set\n"
     ]
    },
    {
     "name": "stderr",
     "output_type": "stream",
     "text": [
      "Loading through DICOM files:   0%|                                                                              | 0/1 [00:00<?, ?it/s]"
     ]
    },
    {
     "name": "stdout",
     "output_type": "stream",
     "text": [
      "Loading from /home/lam3654/MSAI_pneumonitis/data/train/pneumonitis_positive/P1093\n"
     ]
    },
    {
     "name": "stderr",
     "output_type": "stream",
     "text": [
      "Loading through DICOM files: 100%|██████████████████████████████████████████████████████████████████████| 1/1 [00:18<00:00, 18.97s/it]\n"
     ]
    },
    {
     "name": "stdout",
     "output_type": "stream",
     "text": [
      "Compiling dictionaries together...\n",
      "Index 0, description NEW 4DCT/OncoBody  at /home/lam3654/MSAI_pneumonitis/data/train/pneumonitis_positive/P1093\n",
      "Index 1, description CHEST  3.0  B35f at /home/lam3654/MSAI_pneumonitis/data/train/pneumonitis_positive/P1093\n",
      "Index 2, description 3MMCHEST  3.0  B35f  at /home/lam3654/MSAI_pneumonitis/data/train/pneumonitis_positive/P1093\n",
      "Index 3, description 3mm Chest  3.0  B35s at /home/lam3654/MSAI_pneumonitis/data/train/pneumonitis_positive/P1093\n",
      "Index 4, description 3mm Chest  3.0  B35s at /home/lam3654/MSAI_pneumonitis/data/train/pneumonitis_positive/P1093\n",
      "Index 5, description None at None\n",
      "6 unique series IDs were found. Default is index 0, to change use set_index(index)\n",
      "Lacking ['llung'] in index 1, location /home/lam3654/MSAI_pneumonitis/data/train/pneumonitis_positive/P1093. Found []\n",
      "Lacking ['llung'] in index 2, location /home/lam3654/MSAI_pneumonitis/data/train/pneumonitis_positive/P1093. Found []\n",
      "Lacking ['llung'] in index 3, location /home/lam3654/MSAI_pneumonitis/data/train/pneumonitis_positive/P1093. Found []\n",
      "Lacking ['llung'] in index 4, location /home/lam3654/MSAI_pneumonitis/data/train/pneumonitis_positive/P1093. Found []\n",
      "Contour names or associations changed, resetting mask\n",
      "The following indexes have all ROIs present\n",
      "Index 0, located at /home/lam3654/MSAI_pneumonitis/data/train/pneumonitis_positive/P1093\n",
      "Finished listing present indexes\n",
      "Loading images for NEW 4DCT/OncoBody  at \n",
      " /home/lam3654/MSAI_pneumonitis/data/train/pneumonitis_positive/P1093\n",
      "\n",
      "Erasing any previous mask as we load a new new image set\n"
     ]
    },
    {
     "name": "stderr",
     "output_type": "stream",
     "text": [
      "Loading through DICOM files:   0%|                                                                              | 0/1 [00:00<?, ?it/s]"
     ]
    },
    {
     "name": "stdout",
     "output_type": "stream",
     "text": [
      "Loading from /home/lam3654/MSAI_pneumonitis/data/train/small_pneumonitis_negative/P1291\n"
     ]
    },
    {
     "name": "stderr",
     "output_type": "stream",
     "text": [
      "Loading through DICOM files: 100%|██████████████████████████████████████████████████████████████████████| 1/1 [00:07<00:00,  7.27s/it]\n"
     ]
    },
    {
     "name": "stdout",
     "output_type": "stream",
     "text": [
      "Compiling dictionaries together...\n",
      "Index 0, description AVG 0.0,10.0,20.0,30.0,40.0,50.0,60.0,70.0,80.0,90.0 at /home/lam3654/MSAI_pneumonitis/data/train/small_pneumonitis_negative/P1291\n",
      "Index 1, description Axial Mediastinum Chest  3.0  B35f at /home/lam3654/MSAI_pneumonitis/data/train/small_pneumonitis_negative/P1291\n",
      "2 unique series IDs were found. Default is index 0, to change use set_index(index)\n",
      "Lacking ['llung'] in index 1, location /home/lam3654/MSAI_pneumonitis/data/train/small_pneumonitis_negative/P1291. Found []\n",
      "Contour names or associations changed, resetting mask\n",
      "The following indexes have all ROIs present\n",
      "Index 0, located at /home/lam3654/MSAI_pneumonitis/data/train/small_pneumonitis_negative/P1291\n",
      "Finished listing present indexes\n",
      "Loading images for AVG 0.0,10.0,20.0,30.0,40.0,50.0,60.0,70.0,80.0,90.0 at \n",
      " /home/lam3654/MSAI_pneumonitis/data/train/small_pneumonitis_negative/P1291\n",
      "\n",
      "Erasing any previous mask as we load a new new image set\n"
     ]
    },
    {
     "name": "stderr",
     "output_type": "stream",
     "text": [
      "Loading through DICOM files:   0%|                                                                              | 0/1 [00:00<?, ?it/s]"
     ]
    },
    {
     "name": "stdout",
     "output_type": "stream",
     "text": [
      "Loading from /home/lam3654/MSAI_pneumonitis/data/train/pneumonitis_positive/P0887\n"
     ]
    },
    {
     "name": "stderr",
     "output_type": "stream",
     "text": [
      "Loading through DICOM files: 100%|██████████████████████████████████████████████████████████████████████| 1/1 [00:21<00:00, 21.98s/it]\n"
     ]
    },
    {
     "name": "stdout",
     "output_type": "stream",
     "text": [
      "Compiling dictionaries together...\n",
      "Index 0, description AVG 0.0,10.0,20.0,30.0,40.0,50.0,60.0,70.0,80.0,90.0 at /home/lam3654/MSAI_pneumonitis/data/train/pneumonitis_positive/P0887\n",
      "Index 1, description Axial mediastinum THORAX  3.0  B35f  at /home/lam3654/MSAI_pneumonitis/data/train/pneumonitis_positive/P0887\n",
      "Index 2, description Axial Mediastinum Chest  3.0  B35f at /home/lam3654/MSAI_pneumonitis/data/train/pneumonitis_positive/P0887\n",
      "Index 3, description Axial Mediastinum Chest  3.0  B35f at /home/lam3654/MSAI_pneumonitis/data/train/pneumonitis_positive/P0887\n",
      "Index 4, description Axial Mediastinum Chest  3.0  B35f at /home/lam3654/MSAI_pneumonitis/data/train/pneumonitis_positive/P0887\n",
      "Index 5, description ThorRoutine  3.0  B35f at /home/lam3654/MSAI_pneumonitis/data/train/pneumonitis_positive/P0887\n",
      "Index 6, description None at None\n",
      "7 unique series IDs were found. Default is index 0, to change use set_index(index)\n",
      "Lacking ['llung'] in index 1, location /home/lam3654/MSAI_pneumonitis/data/train/pneumonitis_positive/P0887. Found []\n",
      "Lacking ['llung'] in index 2, location /home/lam3654/MSAI_pneumonitis/data/train/pneumonitis_positive/P0887. Found []\n",
      "Lacking ['llung'] in index 3, location /home/lam3654/MSAI_pneumonitis/data/train/pneumonitis_positive/P0887. Found []\n",
      "Lacking ['llung'] in index 4, location /home/lam3654/MSAI_pneumonitis/data/train/pneumonitis_positive/P0887. Found []\n",
      "Lacking ['llung'] in index 5, location /home/lam3654/MSAI_pneumonitis/data/train/pneumonitis_positive/P0887. Found []\n",
      "Contour names or associations changed, resetting mask\n",
      "The following indexes have all ROIs present\n",
      "Index 0, located at /home/lam3654/MSAI_pneumonitis/data/train/pneumonitis_positive/P0887\n",
      "Finished listing present indexes\n",
      "Loading images for AVG 0.0,10.0,20.0,30.0,40.0,50.0,60.0,70.0,80.0,90.0 at \n",
      " /home/lam3654/MSAI_pneumonitis/data/train/pneumonitis_positive/P0887\n",
      "\n",
      "Erasing any previous mask as we load a new new image set\n"
     ]
    },
    {
     "name": "stderr",
     "output_type": "stream",
     "text": [
      "Loading through DICOM files:   0%|                                                                              | 0/4 [00:00<?, ?it/s]"
     ]
    },
    {
     "name": "stdout",
     "output_type": "stream",
     "text": [
      "Loading from /home/lam3654/MSAI_pneumonitis/data/train/small_pneumonitis_negative/NU_0162/2010-12__Studies/NU.0162_NU.0162_CT_2010-12-07_105001_SBRT.planning.and.gating_NU.0162_n151__00000\n",
      "Loading from /home/lam3654/MSAI_pneumonitis/data/train/small_pneumonitis_negative/NU_0162/2010-12__Studies/NU.0162_NU.0162_RTst_2010-12-07_105001_SBRT.planning.and.gating_AY_n1__00000\n",
      "Loading from /home/lam3654/MSAI_pneumonitis/data/train/small_pneumonitis_negative/NU_0162/2010-12__Studies/NU.0162_NU.0162_RTPLAN_2010-12-07_105001_SBRT.planning.and.gating_NU.0162_n1__00000\n",
      "Loading from /home/lam3654/MSAI_pneumonitis/data/train/small_pneumonitis_negative/NU_0162/2010-12__Studies/NU.0162_NU.0162_RTDOSE_2010-12-07_105001_SBRT.planning.and.gating_NU.0162_n1__00000\n",
      "Had an error loading /home/lam3654/MSAI_pneumonitis/data/train/small_pneumonitis_negative/NU_0162/2010-12__Studies/NU.0162_NU.0162_RTPLAN_2010-12-07_105001_SBRT.planning.and.gating_NU.0162_n1__00000/2.16.840.1.114362.1.11940992.22933840372.569051340.700.1919.dcm\n"
     ]
    },
    {
     "name": "stderr",
     "output_type": "stream",
     "text": [
      "Loading through DICOM files: 100%|██████████████████████████████████████████████████████████████████████| 4/4 [00:03<00:00,  1.28it/s]\n"
     ]
    },
    {
     "name": "stdout",
     "output_type": "stream",
     "text": [
      "Compiling dictionaries together...\n",
      "Index 0, description NU_0162  at /home/lam3654/MSAI_pneumonitis/data/train/small_pneumonitis_negative/NU_0162/2010-12__Studies/NU.0162_NU.0162_CT_2010-12-07_105001_SBRT.planning.and.gating_NU.0162_n151__00000\n",
      "Index 1, description None at None\n",
      "2 unique series IDs were found. Default is index 0, to change use set_index(index)\n",
      "Contour names or associations changed, resetting mask\n",
      "The following indexes have all ROIs present\n",
      "Index 0, located at /home/lam3654/MSAI_pneumonitis/data/train/small_pneumonitis_negative/NU_0162/2010-12__Studies/NU.0162_NU.0162_CT_2010-12-07_105001_SBRT.planning.and.gating_NU.0162_n151__00000\n",
      "Finished listing present indexes\n",
      "Loading images for NU_0162  at \n",
      " /home/lam3654/MSAI_pneumonitis/data/train/small_pneumonitis_negative/NU_0162/2010-12__Studies/NU.0162_NU.0162_CT_2010-12-07_105001_SBRT.planning.and.gating_NU.0162_n151__00000\n",
      "\n",
      "Erasing any previous mask as we load a new new image set\n"
     ]
    },
    {
     "name": "stderr",
     "output_type": "stream",
     "text": [
      "Loading through DICOM files:   0%|                                                                              | 0/1 [00:00<?, ?it/s]"
     ]
    },
    {
     "name": "stdout",
     "output_type": "stream",
     "text": [
      "Loading from /home/lam3654/MSAI_pneumonitis/data/train/small_pneumonitis_negative/P0983\n"
     ]
    },
    {
     "name": "stderr",
     "output_type": "stream",
     "text": [
      "Loading through DICOM files: 100%|██████████████████████████████████████████████████████████████████████| 1/1 [00:14<00:00, 14.88s/it]\n"
     ]
    },
    {
     "name": "stdout",
     "output_type": "stream",
     "text": [
      "Compiling dictionaries together...\n",
      "Index 0, description AVG 0.0,10.0,20.0,30.0,40.0,50.0,60.0,70.0,80.0,90.0 at /home/lam3654/MSAI_pneumonitis/data/train/small_pneumonitis_negative/P0983\n",
      "Index 1, description 3mm Chest  3.0  B35s at /home/lam3654/MSAI_pneumonitis/data/train/small_pneumonitis_negative/P0983\n",
      "Index 2, description Axial Mediastinum Chest  3.0  B35f at /home/lam3654/MSAI_pneumonitis/data/train/small_pneumonitis_negative/P0983\n",
      "Index 3, description Axial Mediastinum Chest  3.0  B35f at /home/lam3654/MSAI_pneumonitis/data/train/small_pneumonitis_negative/P0983\n",
      "4 unique series IDs were found. Default is index 0, to change use set_index(index)\n",
      "Lacking ['llung'] in index 1, location /home/lam3654/MSAI_pneumonitis/data/train/small_pneumonitis_negative/P0983. Found []\n",
      "Lacking ['llung'] in index 2, location /home/lam3654/MSAI_pneumonitis/data/train/small_pneumonitis_negative/P0983. Found []\n",
      "Lacking ['llung'] in index 3, location /home/lam3654/MSAI_pneumonitis/data/train/small_pneumonitis_negative/P0983. Found []\n",
      "Contour names or associations changed, resetting mask\n",
      "The following indexes have all ROIs present\n",
      "Index 0, located at /home/lam3654/MSAI_pneumonitis/data/train/small_pneumonitis_negative/P0983\n",
      "Finished listing present indexes\n",
      "Loading images for AVG 0.0,10.0,20.0,30.0,40.0,50.0,60.0,70.0,80.0,90.0 at \n",
      " /home/lam3654/MSAI_pneumonitis/data/train/small_pneumonitis_negative/P0983\n",
      "\n",
      "Erasing any previous mask as we load a new new image set\n"
     ]
    },
    {
     "name": "stderr",
     "output_type": "stream",
     "text": [
      "Loading through DICOM files:  25%|█████████████████▌                                                    | 1/4 [00:00<00:00,  8.16it/s]"
     ]
    },
    {
     "name": "stdout",
     "output_type": "stream",
     "text": [
      "Loading from /home/lam3654/MSAI_pneumonitis/data/train/small_pneumonitis_negative/NU_0078/2016-02__Studies/NU.0078_NU.0078_CT_2016-02-20_133757_sbrt.planning_NU.0078_n125__00000\n",
      "Loading from /home/lam3654/MSAI_pneumonitis/data/train/small_pneumonitis_negative/NU_0078/2016-02__Studies/NU.0078_NU.0078_RTDOSE_2016-02-20_133757_sbrt.planning_NU.0078_n1__00000\n",
      "Loading from /home/lam3654/MSAI_pneumonitis/data/train/small_pneumonitis_negative/NU_0078/2016-02__Studies/NU.0078_NU.0078_RTPLAN_2016-02-20_133757_sbrt.planning_NU.0078_n1__00000\n",
      "Loading from /home/lam3654/MSAI_pneumonitis/data/train/small_pneumonitis_negative/NU_0078/2016-02__Studies/NU.0078_NU.0078_RTst_2016-02-20_133757_sbrt.planning_AY_n1__00000\n",
      "Had an error loading /home/lam3654/MSAI_pneumonitis/data/train/small_pneumonitis_negative/NU_0078/2016-02__Studies/NU.0078_NU.0078_RTPLAN_2016-02-20_133757_sbrt.planning_NU.0078_n1__00000/2.16.840.1.114362.1.11940992.22933840372.569055736.988.2648.dcm\n"
     ]
    },
    {
     "name": "stderr",
     "output_type": "stream",
     "text": [
      "Loading through DICOM files: 100%|██████████████████████████████████████████████████████████████████████| 4/4 [00:02<00:00,  1.62it/s]\n"
     ]
    },
    {
     "name": "stdout",
     "output_type": "stream",
     "text": [
      "Compiling dictionaries together...\n",
      "Index 0, description NU_0078  at /home/lam3654/MSAI_pneumonitis/data/train/small_pneumonitis_negative/NU_0078/2016-02__Studies/NU.0078_NU.0078_CT_2016-02-20_133757_sbrt.planning_NU.0078_n125__00000\n",
      "Index 1, description None at None\n",
      "2 unique series IDs were found. Default is index 0, to change use set_index(index)\n",
      "Contour names or associations changed, resetting mask\n",
      "The following indexes have all ROIs present\n",
      "Index 0, located at /home/lam3654/MSAI_pneumonitis/data/train/small_pneumonitis_negative/NU_0078/2016-02__Studies/NU.0078_NU.0078_CT_2016-02-20_133757_sbrt.planning_NU.0078_n125__00000\n",
      "Finished listing present indexes\n",
      "Loading images for NU_0078  at \n",
      " /home/lam3654/MSAI_pneumonitis/data/train/small_pneumonitis_negative/NU_0078/2016-02__Studies/NU.0078_NU.0078_CT_2016-02-20_133757_sbrt.planning_NU.0078_n125__00000\n",
      "\n",
      "Erasing any previous mask as we load a new new image set\n"
     ]
    },
    {
     "name": "stderr",
     "output_type": "stream",
     "text": [
      "Loading through DICOM files:  50%|███████████████████████████████████                                   | 2/4 [00:00<00:00, 19.77it/s]"
     ]
    },
    {
     "name": "stdout",
     "output_type": "stream",
     "text": [
      "Loading from /home/lam3654/MSAI_pneumonitis/data/train/pneumonitis_positive/NU_0062/2012-09__Studies/NU.0062_NU.0062_CT_2012-09-23_092750_SBRT.Lung.Plan_NU.0062_n175__00000\n",
      "Loading from /home/lam3654/MSAI_pneumonitis/data/train/pneumonitis_positive/NU_0062/2012-09__Studies/NU.0062_NU.0062_RTDOSE_2012-09-23_092750_SBRT.Lung.Plan_NU.0062_n1__00000\n",
      "Loading from /home/lam3654/MSAI_pneumonitis/data/train/pneumonitis_positive/NU_0062/2012-09__Studies/NU.0062_NU.0062_RTst_2012-09-23_092750_SBRT.Lung.Plan_AY_n1__00000\n",
      "Loading from /home/lam3654/MSAI_pneumonitis/data/train/pneumonitis_positive/NU_0062/2012-09__Studies/NU.0062_NU.0062_RTPLAN_2012-09-23_092750_SBRT.Lung.Plan_NU.0062_n1__00000\n",
      "Had an error loading /home/lam3654/MSAI_pneumonitis/data/train/pneumonitis_positive/NU_0062/2012-09__Studies/NU.0062_NU.0062_RTPLAN_2012-09-23_092750_SBRT.Lung.Plan_NU.0062_n1__00000/2.16.840.1.114362.1.11940992.22933840372.569052816.114.2423.dcm\n"
     ]
    },
    {
     "name": "stderr",
     "output_type": "stream",
     "text": [
      "Loading through DICOM files: 100%|██████████████████████████████████████████████████████████████████████| 4/4 [00:03<00:00,  1.09it/s]\n"
     ]
    },
    {
     "name": "stdout",
     "output_type": "stream",
     "text": [
      "Compiling dictionaries together...\n",
      "Index 0, description NU_0062  at /home/lam3654/MSAI_pneumonitis/data/train/pneumonitis_positive/NU_0062/2012-09__Studies/NU.0062_NU.0062_CT_2012-09-23_092750_SBRT.Lung.Plan_NU.0062_n175__00000\n",
      "Index 1, description None at None\n",
      "2 unique series IDs were found. Default is index 0, to change use set_index(index)\n",
      "Contour names or associations changed, resetting mask\n",
      "The following indexes have all ROIs present\n",
      "Index 0, located at /home/lam3654/MSAI_pneumonitis/data/train/pneumonitis_positive/NU_0062/2012-09__Studies/NU.0062_NU.0062_CT_2012-09-23_092750_SBRT.Lung.Plan_NU.0062_n175__00000\n",
      "Finished listing present indexes\n",
      "Loading images for NU_0062  at \n",
      " /home/lam3654/MSAI_pneumonitis/data/train/pneumonitis_positive/NU_0062/2012-09__Studies/NU.0062_NU.0062_CT_2012-09-23_092750_SBRT.Lung.Plan_NU.0062_n175__00000\n",
      "\n",
      "Erasing any previous mask as we load a new new image set\n"
     ]
    },
    {
     "name": "stderr",
     "output_type": "stream",
     "text": [
      "Loading through DICOM files:   0%|                                                                              | 0/1 [00:00<?, ?it/s]"
     ]
    },
    {
     "name": "stdout",
     "output_type": "stream",
     "text": [
      "Loading from /home/lam3654/MSAI_pneumonitis/data/train/small_pneumonitis_negative/P0660\n"
     ]
    },
    {
     "name": "stderr",
     "output_type": "stream",
     "text": [
      "Loading through DICOM files: 100%|██████████████████████████████████████████████████████████████████████| 1/1 [00:16<00:00, 16.74s/it]\n"
     ]
    },
    {
     "name": "stdout",
     "output_type": "stream",
     "text": [
      "Compiling dictionaries together...\n",
      "Index 0, description 4D CT/OncoBody at /home/lam3654/MSAI_pneumonitis/data/train/small_pneumonitis_negative/P0660\n",
      "Index 1, description CHEST  3.0  B35f at /home/lam3654/MSAI_pneumonitis/data/train/small_pneumonitis_negative/P0660\n",
      "Index 2, description 3mm Chest  3.0  B35s at /home/lam3654/MSAI_pneumonitis/data/train/small_pneumonitis_negative/P0660\n",
      "Index 3, description 3mm Chest  3.0  B35s at /home/lam3654/MSAI_pneumonitis/data/train/small_pneumonitis_negative/P0660\n",
      "Index 4, description None at None\n",
      "5 unique series IDs were found. Default is index 0, to change use set_index(index)\n",
      "Lacking ['llung'] in index 1, location /home/lam3654/MSAI_pneumonitis/data/train/small_pneumonitis_negative/P0660. Found []\n",
      "Lacking ['llung'] in index 2, location /home/lam3654/MSAI_pneumonitis/data/train/small_pneumonitis_negative/P0660. Found []\n",
      "Lacking ['llung'] in index 3, location /home/lam3654/MSAI_pneumonitis/data/train/small_pneumonitis_negative/P0660. Found []\n",
      "Contour names or associations changed, resetting mask\n",
      "The following indexes have all ROIs present\n",
      "Index 0, located at /home/lam3654/MSAI_pneumonitis/data/train/small_pneumonitis_negative/P0660\n",
      "Finished listing present indexes\n",
      "Loading images for 4D CT/OncoBody at \n",
      " /home/lam3654/MSAI_pneumonitis/data/train/small_pneumonitis_negative/P0660\n",
      "\n",
      "Erasing any previous mask as we load a new new image set\n"
     ]
    },
    {
     "name": "stderr",
     "output_type": "stream",
     "text": [
      "Loading through DICOM files:   0%|                                                                              | 0/1 [00:00<?, ?it/s]"
     ]
    },
    {
     "name": "stdout",
     "output_type": "stream",
     "text": [
      "Loading from /home/lam3654/MSAI_pneumonitis/data/train/small_pneumonitis_negative/P1241\n"
     ]
    },
    {
     "name": "stderr",
     "output_type": "stream",
     "text": [
      "Loading through DICOM files: 100%|██████████████████████████████████████████████████████████████████████| 1/1 [00:02<00:00,  2.86s/it]\n"
     ]
    },
    {
     "name": "stdout",
     "output_type": "stream",
     "text": [
      "Compiling dictionaries together...\n",
      "Index 0, description  at /home/lam3654/MSAI_pneumonitis/data/train/small_pneumonitis_negative/P1241\n",
      "1 unique series IDs were found. Default is index 0, to change use set_index(index)\n",
      "Contour names or associations changed, resetting mask\n",
      "The following indexes have all ROIs present\n",
      "Index 0, located at /home/lam3654/MSAI_pneumonitis/data/train/small_pneumonitis_negative/P1241\n",
      "Finished listing present indexes\n",
      "Loading images for  at \n",
      " /home/lam3654/MSAI_pneumonitis/data/train/small_pneumonitis_negative/P1241\n",
      "\n",
      "Erasing any previous mask as we load a new new image set\n"
     ]
    },
    {
     "name": "stderr",
     "output_type": "stream",
     "text": [
      "Loading through DICOM files:   0%|                                                                              | 0/1 [00:00<?, ?it/s]"
     ]
    },
    {
     "name": "stdout",
     "output_type": "stream",
     "text": [
      "Loading from /home/lam3654/MSAI_pneumonitis/data/train/pneumonitis_positive/P0560\n"
     ]
    },
    {
     "name": "stderr",
     "output_type": "stream",
     "text": [
      "Loading through DICOM files: 100%|██████████████████████████████████████████████████████████████████████| 1/1 [00:13<00:00, 13.44s/it]\n"
     ]
    },
    {
     "name": "stdout",
     "output_type": "stream",
     "text": [
      "Compiling dictionaries together...\n",
      "Index 0, description 3mm Chest  3.0  B35s at /home/lam3654/MSAI_pneumonitis/data/train/pneumonitis_positive/P0560\n",
      "Index 1, description 3mm Chest  3.0  B35s at /home/lam3654/MSAI_pneumonitis/data/train/pneumonitis_positive/P0560\n",
      "Index 2, description 4D CT/OncoBody at /home/lam3654/MSAI_pneumonitis/data/train/pneumonitis_positive/P0560\n",
      "Index 3, description None at None\n",
      "4 unique series IDs were found. Default is index 0, to change use set_index(index)\n",
      "Lacking ['llung'] in index 0, location /home/lam3654/MSAI_pneumonitis/data/train/pneumonitis_positive/P0560. Found []\n",
      "Lacking ['llung'] in index 1, location /home/lam3654/MSAI_pneumonitis/data/train/pneumonitis_positive/P0560. Found []\n",
      "Contour names or associations changed, resetting mask\n",
      "The following indexes have all ROIs present\n",
      "Index 2, located at /home/lam3654/MSAI_pneumonitis/data/train/pneumonitis_positive/P0560\n",
      "Finished listing present indexes\n",
      "Loading images for 4D CT/OncoBody at \n",
      " /home/lam3654/MSAI_pneumonitis/data/train/pneumonitis_positive/P0560\n",
      "\n",
      "Erasing any previous mask as we load a new new image set\n"
     ]
    },
    {
     "name": "stderr",
     "output_type": "stream",
     "text": [
      "Loading through DICOM files:   0%|                                                                              | 0/1 [00:00<?, ?it/s]"
     ]
    },
    {
     "name": "stdout",
     "output_type": "stream",
     "text": [
      "Loading from /home/lam3654/MSAI_pneumonitis/data/train/small_pneumonitis_negative/P0957\n"
     ]
    },
    {
     "name": "stderr",
     "output_type": "stream",
     "text": [
      "Loading through DICOM files: 100%|██████████████████████████████████████████████████████████████████████| 1/1 [00:06<00:00,  6.01s/it]\n"
     ]
    },
    {
     "name": "stdout",
     "output_type": "stream",
     "text": [
      "Compiling dictionaries together...\n",
      "Index 0, description AVG 0.0,10.0,20.0,30.0,40.0,50.0,60.0,70.0,80.0,90.0 at /home/lam3654/MSAI_pneumonitis/data/train/small_pneumonitis_negative/P0957\n",
      "Index 1, description Chest 3mm  3.0  B30f at /home/lam3654/MSAI_pneumonitis/data/train/small_pneumonitis_negative/P0957\n",
      "2 unique series IDs were found. Default is index 0, to change use set_index(index)\n",
      "Lacking ['llung'] in index 1, location /home/lam3654/MSAI_pneumonitis/data/train/small_pneumonitis_negative/P0957. Found []\n",
      "Contour names or associations changed, resetting mask\n",
      "The following indexes have all ROIs present\n",
      "Index 0, located at /home/lam3654/MSAI_pneumonitis/data/train/small_pneumonitis_negative/P0957\n",
      "Finished listing present indexes\n",
      "Loading images for AVG 0.0,10.0,20.0,30.0,40.0,50.0,60.0,70.0,80.0,90.0 at \n",
      " /home/lam3654/MSAI_pneumonitis/data/train/small_pneumonitis_negative/P0957\n",
      "\n",
      "Erasing any previous mask as we load a new new image set\n"
     ]
    },
    {
     "name": "stderr",
     "output_type": "stream",
     "text": [
      "Loading through DICOM files:   0%|                                                                              | 0/1 [00:00<?, ?it/s]"
     ]
    },
    {
     "name": "stdout",
     "output_type": "stream",
     "text": [
      "Loading from /home/lam3654/MSAI_pneumonitis/data/train/pneumonitis_positive/P1084\n"
     ]
    },
    {
     "name": "stderr",
     "output_type": "stream",
     "text": [
      "Loading through DICOM files: 100%|██████████████████████████████████████████████████████████████████████| 1/1 [00:32<00:00, 32.72s/it]\n"
     ]
    },
    {
     "name": "stdout",
     "output_type": "stream",
     "text": [
      "Compiling dictionaries together...\n",
      "Index 0, description Mean IP: Derived CT 20150724 144420  at /home/lam3654/MSAI_pneumonitis/data/train/pneumonitis_positive/P1084\n",
      "Index 1, description THORAX  3.0  B35f  at /home/lam3654/MSAI_pneumonitis/data/train/pneumonitis_positive/P1084\n",
      "Index 2, description 3mm Chest  3.0  B35s at /home/lam3654/MSAI_pneumonitis/data/train/pneumonitis_positive/P1084\n",
      "Index 3, description 3mm Chest  3.0  B35s at /home/lam3654/MSAI_pneumonitis/data/train/pneumonitis_positive/P1084\n",
      "Index 4, description 3mm Chest  3.0  B35s at /home/lam3654/MSAI_pneumonitis/data/train/pneumonitis_positive/P1084\n",
      "Index 5, description Axial mediastinum THORAX  3.0  B35f  at /home/lam3654/MSAI_pneumonitis/data/train/pneumonitis_positive/P1084\n",
      "Index 6, description Axial Mediastinum Chest  3.0  B35f at /home/lam3654/MSAI_pneumonitis/data/train/pneumonitis_positive/P1084\n",
      "Index 7, description None at None\n",
      "8 unique series IDs were found. Default is index 0, to change use set_index(index)\n",
      "Lacking ['llung'] in index 1, location /home/lam3654/MSAI_pneumonitis/data/train/pneumonitis_positive/P1084. Found []\n",
      "Lacking ['llung'] in index 2, location /home/lam3654/MSAI_pneumonitis/data/train/pneumonitis_positive/P1084. Found []\n",
      "Lacking ['llung'] in index 3, location /home/lam3654/MSAI_pneumonitis/data/train/pneumonitis_positive/P1084. Found []\n",
      "Lacking ['llung'] in index 4, location /home/lam3654/MSAI_pneumonitis/data/train/pneumonitis_positive/P1084. Found []\n",
      "Lacking ['llung'] in index 5, location /home/lam3654/MSAI_pneumonitis/data/train/pneumonitis_positive/P1084. Found []\n",
      "Lacking ['llung'] in index 6, location /home/lam3654/MSAI_pneumonitis/data/train/pneumonitis_positive/P1084. Found []\n",
      "Contour names or associations changed, resetting mask\n",
      "The following indexes have all ROIs present\n",
      "Index 0, located at /home/lam3654/MSAI_pneumonitis/data/train/pneumonitis_positive/P1084\n",
      "Finished listing present indexes\n",
      "Loading images for Mean IP: Derived CT 20150724 144420  at \n",
      " /home/lam3654/MSAI_pneumonitis/data/train/pneumonitis_positive/P1084\n",
      "\n",
      "Erasing any previous mask as we load a new new image set\n"
     ]
    },
    {
     "name": "stderr",
     "output_type": "stream",
     "text": [
      "Loading through DICOM files:   0%|                                                                              | 0/1 [00:00<?, ?it/s]"
     ]
    },
    {
     "name": "stdout",
     "output_type": "stream",
     "text": [
      "Loading from /home/lam3654/MSAI_pneumonitis/data/train/pneumonitis_positive/P1141\n"
     ]
    },
    {
     "name": "stderr",
     "output_type": "stream",
     "text": [
      "Loading through DICOM files: 100%|██████████████████████████████████████████████████████████████████████| 1/1 [00:10<00:00, 10.13s/it]\n"
     ]
    },
    {
     "name": "stdout",
     "output_type": "stream",
     "text": [
      "Compiling dictionaries together...\n",
      "Index 0, description NEW 4DCT/OncoBody  at /home/lam3654/MSAI_pneumonitis/data/train/pneumonitis_positive/P1141\n",
      "Index 1, description ThoraxRoutine 5.0 B40s at /home/lam3654/MSAI_pneumonitis/data/train/pneumonitis_positive/P1141\n",
      "Index 2, description 3mm Chest  3.0  B35s at /home/lam3654/MSAI_pneumonitis/data/train/pneumonitis_positive/P1141\n",
      "3 unique series IDs were found. Default is index 0, to change use set_index(index)\n",
      "Lacking ['llung'] in index 1, location /home/lam3654/MSAI_pneumonitis/data/train/pneumonitis_positive/P1141. Found []\n",
      "Lacking ['llung'] in index 2, location /home/lam3654/MSAI_pneumonitis/data/train/pneumonitis_positive/P1141. Found []\n",
      "Contour names or associations changed, resetting mask\n",
      "The following indexes have all ROIs present\n",
      "Index 0, located at /home/lam3654/MSAI_pneumonitis/data/train/pneumonitis_positive/P1141\n",
      "Finished listing present indexes\n",
      "Loading images for NEW 4DCT/OncoBody  at \n",
      " /home/lam3654/MSAI_pneumonitis/data/train/pneumonitis_positive/P1141\n",
      "\n",
      "Erasing any previous mask as we load a new new image set\n"
     ]
    },
    {
     "name": "stderr",
     "output_type": "stream",
     "text": [
      "Loading through DICOM files:   0%|                                                                              | 0/1 [00:00<?, ?it/s]"
     ]
    },
    {
     "name": "stdout",
     "output_type": "stream",
     "text": [
      "Loading from /home/lam3654/MSAI_pneumonitis/data/train/small_pneumonitis_negative/P1202\n"
     ]
    },
    {
     "name": "stderr",
     "output_type": "stream",
     "text": [
      "Loading through DICOM files: 100%|██████████████████████████████████████████████████████████████████████| 1/1 [00:03<00:00,  3.28s/it]\n"
     ]
    },
    {
     "name": "stdout",
     "output_type": "stream",
     "text": [
      "Compiling dictionaries together...\n",
      "Index 0, description  at /home/lam3654/MSAI_pneumonitis/data/train/small_pneumonitis_negative/P1202\n",
      "Index 1, description None at None\n",
      "2 unique series IDs were found. Default is index 0, to change use set_index(index)\n",
      "Contour names or associations changed, resetting mask\n",
      "The following indexes have all ROIs present\n",
      "Index 0, located at /home/lam3654/MSAI_pneumonitis/data/train/small_pneumonitis_negative/P1202\n",
      "Finished listing present indexes\n",
      "Loading images for  at \n",
      " /home/lam3654/MSAI_pneumonitis/data/train/small_pneumonitis_negative/P1202\n",
      "\n",
      "Erasing any previous mask as we load a new new image set\n"
     ]
    },
    {
     "name": "stderr",
     "output_type": "stream",
     "text": [
      "Loading through DICOM files:   0%|                                                                              | 0/1 [00:00<?, ?it/s]"
     ]
    },
    {
     "name": "stdout",
     "output_type": "stream",
     "text": [
      "Loading from /home/lam3654/MSAI_pneumonitis/data/train/small_pneumonitis_negative/P0529\n"
     ]
    },
    {
     "name": "stderr",
     "output_type": "stream",
     "text": [
      "Loading through DICOM files: 100%|██████████████████████████████████████████████████████████████████████| 1/1 [00:07<00:00,  7.14s/it]\n"
     ]
    },
    {
     "name": "stdout",
     "output_type": "stream",
     "text": [
      "Compiling dictionaries together...\n",
      "Index 0, description 3mm Chest  3.0  B35s at /home/lam3654/MSAI_pneumonitis/data/train/small_pneumonitis_negative/P0529\n",
      "Index 1, description NEW 4DCT/OncoBody  at /home/lam3654/MSAI_pneumonitis/data/train/small_pneumonitis_negative/P0529\n",
      "Index 2, description None at None\n",
      "3 unique series IDs were found. Default is index 0, to change use set_index(index)\n",
      "Lacking ['llung'] in index 0, location /home/lam3654/MSAI_pneumonitis/data/train/small_pneumonitis_negative/P0529. Found []\n",
      "Contour names or associations changed, resetting mask\n",
      "The following indexes have all ROIs present\n",
      "Index 1, located at /home/lam3654/MSAI_pneumonitis/data/train/small_pneumonitis_negative/P0529\n",
      "Finished listing present indexes\n",
      "Loading images for NEW 4DCT/OncoBody  at \n",
      " /home/lam3654/MSAI_pneumonitis/data/train/small_pneumonitis_negative/P0529\n",
      "\n",
      "Erasing any previous mask as we load a new new image set\n"
     ]
    },
    {
     "name": "stderr",
     "output_type": "stream",
     "text": [
      "Loading through DICOM files:  50%|███████████████████████████████████                                   | 2/4 [00:00<00:00, 18.35it/s]"
     ]
    },
    {
     "name": "stdout",
     "output_type": "stream",
     "text": [
      "Loading from /home/lam3654/MSAI_pneumonitis/data/train/pneumonitis_positive/NU_0072/2013-06__Studies/NU.0072_NU.0072_RTDOSE_2013-06-08_091351_RUL.SBRT.planning_NU.0072_n1__00000\n",
      "Loading from /home/lam3654/MSAI_pneumonitis/data/train/pneumonitis_positive/NU_0072/2013-06__Studies/NU.0072_NU.0072_RTPLAN_2013-06-08_091351_RUL.SBRT.planning_NU.0072_n1__00000\n",
      "Loading from /home/lam3654/MSAI_pneumonitis/data/train/pneumonitis_positive/NU_0072/2013-06__Studies/NU.0072_NU.0072_CT_2013-06-08_091351_RUL.SBRT.planning_NU.0072_n184__00000\n",
      "Loading from /home/lam3654/MSAI_pneumonitis/data/train/pneumonitis_positive/NU_0072/2013-06__Studies/NU.0072_NU.0072_RTst_2013-06-08_091351_RUL.SBRT.planning_AY_n1__00000\n",
      "Had an error loading /home/lam3654/MSAI_pneumonitis/data/train/pneumonitis_positive/NU_0072/2013-06__Studies/NU.0072_NU.0072_RTPLAN_2013-06-08_091351_RUL.SBRT.planning_NU.0072_n1__00000/2.16.840.1.114362.1.11940992.22933840372.569053534.550.8050.dcm\n"
     ]
    },
    {
     "name": "stderr",
     "output_type": "stream",
     "text": [
      "Loading through DICOM files: 100%|██████████████████████████████████████████████████████████████████████| 4/4 [00:03<00:00,  1.06it/s]\n"
     ]
    },
    {
     "name": "stdout",
     "output_type": "stream",
     "text": [
      "Compiling dictionaries together...\n",
      "Index 0, description NU_0072  at /home/lam3654/MSAI_pneumonitis/data/train/pneumonitis_positive/NU_0072/2013-06__Studies/NU.0072_NU.0072_CT_2013-06-08_091351_RUL.SBRT.planning_NU.0072_n184__00000\n",
      "Index 1, description None at None\n",
      "2 unique series IDs were found. Default is index 0, to change use set_index(index)\n",
      "Lacking ['llung'] in index 0, location /home/lam3654/MSAI_pneumonitis/data/train/pneumonitis_positive/NU_0072/2013-06__Studies/NU.0072_NU.0072_CT_2013-06-08_091351_RUL.SBRT.planning_NU.0072_n184__00000. Found ['lung_l1', 'lung_r1', 'itv rul nodule', 'ptv rul nodule', 'gtv_research_tpct', 'r lung - gtv', 'r lung - itv', 'gtv + 2 cm', 'tl-gtv']\n",
      "Contour names or associations changed, resetting mask\n",
      "The following indexes have all ROIs present\n",
      "Finished listing present indexes\n"
     ]
    },
    {
     "name": "stderr",
     "output_type": "stream",
     "text": [
      "Loading through DICOM files:   0%|                                                                              | 0/1 [00:00<?, ?it/s]"
     ]
    },
    {
     "name": "stdout",
     "output_type": "stream",
     "text": [
      "Loading from /home/lam3654/MSAI_pneumonitis/data/train/pneumonitis_positive/P0874\n"
     ]
    },
    {
     "name": "stderr",
     "output_type": "stream",
     "text": [
      "Loading through DICOM files: 100%|██████████████████████████████████████████████████████████████████████| 1/1 [00:02<00:00,  2.61s/it]\n"
     ]
    },
    {
     "name": "stdout",
     "output_type": "stream",
     "text": [
      "Compiling dictionaries together...\n",
      "Index 0, description  at /home/lam3654/MSAI_pneumonitis/data/train/pneumonitis_positive/P0874\n",
      "1 unique series IDs were found. Default is index 0, to change use set_index(index)\n",
      "Contour names or associations changed, resetting mask\n",
      "The following indexes have all ROIs present\n",
      "Index 0, located at /home/lam3654/MSAI_pneumonitis/data/train/pneumonitis_positive/P0874\n",
      "Finished listing present indexes\n",
      "Loading images for  at \n",
      " /home/lam3654/MSAI_pneumonitis/data/train/pneumonitis_positive/P0874\n",
      "\n",
      "Erasing any previous mask as we load a new new image set\n"
     ]
    },
    {
     "name": "stderr",
     "output_type": "stream",
     "text": [
      "Loading through DICOM files:  50%|███████████████████████████████████                                   | 2/4 [00:00<00:00, 17.30it/s]"
     ]
    },
    {
     "name": "stdout",
     "output_type": "stream",
     "text": [
      "Loading from /home/lam3654/MSAI_pneumonitis/data/train/pneumonitis_positive/NU_0163/2010-11__Studies/NU.0163_NU.0163_RTPLAN_2010-11-28_101205_SBRT.ISO.placemant_NU.0163_n1__00000\n",
      "Loading from /home/lam3654/MSAI_pneumonitis/data/train/pneumonitis_positive/NU_0163/2010-11__Studies/NU.0163_NU.0163_RTDOSE_2010-11-28_101205_SBRT.ISO.placemant_NU.0163_n1__00000\n",
      "Loading from /home/lam3654/MSAI_pneumonitis/data/train/pneumonitis_positive/NU_0163/2010-11__Studies/NU.0163_NU.0163_RTst_2010-11-28_101205_SBRT.Lung.Planning_AY_n1__00000\n",
      "Loading from /home/lam3654/MSAI_pneumonitis/data/train/pneumonitis_positive/NU_0163/2010-11__Studies/NU.0163_NU.0163_CT_2010-11-28_101205_SBRT.Lung.Planning_NU.0163_n242__00000\n",
      "Had an error loading /home/lam3654/MSAI_pneumonitis/data/train/pneumonitis_positive/NU_0163/2010-11__Studies/NU.0163_NU.0163_RTPLAN_2010-11-28_101205_SBRT.ISO.placemant_NU.0163_n1__00000/2.16.840.1.114362.1.11940992.22933840372.569049584.1068.2998.dcm\n"
     ]
    },
    {
     "name": "stderr",
     "output_type": "stream",
     "text": [
      "Loading through DICOM files: 100%|██████████████████████████████████████████████████████████████████████| 4/4 [00:04<00:00,  1.21s/it]\n"
     ]
    },
    {
     "name": "stdout",
     "output_type": "stream",
     "text": [
      "Compiling dictionaries together...\n",
      "Index 0, description NU_0163  at /home/lam3654/MSAI_pneumonitis/data/train/pneumonitis_positive/NU_0163/2010-11__Studies/NU.0163_NU.0163_CT_2010-11-28_101205_SBRT.Lung.Planning_NU.0163_n242__00000\n",
      "Index 1, description None at None\n",
      "2 unique series IDs were found. Default is index 0, to change use set_index(index)\n",
      "Contour names or associations changed, resetting mask\n",
      "The following indexes have all ROIs present\n",
      "Index 0, located at /home/lam3654/MSAI_pneumonitis/data/train/pneumonitis_positive/NU_0163/2010-11__Studies/NU.0163_NU.0163_CT_2010-11-28_101205_SBRT.Lung.Planning_NU.0163_n242__00000\n",
      "Finished listing present indexes\n",
      "Loading images for NU_0163  at \n",
      " /home/lam3654/MSAI_pneumonitis/data/train/pneumonitis_positive/NU_0163/2010-11__Studies/NU.0163_NU.0163_CT_2010-11-28_101205_SBRT.Lung.Planning_NU.0163_n242__00000\n",
      "\n",
      "Erasing any previous mask as we load a new new image set\n"
     ]
    },
    {
     "name": "stderr",
     "output_type": "stream",
     "text": [
      "Loading through DICOM files:   0%|                                                                              | 0/1 [00:00<?, ?it/s]"
     ]
    },
    {
     "name": "stdout",
     "output_type": "stream",
     "text": [
      "Loading from /home/lam3654/MSAI_pneumonitis/data/train/small_pneumonitis_negative/P0963\n"
     ]
    },
    {
     "name": "stderr",
     "output_type": "stream",
     "text": [
      "Loading through DICOM files: 100%|██████████████████████████████████████████████████████████████████████| 1/1 [00:20<00:00, 20.08s/it]\n"
     ]
    },
    {
     "name": "stdout",
     "output_type": "stream",
     "text": [
      "Compiling dictionaries together...\n",
      "Index 0, description NEW 4DCT/OncoBody  at /home/lam3654/MSAI_pneumonitis/data/train/small_pneumonitis_negative/P0963\n",
      "Index 1, description 3mm Chest  3.0  B35s at /home/lam3654/MSAI_pneumonitis/data/train/small_pneumonitis_negative/P0963\n",
      "Index 2, description 3mm Chest  3.0  B35s at /home/lam3654/MSAI_pneumonitis/data/train/small_pneumonitis_negative/P0963\n",
      "Index 3, description 3mm Chest  3.0  B35s at /home/lam3654/MSAI_pneumonitis/data/train/small_pneumonitis_negative/P0963\n",
      "Index 4, description 3mm Chest  3.0  B35s at /home/lam3654/MSAI_pneumonitis/data/train/small_pneumonitis_negative/P0963\n",
      "5 unique series IDs were found. Default is index 0, to change use set_index(index)\n",
      "Lacking ['llung'] in index 1, location /home/lam3654/MSAI_pneumonitis/data/train/small_pneumonitis_negative/P0963. Found []\n",
      "Lacking ['llung'] in index 2, location /home/lam3654/MSAI_pneumonitis/data/train/small_pneumonitis_negative/P0963. Found []\n",
      "Lacking ['llung'] in index 3, location /home/lam3654/MSAI_pneumonitis/data/train/small_pneumonitis_negative/P0963. Found []\n",
      "Lacking ['llung'] in index 4, location /home/lam3654/MSAI_pneumonitis/data/train/small_pneumonitis_negative/P0963. Found []\n",
      "Contour names or associations changed, resetting mask\n",
      "The following indexes have all ROIs present\n",
      "Index 0, located at /home/lam3654/MSAI_pneumonitis/data/train/small_pneumonitis_negative/P0963\n",
      "Finished listing present indexes\n",
      "Loading images for NEW 4DCT/OncoBody  at \n",
      " /home/lam3654/MSAI_pneumonitis/data/train/small_pneumonitis_negative/P0963\n",
      "\n",
      "Erasing any previous mask as we load a new new image set\n"
     ]
    },
    {
     "name": "stderr",
     "output_type": "stream",
     "text": [
      "Loading through DICOM files:   0%|                                                                              | 0/1 [00:00<?, ?it/s]"
     ]
    },
    {
     "name": "stdout",
     "output_type": "stream",
     "text": [
      "Loading from /home/lam3654/MSAI_pneumonitis/data/train/small_pneumonitis_negative/P0183\n"
     ]
    },
    {
     "name": "stderr",
     "output_type": "stream",
     "text": [
      "Loading through DICOM files: 100%|██████████████████████████████████████████████████████████████████████| 1/1 [00:06<00:00,  6.91s/it]\n"
     ]
    },
    {
     "name": "stdout",
     "output_type": "stream",
     "text": [
      "Compiling dictionaries together...\n",
      "Index 0, description  at /home/lam3654/MSAI_pneumonitis/data/train/small_pneumonitis_negative/P0183\n",
      "Index 1, description CHEST 3MM  3.0  B35f at /home/lam3654/MSAI_pneumonitis/data/train/small_pneumonitis_negative/P0183\n",
      "Index 2, description None at None\n",
      "3 unique series IDs were found. Default is index 0, to change use set_index(index)\n",
      "Lacking ['llung'] in index 1, location /home/lam3654/MSAI_pneumonitis/data/train/small_pneumonitis_negative/P0183. Found []\n",
      "Contour names or associations changed, resetting mask\n",
      "The following indexes have all ROIs present\n",
      "Index 0, located at /home/lam3654/MSAI_pneumonitis/data/train/small_pneumonitis_negative/P0183\n",
      "Finished listing present indexes\n",
      "Loading images for  at \n",
      " /home/lam3654/MSAI_pneumonitis/data/train/small_pneumonitis_negative/P0183\n",
      "\n",
      "Erasing any previous mask as we load a new new image set\n"
     ]
    },
    {
     "name": "stderr",
     "output_type": "stream",
     "text": [
      "Loading through DICOM files:   0%|                                                                              | 0/1 [00:00<?, ?it/s]"
     ]
    },
    {
     "name": "stdout",
     "output_type": "stream",
     "text": [
      "Loading from /home/lam3654/MSAI_pneumonitis/data/train/small_pneumonitis_negative/P0948\n"
     ]
    },
    {
     "name": "stderr",
     "output_type": "stream",
     "text": [
      "Loading through DICOM files: 100%|██████████████████████████████████████████████████████████████████████| 1/1 [00:16<00:00, 16.08s/it]\n"
     ]
    },
    {
     "name": "stdout",
     "output_type": "stream",
     "text": [
      "Compiling dictionaries together...\n",
      "Index 0, description AVG 0.0,10.0,20.0,30.0,40.0,50.0,60.0,70.0,80.0,90.0 at /home/lam3654/MSAI_pneumonitis/data/train/small_pneumonitis_negative/P0948\n",
      "Index 1, description 3mm Chest  3.0  B35s at /home/lam3654/MSAI_pneumonitis/data/train/small_pneumonitis_negative/P0948\n",
      "Index 2, description Axial Mediastinum Chest  3.0  B35f at /home/lam3654/MSAI_pneumonitis/data/train/small_pneumonitis_negative/P0948\n",
      "Index 3, description Axial Mediastinum Chest  3.0  B35f at /home/lam3654/MSAI_pneumonitis/data/train/small_pneumonitis_negative/P0948\n",
      "4 unique series IDs were found. Default is index 0, to change use set_index(index)\n",
      "Lacking ['llung'] in index 1, location /home/lam3654/MSAI_pneumonitis/data/train/small_pneumonitis_negative/P0948. Found []\n",
      "Lacking ['llung'] in index 2, location /home/lam3654/MSAI_pneumonitis/data/train/small_pneumonitis_negative/P0948. Found []\n",
      "Lacking ['llung'] in index 3, location /home/lam3654/MSAI_pneumonitis/data/train/small_pneumonitis_negative/P0948. Found []\n",
      "Contour names or associations changed, resetting mask\n",
      "The following indexes have all ROIs present\n",
      "Index 0, located at /home/lam3654/MSAI_pneumonitis/data/train/small_pneumonitis_negative/P0948\n",
      "Finished listing present indexes\n",
      "Loading images for AVG 0.0,10.0,20.0,30.0,40.0,50.0,60.0,70.0,80.0,90.0 at \n",
      " /home/lam3654/MSAI_pneumonitis/data/train/small_pneumonitis_negative/P0948\n",
      "\n",
      "Erasing any previous mask as we load a new new image set\n"
     ]
    },
    {
     "name": "stderr",
     "output_type": "stream",
     "text": [
      "Loading through DICOM files:   0%|                                                                              | 0/1 [00:00<?, ?it/s]"
     ]
    },
    {
     "name": "stdout",
     "output_type": "stream",
     "text": [
      "Loading from /home/lam3654/MSAI_pneumonitis/data/train/pneumonitis_positive/P1181\n"
     ]
    },
    {
     "name": "stderr",
     "output_type": "stream",
     "text": [
      "Loading through DICOM files: 100%|██████████████████████████████████████████████████████████████████████| 1/1 [00:20<00:00, 20.94s/it]\n"
     ]
    },
    {
     "name": "stdout",
     "output_type": "stream",
     "text": [
      "Compiling dictionaries together...\n",
      "Index 0, description 4D CT/OncoBody at /home/lam3654/MSAI_pneumonitis/data/train/pneumonitis_positive/P1181\n",
      "Index 1, description 3mm Chest  3.0  B35s at /home/lam3654/MSAI_pneumonitis/data/train/pneumonitis_positive/P1181\n",
      "Index 2, description 3mm Chest  3.0  B35s at /home/lam3654/MSAI_pneumonitis/data/train/pneumonitis_positive/P1181\n",
      "Index 3, description 3mm Chest  3.0  B35s at /home/lam3654/MSAI_pneumonitis/data/train/pneumonitis_positive/P1181\n",
      "Index 4, description THORAX  1.0  B35f  at /home/lam3654/MSAI_pneumonitis/data/train/pneumonitis_positive/P1181\n",
      "Index 5, description None at None\n",
      "6 unique series IDs were found. Default is index 0, to change use set_index(index)\n",
      "Lacking ['llung'] in index 1, location /home/lam3654/MSAI_pneumonitis/data/train/pneumonitis_positive/P1181. Found []\n",
      "Lacking ['llung'] in index 2, location /home/lam3654/MSAI_pneumonitis/data/train/pneumonitis_positive/P1181. Found []\n",
      "Lacking ['llung'] in index 3, location /home/lam3654/MSAI_pneumonitis/data/train/pneumonitis_positive/P1181. Found []\n",
      "Lacking ['llung'] in index 4, location /home/lam3654/MSAI_pneumonitis/data/train/pneumonitis_positive/P1181. Found []\n",
      "Contour names or associations changed, resetting mask\n",
      "The following indexes have all ROIs present\n",
      "Index 0, located at /home/lam3654/MSAI_pneumonitis/data/train/pneumonitis_positive/P1181\n",
      "Finished listing present indexes\n",
      "Loading images for 4D CT/OncoBody at \n",
      " /home/lam3654/MSAI_pneumonitis/data/train/pneumonitis_positive/P1181\n",
      "\n",
      "Erasing any previous mask as we load a new new image set\n"
     ]
    },
    {
     "name": "stderr",
     "output_type": "stream",
     "text": [
      "Loading through DICOM files:   0%|                                                                              | 0/1 [00:00<?, ?it/s]"
     ]
    },
    {
     "name": "stdout",
     "output_type": "stream",
     "text": [
      "Loading from /home/lam3654/MSAI_pneumonitis/data/train/pneumonitis_positive/P1064\n"
     ]
    },
    {
     "name": "stderr",
     "output_type": "stream",
     "text": [
      "Loading through DICOM files: 100%|██████████████████████████████████████████████████████████████████████| 1/1 [00:20<00:00, 20.86s/it]\n"
     ]
    },
    {
     "name": "stdout",
     "output_type": "stream",
     "text": [
      "Compiling dictionaries together...\n",
      "Index 0, description AVG 0.0,10.0,20.0,30.0,40.0,50.0,60.0,70.0,80.0,90.0 at /home/lam3654/MSAI_pneumonitis/data/train/pneumonitis_positive/P1064\n",
      "Index 1, description OBESE CHEST  3.0  B35f at /home/lam3654/MSAI_pneumonitis/data/train/pneumonitis_positive/P1064\n",
      "Index 2, description 3mm Chest  3.0  B35s at /home/lam3654/MSAI_pneumonitis/data/train/pneumonitis_positive/P1064\n",
      "Index 3, description Axial mediastinum Chest   3.0  B35f  at /home/lam3654/MSAI_pneumonitis/data/train/pneumonitis_positive/P1064\n",
      "Index 4, description Axial mediastinum Chest   3.0  B35f  at /home/lam3654/MSAI_pneumonitis/data/train/pneumonitis_positive/P1064\n",
      "Index 5, description Axial Mediastinum Chest  3.0  B35f at /home/lam3654/MSAI_pneumonitis/data/train/pneumonitis_positive/P1064\n",
      "Index 6, description None at None\n",
      "7 unique series IDs were found. Default is index 0, to change use set_index(index)\n",
      "Lacking ['llung'] in index 1, location /home/lam3654/MSAI_pneumonitis/data/train/pneumonitis_positive/P1064. Found []\n",
      "Lacking ['llung'] in index 2, location /home/lam3654/MSAI_pneumonitis/data/train/pneumonitis_positive/P1064. Found []\n",
      "Lacking ['llung'] in index 3, location /home/lam3654/MSAI_pneumonitis/data/train/pneumonitis_positive/P1064. Found []\n",
      "Lacking ['llung'] in index 4, location /home/lam3654/MSAI_pneumonitis/data/train/pneumonitis_positive/P1064. Found []\n",
      "Lacking ['llung'] in index 5, location /home/lam3654/MSAI_pneumonitis/data/train/pneumonitis_positive/P1064. Found []\n",
      "Contour names or associations changed, resetting mask\n",
      "The following indexes have all ROIs present\n",
      "Index 0, located at /home/lam3654/MSAI_pneumonitis/data/train/pneumonitis_positive/P1064\n",
      "Finished listing present indexes\n",
      "Loading images for AVG 0.0,10.0,20.0,30.0,40.0,50.0,60.0,70.0,80.0,90.0 at \n",
      " /home/lam3654/MSAI_pneumonitis/data/train/pneumonitis_positive/P1064\n",
      "\n",
      "Erasing any previous mask as we load a new new image set\n"
     ]
    },
    {
     "name": "stderr",
     "output_type": "stream",
     "text": [
      "Loading through DICOM files:   0%|                                                                              | 0/1 [00:00<?, ?it/s]"
     ]
    },
    {
     "name": "stdout",
     "output_type": "stream",
     "text": [
      "Loading from /home/lam3654/MSAI_pneumonitis/data/train/small_pneumonitis_negative/P0028\n"
     ]
    },
    {
     "name": "stderr",
     "output_type": "stream",
     "text": [
      "Loading through DICOM files: 100%|██████████████████████████████████████████████████████████████████████| 1/1 [00:40<00:00, 40.31s/it]\n"
     ]
    },
    {
     "name": "stdout",
     "output_type": "stream",
     "text": [
      "Compiling dictionaries together...\n",
      "Index 0, description 3mm Chest  3.0  B35s at /home/lam3654/MSAI_pneumonitis/data/train/small_pneumonitis_negative/P0028\n",
      "Index 1, description Chest 3mm  3.0  B30f at /home/lam3654/MSAI_pneumonitis/data/train/small_pneumonitis_negative/P0028\n",
      "Index 2, description 3mm Chest  3.0  B35s at /home/lam3654/MSAI_pneumonitis/data/train/small_pneumonitis_negative/P0028\n",
      "Index 3, description 3mm Chest  3.0  B35s at /home/lam3654/MSAI_pneumonitis/data/train/small_pneumonitis_negative/P0028\n",
      "Index 4, description 3mm Chest  3.0  B35s at /home/lam3654/MSAI_pneumonitis/data/train/small_pneumonitis_negative/P0028\n",
      "Index 5, description 3mm Chest  3.0  B35s at /home/lam3654/MSAI_pneumonitis/data/train/small_pneumonitis_negative/P0028\n",
      "Index 6, description abc 1; AVG BODY/OncoBody at /home/lam3654/MSAI_pneumonitis/data/train/small_pneumonitis_negative/P0028\n",
      "Index 7, description 3mm Chest  3.0  B35s at /home/lam3654/MSAI_pneumonitis/data/train/small_pneumonitis_negative/P0028\n",
      "Index 8, description None at None\n",
      "9 unique series IDs were found. Default is index 0, to change use set_index(index)\n",
      "Lacking ['llung'] in index 0, location /home/lam3654/MSAI_pneumonitis/data/train/small_pneumonitis_negative/P0028. Found []\n",
      "Lacking ['llung'] in index 1, location /home/lam3654/MSAI_pneumonitis/data/train/small_pneumonitis_negative/P0028. Found []\n",
      "Lacking ['llung'] in index 2, location /home/lam3654/MSAI_pneumonitis/data/train/small_pneumonitis_negative/P0028. Found []\n",
      "Lacking ['llung'] in index 3, location /home/lam3654/MSAI_pneumonitis/data/train/small_pneumonitis_negative/P0028. Found []\n",
      "Lacking ['llung'] in index 4, location /home/lam3654/MSAI_pneumonitis/data/train/small_pneumonitis_negative/P0028. Found []\n",
      "Lacking ['llung'] in index 5, location /home/lam3654/MSAI_pneumonitis/data/train/small_pneumonitis_negative/P0028. Found []\n",
      "Lacking ['llung'] in index 7, location /home/lam3654/MSAI_pneumonitis/data/train/small_pneumonitis_negative/P0028. Found []\n",
      "Contour names or associations changed, resetting mask\n",
      "The following indexes have all ROIs present\n",
      "Index 6, located at /home/lam3654/MSAI_pneumonitis/data/train/small_pneumonitis_negative/P0028\n",
      "Finished listing present indexes\n",
      "Loading images for abc 1; AVG BODY/OncoBody at \n",
      " /home/lam3654/MSAI_pneumonitis/data/train/small_pneumonitis_negative/P0028\n",
      "\n",
      "Erasing any previous mask as we load a new new image set\n"
     ]
    },
    {
     "name": "stderr",
     "output_type": "stream",
     "text": [
      "Loading through DICOM files:   0%|                                                                              | 0/1 [00:00<?, ?it/s]"
     ]
    },
    {
     "name": "stdout",
     "output_type": "stream",
     "text": [
      "Loading from /home/lam3654/MSAI_pneumonitis/data/train/pneumonitis_positive/P0751\n"
     ]
    },
    {
     "name": "stderr",
     "output_type": "stream",
     "text": [
      "Loading through DICOM files: 100%|██████████████████████████████████████████████████████████████████████| 1/1 [00:12<00:00, 12.40s/it]\n"
     ]
    },
    {
     "name": "stdout",
     "output_type": "stream",
     "text": [
      "Compiling dictionaries together...\n",
      "Index 0, description iDose (3)  at /home/lam3654/MSAI_pneumonitis/data/train/pneumonitis_positive/P0751\n",
      "Index 1, description Thorax  3.0  B35f  at /home/lam3654/MSAI_pneumonitis/data/train/pneumonitis_positive/P0751\n",
      "Index 2, description Thorax  3.0  B35f  at /home/lam3654/MSAI_pneumonitis/data/train/pneumonitis_positive/P0751\n",
      "Index 3, description None at None\n",
      "4 unique series IDs were found. Default is index 0, to change use set_index(index)\n",
      "Lacking ['llung'] in index 1, location /home/lam3654/MSAI_pneumonitis/data/train/pneumonitis_positive/P0751. Found []\n",
      "Lacking ['llung'] in index 2, location /home/lam3654/MSAI_pneumonitis/data/train/pneumonitis_positive/P0751. Found []\n",
      "Contour names or associations changed, resetting mask\n",
      "The following indexes have all ROIs present\n",
      "Index 0, located at /home/lam3654/MSAI_pneumonitis/data/train/pneumonitis_positive/P0751\n",
      "Finished listing present indexes\n",
      "Loading images for iDose (3)  at \n",
      " /home/lam3654/MSAI_pneumonitis/data/train/pneumonitis_positive/P0751\n",
      "\n",
      "Erasing any previous mask as we load a new new image set\n"
     ]
    },
    {
     "name": "stderr",
     "output_type": "stream",
     "text": [
      "Loading through DICOM files:   0%|                                                                              | 0/1 [00:00<?, ?it/s]"
     ]
    },
    {
     "name": "stdout",
     "output_type": "stream",
     "text": [
      "Loading from /home/lam3654/MSAI_pneumonitis/data/train/small_pneumonitis_negative/P1215\n"
     ]
    },
    {
     "name": "stderr",
     "output_type": "stream",
     "text": [
      "Loading through DICOM files: 100%|██████████████████████████████████████████████████████████████████████| 1/1 [00:12<00:00, 12.91s/it]\n"
     ]
    },
    {
     "name": "stdout",
     "output_type": "stream",
     "text": [
      "Compiling dictionaries together...\n",
      "Index 0, description AVG 0.0,10.0,20.0,30.0,40.0,50.0,60.0,70.0,80.0,90.0 at /home/lam3654/MSAI_pneumonitis/data/train/small_pneumonitis_negative/P1215\n",
      "Index 1, description 3mm Chest  3.0  B35s at /home/lam3654/MSAI_pneumonitis/data/train/small_pneumonitis_negative/P1215\n",
      "Index 2, description Axial Mediastinum Chest  3.0  B35f at /home/lam3654/MSAI_pneumonitis/data/train/small_pneumonitis_negative/P1215\n",
      "Index 3, description None at None\n",
      "4 unique series IDs were found. Default is index 0, to change use set_index(index)\n",
      "Lacking ['llung'] in index 1, location /home/lam3654/MSAI_pneumonitis/data/train/small_pneumonitis_negative/P1215. Found []\n",
      "Lacking ['llung'] in index 2, location /home/lam3654/MSAI_pneumonitis/data/train/small_pneumonitis_negative/P1215. Found []\n",
      "Contour names or associations changed, resetting mask\n",
      "The following indexes have all ROIs present\n",
      "Index 0, located at /home/lam3654/MSAI_pneumonitis/data/train/small_pneumonitis_negative/P1215\n",
      "Finished listing present indexes\n",
      "Loading images for AVG 0.0,10.0,20.0,30.0,40.0,50.0,60.0,70.0,80.0,90.0 at \n",
      " /home/lam3654/MSAI_pneumonitis/data/train/small_pneumonitis_negative/P1215\n",
      "\n",
      "Erasing any previous mask as we load a new new image set\n"
     ]
    },
    {
     "name": "stderr",
     "output_type": "stream",
     "text": [
      "Loading through DICOM files:   0%|                                                                              | 0/1 [00:00<?, ?it/s]"
     ]
    },
    {
     "name": "stdout",
     "output_type": "stream",
     "text": [
      "Loading from /home/lam3654/MSAI_pneumonitis/data/train/pneumonitis_positive/P1161\n"
     ]
    },
    {
     "name": "stderr",
     "output_type": "stream",
     "text": [
      "Loading through DICOM files: 100%|██████████████████████████████████████████████████████████████████████| 1/1 [00:13<00:00, 13.11s/it]\n"
     ]
    },
    {
     "name": "stdout",
     "output_type": "stream",
     "text": [
      "Compiling dictionaries together...\n",
      "Index 0, description AVG 0.0,10.0,20.0,30.0,40.0,50.0,60.0,70.0,80.0,90.0 at /home/lam3654/MSAI_pneumonitis/data/train/pneumonitis_positive/P1161\n",
      "Index 1, description THORAX  3.0  B35f  at /home/lam3654/MSAI_pneumonitis/data/train/pneumonitis_positive/P1161\n",
      "Index 2, description 3mm Chest  3.0  B35s at /home/lam3654/MSAI_pneumonitis/data/train/pneumonitis_positive/P1161\n",
      "Index 3, description CHEST w/o  5.0  B30f at /home/lam3654/MSAI_pneumonitis/data/train/pneumonitis_positive/P1161\n",
      "Index 4, description None at None\n",
      "5 unique series IDs were found. Default is index 0, to change use set_index(index)\n",
      "Lacking ['llung'] in index 1, location /home/lam3654/MSAI_pneumonitis/data/train/pneumonitis_positive/P1161. Found []\n",
      "Lacking ['llung'] in index 2, location /home/lam3654/MSAI_pneumonitis/data/train/pneumonitis_positive/P1161. Found []\n",
      "Lacking ['llung'] in index 3, location /home/lam3654/MSAI_pneumonitis/data/train/pneumonitis_positive/P1161. Found []\n",
      "Contour names or associations changed, resetting mask\n",
      "The following indexes have all ROIs present\n",
      "Index 0, located at /home/lam3654/MSAI_pneumonitis/data/train/pneumonitis_positive/P1161\n",
      "Finished listing present indexes\n",
      "Loading images for AVG 0.0,10.0,20.0,30.0,40.0,50.0,60.0,70.0,80.0,90.0 at \n",
      " /home/lam3654/MSAI_pneumonitis/data/train/pneumonitis_positive/P1161\n",
      "\n",
      "Erasing any previous mask as we load a new new image set\n"
     ]
    },
    {
     "name": "stderr",
     "output_type": "stream",
     "text": [
      "Loading through DICOM files:   0%|                                                                              | 0/1 [00:00<?, ?it/s]"
     ]
    },
    {
     "name": "stdout",
     "output_type": "stream",
     "text": [
      "Loading from /home/lam3654/MSAI_pneumonitis/data/train/pneumonitis_positive/P1020\n"
     ]
    },
    {
     "name": "stderr",
     "output_type": "stream",
     "text": [
      "Loading through DICOM files: 100%|██████████████████████████████████████████████████████████████████████| 1/1 [00:07<00:00,  7.89s/it]\n"
     ]
    },
    {
     "name": "stdout",
     "output_type": "stream",
     "text": [
      "Compiling dictionaries together...\n",
      "Index 0, description  at /home/lam3654/MSAI_pneumonitis/data/train/pneumonitis_positive/P1020\n",
      "Index 1, description CHEST  3.0  B35f at /home/lam3654/MSAI_pneumonitis/data/train/pneumonitis_positive/P1020\n",
      "Index 2, description None at None\n",
      "3 unique series IDs were found. Default is index 0, to change use set_index(index)\n",
      "Lacking ['llung'] in index 1, location /home/lam3654/MSAI_pneumonitis/data/train/pneumonitis_positive/P1020. Found []\n",
      "Contour names or associations changed, resetting mask\n",
      "The following indexes have all ROIs present\n",
      "Index 0, located at /home/lam3654/MSAI_pneumonitis/data/train/pneumonitis_positive/P1020\n",
      "Finished listing present indexes\n",
      "Loading images for  at \n",
      " /home/lam3654/MSAI_pneumonitis/data/train/pneumonitis_positive/P1020\n",
      "\n",
      "Erasing any previous mask as we load a new new image set\n"
     ]
    },
    {
     "name": "stderr",
     "output_type": "stream",
     "text": [
      "Loading through DICOM files:   0%|                                                                              | 0/1 [00:00<?, ?it/s]"
     ]
    },
    {
     "name": "stdout",
     "output_type": "stream",
     "text": [
      "Loading from /home/lam3654/MSAI_pneumonitis/data/train/pneumonitis_positive/P0567\n"
     ]
    },
    {
     "name": "stderr",
     "output_type": "stream",
     "text": [
      "Loading through DICOM files: 100%|██████████████████████████████████████████████████████████████████████| 1/1 [00:42<00:00, 42.01s/it]\n"
     ]
    },
    {
     "name": "stdout",
     "output_type": "stream",
     "text": [
      "Compiling dictionaries together...\n",
      "Index 0, description 3mm Chest  3.0  B35s at /home/lam3654/MSAI_pneumonitis/data/train/pneumonitis_positive/P0567\n",
      "Index 1, description 3mm Chest  3.0  B35s at /home/lam3654/MSAI_pneumonitis/data/train/pneumonitis_positive/P0567\n",
      "Index 2, description 3mm Chest  3.0  B35s at /home/lam3654/MSAI_pneumonitis/data/train/pneumonitis_positive/P0567\n",
      "Index 3, description CHEST 3MM  3.0  B35f at /home/lam3654/MSAI_pneumonitis/data/train/pneumonitis_positive/P0567\n",
      "Index 4, description THORAX  3.0  B35f  at /home/lam3654/MSAI_pneumonitis/data/train/pneumonitis_positive/P0567\n",
      "Index 5, description 3mm Chest  3.0  B35s at /home/lam3654/MSAI_pneumonitis/data/train/pneumonitis_positive/P0567\n",
      "Index 6, description Chest 3mm  3.0  B30f at /home/lam3654/MSAI_pneumonitis/data/train/pneumonitis_positive/P0567\n",
      "Index 7, description 4D CT/OncoBody at /home/lam3654/MSAI_pneumonitis/data/train/pneumonitis_positive/P0567\n",
      "Index 8, description None at None\n",
      "9 unique series IDs were found. Default is index 0, to change use set_index(index)\n",
      "Lacking ['llung'] in index 0, location /home/lam3654/MSAI_pneumonitis/data/train/pneumonitis_positive/P0567. Found []\n",
      "Lacking ['llung'] in index 1, location /home/lam3654/MSAI_pneumonitis/data/train/pneumonitis_positive/P0567. Found []\n",
      "Lacking ['llung'] in index 2, location /home/lam3654/MSAI_pneumonitis/data/train/pneumonitis_positive/P0567. Found []\n",
      "Lacking ['llung'] in index 3, location /home/lam3654/MSAI_pneumonitis/data/train/pneumonitis_positive/P0567. Found []\n",
      "Lacking ['llung'] in index 4, location /home/lam3654/MSAI_pneumonitis/data/train/pneumonitis_positive/P0567. Found []\n",
      "Lacking ['llung'] in index 5, location /home/lam3654/MSAI_pneumonitis/data/train/pneumonitis_positive/P0567. Found []\n",
      "Lacking ['llung'] in index 6, location /home/lam3654/MSAI_pneumonitis/data/train/pneumonitis_positive/P0567. Found []\n",
      "Contour names or associations changed, resetting mask\n",
      "The following indexes have all ROIs present\n",
      "Index 7, located at /home/lam3654/MSAI_pneumonitis/data/train/pneumonitis_positive/P0567\n",
      "Finished listing present indexes\n",
      "Loading images for 4D CT/OncoBody at \n",
      " /home/lam3654/MSAI_pneumonitis/data/train/pneumonitis_positive/P0567\n",
      "\n",
      "Erasing any previous mask as we load a new new image set\n"
     ]
    },
    {
     "name": "stderr",
     "output_type": "stream",
     "text": [
      "Loading through DICOM files:   0%|                                                                              | 0/1 [00:00<?, ?it/s]"
     ]
    },
    {
     "name": "stdout",
     "output_type": "stream",
     "text": [
      "Loading from /home/lam3654/MSAI_pneumonitis/data/train/pneumonitis_positive/P1203\n"
     ]
    },
    {
     "name": "stderr",
     "output_type": "stream",
     "text": [
      "Loading through DICOM files: 100%|██████████████████████████████████████████████████████████████████████| 1/1 [00:02<00:00,  2.39s/it]\n"
     ]
    },
    {
     "name": "stdout",
     "output_type": "stream",
     "text": [
      "Compiling dictionaries together...\n",
      "Index 0, description AVG 0.0,10.0,20.0,30.0,40.0,50.0,60.0,70.0,80.0,90.0 at /home/lam3654/MSAI_pneumonitis/data/train/pneumonitis_positive/P1203\n",
      "Index 1, description None at None\n",
      "2 unique series IDs were found. Default is index 0, to change use set_index(index)\n",
      "Contour names or associations changed, resetting mask\n",
      "The following indexes have all ROIs present\n",
      "Index 0, located at /home/lam3654/MSAI_pneumonitis/data/train/pneumonitis_positive/P1203\n",
      "Finished listing present indexes\n",
      "Loading images for AVG 0.0,10.0,20.0,30.0,40.0,50.0,60.0,70.0,80.0,90.0 at \n",
      " /home/lam3654/MSAI_pneumonitis/data/train/pneumonitis_positive/P1203\n",
      "\n",
      "Erasing any previous mask as we load a new new image set\n"
     ]
    },
    {
     "name": "stderr",
     "output_type": "stream",
     "text": [
      "Loading through DICOM files:   0%|                                                                              | 0/1 [00:00<?, ?it/s]"
     ]
    },
    {
     "name": "stdout",
     "output_type": "stream",
     "text": [
      "Loading from /home/lam3654/MSAI_pneumonitis/data/train/small_pneumonitis_negative/P0820\n"
     ]
    },
    {
     "name": "stderr",
     "output_type": "stream",
     "text": [
      "Loading through DICOM files: 100%|██████████████████████████████████████████████████████████████████████| 1/1 [00:06<00:00,  6.57s/it]\n"
     ]
    },
    {
     "name": "stdout",
     "output_type": "stream",
     "text": [
      "Compiling dictionaries together...\n",
      "Index 0, description Mean IP: Derived CT 20170620 144342  at /home/lam3654/MSAI_pneumonitis/data/train/small_pneumonitis_negative/P0820\n",
      "Index 1, description Axial Mediastinum CHEST 3MM  3.0  Qr36 at /home/lam3654/MSAI_pneumonitis/data/train/small_pneumonitis_negative/P0820\n",
      "Index 2, description None at None\n",
      "3 unique series IDs were found. Default is index 0, to change use set_index(index)\n",
      "Lacking ['llung'] in index 1, location /home/lam3654/MSAI_pneumonitis/data/train/small_pneumonitis_negative/P0820. Found []\n",
      "Contour names or associations changed, resetting mask\n",
      "The following indexes have all ROIs present\n",
      "Index 0, located at /home/lam3654/MSAI_pneumonitis/data/train/small_pneumonitis_negative/P0820\n",
      "Finished listing present indexes\n",
      "Loading images for Mean IP: Derived CT 20170620 144342  at \n",
      " /home/lam3654/MSAI_pneumonitis/data/train/small_pneumonitis_negative/P0820\n",
      "\n",
      "Erasing any previous mask as we load a new new image set\n"
     ]
    },
    {
     "name": "stderr",
     "output_type": "stream",
     "text": [
      "Loading through DICOM files:  50%|███████████████████████████████████                                   | 2/4 [00:00<00:00, 16.34it/s]"
     ]
    },
    {
     "name": "stdout",
     "output_type": "stream",
     "text": [
      "Loading from /home/lam3654/MSAI_pneumonitis/data/train/small_pneumonitis_negative/NU_0107/2012-08__Studies/NU.0107_NU.0107_RTst_2012-08-28_091754_sbrt.planning.bellows_AY_n1__00000\n",
      "Loading from /home/lam3654/MSAI_pneumonitis/data/train/small_pneumonitis_negative/NU_0107/2012-08__Studies/NU.0107_NU.0107_RTPLAN_2012-08-28_091754_sbrt.planning.bellows_NU.0107_n1__00000\n",
      "Loading from /home/lam3654/MSAI_pneumonitis/data/train/small_pneumonitis_negative/NU_0107/2012-08__Studies/NU.0107_NU.0107_CT_2012-08-28_091754_sbrt.planning.bellows_NU.0107_n212__00000\n",
      "Loading from /home/lam3654/MSAI_pneumonitis/data/train/small_pneumonitis_negative/NU_0107/2012-08__Studies/NU.0107_NU.0107_RTDOSE_2012-08-28_091754_sbrt.planning.bellows_NU.0107_n1__00000\n",
      "Had an error loading /home/lam3654/MSAI_pneumonitis/data/train/small_pneumonitis_negative/NU_0107/2012-08__Studies/NU.0107_NU.0107_RTPLAN_2012-08-28_091754_sbrt.planning.bellows_NU.0107_n1__00000/2.16.840.1.114362.1.11940992.22933840372.569563285.897.1288.dcm\n"
     ]
    },
    {
     "name": "stderr",
     "output_type": "stream",
     "text": [
      "Loading through DICOM files: 100%|██████████████████████████████████████████████████████████████████████| 4/4 [00:03<00:00,  1.04it/s]\n"
     ]
    },
    {
     "name": "stdout",
     "output_type": "stream",
     "text": [
      "Compiling dictionaries together...\n",
      "Index 0, description NU_0107  at /home/lam3654/MSAI_pneumonitis/data/train/small_pneumonitis_negative/NU_0107/2012-08__Studies/NU.0107_NU.0107_CT_2012-08-28_091754_sbrt.planning.bellows_NU.0107_n212__00000\n",
      "Index 1, description None at None\n",
      "2 unique series IDs were found. Default is index 0, to change use set_index(index)\n",
      "Contour names or associations changed, resetting mask\n",
      "The following indexes have all ROIs present\n",
      "Index 0, located at /home/lam3654/MSAI_pneumonitis/data/train/small_pneumonitis_negative/NU_0107/2012-08__Studies/NU.0107_NU.0107_CT_2012-08-28_091754_sbrt.planning.bellows_NU.0107_n212__00000\n",
      "Finished listing present indexes\n",
      "Loading images for NU_0107  at \n",
      " /home/lam3654/MSAI_pneumonitis/data/train/small_pneumonitis_negative/NU_0107/2012-08__Studies/NU.0107_NU.0107_CT_2012-08-28_091754_sbrt.planning.bellows_NU.0107_n212__00000\n",
      "\n",
      "Erasing any previous mask as we load a new new image set\n"
     ]
    },
    {
     "name": "stderr",
     "output_type": "stream",
     "text": [
      "Loading through DICOM files:   0%|                                                                              | 0/1 [00:00<?, ?it/s]"
     ]
    },
    {
     "name": "stdout",
     "output_type": "stream",
     "text": [
      "Loading from /home/lam3654/MSAI_pneumonitis/data/train/pneumonitis_positive/P0889\n"
     ]
    },
    {
     "name": "stderr",
     "output_type": "stream",
     "text": [
      "Loading through DICOM files: 100%|██████████████████████████████████████████████████████████████████████| 1/1 [00:16<00:00, 16.76s/it]\n"
     ]
    },
    {
     "name": "stdout",
     "output_type": "stream",
     "text": [
      "Compiling dictionaries together...\n",
      "Index 0, description AVG 0.0,10.0,20.0,30.0,40.0,50.0,60.0,70.0,80.0,90.0 at /home/lam3654/MSAI_pneumonitis/data/train/pneumonitis_positive/P0889\n",
      "Index 1, description Axial Mediastinum Chest 3.0  B35f  at /home/lam3654/MSAI_pneumonitis/data/train/pneumonitis_positive/P0889\n",
      "Index 2, description Axial Mediastinum Chest  3.0  B35f at /home/lam3654/MSAI_pneumonitis/data/train/pneumonitis_positive/P0889\n",
      "Index 3, description CHEST W/O  at /home/lam3654/MSAI_pneumonitis/data/train/pneumonitis_positive/P0889\n",
      "Index 4, description None at None\n",
      "5 unique series IDs were found. Default is index 0, to change use set_index(index)\n",
      "Lacking ['llung'] in index 1, location /home/lam3654/MSAI_pneumonitis/data/train/pneumonitis_positive/P0889. Found []\n",
      "Lacking ['llung'] in index 2, location /home/lam3654/MSAI_pneumonitis/data/train/pneumonitis_positive/P0889. Found []\n",
      "Lacking ['llung'] in index 3, location /home/lam3654/MSAI_pneumonitis/data/train/pneumonitis_positive/P0889. Found []\n",
      "Contour names or associations changed, resetting mask\n",
      "The following indexes have all ROIs present\n",
      "Index 0, located at /home/lam3654/MSAI_pneumonitis/data/train/pneumonitis_positive/P0889\n",
      "Finished listing present indexes\n",
      "Loading images for AVG 0.0,10.0,20.0,30.0,40.0,50.0,60.0,70.0,80.0,90.0 at \n",
      " /home/lam3654/MSAI_pneumonitis/data/train/pneumonitis_positive/P0889\n",
      "\n",
      "Erasing any previous mask as we load a new new image set\n"
     ]
    },
    {
     "name": "stderr",
     "output_type": "stream",
     "text": [
      "Loading through DICOM files:  50%|███████████████████████████████████                                   | 2/4 [00:00<00:00, 11.05it/s]"
     ]
    },
    {
     "name": "stdout",
     "output_type": "stream",
     "text": [
      "Loading from /home/lam3654/MSAI_pneumonitis/data/train/small_pneumonitis_negative/NU_0214/2016-08__Studies/NU.0214_NU.0214_RTDOSE_2016-08-24_090538_SBRT.lung.planning_NU.0214_n1__00000\n",
      "Loading from /home/lam3654/MSAI_pneumonitis/data/train/small_pneumonitis_negative/NU_0214/2016-08__Studies/NU.0214_NU.0214_CT_2016-08-24_090538_SBRT.lung.planning_NU.0214_n159__00000\n",
      "Loading from /home/lam3654/MSAI_pneumonitis/data/train/small_pneumonitis_negative/NU_0214/2016-08__Studies/NU.0214_NU.0214_RTst_2016-08-24_090538_SBRT.lung.planning_AY_n1__00000\n",
      "Loading from /home/lam3654/MSAI_pneumonitis/data/train/small_pneumonitis_negative/NU_0214/2016-08__Studies/NU.0214_NU.0214_RTPLAN_2016-08-24_090538_SBRT.lung.planning_NU.0214_n1__00000\n",
      "Had an error loading /home/lam3654/MSAI_pneumonitis/data/train/small_pneumonitis_negative/NU_0214/2016-08__Studies/NU.0214_NU.0214_RTPLAN_2016-08-24_090538_SBRT.lung.planning_NU.0214_n1__00000/2.16.840.1.114362.1.11940992.22933840372.569047993.1023.2137.dcm\n"
     ]
    },
    {
     "name": "stderr",
     "output_type": "stream",
     "text": [
      "Loading through DICOM files: 100%|██████████████████████████████████████████████████████████████████████| 4/4 [00:03<00:00,  1.12it/s]"
     ]
    },
    {
     "name": "stdout",
     "output_type": "stream",
     "text": [
      "failed on /home/lam3654/MSAI_pneumonitis/data/train/small_pneumonitis_negative/NU_0214/2016-08__Studies/NU.0214_NU.0214_CT_2016-08-24_090538_SBRT.lung.planning_NU.0214_n159__00000\n",
      "Compiling dictionaries together...\n",
      "Index 0, description NU_0214  at /home/lam3654/MSAI_pneumonitis/data/train/small_pneumonitis_negative/NU_0214/2016-08__Studies/NU.0214_NU.0214_CT_2016-08-24_090538_SBRT.lung.planning_NU.0214_n159__00000\n",
      "Index 1, description None at None\n",
      "2 unique series IDs were found. Default is index 0, to change use set_index(index)\n",
      "Contour names or associations changed, resetting mask\n",
      "The following indexes have all ROIs present\n",
      "Index 0, located at /home/lam3654/MSAI_pneumonitis/data/train/small_pneumonitis_negative/NU_0214/2016-08__Studies/NU.0214_NU.0214_CT_2016-08-24_090538_SBRT.lung.planning_NU.0214_n159__00000\n",
      "Finished listing present indexes\n",
      "Loading images for NU_0214  at \n",
      " /home/lam3654/MSAI_pneumonitis/data/train/small_pneumonitis_negative/NU_0214/2016-08__Studies/NU.0214_NU.0214_CT_2016-08-24_090538_SBRT.lung.planning_NU.0214_n159__00000\n",
      "\n"
     ]
    },
    {
     "name": "stderr",
     "output_type": "stream",
     "text": [
      "\n"
     ]
    },
    {
     "name": "stdout",
     "output_type": "stream",
     "text": [
      "Erasing any previous mask as we load a new new image set\n"
     ]
    },
    {
     "name": "stderr",
     "output_type": "stream",
     "text": [
      "Loading through DICOM files:   0%|                                                                              | 0/1 [00:00<?, ?it/s]"
     ]
    },
    {
     "name": "stdout",
     "output_type": "stream",
     "text": [
      "Loading from /home/lam3654/MSAI_pneumonitis/data/train/pneumonitis_positive/P1224\n"
     ]
    },
    {
     "name": "stderr",
     "output_type": "stream",
     "text": [
      "Loading through DICOM files: 100%|██████████████████████████████████████████████████████████████████████| 1/1 [00:35<00:00, 35.57s/it]\n"
     ]
    },
    {
     "name": "stdout",
     "output_type": "stream",
     "text": [
      "Compiling dictionaries together...\n",
      "Index 0, description AVG 0.0,10.0,20.0,30.0,40.0,50.0,60.0,70.0,80.0,90.0 at /home/lam3654/MSAI_pneumonitis/data/train/pneumonitis_positive/P1224\n",
      "Index 1, description 3mm Chest  3.0  B35s at /home/lam3654/MSAI_pneumonitis/data/train/pneumonitis_positive/P1224\n",
      "Index 2, description 3mm Chest  3.0  B35s at /home/lam3654/MSAI_pneumonitis/data/train/pneumonitis_positive/P1224\n",
      "Index 3, description 3mm Chest  3.0  B35s at /home/lam3654/MSAI_pneumonitis/data/train/pneumonitis_positive/P1224\n",
      "Index 4, description 3mm Chest  3.0  B35s at /home/lam3654/MSAI_pneumonitis/data/train/pneumonitis_positive/P1224\n",
      "Index 5, description 3mm Chest  3.0  B35s at /home/lam3654/MSAI_pneumonitis/data/train/pneumonitis_positive/P1224\n",
      "Index 6, description Axial Mediastinum Chest  3.0  B35f at /home/lam3654/MSAI_pneumonitis/data/train/pneumonitis_positive/P1224\n",
      "Index 7, description Axial Mediastinum Chest  3.0  B35f at /home/lam3654/MSAI_pneumonitis/data/train/pneumonitis_positive/P1224\n",
      "Index 8, description None at None\n",
      "9 unique series IDs were found. Default is index 0, to change use set_index(index)\n",
      "Lacking ['llung'] in index 0, location /home/lam3654/MSAI_pneumonitis/data/train/pneumonitis_positive/P1224. Found ['rul iso', 'external', 'lung_r', 'heart', 'spinal_cord', 'esophagus', 'trachea', 'bronc_tree', 'brachial_plexus', 'gtv free', 'itv', 'ptv', 'd2', 'normal tissue']\n",
      "Lacking ['llung'] in index 1, location /home/lam3654/MSAI_pneumonitis/data/train/pneumonitis_positive/P1224. Found []\n",
      "Lacking ['llung'] in index 2, location /home/lam3654/MSAI_pneumonitis/data/train/pneumonitis_positive/P1224. Found []\n",
      "Lacking ['llung'] in index 3, location /home/lam3654/MSAI_pneumonitis/data/train/pneumonitis_positive/P1224. Found []\n",
      "Lacking ['llung'] in index 4, location /home/lam3654/MSAI_pneumonitis/data/train/pneumonitis_positive/P1224. Found []\n",
      "Lacking ['llung'] in index 5, location /home/lam3654/MSAI_pneumonitis/data/train/pneumonitis_positive/P1224. Found []\n",
      "Lacking ['llung'] in index 6, location /home/lam3654/MSAI_pneumonitis/data/train/pneumonitis_positive/P1224. Found []\n",
      "Lacking ['llung'] in index 7, location /home/lam3654/MSAI_pneumonitis/data/train/pneumonitis_positive/P1224. Found []\n",
      "Contour names or associations changed, resetting mask\n",
      "The following indexes have all ROIs present\n",
      "Finished listing present indexes\n"
     ]
    },
    {
     "name": "stderr",
     "output_type": "stream",
     "text": [
      "Loading through DICOM files:   0%|                                                                              | 0/1 [00:00<?, ?it/s]"
     ]
    },
    {
     "name": "stdout",
     "output_type": "stream",
     "text": [
      "Loading from /home/lam3654/MSAI_pneumonitis/data/train/small_pneumonitis_negative/P0284\n"
     ]
    },
    {
     "name": "stderr",
     "output_type": "stream",
     "text": [
      "Loading through DICOM files: 100%|██████████████████████████████████████████████████████████████████████| 1/1 [00:06<00:00,  6.84s/it]\n"
     ]
    },
    {
     "name": "stdout",
     "output_type": "stream",
     "text": [
      "Compiling dictionaries together...\n",
      "Index 0, description abc 1; AVG BODY/OncoBody at /home/lam3654/MSAI_pneumonitis/data/train/small_pneumonitis_negative/P0284\n",
      "Index 1, description 3mm Chest  3.0  B35s at /home/lam3654/MSAI_pneumonitis/data/train/small_pneumonitis_negative/P0284\n",
      "Index 2, description None at None\n",
      "3 unique series IDs were found. Default is index 0, to change use set_index(index)\n",
      "Lacking ['llung'] in index 1, location /home/lam3654/MSAI_pneumonitis/data/train/small_pneumonitis_negative/P0284. Found []\n",
      "Contour names or associations changed, resetting mask\n",
      "The following indexes have all ROIs present\n",
      "Index 0, located at /home/lam3654/MSAI_pneumonitis/data/train/small_pneumonitis_negative/P0284\n",
      "Finished listing present indexes\n",
      "Loading images for abc 1; AVG BODY/OncoBody at \n",
      " /home/lam3654/MSAI_pneumonitis/data/train/small_pneumonitis_negative/P0284\n",
      "\n",
      "Erasing any previous mask as we load a new new image set\n"
     ]
    },
    {
     "name": "stderr",
     "output_type": "stream",
     "text": [
      "Loading through DICOM files:   0%|                                                                              | 0/4 [00:00<?, ?it/s]"
     ]
    },
    {
     "name": "stdout",
     "output_type": "stream",
     "text": [
      "Loading from /home/lam3654/MSAI_pneumonitis/data/train/pneumonitis_positive/NU_0196/2010-03__Studies/NU.0196_NU.0196_RTst_2010-03-23_104049_SBRT.Lung.Planning_AY_n1__00000\n",
      "Loading from /home/lam3654/MSAI_pneumonitis/data/train/pneumonitis_positive/NU_0196/2010-03__Studies/NU.0196_NU.0196_CT_2010-03-23_104049_SBRT.Lung.Planning_NU.0196_n177__00000\n",
      "Loading from /home/lam3654/MSAI_pneumonitis/data/train/pneumonitis_positive/NU_0196/2010-03__Studies/NU.0196_NU.0196_RTPLAN_2010-03-23_104049_SBRT.Iso.Placement_NU.0196_n1__00000\n",
      "Loading from /home/lam3654/MSAI_pneumonitis/data/train/pneumonitis_positive/NU_0196/2010-03__Studies/NU.0196_NU.0196_RTDOSE_2010-03-23_104049_SBRT.Iso.Placement_NU.0196_n1__00000\n",
      "Had an error loading /home/lam3654/MSAI_pneumonitis/data/train/pneumonitis_positive/NU_0196/2010-03__Studies/NU.0196_NU.0196_RTPLAN_2010-03-23_104049_SBRT.Iso.Placement_NU.0196_n1__00000/2.16.840.1.114362.1.11940992.22933840372.569051033.962.694.dcm\n"
     ]
    },
    {
     "name": "stderr",
     "output_type": "stream",
     "text": [
      "Loading through DICOM files: 100%|██████████████████████████████████████████████████████████████████████| 4/4 [00:03<00:00,  1.25it/s]\n"
     ]
    },
    {
     "name": "stdout",
     "output_type": "stream",
     "text": [
      "Compiling dictionaries together...\n",
      "Index 0, description NU_0196  at /home/lam3654/MSAI_pneumonitis/data/train/pneumonitis_positive/NU_0196/2010-03__Studies/NU.0196_NU.0196_CT_2010-03-23_104049_SBRT.Lung.Planning_NU.0196_n177__00000\n",
      "Index 1, description None at None\n",
      "2 unique series IDs were found. Default is index 0, to change use set_index(index)\n",
      "Contour names or associations changed, resetting mask\n",
      "The following indexes have all ROIs present\n",
      "Index 0, located at /home/lam3654/MSAI_pneumonitis/data/train/pneumonitis_positive/NU_0196/2010-03__Studies/NU.0196_NU.0196_CT_2010-03-23_104049_SBRT.Lung.Planning_NU.0196_n177__00000\n",
      "Finished listing present indexes\n",
      "Loading images for NU_0196  at \n",
      " /home/lam3654/MSAI_pneumonitis/data/train/pneumonitis_positive/NU_0196/2010-03__Studies/NU.0196_NU.0196_CT_2010-03-23_104049_SBRT.Lung.Planning_NU.0196_n177__00000\n",
      "\n",
      "Erasing any previous mask as we load a new new image set\n"
     ]
    },
    {
     "name": "stderr",
     "output_type": "stream",
     "text": [
      "Loading through DICOM files:   0%|                                                                              | 0/4 [00:00<?, ?it/s]"
     ]
    },
    {
     "name": "stdout",
     "output_type": "stream",
     "text": [
      "Loading from /home/lam3654/MSAI_pneumonitis/data/train/small_pneumonitis_negative/NU_0235/2012-05__Studies/NU.0235_NU.0235_CT_2012-05-20_143510_SBRT.Lung.planning.scan_NU.0235_n184__00000\n",
      "Loading from /home/lam3654/MSAI_pneumonitis/data/train/small_pneumonitis_negative/NU_0235/2012-05__Studies/NU.0235_NU.0235_RTPLAN_2012-05-20_143510_SBRT.Lung.planning.scan_NU.0235_n1__00000\n",
      "Loading from /home/lam3654/MSAI_pneumonitis/data/train/small_pneumonitis_negative/NU_0235/2012-05__Studies/NU.0235_NU.0235_RTDOSE_2012-05-20_143510_SBRT.Lung.planning.scan_NU.0235_n1__00000\n",
      "Loading from /home/lam3654/MSAI_pneumonitis/data/train/small_pneumonitis_negative/NU_0235/2012-05__Studies/NU.0235_NU.0235_RTst_2012-05-20_143510_SBRT.Lung.planning.scan_AY_n1__00000\n",
      "Had an error loading /home/lam3654/MSAI_pneumonitis/data/train/small_pneumonitis_negative/NU_0235/2012-05__Studies/NU.0235_NU.0235_RTPLAN_2012-05-20_143510_SBRT.Lung.planning.scan_NU.0235_n1__00000/2.16.840.1.114362.1.11940992.22933840372.569055783.1031.6736.dcm\n"
     ]
    },
    {
     "name": "stderr",
     "output_type": "stream",
     "text": [
      "Loading through DICOM files: 100%|██████████████████████████████████████████████████████████████████████| 4/4 [00:03<00:00,  1.11it/s]"
     ]
    },
    {
     "name": "stdout",
     "output_type": "stream",
     "text": [
      "failed on /home/lam3654/MSAI_pneumonitis/data/train/small_pneumonitis_negative/NU_0235/2012-05__Studies/NU.0235_NU.0235_CT_2012-05-20_143510_SBRT.Lung.planning.scan_NU.0235_n184__00000\n",
      "Compiling dictionaries together...\n",
      "Index 0, description NU_0235  at /home/lam3654/MSAI_pneumonitis/data/train/small_pneumonitis_negative/NU_0235/2012-05__Studies/NU.0235_NU.0235_CT_2012-05-20_143510_SBRT.Lung.planning.scan_NU.0235_n184__00000\n",
      "Index 1, description None at None\n",
      "2 unique series IDs were found. Default is index 0, to change use set_index(index)\n",
      "Contour names or associations changed, resetting mask\n",
      "The following indexes have all ROIs present\n",
      "Index 0, located at /home/lam3654/MSAI_pneumonitis/data/train/small_pneumonitis_negative/NU_0235/2012-05__Studies/NU.0235_NU.0235_CT_2012-05-20_143510_SBRT.Lung.planning.scan_NU.0235_n184__00000\n",
      "Finished listing present indexes\n",
      "Loading images for NU_0235  at \n",
      " /home/lam3654/MSAI_pneumonitis/data/train/small_pneumonitis_negative/NU_0235/2012-05__Studies/NU.0235_NU.0235_CT_2012-05-20_143510_SBRT.Lung.planning.scan_NU.0235_n184__00000\n",
      "\n"
     ]
    },
    {
     "name": "stderr",
     "output_type": "stream",
     "text": [
      "\n"
     ]
    },
    {
     "name": "stdout",
     "output_type": "stream",
     "text": [
      "Erasing any previous mask as we load a new new image set\n"
     ]
    },
    {
     "name": "stderr",
     "output_type": "stream",
     "text": [
      "Loading through DICOM files:   0%|                                                                              | 0/1 [00:00<?, ?it/s]"
     ]
    },
    {
     "name": "stdout",
     "output_type": "stream",
     "text": [
      "Loading from /home/lam3654/MSAI_pneumonitis/data/train/pneumonitis_positive/P1163\n"
     ]
    },
    {
     "name": "stderr",
     "output_type": "stream",
     "text": [
      "Loading through DICOM files: 100%|██████████████████████████████████████████████████████████████████████| 1/1 [00:12<00:00, 12.95s/it]\n"
     ]
    },
    {
     "name": "stdout",
     "output_type": "stream",
     "text": [
      "Compiling dictionaries together...\n",
      "Index 0, description AVG 0.0,10.0,20.0,30.0,40.0,50.0,60.0,70.0,80.0,90.0 at /home/lam3654/MSAI_pneumonitis/data/train/pneumonitis_positive/P1163\n",
      "Index 1, description 3mm Chest  3.0  B35s at /home/lam3654/MSAI_pneumonitis/data/train/pneumonitis_positive/P1163\n",
      "Index 2, description 3mm Chest  3.0  B35s at /home/lam3654/MSAI_pneumonitis/data/train/pneumonitis_positive/P1163\n",
      "Index 3, description 3mm Chest  3.0  B35s at /home/lam3654/MSAI_pneumonitis/data/train/pneumonitis_positive/P1163\n",
      "Index 4, description None at None\n",
      "5 unique series IDs were found. Default is index 0, to change use set_index(index)\n",
      "Lacking ['llung'] in index 1, location /home/lam3654/MSAI_pneumonitis/data/train/pneumonitis_positive/P1163. Found []\n",
      "Lacking ['llung'] in index 2, location /home/lam3654/MSAI_pneumonitis/data/train/pneumonitis_positive/P1163. Found []\n",
      "Lacking ['llung'] in index 3, location /home/lam3654/MSAI_pneumonitis/data/train/pneumonitis_positive/P1163. Found []\n",
      "Contour names or associations changed, resetting mask\n",
      "The following indexes have all ROIs present\n",
      "Index 0, located at /home/lam3654/MSAI_pneumonitis/data/train/pneumonitis_positive/P1163\n",
      "Finished listing present indexes\n",
      "Loading images for AVG 0.0,10.0,20.0,30.0,40.0,50.0,60.0,70.0,80.0,90.0 at \n",
      " /home/lam3654/MSAI_pneumonitis/data/train/pneumonitis_positive/P1163\n",
      "\n",
      "Erasing any previous mask as we load a new new image set\n"
     ]
    },
    {
     "name": "stderr",
     "output_type": "stream",
     "text": [
      "Loading through DICOM files:   0%|                                                                              | 0/1 [00:00<?, ?it/s]"
     ]
    },
    {
     "name": "stdout",
     "output_type": "stream",
     "text": [
      "Loading from /home/lam3654/MSAI_pneumonitis/data/train/pneumonitis_positive/P1016\n"
     ]
    },
    {
     "name": "stderr",
     "output_type": "stream",
     "text": [
      "Loading through DICOM files: 100%|██████████████████████████████████████████████████████████████████████| 1/1 [00:27<00:00, 27.47s/it]\n"
     ]
    },
    {
     "name": "stdout",
     "output_type": "stream",
     "text": [
      "Compiling dictionaries together...\n",
      "Index 0, description AVG 10.0,20.0,30.0,40.0,50.0,60.0,70.0,80.0,90.0 at /home/lam3654/MSAI_pneumonitis/data/train/pneumonitis_positive/P1016\n",
      "Index 1, description Chest 3mm  3.0  B35f at /home/lam3654/MSAI_pneumonitis/data/train/pneumonitis_positive/P1016\n",
      "Index 2, description 3mm Chest  3.0  B35s at /home/lam3654/MSAI_pneumonitis/data/train/pneumonitis_positive/P1016\n",
      "Index 3, description CHEST  3.0  B35f at /home/lam3654/MSAI_pneumonitis/data/train/pneumonitis_positive/P1016\n",
      "Index 4, description 3mm Chest  3.0  B35s at /home/lam3654/MSAI_pneumonitis/data/train/pneumonitis_positive/P1016\n",
      "Index 5, description Axial Mediastinum Chest  3.0  B35f at /home/lam3654/MSAI_pneumonitis/data/train/pneumonitis_positive/P1016\n",
      "Index 6, description None at None\n",
      "7 unique series IDs were found. Default is index 0, to change use set_index(index)\n",
      "Lacking ['llung'] in index 1, location /home/lam3654/MSAI_pneumonitis/data/train/pneumonitis_positive/P1016. Found []\n",
      "Lacking ['llung'] in index 2, location /home/lam3654/MSAI_pneumonitis/data/train/pneumonitis_positive/P1016. Found []\n",
      "Lacking ['llung'] in index 3, location /home/lam3654/MSAI_pneumonitis/data/train/pneumonitis_positive/P1016. Found []\n",
      "Lacking ['llung'] in index 4, location /home/lam3654/MSAI_pneumonitis/data/train/pneumonitis_positive/P1016. Found []\n",
      "Lacking ['llung'] in index 5, location /home/lam3654/MSAI_pneumonitis/data/train/pneumonitis_positive/P1016. Found []\n",
      "Contour names or associations changed, resetting mask\n",
      "The following indexes have all ROIs present\n",
      "Index 0, located at /home/lam3654/MSAI_pneumonitis/data/train/pneumonitis_positive/P1016\n",
      "Finished listing present indexes\n",
      "Loading images for AVG 10.0,20.0,30.0,40.0,50.0,60.0,70.0,80.0,90.0 at \n",
      " /home/lam3654/MSAI_pneumonitis/data/train/pneumonitis_positive/P1016\n",
      "\n",
      "Erasing any previous mask as we load a new new image set\n"
     ]
    },
    {
     "name": "stderr",
     "output_type": "stream",
     "text": [
      "Loading through DICOM files:  25%|█████████████████▌                                                    | 1/4 [00:00<00:00,  8.40it/s]"
     ]
    },
    {
     "name": "stdout",
     "output_type": "stream",
     "text": [
      "Loading from /home/lam3654/MSAI_pneumonitis/data/train/pneumonitis_positive/NU_0199/2013-02__Studies/NU.0199_NU.0199_RTPLAN_2013-02-08_150300_._NU.0199_n1__00000\n",
      "Loading from /home/lam3654/MSAI_pneumonitis/data/train/pneumonitis_positive/NU_0199/2013-02__Studies/NU.0199_NU.0199_RTDOSE_2013-02-08_150300_._NU.0199_n1__00000\n",
      "Loading from /home/lam3654/MSAI_pneumonitis/data/train/pneumonitis_positive/NU_0199/2013-02__Studies/NU.0199_NU.0199_CT_2013-02-08_150300_SBRT.RLung.planning.scan_NU.0199_n211__00000\n",
      "Loading from /home/lam3654/MSAI_pneumonitis/data/train/pneumonitis_positive/NU_0199/2013-02__Studies/NU.0199_NU.0199_RTst_2013-02-08_150300_SBRT.RLung.planning.scan_AY_n1__00000\n",
      "Had an error loading /home/lam3654/MSAI_pneumonitis/data/train/pneumonitis_positive/NU_0199/2013-02__Studies/NU.0199_NU.0199_RTPLAN_2013-02-08_150300_._NU.0199_n1__00000/2.16.840.1.114362.1.11940992.22933840372.569055756.363.5066.dcm\n"
     ]
    },
    {
     "name": "stderr",
     "output_type": "stream",
     "text": [
      "Loading through DICOM files: 100%|██████████████████████████████████████████████████████████████████████| 4/4 [00:03<00:00,  1.05it/s]\n"
     ]
    },
    {
     "name": "stdout",
     "output_type": "stream",
     "text": [
      "Compiling dictionaries together...\n",
      "Index 0, description NU_0199  at /home/lam3654/MSAI_pneumonitis/data/train/pneumonitis_positive/NU_0199/2013-02__Studies/NU.0199_NU.0199_CT_2013-02-08_150300_SBRT.RLung.planning.scan_NU.0199_n211__00000\n",
      "Index 1, description None at None\n",
      "2 unique series IDs were found. Default is index 0, to change use set_index(index)\n",
      "Contour names or associations changed, resetting mask\n",
      "The following indexes have all ROIs present\n",
      "Index 0, located at /home/lam3654/MSAI_pneumonitis/data/train/pneumonitis_positive/NU_0199/2013-02__Studies/NU.0199_NU.0199_CT_2013-02-08_150300_SBRT.RLung.planning.scan_NU.0199_n211__00000\n",
      "Finished listing present indexes\n",
      "Loading images for NU_0199  at \n",
      " /home/lam3654/MSAI_pneumonitis/data/train/pneumonitis_positive/NU_0199/2013-02__Studies/NU.0199_NU.0199_CT_2013-02-08_150300_SBRT.RLung.planning.scan_NU.0199_n211__00000\n",
      "\n",
      "Erasing any previous mask as we load a new new image set\n"
     ]
    },
    {
     "name": "stderr",
     "output_type": "stream",
     "text": [
      "Loading through DICOM files:   0%|                                                                              | 0/1 [00:00<?, ?it/s]"
     ]
    },
    {
     "name": "stdout",
     "output_type": "stream",
     "text": [
      "Loading from /home/lam3654/MSAI_pneumonitis/data/train/pneumonitis_positive/P0962\n"
     ]
    },
    {
     "name": "stderr",
     "output_type": "stream",
     "text": [
      "Loading through DICOM files: 100%|██████████████████████████████████████████████████████████████████████| 1/1 [00:02<00:00,  2.35s/it]\n"
     ]
    },
    {
     "name": "stdout",
     "output_type": "stream",
     "text": [
      "Compiling dictionaries together...\n",
      "Index 0, description  at /home/lam3654/MSAI_pneumonitis/data/train/pneumonitis_positive/P0962\n",
      "1 unique series IDs were found. Default is index 0, to change use set_index(index)\n",
      "Contour names or associations changed, resetting mask\n",
      "The following indexes have all ROIs present\n",
      "Index 0, located at /home/lam3654/MSAI_pneumonitis/data/train/pneumonitis_positive/P0962\n",
      "Finished listing present indexes\n",
      "Loading images for  at \n",
      " /home/lam3654/MSAI_pneumonitis/data/train/pneumonitis_positive/P0962\n",
      "\n",
      "Erasing any previous mask as we load a new new image set\n"
     ]
    },
    {
     "name": "stderr",
     "output_type": "stream",
     "text": [
      "Loading through DICOM files:   0%|                                                                              | 0/1 [00:00<?, ?it/s]"
     ]
    },
    {
     "name": "stdout",
     "output_type": "stream",
     "text": [
      "Loading from /home/lam3654/MSAI_pneumonitis/data/train/pneumonitis_positive/P1060\n"
     ]
    },
    {
     "name": "stderr",
     "output_type": "stream",
     "text": [
      "Loading through DICOM files: 100%|██████████████████████████████████████████████████████████████████████| 1/1 [00:31<00:00, 31.11s/it]\n"
     ]
    },
    {
     "name": "stdout",
     "output_type": "stream",
     "text": [
      "Compiling dictionaries together...\n",
      "Index 0, description AVG 0.0,10.0,20.0,30.0,40.0,50.0,60.0,70.0,80.0,90.0 at /home/lam3654/MSAI_pneumonitis/data/train/pneumonitis_positive/P1060\n",
      "Index 1, description 3mm Chest  3.0  B35s at /home/lam3654/MSAI_pneumonitis/data/train/pneumonitis_positive/P1060\n",
      "Index 2, description 3mm Chest  3.0  B35s at /home/lam3654/MSAI_pneumonitis/data/train/pneumonitis_positive/P1060\n",
      "Index 3, description Chest 3mm  3.0  B30f at /home/lam3654/MSAI_pneumonitis/data/train/pneumonitis_positive/P1060\n",
      "Index 4, description Chest 3mm  3.0  B30f at /home/lam3654/MSAI_pneumonitis/data/train/pneumonitis_positive/P1060\n",
      "Index 5, description Axial Mediastinum Chest  3.0  B35f at /home/lam3654/MSAI_pneumonitis/data/train/pneumonitis_positive/P1060\n",
      "Index 6, description AXIAL MEDIASTINUM  3.0  B35f at /home/lam3654/MSAI_pneumonitis/data/train/pneumonitis_positive/P1060\n",
      "Index 7, description None at None\n",
      "8 unique series IDs were found. Default is index 0, to change use set_index(index)\n",
      "Lacking ['llung'] in index 1, location /home/lam3654/MSAI_pneumonitis/data/train/pneumonitis_positive/P1060. Found []\n",
      "Lacking ['llung'] in index 2, location /home/lam3654/MSAI_pneumonitis/data/train/pneumonitis_positive/P1060. Found []\n",
      "Lacking ['llung'] in index 3, location /home/lam3654/MSAI_pneumonitis/data/train/pneumonitis_positive/P1060. Found []\n",
      "Lacking ['llung'] in index 4, location /home/lam3654/MSAI_pneumonitis/data/train/pneumonitis_positive/P1060. Found []\n",
      "Lacking ['llung'] in index 5, location /home/lam3654/MSAI_pneumonitis/data/train/pneumonitis_positive/P1060. Found []\n",
      "Lacking ['llung'] in index 6, location /home/lam3654/MSAI_pneumonitis/data/train/pneumonitis_positive/P1060. Found []\n",
      "Contour names or associations changed, resetting mask\n",
      "The following indexes have all ROIs present\n",
      "Index 0, located at /home/lam3654/MSAI_pneumonitis/data/train/pneumonitis_positive/P1060\n",
      "Finished listing present indexes\n",
      "Loading images for AVG 0.0,10.0,20.0,30.0,40.0,50.0,60.0,70.0,80.0,90.0 at \n",
      " /home/lam3654/MSAI_pneumonitis/data/train/pneumonitis_positive/P1060\n",
      "\n",
      "Erasing any previous mask as we load a new new image set\n"
     ]
    },
    {
     "name": "stderr",
     "output_type": "stream",
     "text": [
      "Loading through DICOM files:  25%|█████████████████▌                                                    | 1/4 [00:00<00:00,  9.66it/s]"
     ]
    },
    {
     "name": "stdout",
     "output_type": "stream",
     "text": [
      "Loading from /home/lam3654/MSAI_pneumonitis/data/train/pneumonitis_positive/NU_0239/2017-08__Studies/NU.0239_NU.0239_RTst_2017-08-01_093310_SBRT.Lung_AY_n1__00000\n",
      "Loading from /home/lam3654/MSAI_pneumonitis/data/train/pneumonitis_positive/NU_0239/2017-08__Studies/NU.0239_NU.0239_RTPLAN_2017-08-01_093310_SBRT.Lung_._n1__00000\n",
      "Loading from /home/lam3654/MSAI_pneumonitis/data/train/pneumonitis_positive/NU_0239/2017-08__Studies/NU.0239_NU.0239_CT_2017-08-01_093310_SBRT.Lung_._n215__00000\n",
      "Loading from /home/lam3654/MSAI_pneumonitis/data/train/pneumonitis_positive/NU_0239/2017-08__Studies/NU.0239_NU.0239_RTDOSE_2017-08-01_093310_SBRT.Lung_._n1__00000\n",
      "Had an error loading /home/lam3654/MSAI_pneumonitis/data/train/pneumonitis_positive/NU_0239/2017-08__Studies/NU.0239_NU.0239_RTPLAN_2017-08-01_093310_SBRT.Lung_._n1__00000/2.16.840.1.114362.1.12046989.24327927514.609546435.590.354.dcm\n"
     ]
    },
    {
     "name": "stderr",
     "output_type": "stream",
     "text": [
      "Loading through DICOM files: 100%|██████████████████████████████████████████████████████████████████████| 4/4 [00:03<00:00,  1.05it/s]\n"
     ]
    },
    {
     "name": "stdout",
     "output_type": "stream",
     "text": [
      "Compiling dictionaries together...\n",
      "Index 0, description  at /home/lam3654/MSAI_pneumonitis/data/train/pneumonitis_positive/NU_0239/2017-08__Studies/NU.0239_NU.0239_CT_2017-08-01_093310_SBRT.Lung_._n215__00000\n",
      "Index 1, description None at None\n",
      "2 unique series IDs were found. Default is index 0, to change use set_index(index)\n",
      "Contour names or associations changed, resetting mask\n",
      "The following indexes have all ROIs present\n",
      "Index 0, located at /home/lam3654/MSAI_pneumonitis/data/train/pneumonitis_positive/NU_0239/2017-08__Studies/NU.0239_NU.0239_CT_2017-08-01_093310_SBRT.Lung_._n215__00000\n",
      "Finished listing present indexes\n",
      "Loading images for  at \n",
      " /home/lam3654/MSAI_pneumonitis/data/train/pneumonitis_positive/NU_0239/2017-08__Studies/NU.0239_NU.0239_CT_2017-08-01_093310_SBRT.Lung_._n215__00000\n",
      "\n",
      "Erasing any previous mask as we load a new new image set\n"
     ]
    },
    {
     "name": "stderr",
     "output_type": "stream",
     "text": [
      "Loading through DICOM files:   0%|                                                                              | 0/1 [00:00<?, ?it/s]"
     ]
    },
    {
     "name": "stdout",
     "output_type": "stream",
     "text": [
      "Loading from /home/lam3654/MSAI_pneumonitis/data/train/small_pneumonitis_negative/P0644\n"
     ]
    },
    {
     "name": "stderr",
     "output_type": "stream",
     "text": [
      "Loading through DICOM files: 100%|██████████████████████████████████████████████████████████████████████| 1/1 [00:24<00:00, 24.12s/it]\n"
     ]
    },
    {
     "name": "stdout",
     "output_type": "stream",
     "text": [
      "Compiling dictionaries together...\n",
      "Index 0, description O-MAR  at /home/lam3654/MSAI_pneumonitis/data/train/small_pneumonitis_negative/P0644\n",
      "Index 1, description 3mm Chest  3.0  B35s at /home/lam3654/MSAI_pneumonitis/data/train/small_pneumonitis_negative/P0644\n",
      "Index 2, description 3mm Chest  3.0  B35s at /home/lam3654/MSAI_pneumonitis/data/train/small_pneumonitis_negative/P0644\n",
      "Index 3, description 3mm Chest  3.0  B35s at /home/lam3654/MSAI_pneumonitis/data/train/small_pneumonitis_negative/P0644\n",
      "Index 4, description THORAX  3.0  B35f  at /home/lam3654/MSAI_pneumonitis/data/train/small_pneumonitis_negative/P0644\n",
      "Index 5, description None at None\n",
      "6 unique series IDs were found. Default is index 0, to change use set_index(index)\n",
      "Lacking ['llung'] in index 1, location /home/lam3654/MSAI_pneumonitis/data/train/small_pneumonitis_negative/P0644. Found []\n",
      "Lacking ['llung'] in index 2, location /home/lam3654/MSAI_pneumonitis/data/train/small_pneumonitis_negative/P0644. Found []\n",
      "Lacking ['llung'] in index 3, location /home/lam3654/MSAI_pneumonitis/data/train/small_pneumonitis_negative/P0644. Found []\n",
      "Lacking ['llung'] in index 4, location /home/lam3654/MSAI_pneumonitis/data/train/small_pneumonitis_negative/P0644. Found []\n",
      "Contour names or associations changed, resetting mask\n",
      "The following indexes have all ROIs present\n",
      "Index 0, located at /home/lam3654/MSAI_pneumonitis/data/train/small_pneumonitis_negative/P0644\n",
      "Finished listing present indexes\n",
      "Loading images for O-MAR  at \n",
      " /home/lam3654/MSAI_pneumonitis/data/train/small_pneumonitis_negative/P0644\n",
      "\n",
      "Erasing any previous mask as we load a new new image set\n"
     ]
    },
    {
     "name": "stderr",
     "output_type": "stream",
     "text": [
      "Loading through DICOM files:   0%|                                                                              | 0/1 [00:00<?, ?it/s]"
     ]
    },
    {
     "name": "stdout",
     "output_type": "stream",
     "text": [
      "Loading from /home/lam3654/MSAI_pneumonitis/data/train/pneumonitis_positive/P0535\n"
     ]
    },
    {
     "name": "stderr",
     "output_type": "stream",
     "text": [
      "Loading through DICOM files: 100%|██████████████████████████████████████████████████████████████████████| 1/1 [00:11<00:00, 11.42s/it]\n"
     ]
    },
    {
     "name": "stdout",
     "output_type": "stream",
     "text": [
      "Compiling dictionaries together...\n",
      "Index 0, description 3mm Chest  3.0  B35s at /home/lam3654/MSAI_pneumonitis/data/train/pneumonitis_positive/P0535\n",
      "Index 1, description 3mm Chest  3.0  B35s at /home/lam3654/MSAI_pneumonitis/data/train/pneumonitis_positive/P0535\n",
      "Index 2, description NEW 4DCT/OncoBody  at /home/lam3654/MSAI_pneumonitis/data/train/pneumonitis_positive/P0535\n",
      "Index 3, description None at None\n",
      "4 unique series IDs were found. Default is index 0, to change use set_index(index)\n",
      "Lacking ['llung'] in index 0, location /home/lam3654/MSAI_pneumonitis/data/train/pneumonitis_positive/P0535. Found []\n",
      "Lacking ['llung'] in index 1, location /home/lam3654/MSAI_pneumonitis/data/train/pneumonitis_positive/P0535. Found []\n",
      "Contour names or associations changed, resetting mask\n",
      "The following indexes have all ROIs present\n",
      "Index 2, located at /home/lam3654/MSAI_pneumonitis/data/train/pneumonitis_positive/P0535\n",
      "Finished listing present indexes\n",
      "Loading images for NEW 4DCT/OncoBody  at \n",
      " /home/lam3654/MSAI_pneumonitis/data/train/pneumonitis_positive/P0535\n",
      "\n",
      "Erasing any previous mask as we load a new new image set\n"
     ]
    },
    {
     "name": "stderr",
     "output_type": "stream",
     "text": [
      "Loading through DICOM files:   0%|                                                                              | 0/1 [00:00<?, ?it/s]"
     ]
    },
    {
     "name": "stdout",
     "output_type": "stream",
     "text": [
      "Loading from /home/lam3654/MSAI_pneumonitis/data/train/pneumonitis_positive/P0695\n"
     ]
    },
    {
     "name": "stderr",
     "output_type": "stream",
     "text": [
      "Loading through DICOM files: 100%|██████████████████████████████████████████████████████████████████████| 1/1 [00:17<00:00, 17.34s/it]\n"
     ]
    },
    {
     "name": "stdout",
     "output_type": "stream",
     "text": [
      "Compiling dictionaries together...\n",
      "Index 0, description 4D CT/OncoBody at /home/lam3654/MSAI_pneumonitis/data/train/pneumonitis_positive/P0695\n",
      "Index 1, description 3mm Chest  3.0  B35s at /home/lam3654/MSAI_pneumonitis/data/train/pneumonitis_positive/P0695\n",
      "Index 2, description 3mm Chest  3.0  B35s at /home/lam3654/MSAI_pneumonitis/data/train/pneumonitis_positive/P0695\n",
      "Index 3, description 3mm Chest  3.0  B35s at /home/lam3654/MSAI_pneumonitis/data/train/pneumonitis_positive/P0695\n",
      "Index 4, description None at None\n",
      "5 unique series IDs were found. Default is index 0, to change use set_index(index)\n",
      "Lacking ['llung'] in index 1, location /home/lam3654/MSAI_pneumonitis/data/train/pneumonitis_positive/P0695. Found []\n",
      "Lacking ['llung'] in index 2, location /home/lam3654/MSAI_pneumonitis/data/train/pneumonitis_positive/P0695. Found []\n",
      "Lacking ['llung'] in index 3, location /home/lam3654/MSAI_pneumonitis/data/train/pneumonitis_positive/P0695. Found []\n",
      "Contour names or associations changed, resetting mask\n",
      "The following indexes have all ROIs present\n",
      "Index 0, located at /home/lam3654/MSAI_pneumonitis/data/train/pneumonitis_positive/P0695\n",
      "Finished listing present indexes\n",
      "Loading images for 4D CT/OncoBody at \n",
      " /home/lam3654/MSAI_pneumonitis/data/train/pneumonitis_positive/P0695\n",
      "\n",
      "Erasing any previous mask as we load a new new image set\n"
     ]
    },
    {
     "name": "stderr",
     "output_type": "stream",
     "text": [
      "Loading through DICOM files:   0%|                                                                              | 0/1 [00:00<?, ?it/s]"
     ]
    },
    {
     "name": "stdout",
     "output_type": "stream",
     "text": [
      "Loading from /home/lam3654/MSAI_pneumonitis/data/train/pneumonitis_positive/P0356\n"
     ]
    },
    {
     "name": "stderr",
     "output_type": "stream",
     "text": [
      "Loading through DICOM files: 100%|██████████████████████████████████████████████████████████████████████| 1/1 [00:07<00:00,  7.82s/it]\n"
     ]
    },
    {
     "name": "stdout",
     "output_type": "stream",
     "text": [
      "Compiling dictionaries together...\n",
      "Index 0, description AVG 0.0,10.0,20.0,30.0,40.0,50.0,60.0,70.0,80.0,90.0 at /home/lam3654/MSAI_pneumonitis/data/train/pneumonitis_positive/P0356\n",
      "Index 1, description CHEST  at /home/lam3654/MSAI_pneumonitis/data/train/pneumonitis_positive/P0356\n",
      "Index 2, description None at None\n",
      "3 unique series IDs were found. Default is index 0, to change use set_index(index)\n",
      "Lacking ['llung'] in index 1, location /home/lam3654/MSAI_pneumonitis/data/train/pneumonitis_positive/P0356. Found []\n",
      "Contour names or associations changed, resetting mask\n",
      "The following indexes have all ROIs present\n",
      "Index 0, located at /home/lam3654/MSAI_pneumonitis/data/train/pneumonitis_positive/P0356\n",
      "Finished listing present indexes\n",
      "Loading images for AVG 0.0,10.0,20.0,30.0,40.0,50.0,60.0,70.0,80.0,90.0 at \n",
      " /home/lam3654/MSAI_pneumonitis/data/train/pneumonitis_positive/P0356\n",
      "\n",
      "Erasing any previous mask as we load a new new image set\n"
     ]
    },
    {
     "name": "stderr",
     "output_type": "stream",
     "text": [
      "Loading through DICOM files:   0%|                                                                              | 0/1 [00:00<?, ?it/s]"
     ]
    },
    {
     "name": "stdout",
     "output_type": "stream",
     "text": [
      "Loading from /home/lam3654/MSAI_pneumonitis/data/train/small_pneumonitis_negative/P1058\n"
     ]
    },
    {
     "name": "stderr",
     "output_type": "stream",
     "text": [
      "Loading through DICOM files: 100%|██████████████████████████████████████████████████████████████████████| 1/1 [00:03<00:00,  3.12s/it]\n"
     ]
    },
    {
     "name": "stdout",
     "output_type": "stream",
     "text": [
      "Compiling dictionaries together...\n",
      "Index 0, description  at /home/lam3654/MSAI_pneumonitis/data/train/small_pneumonitis_negative/P1058\n",
      "Index 1, description None at None\n",
      "2 unique series IDs were found. Default is index 0, to change use set_index(index)\n",
      "Contour names or associations changed, resetting mask\n",
      "The following indexes have all ROIs present\n",
      "Index 0, located at /home/lam3654/MSAI_pneumonitis/data/train/small_pneumonitis_negative/P1058\n",
      "Finished listing present indexes\n",
      "Loading images for  at \n",
      " /home/lam3654/MSAI_pneumonitis/data/train/small_pneumonitis_negative/P1058\n",
      "\n",
      "Erasing any previous mask as we load a new new image set\n"
     ]
    },
    {
     "name": "stderr",
     "output_type": "stream",
     "text": [
      "Loading through DICOM files:   0%|                                                                              | 0/1 [00:00<?, ?it/s]"
     ]
    },
    {
     "name": "stdout",
     "output_type": "stream",
     "text": [
      "Loading from /home/lam3654/MSAI_pneumonitis/data/train/pneumonitis_positive/P0670\n"
     ]
    },
    {
     "name": "stderr",
     "output_type": "stream",
     "text": [
      "Loading through DICOM files: 100%|██████████████████████████████████████████████████████████████████████| 1/1 [00:19<00:00, 19.40s/it]\n"
     ]
    },
    {
     "name": "stdout",
     "output_type": "stream",
     "text": [
      "Compiling dictionaries together...\n",
      "Index 0, description 3mm Chest  3.0  B35s at /home/lam3654/MSAI_pneumonitis/data/train/pneumonitis_positive/P0670\n",
      "Index 1, description 3mm Chest  3.0  B35s at /home/lam3654/MSAI_pneumonitis/data/train/pneumonitis_positive/P0670\n",
      "Index 2, description 3mm Chest  3.0  B35s at /home/lam3654/MSAI_pneumonitis/data/train/pneumonitis_positive/P0670\n",
      "Index 3, description 3mm Chest  3.0  B35s at /home/lam3654/MSAI_pneumonitis/data/train/pneumonitis_positive/P0670\n",
      "Index 4, description 4D CT/OncoBody at /home/lam3654/MSAI_pneumonitis/data/train/pneumonitis_positive/P0670\n",
      "Index 5, description None at None\n",
      "6 unique series IDs were found. Default is index 0, to change use set_index(index)\n",
      "Lacking ['llung'] in index 0, location /home/lam3654/MSAI_pneumonitis/data/train/pneumonitis_positive/P0670. Found []\n",
      "Lacking ['llung'] in index 1, location /home/lam3654/MSAI_pneumonitis/data/train/pneumonitis_positive/P0670. Found []\n",
      "Lacking ['llung'] in index 2, location /home/lam3654/MSAI_pneumonitis/data/train/pneumonitis_positive/P0670. Found []\n",
      "Lacking ['llung'] in index 3, location /home/lam3654/MSAI_pneumonitis/data/train/pneumonitis_positive/P0670. Found []\n",
      "Contour names or associations changed, resetting mask\n",
      "The following indexes have all ROIs present\n",
      "Index 4, located at /home/lam3654/MSAI_pneumonitis/data/train/pneumonitis_positive/P0670\n",
      "Finished listing present indexes\n",
      "Loading images for 4D CT/OncoBody at \n",
      " /home/lam3654/MSAI_pneumonitis/data/train/pneumonitis_positive/P0670\n",
      "\n",
      "Erasing any previous mask as we load a new new image set\n"
     ]
    },
    {
     "name": "stderr",
     "output_type": "stream",
     "text": [
      "Loading through DICOM files:  25%|█████████████████▌                                                    | 1/4 [00:00<00:00,  9.39it/s]"
     ]
    },
    {
     "name": "stdout",
     "output_type": "stream",
     "text": [
      "Loading from /home/lam3654/MSAI_pneumonitis/data/train/pneumonitis_positive/NU_0063/2018-12__Studies/NU.0063_NU.0063_CT_2018-12-01_145941_SBRT.Chest.planning_NU.0063_n164__00000\n",
      "Loading from /home/lam3654/MSAI_pneumonitis/data/train/pneumonitis_positive/NU_0063/2018-12__Studies/NU.0063_NU.0063_RTPLAN_2018-12-01_145941_MinIP.SBRT.Chest.planning_NU.0063_n1__00000\n",
      "Loading from /home/lam3654/MSAI_pneumonitis/data/train/pneumonitis_positive/NU_0063/2018-12__Studies/NU.0063_NU.0063_RTst_2018-12-01_145941_SBRT.Chest.planning_AY_n1__00000\n",
      "Loading from /home/lam3654/MSAI_pneumonitis/data/train/pneumonitis_positive/NU_0063/2018-12__Studies/NU.0063_NU.0063_RTDOSE_2018-12-01_145941_MinIP.SBRT.Chest.planning_NU.0063_n1__00000\n",
      "Had an error loading /home/lam3654/MSAI_pneumonitis/data/train/pneumonitis_positive/NU_0063/2018-12__Studies/NU.0063_NU.0063_RTPLAN_2018-12-01_145941_MinIP.SBRT.Chest.planning_NU.0063_n1__00000/2.16.840.1.114362.1.11940992.22933840372.569052301.996.1566.dcm\n"
     ]
    },
    {
     "name": "stderr",
     "output_type": "stream",
     "text": [
      "Loading through DICOM files: 100%|██████████████████████████████████████████████████████████████████████| 4/4 [00:02<00:00,  1.36it/s]\n"
     ]
    },
    {
     "name": "stdout",
     "output_type": "stream",
     "text": [
      "Compiling dictionaries together...\n",
      "Index 0, description NU_0063  at /home/lam3654/MSAI_pneumonitis/data/train/pneumonitis_positive/NU_0063/2018-12__Studies/NU.0063_NU.0063_CT_2018-12-01_145941_SBRT.Chest.planning_NU.0063_n164__00000\n",
      "Index 1, description None at None\n",
      "2 unique series IDs were found. Default is index 0, to change use set_index(index)\n",
      "Contour names or associations changed, resetting mask\n",
      "The following indexes have all ROIs present\n",
      "Index 0, located at /home/lam3654/MSAI_pneumonitis/data/train/pneumonitis_positive/NU_0063/2018-12__Studies/NU.0063_NU.0063_CT_2018-12-01_145941_SBRT.Chest.planning_NU.0063_n164__00000\n",
      "Finished listing present indexes\n",
      "Loading images for NU_0063  at \n",
      " /home/lam3654/MSAI_pneumonitis/data/train/pneumonitis_positive/NU_0063/2018-12__Studies/NU.0063_NU.0063_CT_2018-12-01_145941_SBRT.Chest.planning_NU.0063_n164__00000\n",
      "\n",
      "Erasing any previous mask as we load a new new image set\n"
     ]
    },
    {
     "name": "stderr",
     "output_type": "stream",
     "text": [
      "Loading through DICOM files:   0%|                                                                              | 0/4 [00:00<?, ?it/s]"
     ]
    },
    {
     "name": "stdout",
     "output_type": "stream",
     "text": [
      "Loading from /home/lam3654/MSAI_pneumonitis/data/train/small_pneumonitis_negative/NU_0019/2018-07__Studies/NU.0019_NU.0019_RTPLAN_2018-07-11_162227_sbrt.lung.planning_NU.0019_n1__00000\n",
      "Loading from /home/lam3654/MSAI_pneumonitis/data/train/small_pneumonitis_negative/NU_0019/2018-07__Studies/NU.0019_NU.0019_CT_2018-07-11_162227_sbrt.lung.planning_NU.0019_n158__00000\n",
      "Loading from /home/lam3654/MSAI_pneumonitis/data/train/small_pneumonitis_negative/NU_0019/2018-07__Studies/NU.0019_NU.0019_RTDOSE_2018-07-11_162227_sbrt.lung.planning_NU.0019_n1__00000\n",
      "Loading from /home/lam3654/MSAI_pneumonitis/data/train/small_pneumonitis_negative/NU_0019/2018-07__Studies/NU.0019_NU.0019_RTst_2018-07-11_162227_sbrt.lung.planning_AY_n1__00000\n",
      "Had an error loading /home/lam3654/MSAI_pneumonitis/data/train/small_pneumonitis_negative/NU_0019/2018-07__Studies/NU.0019_NU.0019_RTPLAN_2018-07-11_162227_sbrt.lung.planning_NU.0019_n1__00000/2.16.840.1.114362.1.11940992.24327927514.584609494.501.403.dcm\n"
     ]
    },
    {
     "name": "stderr",
     "output_type": "stream",
     "text": [
      "Loading through DICOM files: 100%|██████████████████████████████████████████████████████████████████████| 4/4 [00:03<00:00,  1.29it/s]\n"
     ]
    },
    {
     "name": "stdout",
     "output_type": "stream",
     "text": [
      "Compiling dictionaries together...\n",
      "Index 0, description NU_0019  at /home/lam3654/MSAI_pneumonitis/data/train/small_pneumonitis_negative/NU_0019/2018-07__Studies/NU.0019_NU.0019_CT_2018-07-11_162227_sbrt.lung.planning_NU.0019_n158__00000\n",
      "Index 1, description None at None\n",
      "2 unique series IDs were found. Default is index 0, to change use set_index(index)\n",
      "Contour names or associations changed, resetting mask\n",
      "The following indexes have all ROIs present\n",
      "Index 0, located at /home/lam3654/MSAI_pneumonitis/data/train/small_pneumonitis_negative/NU_0019/2018-07__Studies/NU.0019_NU.0019_CT_2018-07-11_162227_sbrt.lung.planning_NU.0019_n158__00000\n",
      "Finished listing present indexes\n",
      "Loading images for NU_0019  at \n",
      " /home/lam3654/MSAI_pneumonitis/data/train/small_pneumonitis_negative/NU_0019/2018-07__Studies/NU.0019_NU.0019_CT_2018-07-11_162227_sbrt.lung.planning_NU.0019_n158__00000\n",
      "\n",
      "Erasing any previous mask as we load a new new image set\n"
     ]
    },
    {
     "name": "stderr",
     "output_type": "stream",
     "text": [
      "Loading through DICOM files:   0%|                                                                              | 0/1 [00:00<?, ?it/s]"
     ]
    },
    {
     "name": "stdout",
     "output_type": "stream",
     "text": [
      "Loading from /home/lam3654/MSAI_pneumonitis/data/train/small_pneumonitis_negative/P0665\n"
     ]
    },
    {
     "name": "stderr",
     "output_type": "stream",
     "text": [
      "Loading through DICOM files: 100%|██████████████████████████████████████████████████████████████████████| 1/1 [01:01<00:00, 61.18s/it]\n"
     ]
    },
    {
     "name": "stdout",
     "output_type": "stream",
     "text": [
      "Compiling dictionaries together...\n",
      "Index 0, description 3mm Chest  3.0  B35s at /home/lam3654/MSAI_pneumonitis/data/train/small_pneumonitis_negative/P0665\n",
      "Index 1, description 3mm Chest  3.0  B35s at /home/lam3654/MSAI_pneumonitis/data/train/small_pneumonitis_negative/P0665\n",
      "Index 2, description ThorRoutine  3.0  B41f at /home/lam3654/MSAI_pneumonitis/data/train/small_pneumonitis_negative/P0665\n",
      "Index 3, description 3mm Chest  3.0  B35s at /home/lam3654/MSAI_pneumonitis/data/train/small_pneumonitis_negative/P0665\n",
      "Index 4, description 3mm Chest  3.0  B35s at /home/lam3654/MSAI_pneumonitis/data/train/small_pneumonitis_negative/P0665\n",
      "Index 5, description 3mm Chest  3.0  B35s at /home/lam3654/MSAI_pneumonitis/data/train/small_pneumonitis_negative/P0665\n",
      "Index 6, description 3mm Chest  3.0  B35s at /home/lam3654/MSAI_pneumonitis/data/train/small_pneumonitis_negative/P0665\n",
      "Index 7, description 3mm Chest  3.0  B35s at /home/lam3654/MSAI_pneumonitis/data/train/small_pneumonitis_negative/P0665\n",
      "Index 8, description 3mm Chest  3.0  B35s at /home/lam3654/MSAI_pneumonitis/data/train/small_pneumonitis_negative/P0665\n",
      "Index 9, description 4D CT/OncoBody at /home/lam3654/MSAI_pneumonitis/data/train/small_pneumonitis_negative/P0665\n",
      "Index 10, description None at None\n",
      "11 unique series IDs were found. Default is index 0, to change use set_index(index)\n",
      "Lacking ['llung'] in index 0, location /home/lam3654/MSAI_pneumonitis/data/train/small_pneumonitis_negative/P0665. Found []\n",
      "Lacking ['llung'] in index 1, location /home/lam3654/MSAI_pneumonitis/data/train/small_pneumonitis_negative/P0665. Found []\n",
      "Lacking ['llung'] in index 2, location /home/lam3654/MSAI_pneumonitis/data/train/small_pneumonitis_negative/P0665. Found []\n",
      "Lacking ['llung'] in index 3, location /home/lam3654/MSAI_pneumonitis/data/train/small_pneumonitis_negative/P0665. Found []\n",
      "Lacking ['llung'] in index 4, location /home/lam3654/MSAI_pneumonitis/data/train/small_pneumonitis_negative/P0665. Found []\n",
      "Lacking ['llung'] in index 5, location /home/lam3654/MSAI_pneumonitis/data/train/small_pneumonitis_negative/P0665. Found []\n",
      "Lacking ['llung'] in index 6, location /home/lam3654/MSAI_pneumonitis/data/train/small_pneumonitis_negative/P0665. Found []\n",
      "Lacking ['llung'] in index 7, location /home/lam3654/MSAI_pneumonitis/data/train/small_pneumonitis_negative/P0665. Found []\n",
      "Lacking ['llung'] in index 8, location /home/lam3654/MSAI_pneumonitis/data/train/small_pneumonitis_negative/P0665. Found []\n",
      "Contour names or associations changed, resetting mask\n",
      "The following indexes have all ROIs present\n",
      "Index 9, located at /home/lam3654/MSAI_pneumonitis/data/train/small_pneumonitis_negative/P0665\n",
      "Finished listing present indexes\n",
      "Loading images for 4D CT/OncoBody at \n",
      " /home/lam3654/MSAI_pneumonitis/data/train/small_pneumonitis_negative/P0665\n",
      "\n",
      "Erasing any previous mask as we load a new new image set\n"
     ]
    },
    {
     "name": "stderr",
     "output_type": "stream",
     "text": [
      "Loading through DICOM files:   0%|                                                                              | 0/1 [00:00<?, ?it/s]"
     ]
    },
    {
     "name": "stdout",
     "output_type": "stream",
     "text": [
      "Loading from /home/lam3654/MSAI_pneumonitis/data/train/small_pneumonitis_negative/P0296\n"
     ]
    },
    {
     "name": "stderr",
     "output_type": "stream",
     "text": [
      "Loading through DICOM files: 100%|██████████████████████████████████████████████████████████████████████| 1/1 [00:02<00:00,  2.08s/it]\n"
     ]
    },
    {
     "name": "stdout",
     "output_type": "stream",
     "text": [
      "Compiling dictionaries together...\n",
      "Index 0, description 4D CT/OncoBody at /home/lam3654/MSAI_pneumonitis/data/train/small_pneumonitis_negative/P0296\n",
      "Index 1, description None at None\n",
      "2 unique series IDs were found. Default is index 0, to change use set_index(index)\n",
      "Contour names or associations changed, resetting mask\n",
      "The following indexes have all ROIs present\n",
      "Index 0, located at /home/lam3654/MSAI_pneumonitis/data/train/small_pneumonitis_negative/P0296\n",
      "Finished listing present indexes\n",
      "Loading images for 4D CT/OncoBody at \n",
      " /home/lam3654/MSAI_pneumonitis/data/train/small_pneumonitis_negative/P0296\n",
      "\n",
      "Erasing any previous mask as we load a new new image set\n"
     ]
    },
    {
     "name": "stderr",
     "output_type": "stream",
     "text": [
      "Loading through DICOM files:   0%|                                                                              | 0/1 [00:00<?, ?it/s]"
     ]
    },
    {
     "name": "stdout",
     "output_type": "stream",
     "text": [
      "Loading from /home/lam3654/MSAI_pneumonitis/data/train/pneumonitis_positive/P0468\n"
     ]
    },
    {
     "name": "stderr",
     "output_type": "stream",
     "text": [
      "Loading through DICOM files: 100%|██████████████████████████████████████████████████████████████████████| 1/1 [00:10<00:00, 10.59s/it]\n"
     ]
    },
    {
     "name": "stdout",
     "output_type": "stream",
     "text": [
      "Compiling dictionaries together...\n",
      "Index 0, description AVG 0.0,10.0,20.0,30.0,40.0,50.0,60.0,70.0,80.0,90.0 at /home/lam3654/MSAI_pneumonitis/data/train/pneumonitis_positive/P0468\n",
      "Index 1, description 3mm Chest  3.0  B35s at /home/lam3654/MSAI_pneumonitis/data/train/pneumonitis_positive/P0468\n",
      "Index 2, description Chest 3mm  3.0  B35f at /home/lam3654/MSAI_pneumonitis/data/train/pneumonitis_positive/P0468\n",
      "Index 3, description None at None\n",
      "4 unique series IDs were found. Default is index 0, to change use set_index(index)\n",
      "Lacking ['llung'] in index 1, location /home/lam3654/MSAI_pneumonitis/data/train/pneumonitis_positive/P0468. Found []\n",
      "Lacking ['llung'] in index 2, location /home/lam3654/MSAI_pneumonitis/data/train/pneumonitis_positive/P0468. Found []\n",
      "Contour names or associations changed, resetting mask\n",
      "The following indexes have all ROIs present\n",
      "Index 0, located at /home/lam3654/MSAI_pneumonitis/data/train/pneumonitis_positive/P0468\n",
      "Finished listing present indexes\n",
      "Loading images for AVG 0.0,10.0,20.0,30.0,40.0,50.0,60.0,70.0,80.0,90.0 at \n",
      " /home/lam3654/MSAI_pneumonitis/data/train/pneumonitis_positive/P0468\n",
      "\n",
      "Erasing any previous mask as we load a new new image set\n"
     ]
    },
    {
     "name": "stderr",
     "output_type": "stream",
     "text": [
      "Loading through DICOM files:   0%|                                                                              | 0/1 [00:00<?, ?it/s]"
     ]
    },
    {
     "name": "stdout",
     "output_type": "stream",
     "text": [
      "Loading from /home/lam3654/MSAI_pneumonitis/data/train/pneumonitis_positive/P1087\n"
     ]
    },
    {
     "name": "stderr",
     "output_type": "stream",
     "text": [
      "Loading through DICOM files: 100%|██████████████████████████████████████████████████████████████████████| 1/1 [00:02<00:00,  2.34s/it]\n"
     ]
    },
    {
     "name": "stdout",
     "output_type": "stream",
     "text": [
      "Compiling dictionaries together...\n",
      "Index 0, description  at /home/lam3654/MSAI_pneumonitis/data/train/pneumonitis_positive/P1087\n",
      "1 unique series IDs were found. Default is index 0, to change use set_index(index)\n",
      "Contour names or associations changed, resetting mask\n",
      "The following indexes have all ROIs present\n",
      "Index 0, located at /home/lam3654/MSAI_pneumonitis/data/train/pneumonitis_positive/P1087\n",
      "Finished listing present indexes\n",
      "Loading images for  at \n",
      " /home/lam3654/MSAI_pneumonitis/data/train/pneumonitis_positive/P1087\n",
      "\n",
      "Erasing any previous mask as we load a new new image set\n"
     ]
    },
    {
     "name": "stderr",
     "output_type": "stream",
     "text": [
      "Loading through DICOM files:   0%|                                                                              | 0/1 [00:00<?, ?it/s]"
     ]
    },
    {
     "name": "stdout",
     "output_type": "stream",
     "text": [
      "Loading from /home/lam3654/MSAI_pneumonitis/data/train/small_pneumonitis_negative/P0541\n"
     ]
    },
    {
     "name": "stderr",
     "output_type": "stream",
     "text": [
      "Loading through DICOM files: 100%|██████████████████████████████████████████████████████████████████████| 1/1 [00:20<00:00, 20.37s/it]\n"
     ]
    },
    {
     "name": "stdout",
     "output_type": "stream",
     "text": [
      "Compiling dictionaries together...\n",
      "Index 0, description 4D CT/OncoBody at /home/lam3654/MSAI_pneumonitis/data/train/small_pneumonitis_negative/P0541\n",
      "Index 1, description CHEST  3.0  B35f at /home/lam3654/MSAI_pneumonitis/data/train/small_pneumonitis_negative/P0541\n",
      "Index 2, description 3mm Chest  3.0  B35s at /home/lam3654/MSAI_pneumonitis/data/train/small_pneumonitis_negative/P0541\n",
      "Index 3, description 3mm Chest  3.0  B35s at /home/lam3654/MSAI_pneumonitis/data/train/small_pneumonitis_negative/P0541\n",
      "Index 4, description 3mm Chest  3.0  B35s at /home/lam3654/MSAI_pneumonitis/data/train/small_pneumonitis_negative/P0541\n",
      "Index 5, description None at None\n",
      "6 unique series IDs were found. Default is index 0, to change use set_index(index)\n",
      "Lacking ['llung'] in index 1, location /home/lam3654/MSAI_pneumonitis/data/train/small_pneumonitis_negative/P0541. Found []\n",
      "Lacking ['llung'] in index 2, location /home/lam3654/MSAI_pneumonitis/data/train/small_pneumonitis_negative/P0541. Found []\n",
      "Lacking ['llung'] in index 3, location /home/lam3654/MSAI_pneumonitis/data/train/small_pneumonitis_negative/P0541. Found []\n",
      "Lacking ['llung'] in index 4, location /home/lam3654/MSAI_pneumonitis/data/train/small_pneumonitis_negative/P0541. Found []\n",
      "Contour names or associations changed, resetting mask\n",
      "The following indexes have all ROIs present\n",
      "Index 0, located at /home/lam3654/MSAI_pneumonitis/data/train/small_pneumonitis_negative/P0541\n",
      "Finished listing present indexes\n",
      "Loading images for 4D CT/OncoBody at \n",
      " /home/lam3654/MSAI_pneumonitis/data/train/small_pneumonitis_negative/P0541\n",
      "\n",
      "Erasing any previous mask as we load a new new image set\n"
     ]
    },
    {
     "name": "stderr",
     "output_type": "stream",
     "text": [
      "Loading through DICOM files:   0%|                                                                              | 0/4 [00:00<?, ?it/s]"
     ]
    },
    {
     "name": "stdout",
     "output_type": "stream",
     "text": [
      "Loading from /home/lam3654/MSAI_pneumonitis/data/train/pneumonitis_positive/NU_0152/2015-12__Studies/NU.0152_NU.0152_RTPLAN_2015-12-10_133644_SBRT.Lung.plan_NU.0152_n1__00000\n",
      "Loading from /home/lam3654/MSAI_pneumonitis/data/train/pneumonitis_positive/NU_0152/2015-12__Studies/NU.0152_NU.0152_CT_2015-12-10_133644_SBRT.Lung.plan_NU.0152_n155__00000\n",
      "Loading from /home/lam3654/MSAI_pneumonitis/data/train/pneumonitis_positive/NU_0152/2015-12__Studies/NU.0152_NU.0152_RTst_2015-12-10_133644_SBRT.Lung.plan_AY_n1__00000\n",
      "Loading from /home/lam3654/MSAI_pneumonitis/data/train/pneumonitis_positive/NU_0152/2015-12__Studies/NU.0152_NU.0152_RTDOSE_2015-12-10_133644_SBRT.Lung.plan_NU.0152_n1__00000\n",
      "Had an error loading /home/lam3654/MSAI_pneumonitis/data/train/pneumonitis_positive/NU_0152/2015-12__Studies/NU.0152_NU.0152_RTPLAN_2015-12-10_133644_SBRT.Lung.plan_NU.0152_n1__00000/2.16.840.1.114362.1.11940992.22933840372.569051644.954.9.dcm\n"
     ]
    },
    {
     "name": "stderr",
     "output_type": "stream",
     "text": [
      "Loading through DICOM files: 100%|██████████████████████████████████████████████████████████████████████| 4/4 [00:02<00:00,  1.41it/s]\n"
     ]
    },
    {
     "name": "stdout",
     "output_type": "stream",
     "text": [
      "Compiling dictionaries together...\n",
      "Index 0, description NU_0152  at /home/lam3654/MSAI_pneumonitis/data/train/pneumonitis_positive/NU_0152/2015-12__Studies/NU.0152_NU.0152_CT_2015-12-10_133644_SBRT.Lung.plan_NU.0152_n155__00000\n",
      "Index 1, description None at None\n",
      "2 unique series IDs were found. Default is index 0, to change use set_index(index)\n",
      "Contour names or associations changed, resetting mask\n",
      "The following indexes have all ROIs present\n",
      "Index 0, located at /home/lam3654/MSAI_pneumonitis/data/train/pneumonitis_positive/NU_0152/2015-12__Studies/NU.0152_NU.0152_CT_2015-12-10_133644_SBRT.Lung.plan_NU.0152_n155__00000\n",
      "Finished listing present indexes\n",
      "Loading images for NU_0152  at \n",
      " /home/lam3654/MSAI_pneumonitis/data/train/pneumonitis_positive/NU_0152/2015-12__Studies/NU.0152_NU.0152_CT_2015-12-10_133644_SBRT.Lung.plan_NU.0152_n155__00000\n",
      "\n",
      "Erasing any previous mask as we load a new new image set\n"
     ]
    },
    {
     "name": "stderr",
     "output_type": "stream",
     "text": [
      "Loading through DICOM files:   0%|                                                                              | 0/1 [00:00<?, ?it/s]"
     ]
    },
    {
     "name": "stdout",
     "output_type": "stream",
     "text": [
      "Loading from /home/lam3654/MSAI_pneumonitis/data/train/small_pneumonitis_negative/P0972\n"
     ]
    },
    {
     "name": "stderr",
     "output_type": "stream",
     "text": [
      "Loading through DICOM files: 100%|██████████████████████████████████████████████████████████████████████| 1/1 [00:02<00:00,  2.54s/it]\n"
     ]
    },
    {
     "name": "stdout",
     "output_type": "stream",
     "text": [
      "Compiling dictionaries together...\n",
      "Index 0, description  at /home/lam3654/MSAI_pneumonitis/data/train/small_pneumonitis_negative/P0972\n",
      "1 unique series IDs were found. Default is index 0, to change use set_index(index)\n",
      "Contour names or associations changed, resetting mask\n",
      "The following indexes have all ROIs present\n",
      "Index 0, located at /home/lam3654/MSAI_pneumonitis/data/train/small_pneumonitis_negative/P0972\n",
      "Finished listing present indexes\n",
      "Loading images for  at \n",
      " /home/lam3654/MSAI_pneumonitis/data/train/small_pneumonitis_negative/P0972\n",
      "\n",
      "Erasing any previous mask as we load a new new image set\n"
     ]
    },
    {
     "name": "stderr",
     "output_type": "stream",
     "text": [
      "Loading through DICOM files:  75%|████████████████████████████████████████████████████▌                 | 3/4 [00:00<00:00, 22.86it/s]"
     ]
    },
    {
     "name": "stdout",
     "output_type": "stream",
     "text": [
      "Loading from /home/lam3654/MSAI_pneumonitis/data/train/small_pneumonitis_negative/NU_0247/2011-07__Studies/NU.0247_NU.0247_RTst_2011-07-19_115424_SBRT.Lung.Planning_JR.GTV_n1__00000\n",
      "Loading from /home/lam3654/MSAI_pneumonitis/data/train/small_pneumonitis_negative/NU_0247/2011-07__Studies/NU.0247_NU.0247_CT_2011-07-19_115424_SBRT.Lung.Planning_NU.0247_n190__00000\n",
      "Loading from /home/lam3654/MSAI_pneumonitis/data/train/small_pneumonitis_negative/NU_0247/2011-07__Studies/NU.0247_NU.0247_RTDOSE_2011-07-19_115424_._NU.0247_n1__00000\n",
      "Loading from /home/lam3654/MSAI_pneumonitis/data/train/small_pneumonitis_negative/NU_0247/2011-07__Studies/NU.0247_NU.0247_RTPLAN_2011-07-19_115424_._NU.0247_n1__00000\n",
      "Had an error loading /home/lam3654/MSAI_pneumonitis/data/train/small_pneumonitis_negative/NU_0247/2011-07__Studies/NU.0247_NU.0247_RTPLAN_2011-07-19_115424_._NU.0247_n1__00000/2.16.840.1.114362.1.11940992.22933840372.569572204.1092.7363.dcm\n"
     ]
    },
    {
     "name": "stderr",
     "output_type": "stream",
     "text": [
      "Loading through DICOM files: 100%|██████████████████████████████████████████████████████████████████████| 4/4 [00:03<00:00,  1.10it/s]\n"
     ]
    },
    {
     "name": "stdout",
     "output_type": "stream",
     "text": [
      "Compiling dictionaries together...\n",
      "Index 0, description NU_0247  at /home/lam3654/MSAI_pneumonitis/data/train/small_pneumonitis_negative/NU_0247/2011-07__Studies/NU.0247_NU.0247_CT_2011-07-19_115424_SBRT.Lung.Planning_NU.0247_n190__00000\n",
      "Index 1, description None at None\n",
      "2 unique series IDs were found. Default is index 0, to change use set_index(index)\n",
      "Lacking ['llung'] in index 0, location /home/lam3654/MSAI_pneumonitis/data/train/small_pneumonitis_negative/NU_0247/2011-07__Studies/NU.0247_NU.0247_CT_2011-07-19_115424_SBRT.Lung.Planning_NU.0247_n190__00000. Found ['gtv']\n",
      "Contour names or associations changed, resetting mask\n",
      "The following indexes have all ROIs present\n",
      "Finished listing present indexes\n"
     ]
    },
    {
     "name": "stderr",
     "output_type": "stream",
     "text": [
      "Loading through DICOM files:   0%|                                                                              | 0/1 [00:00<?, ?it/s]"
     ]
    },
    {
     "name": "stdout",
     "output_type": "stream",
     "text": [
      "Loading from /home/lam3654/MSAI_pneumonitis/data/train/small_pneumonitis_negative/P0639\n"
     ]
    },
    {
     "name": "stderr",
     "output_type": "stream",
     "text": [
      "Loading through DICOM files: 100%|██████████████████████████████████████████████████████████████████████| 1/1 [00:34<00:00, 34.78s/it]\n"
     ]
    },
    {
     "name": "stdout",
     "output_type": "stream",
     "text": [
      "Compiling dictionaries together...\n",
      "Index 0, description 4D CT/OncoBody at /home/lam3654/MSAI_pneumonitis/data/train/small_pneumonitis_negative/P0639\n",
      "Index 1, description 3mm Chest  3.0  B35s at /home/lam3654/MSAI_pneumonitis/data/train/small_pneumonitis_negative/P0639\n",
      "Index 2, description 3mm Chest  3.0  B35s at /home/lam3654/MSAI_pneumonitis/data/train/small_pneumonitis_negative/P0639\n",
      "Index 3, description 3mm Chest  3.0  B35s at /home/lam3654/MSAI_pneumonitis/data/train/small_pneumonitis_negative/P0639\n",
      "Index 4, description 3mm Chest  3.0  B35s at /home/lam3654/MSAI_pneumonitis/data/train/small_pneumonitis_negative/P0639\n",
      "Index 5, description PE CHEST  1.0  B30f  at /home/lam3654/MSAI_pneumonitis/data/train/small_pneumonitis_negative/P0639\n",
      "Index 6, description 3mm Chest  3.0  B35s at /home/lam3654/MSAI_pneumonitis/data/train/small_pneumonitis_negative/P0639\n",
      "Index 7, description None at None\n",
      "8 unique series IDs were found. Default is index 0, to change use set_index(index)\n",
      "Lacking ['llung'] in index 1, location /home/lam3654/MSAI_pneumonitis/data/train/small_pneumonitis_negative/P0639. Found []\n",
      "Lacking ['llung'] in index 2, location /home/lam3654/MSAI_pneumonitis/data/train/small_pneumonitis_negative/P0639. Found []\n",
      "Lacking ['llung'] in index 3, location /home/lam3654/MSAI_pneumonitis/data/train/small_pneumonitis_negative/P0639. Found []\n",
      "Lacking ['llung'] in index 4, location /home/lam3654/MSAI_pneumonitis/data/train/small_pneumonitis_negative/P0639. Found []\n",
      "Lacking ['llung'] in index 5, location /home/lam3654/MSAI_pneumonitis/data/train/small_pneumonitis_negative/P0639. Found []\n",
      "Lacking ['llung'] in index 6, location /home/lam3654/MSAI_pneumonitis/data/train/small_pneumonitis_negative/P0639. Found []\n",
      "Contour names or associations changed, resetting mask\n",
      "The following indexes have all ROIs present\n",
      "Index 0, located at /home/lam3654/MSAI_pneumonitis/data/train/small_pneumonitis_negative/P0639\n",
      "Finished listing present indexes\n",
      "Loading images for 4D CT/OncoBody at \n",
      " /home/lam3654/MSAI_pneumonitis/data/train/small_pneumonitis_negative/P0639\n",
      "\n",
      "Erasing any previous mask as we load a new new image set\n"
     ]
    },
    {
     "name": "stderr",
     "output_type": "stream",
     "text": [
      "Loading through DICOM files:   0%|                                                                              | 0/1 [00:00<?, ?it/s]"
     ]
    },
    {
     "name": "stdout",
     "output_type": "stream",
     "text": [
      "Loading from /home/lam3654/MSAI_pneumonitis/data/train/small_pneumonitis_negative/P1186\n"
     ]
    },
    {
     "name": "stderr",
     "output_type": "stream",
     "text": [
      "Loading through DICOM files: 100%|█████████████████████████████████████████████████████████████████████| 1/1 [02:59<00:00, 179.31s/it]\n"
     ]
    },
    {
     "name": "stdout",
     "output_type": "stream",
     "text": [
      "Compiling dictionaries together...\n",
      "Index 0, description ABC 1; AVG BODY/OncoBody at /home/lam3654/MSAI_pneumonitis/data/train/small_pneumonitis_negative/P1186\n",
      "Index 1, description 3MMCHEST  3.0  B35f  at /home/lam3654/MSAI_pneumonitis/data/train/small_pneumonitis_negative/P1186\n",
      "Index 2, description 3mm Chest  3.0  B35s at /home/lam3654/MSAI_pneumonitis/data/train/small_pneumonitis_negative/P1186\n",
      "Index 3, description 3mm Chest  3.0  B35s at /home/lam3654/MSAI_pneumonitis/data/train/small_pneumonitis_negative/P1186\n",
      "Index 4, description 3mm Chest  3.0  B35s at /home/lam3654/MSAI_pneumonitis/data/train/small_pneumonitis_negative/P1186\n",
      "Index 5, description 3mm Chest  3.0  B35s at /home/lam3654/MSAI_pneumonitis/data/train/small_pneumonitis_negative/P1186\n",
      "Index 6, description 3mm Chest  3.0  B35s at /home/lam3654/MSAI_pneumonitis/data/train/small_pneumonitis_negative/P1186\n",
      "Index 7, description 3mm Chest  3.0  B35s at /home/lam3654/MSAI_pneumonitis/data/train/small_pneumonitis_negative/P1186\n",
      "Index 8, description 3mm Chest  3.0  B35s at /home/lam3654/MSAI_pneumonitis/data/train/small_pneumonitis_negative/P1186\n",
      "Index 9, description Chest  3.0  B35s at /home/lam3654/MSAI_pneumonitis/data/train/small_pneumonitis_negative/P1186\n",
      "Index 10, description Chest  3.0  B35s at /home/lam3654/MSAI_pneumonitis/data/train/small_pneumonitis_negative/P1186\n",
      "Index 11, description 3mm Chest  3.0  B35s at /home/lam3654/MSAI_pneumonitis/data/train/small_pneumonitis_negative/P1186\n",
      "Index 12, description CHEST 3MM  3.0  Qr36 at /home/lam3654/MSAI_pneumonitis/data/train/small_pneumonitis_negative/P1186\n",
      "Index 13, description None at None\n",
      "14 unique series IDs were found. Default is index 0, to change use set_index(index)\n",
      "Lacking ['llung'] in index 1, location /home/lam3654/MSAI_pneumonitis/data/train/small_pneumonitis_negative/P1186. Found []\n",
      "Lacking ['llung'] in index 2, location /home/lam3654/MSAI_pneumonitis/data/train/small_pneumonitis_negative/P1186. Found []\n",
      "Lacking ['llung'] in index 3, location /home/lam3654/MSAI_pneumonitis/data/train/small_pneumonitis_negative/P1186. Found []\n",
      "Lacking ['llung'] in index 4, location /home/lam3654/MSAI_pneumonitis/data/train/small_pneumonitis_negative/P1186. Found []\n",
      "Lacking ['llung'] in index 5, location /home/lam3654/MSAI_pneumonitis/data/train/small_pneumonitis_negative/P1186. Found []\n",
      "Lacking ['llung'] in index 6, location /home/lam3654/MSAI_pneumonitis/data/train/small_pneumonitis_negative/P1186. Found []\n",
      "Lacking ['llung'] in index 7, location /home/lam3654/MSAI_pneumonitis/data/train/small_pneumonitis_negative/P1186. Found []\n",
      "Lacking ['llung'] in index 8, location /home/lam3654/MSAI_pneumonitis/data/train/small_pneumonitis_negative/P1186. Found []\n",
      "Lacking ['llung'] in index 9, location /home/lam3654/MSAI_pneumonitis/data/train/small_pneumonitis_negative/P1186. Found []\n",
      "Lacking ['llung'] in index 10, location /home/lam3654/MSAI_pneumonitis/data/train/small_pneumonitis_negative/P1186. Found []\n",
      "Lacking ['llung'] in index 11, location /home/lam3654/MSAI_pneumonitis/data/train/small_pneumonitis_negative/P1186. Found []\n",
      "Lacking ['llung'] in index 12, location /home/lam3654/MSAI_pneumonitis/data/train/small_pneumonitis_negative/P1186. Found []\n",
      "Contour names or associations changed, resetting mask\n",
      "The following indexes have all ROIs present\n",
      "Index 0, located at /home/lam3654/MSAI_pneumonitis/data/train/small_pneumonitis_negative/P1186\n",
      "Finished listing present indexes\n",
      "Loading images for ABC 1; AVG BODY/OncoBody at \n",
      " /home/lam3654/MSAI_pneumonitis/data/train/small_pneumonitis_negative/P1186\n",
      "\n",
      "Erasing any previous mask as we load a new new image set\n"
     ]
    },
    {
     "name": "stderr",
     "output_type": "stream",
     "text": [
      "Loading through DICOM files:   0%|                                                                              | 0/1 [00:00<?, ?it/s]"
     ]
    },
    {
     "name": "stdout",
     "output_type": "stream",
     "text": [
      "Loading from /home/lam3654/MSAI_pneumonitis/data/train/small_pneumonitis_negative/P1219\n"
     ]
    },
    {
     "name": "stderr",
     "output_type": "stream",
     "text": [
      "Loading through DICOM files: 100%|██████████████████████████████████████████████████████████████████████| 1/1 [00:20<00:00, 20.09s/it]\n"
     ]
    },
    {
     "name": "stdout",
     "output_type": "stream",
     "text": [
      "Compiling dictionaries together...\n",
      "Index 0, description  at /home/lam3654/MSAI_pneumonitis/data/train/small_pneumonitis_negative/P1219\n",
      "Index 1, description THORAX  3.0  B35f  at /home/lam3654/MSAI_pneumonitis/data/train/small_pneumonitis_negative/P1219\n",
      "Index 2, description 3mm Chest  3.0  B35s at /home/lam3654/MSAI_pneumonitis/data/train/small_pneumonitis_negative/P1219\n",
      "Index 3, description 3mm Chest  3.0  B35s at /home/lam3654/MSAI_pneumonitis/data/train/small_pneumonitis_negative/P1219\n",
      "Index 4, description THORAX  3.0  B35f  at /home/lam3654/MSAI_pneumonitis/data/train/small_pneumonitis_negative/P1219\n",
      "Index 5, description None at None\n",
      "6 unique series IDs were found. Default is index 0, to change use set_index(index)\n",
      "Lacking ['llung'] in index 1, location /home/lam3654/MSAI_pneumonitis/data/train/small_pneumonitis_negative/P1219. Found []\n",
      "Lacking ['llung'] in index 2, location /home/lam3654/MSAI_pneumonitis/data/train/small_pneumonitis_negative/P1219. Found []\n",
      "Lacking ['llung'] in index 3, location /home/lam3654/MSAI_pneumonitis/data/train/small_pneumonitis_negative/P1219. Found []\n",
      "Lacking ['llung'] in index 4, location /home/lam3654/MSAI_pneumonitis/data/train/small_pneumonitis_negative/P1219. Found []\n",
      "Contour names or associations changed, resetting mask\n",
      "The following indexes have all ROIs present\n",
      "Index 0, located at /home/lam3654/MSAI_pneumonitis/data/train/small_pneumonitis_negative/P1219\n",
      "Finished listing present indexes\n",
      "Loading images for  at \n",
      " /home/lam3654/MSAI_pneumonitis/data/train/small_pneumonitis_negative/P1219\n",
      "\n",
      "Erasing any previous mask as we load a new new image set\n"
     ]
    },
    {
     "name": "stderr",
     "output_type": "stream",
     "text": [
      "Loading through DICOM files:  25%|█████████████████▌                                                    | 1/4 [00:00<00:00,  6.74it/s]"
     ]
    },
    {
     "name": "stdout",
     "output_type": "stream",
     "text": [
      "Loading from /home/lam3654/MSAI_pneumonitis/data/train/pneumonitis_positive/NU_0190/2011-12__Studies/NU.0190_NU.0190_RTPLAN_2011-12-12_110757_SBRT.Lung.planning..bellows_NU.0190_n1__00000\n",
      "Loading from /home/lam3654/MSAI_pneumonitis/data/train/pneumonitis_positive/NU_0190/2011-12__Studies/NU.0190_NU.0190_RTDOSE_2011-12-12_110757_SBRT.Lung.planning..bellows_NU.0190_n1__00000\n",
      "Loading from /home/lam3654/MSAI_pneumonitis/data/train/pneumonitis_positive/NU_0190/2011-12__Studies/NU.0190_NU.0190_CT_2011-12-12_110757_SBRT.Lung.planning..bellows_NU.0190_n196__00000\n",
      "Loading from /home/lam3654/MSAI_pneumonitis/data/train/pneumonitis_positive/NU_0190/2011-12__Studies/NU.0190_NU.0190_RTst_2011-12-12_110757_SBRT.Lung.planning..bellows_AY_n1__00000\n",
      "Had an error loading /home/lam3654/MSAI_pneumonitis/data/train/pneumonitis_positive/NU_0190/2011-12__Studies/NU.0190_NU.0190_RTPLAN_2011-12-12_110757_SBRT.Lung.planning..bellows_NU.0190_n1__00000/2.16.840.1.114362.1.11940992.22933840372.569049358.706.4636.dcm\n"
     ]
    },
    {
     "name": "stderr",
     "output_type": "stream",
     "text": [
      "Loading through DICOM files: 100%|██████████████████████████████████████████████████████████████████████| 4/4 [00:03<00:00,  1.11it/s]\n"
     ]
    },
    {
     "name": "stdout",
     "output_type": "stream",
     "text": [
      "Compiling dictionaries together...\n",
      "Index 0, description NU_0190  at /home/lam3654/MSAI_pneumonitis/data/train/pneumonitis_positive/NU_0190/2011-12__Studies/NU.0190_NU.0190_CT_2011-12-12_110757_SBRT.Lung.planning..bellows_NU.0190_n196__00000\n",
      "Index 1, description None at None\n",
      "2 unique series IDs were found. Default is index 0, to change use set_index(index)\n",
      "Contour names or associations changed, resetting mask\n",
      "The following indexes have all ROIs present\n",
      "Index 0, located at /home/lam3654/MSAI_pneumonitis/data/train/pneumonitis_positive/NU_0190/2011-12__Studies/NU.0190_NU.0190_CT_2011-12-12_110757_SBRT.Lung.planning..bellows_NU.0190_n196__00000\n",
      "Finished listing present indexes\n",
      "Loading images for NU_0190  at \n",
      " /home/lam3654/MSAI_pneumonitis/data/train/pneumonitis_positive/NU_0190/2011-12__Studies/NU.0190_NU.0190_CT_2011-12-12_110757_SBRT.Lung.planning..bellows_NU.0190_n196__00000\n",
      "\n",
      "Erasing any previous mask as we load a new new image set\n"
     ]
    },
    {
     "name": "stderr",
     "output_type": "stream",
     "text": [
      "Loading through DICOM files:   0%|                                                                              | 0/1 [00:00<?, ?it/s]"
     ]
    },
    {
     "name": "stdout",
     "output_type": "stream",
     "text": [
      "Loading from /home/lam3654/MSAI_pneumonitis/data/train/pneumonitis_positive/P1069\n"
     ]
    },
    {
     "name": "stderr",
     "output_type": "stream",
     "text": [
      "Loading through DICOM files: 100%|██████████████████████████████████████████████████████████████████████| 1/1 [00:06<00:00,  6.82s/it]\n"
     ]
    },
    {
     "name": "stdout",
     "output_type": "stream",
     "text": [
      "Compiling dictionaries together...\n",
      "Index 0, description AVG 0.0,10.0,20.0,30.0,40.0,50.0,60.0,70.0,80.0,90.0 at /home/lam3654/MSAI_pneumonitis/data/train/pneumonitis_positive/P1069\n",
      "Index 1, description AXIAL MEDIASTINUM  at /home/lam3654/MSAI_pneumonitis/data/train/pneumonitis_positive/P1069\n",
      "Index 2, description None at None\n",
      "3 unique series IDs were found. Default is index 0, to change use set_index(index)\n",
      "Lacking ['llung'] in index 1, location /home/lam3654/MSAI_pneumonitis/data/train/pneumonitis_positive/P1069. Found []\n",
      "Contour names or associations changed, resetting mask\n",
      "The following indexes have all ROIs present\n",
      "Index 0, located at /home/lam3654/MSAI_pneumonitis/data/train/pneumonitis_positive/P1069\n",
      "Finished listing present indexes\n",
      "Loading images for AVG 0.0,10.0,20.0,30.0,40.0,50.0,60.0,70.0,80.0,90.0 at \n",
      " /home/lam3654/MSAI_pneumonitis/data/train/pneumonitis_positive/P1069\n",
      "\n",
      "Erasing any previous mask as we load a new new image set\n"
     ]
    },
    {
     "name": "stderr",
     "output_type": "stream",
     "text": [
      "Loading through DICOM files:   0%|                                                                              | 0/1 [00:00<?, ?it/s]"
     ]
    },
    {
     "name": "stdout",
     "output_type": "stream",
     "text": [
      "Loading from /home/lam3654/MSAI_pneumonitis/data/train/small_pneumonitis_negative/P1276\n"
     ]
    },
    {
     "name": "stderr",
     "output_type": "stream",
     "text": [
      "Loading through DICOM files: 100%|██████████████████████████████████████████████████████████████████████| 1/1 [00:37<00:00, 37.60s/it]\n"
     ]
    },
    {
     "name": "stdout",
     "output_type": "stream",
     "text": [
      "Compiling dictionaries together...\n",
      "Index 0, description AVG 0.0,10.0,20.0,30.0,40.0,50.0,60.0,70.0,80.0,90.0 at /home/lam3654/MSAI_pneumonitis/data/train/small_pneumonitis_negative/P1276\n",
      "Index 1, description Chest  3.0  B35s at /home/lam3654/MSAI_pneumonitis/data/train/small_pneumonitis_negative/P1276\n",
      "Index 2, description Chest  3.0  B35s at /home/lam3654/MSAI_pneumonitis/data/train/small_pneumonitis_negative/P1276\n",
      "Index 3, description 3mm Chest  3.0  B35s at /home/lam3654/MSAI_pneumonitis/data/train/small_pneumonitis_negative/P1276\n",
      "Index 4, description 3mm Chest  3.0  B35s at /home/lam3654/MSAI_pneumonitis/data/train/small_pneumonitis_negative/P1276\n",
      "Index 5, description Chest  3.0  B35s at /home/lam3654/MSAI_pneumonitis/data/train/small_pneumonitis_negative/P1276\n",
      "Index 6, description Chest  3.0  B35s at /home/lam3654/MSAI_pneumonitis/data/train/small_pneumonitis_negative/P1276\n",
      "Index 7, description Chest  3.0  B35s at /home/lam3654/MSAI_pneumonitis/data/train/small_pneumonitis_negative/P1276\n",
      "8 unique series IDs were found. Default is index 0, to change use set_index(index)\n",
      "Lacking ['llung'] in index 1, location /home/lam3654/MSAI_pneumonitis/data/train/small_pneumonitis_negative/P1276. Found []\n",
      "Lacking ['llung'] in index 2, location /home/lam3654/MSAI_pneumonitis/data/train/small_pneumonitis_negative/P1276. Found []\n",
      "Lacking ['llung'] in index 3, location /home/lam3654/MSAI_pneumonitis/data/train/small_pneumonitis_negative/P1276. Found []\n",
      "Lacking ['llung'] in index 4, location /home/lam3654/MSAI_pneumonitis/data/train/small_pneumonitis_negative/P1276. Found []\n",
      "Lacking ['llung'] in index 5, location /home/lam3654/MSAI_pneumonitis/data/train/small_pneumonitis_negative/P1276. Found []\n",
      "Lacking ['llung'] in index 6, location /home/lam3654/MSAI_pneumonitis/data/train/small_pneumonitis_negative/P1276. Found []\n",
      "Lacking ['llung'] in index 7, location /home/lam3654/MSAI_pneumonitis/data/train/small_pneumonitis_negative/P1276. Found []\n",
      "Contour names or associations changed, resetting mask\n",
      "The following indexes have all ROIs present\n",
      "Index 0, located at /home/lam3654/MSAI_pneumonitis/data/train/small_pneumonitis_negative/P1276\n",
      "Finished listing present indexes\n",
      "Loading images for AVG 0.0,10.0,20.0,30.0,40.0,50.0,60.0,70.0,80.0,90.0 at \n",
      " /home/lam3654/MSAI_pneumonitis/data/train/small_pneumonitis_negative/P1276\n",
      "\n",
      "Erasing any previous mask as we load a new new image set\n"
     ]
    },
    {
     "name": "stderr",
     "output_type": "stream",
     "text": [
      "Loading through DICOM files:   0%|                                                                              | 0/1 [00:00<?, ?it/s]"
     ]
    },
    {
     "name": "stdout",
     "output_type": "stream",
     "text": [
      "Loading from /home/lam3654/MSAI_pneumonitis/data/train/small_pneumonitis_negative/P1147\n"
     ]
    },
    {
     "name": "stderr",
     "output_type": "stream",
     "text": [
      "Loading through DICOM files: 100%|██████████████████████████████████████████████████████████████████████| 1/1 [00:03<00:00,  3.12s/it]\n"
     ]
    },
    {
     "name": "stdout",
     "output_type": "stream",
     "text": [
      "Compiling dictionaries together...\n",
      "Index 0, description  at /home/lam3654/MSAI_pneumonitis/data/train/small_pneumonitis_negative/P1147\n",
      "1 unique series IDs were found. Default is index 0, to change use set_index(index)\n",
      "Contour names or associations changed, resetting mask\n",
      "The following indexes have all ROIs present\n",
      "Index 0, located at /home/lam3654/MSAI_pneumonitis/data/train/small_pneumonitis_negative/P1147\n",
      "Finished listing present indexes\n",
      "Loading images for  at \n",
      " /home/lam3654/MSAI_pneumonitis/data/train/small_pneumonitis_negative/P1147\n",
      "\n",
      "Erasing any previous mask as we load a new new image set\n"
     ]
    },
    {
     "name": "stderr",
     "output_type": "stream",
     "text": [
      "Loading through DICOM files:   0%|                                                                              | 0/1 [00:00<?, ?it/s]"
     ]
    },
    {
     "name": "stdout",
     "output_type": "stream",
     "text": [
      "Loading from /home/lam3654/MSAI_pneumonitis/data/train/small_pneumonitis_negative/P1092\n"
     ]
    },
    {
     "name": "stderr",
     "output_type": "stream",
     "text": [
      "Loading through DICOM files: 100%|██████████████████████████████████████████████████████████████████████| 1/1 [00:11<00:00, 11.66s/it]\n"
     ]
    },
    {
     "name": "stdout",
     "output_type": "stream",
     "text": [
      "Compiling dictionaries together...\n",
      "Index 0, description 4D CT/OncoBody at /home/lam3654/MSAI_pneumonitis/data/train/small_pneumonitis_negative/P1092\n",
      "Index 1, description CHEST  3.0  B35f at /home/lam3654/MSAI_pneumonitis/data/train/small_pneumonitis_negative/P1092\n",
      "Index 2, description CHEST  at /home/lam3654/MSAI_pneumonitis/data/train/small_pneumonitis_negative/P1092\n",
      "Index 3, description None at None\n",
      "4 unique series IDs were found. Default is index 0, to change use set_index(index)\n",
      "Lacking ['llung'] in index 1, location /home/lam3654/MSAI_pneumonitis/data/train/small_pneumonitis_negative/P1092. Found []\n",
      "Lacking ['llung'] in index 2, location /home/lam3654/MSAI_pneumonitis/data/train/small_pneumonitis_negative/P1092. Found []\n",
      "Contour names or associations changed, resetting mask\n",
      "The following indexes have all ROIs present\n",
      "Index 0, located at /home/lam3654/MSAI_pneumonitis/data/train/small_pneumonitis_negative/P1092\n",
      "Finished listing present indexes\n",
      "Loading images for 4D CT/OncoBody at \n",
      " /home/lam3654/MSAI_pneumonitis/data/train/small_pneumonitis_negative/P1092\n",
      "\n",
      "Erasing any previous mask as we load a new new image set\n"
     ]
    },
    {
     "name": "stderr",
     "output_type": "stream",
     "text": [
      "Loading through DICOM files:   0%|                                                                              | 0/1 [00:00<?, ?it/s]"
     ]
    },
    {
     "name": "stdout",
     "output_type": "stream",
     "text": [
      "Loading from /home/lam3654/MSAI_pneumonitis/data/train/pneumonitis_positive/P0704\n"
     ]
    },
    {
     "name": "stderr",
     "output_type": "stream",
     "text": [
      "Loading through DICOM files: 100%|██████████████████████████████████████████████████████████████████████| 1/1 [00:08<00:00,  8.02s/it]\n"
     ]
    },
    {
     "name": "stdout",
     "output_type": "stream",
     "text": [
      "Compiling dictionaries together...\n",
      "Index 0, description  at /home/lam3654/MSAI_pneumonitis/data/train/pneumonitis_positive/P0704\n",
      "Index 1, description 3mm Chest  3.0  B35s at /home/lam3654/MSAI_pneumonitis/data/train/pneumonitis_positive/P0704\n",
      "Index 2, description None at None\n",
      "3 unique series IDs were found. Default is index 0, to change use set_index(index)\n",
      "Lacking ['llung'] in index 1, location /home/lam3654/MSAI_pneumonitis/data/train/pneumonitis_positive/P0704. Found []\n",
      "Contour names or associations changed, resetting mask\n",
      "The following indexes have all ROIs present\n",
      "Index 0, located at /home/lam3654/MSAI_pneumonitis/data/train/pneumonitis_positive/P0704\n",
      "Finished listing present indexes\n",
      "Loading images for  at \n",
      " /home/lam3654/MSAI_pneumonitis/data/train/pneumonitis_positive/P0704\n",
      "\n",
      "Erasing any previous mask as we load a new new image set\n"
     ]
    },
    {
     "name": "stderr",
     "output_type": "stream",
     "text": [
      "Loading through DICOM files:   0%|                                                                              | 0/1 [00:00<?, ?it/s]"
     ]
    },
    {
     "name": "stdout",
     "output_type": "stream",
     "text": [
      "Loading from /home/lam3654/MSAI_pneumonitis/data/train/small_pneumonitis_negative/P0801\n"
     ]
    },
    {
     "name": "stderr",
     "output_type": "stream",
     "text": [
      "Loading through DICOM files: 100%|██████████████████████████████████████████████████████████████████████| 1/1 [00:26<00:00, 26.98s/it]\n"
     ]
    },
    {
     "name": "stdout",
     "output_type": "stream",
     "text": [
      "Compiling dictionaries together...\n",
      "Index 0, description AVG 0.0,10.0,20.0,30.0,40.0,50.0,60.0,70.0,80.0,90.0 at /home/lam3654/MSAI_pneumonitis/data/train/small_pneumonitis_negative/P0801\n",
      "Index 1, description Axial Mediastinum Chest  3.0  B35f at /home/lam3654/MSAI_pneumonitis/data/train/small_pneumonitis_negative/P0801\n",
      "Index 2, description Axial Mediastinum Chest  3.0  B35f at /home/lam3654/MSAI_pneumonitis/data/train/small_pneumonitis_negative/P0801\n",
      "Index 3, description Axial Mediastinum Chest  3.0  B35f at /home/lam3654/MSAI_pneumonitis/data/train/small_pneumonitis_negative/P0801\n",
      "Index 4, description Axial Mediastinum Chest  3.0  B35f at /home/lam3654/MSAI_pneumonitis/data/train/small_pneumonitis_negative/P0801\n",
      "Index 5, description CHEST  at /home/lam3654/MSAI_pneumonitis/data/train/small_pneumonitis_negative/P0801\n",
      "Index 6, description None at None\n",
      "7 unique series IDs were found. Default is index 0, to change use set_index(index)\n",
      "Lacking ['llung'] in index 1, location /home/lam3654/MSAI_pneumonitis/data/train/small_pneumonitis_negative/P0801. Found []\n",
      "Lacking ['llung'] in index 2, location /home/lam3654/MSAI_pneumonitis/data/train/small_pneumonitis_negative/P0801. Found []\n",
      "Lacking ['llung'] in index 3, location /home/lam3654/MSAI_pneumonitis/data/train/small_pneumonitis_negative/P0801. Found []\n",
      "Lacking ['llung'] in index 4, location /home/lam3654/MSAI_pneumonitis/data/train/small_pneumonitis_negative/P0801. Found []\n",
      "Lacking ['llung'] in index 5, location /home/lam3654/MSAI_pneumonitis/data/train/small_pneumonitis_negative/P0801. Found []\n",
      "Contour names or associations changed, resetting mask\n",
      "The following indexes have all ROIs present\n",
      "Index 0, located at /home/lam3654/MSAI_pneumonitis/data/train/small_pneumonitis_negative/P0801\n",
      "Finished listing present indexes\n",
      "Loading images for AVG 0.0,10.0,20.0,30.0,40.0,50.0,60.0,70.0,80.0,90.0 at \n",
      " /home/lam3654/MSAI_pneumonitis/data/train/small_pneumonitis_negative/P0801\n",
      "\n",
      "Erasing any previous mask as we load a new new image set\n"
     ]
    },
    {
     "name": "stderr",
     "output_type": "stream",
     "text": [
      "Loading through DICOM files:   0%|                                                                              | 0/1 [00:00<?, ?it/s]"
     ]
    },
    {
     "name": "stdout",
     "output_type": "stream",
     "text": [
      "Loading from /home/lam3654/MSAI_pneumonitis/data/train/pneumonitis_positive/P0320\n"
     ]
    },
    {
     "name": "stderr",
     "output_type": "stream",
     "text": [
      "Loading through DICOM files: 100%|██████████████████████████████████████████████████████████████████████| 1/1 [00:14<00:00, 14.20s/it]\n"
     ]
    },
    {
     "name": "stdout",
     "output_type": "stream",
     "text": [
      "Compiling dictionaries together...\n",
      "Index 0, description abc 1; AVG BODY/OncoBody at /home/lam3654/MSAI_pneumonitis/data/train/pneumonitis_positive/P0320\n",
      "Index 1, description ThoraxRoutine 5.0 B40s at /home/lam3654/MSAI_pneumonitis/data/train/pneumonitis_positive/P0320\n",
      "Index 2, description ThoraxRoutine 5.0 B40s at /home/lam3654/MSAI_pneumonitis/data/train/pneumonitis_positive/P0320\n",
      "Index 3, description CHEST  3.0  B35f at /home/lam3654/MSAI_pneumonitis/data/train/pneumonitis_positive/P0320\n",
      "Index 4, description None at None\n",
      "5 unique series IDs were found. Default is index 0, to change use set_index(index)\n",
      "Lacking ['llung'] in index 0, location /home/lam3654/MSAI_pneumonitis/data/train/pneumonitis_positive/P0320. Found ['esophagus', 'gtv in', 'gtv ex', 'gtv 1st gtv exhale union', 'gtv 1st', 'outer contour', 'rt lung', 'cord', 'heart', 'itv', 'ptv', 'trachea', 'pbt', 'esophagus wall', 'airway', 'airway wall', 'new right lung']\n",
      "Lacking ['llung'] in index 1, location /home/lam3654/MSAI_pneumonitis/data/train/pneumonitis_positive/P0320. Found []\n",
      "Lacking ['llung'] in index 2, location /home/lam3654/MSAI_pneumonitis/data/train/pneumonitis_positive/P0320. Found []\n",
      "Lacking ['llung'] in index 3, location /home/lam3654/MSAI_pneumonitis/data/train/pneumonitis_positive/P0320. Found []\n",
      "Contour names or associations changed, resetting mask\n",
      "The following indexes have all ROIs present\n",
      "Finished listing present indexes\n"
     ]
    },
    {
     "name": "stderr",
     "output_type": "stream",
     "text": [
      "Loading through DICOM files:   0%|                                                                              | 0/1 [00:00<?, ?it/s]"
     ]
    },
    {
     "name": "stdout",
     "output_type": "stream",
     "text": [
      "Loading from /home/lam3654/MSAI_pneumonitis/data/train/pneumonitis_positive/P0862\n"
     ]
    },
    {
     "name": "stderr",
     "output_type": "stream",
     "text": [
      "Loading through DICOM files: 100%|██████████████████████████████████████████████████████████████████████| 1/1 [00:06<00:00,  6.57s/it]\n"
     ]
    },
    {
     "name": "stdout",
     "output_type": "stream",
     "text": [
      "Compiling dictionaries together...\n",
      "Index 0, description  at /home/lam3654/MSAI_pneumonitis/data/train/pneumonitis_positive/P0862\n",
      "Index 1, description Axial Mediastinum CHEST 3MM  3.0  Qr36 at /home/lam3654/MSAI_pneumonitis/data/train/pneumonitis_positive/P0862\n",
      "Index 2, description None at None\n",
      "3 unique series IDs were found. Default is index 0, to change use set_index(index)\n",
      "Lacking ['llung'] in index 1, location /home/lam3654/MSAI_pneumonitis/data/train/pneumonitis_positive/P0862. Found []\n",
      "Contour names or associations changed, resetting mask\n",
      "The following indexes have all ROIs present\n",
      "Index 0, located at /home/lam3654/MSAI_pneumonitis/data/train/pneumonitis_positive/P0862\n",
      "Finished listing present indexes\n",
      "Loading images for  at \n",
      " /home/lam3654/MSAI_pneumonitis/data/train/pneumonitis_positive/P0862\n",
      "\n",
      "Erasing any previous mask as we load a new new image set\n"
     ]
    },
    {
     "name": "stderr",
     "output_type": "stream",
     "text": [
      "Loading through DICOM files:   0%|                                                                              | 0/1 [00:00<?, ?it/s]"
     ]
    },
    {
     "name": "stdout",
     "output_type": "stream",
     "text": [
      "Loading from /home/lam3654/MSAI_pneumonitis/data/train/small_pneumonitis_negative/P0496\n"
     ]
    },
    {
     "name": "stderr",
     "output_type": "stream",
     "text": [
      "Loading through DICOM files: 100%|██████████████████████████████████████████████████████████████████████| 1/1 [00:30<00:00, 30.24s/it]\n"
     ]
    },
    {
     "name": "stdout",
     "output_type": "stream",
     "text": [
      "Compiling dictionaries together...\n",
      "Index 0, description 4D CT/OncoBody at /home/lam3654/MSAI_pneumonitis/data/train/small_pneumonitis_negative/P0496\n",
      "Index 1, description 3mm Chest  3.0  B35s at /home/lam3654/MSAI_pneumonitis/data/train/small_pneumonitis_negative/P0496\n",
      "Index 2, description 3mm Chest  3.0  B35s at /home/lam3654/MSAI_pneumonitis/data/train/small_pneumonitis_negative/P0496\n",
      "Index 3, description 3mm Chest  3.0  B35s at /home/lam3654/MSAI_pneumonitis/data/train/small_pneumonitis_negative/P0496\n",
      "Index 4, description Chest 3mm  3.0  B35f at /home/lam3654/MSAI_pneumonitis/data/train/small_pneumonitis_negative/P0496\n",
      "Index 5, description THORAX  3.0  B35f  at /home/lam3654/MSAI_pneumonitis/data/train/small_pneumonitis_negative/P0496\n",
      "Index 6, description 3mm Chest  3.0  B35s at /home/lam3654/MSAI_pneumonitis/data/train/small_pneumonitis_negative/P0496\n",
      "Index 7, description None at None\n",
      "8 unique series IDs were found. Default is index 0, to change use set_index(index)\n",
      "Lacking ['llung'] in index 1, location /home/lam3654/MSAI_pneumonitis/data/train/small_pneumonitis_negative/P0496. Found []\n",
      "Lacking ['llung'] in index 2, location /home/lam3654/MSAI_pneumonitis/data/train/small_pneumonitis_negative/P0496. Found []\n",
      "Lacking ['llung'] in index 3, location /home/lam3654/MSAI_pneumonitis/data/train/small_pneumonitis_negative/P0496. Found []\n",
      "Lacking ['llung'] in index 4, location /home/lam3654/MSAI_pneumonitis/data/train/small_pneumonitis_negative/P0496. Found []\n",
      "Lacking ['llung'] in index 5, location /home/lam3654/MSAI_pneumonitis/data/train/small_pneumonitis_negative/P0496. Found []\n",
      "Lacking ['llung'] in index 6, location /home/lam3654/MSAI_pneumonitis/data/train/small_pneumonitis_negative/P0496. Found []\n",
      "Contour names or associations changed, resetting mask\n",
      "The following indexes have all ROIs present\n",
      "Index 0, located at /home/lam3654/MSAI_pneumonitis/data/train/small_pneumonitis_negative/P0496\n",
      "Finished listing present indexes\n",
      "Loading images for 4D CT/OncoBody at \n",
      " /home/lam3654/MSAI_pneumonitis/data/train/small_pneumonitis_negative/P0496\n",
      "\n",
      "Erasing any previous mask as we load a new new image set\n"
     ]
    },
    {
     "name": "stderr",
     "output_type": "stream",
     "text": [
      "Loading through DICOM files:   0%|                                                                              | 0/1 [00:00<?, ?it/s]"
     ]
    },
    {
     "name": "stdout",
     "output_type": "stream",
     "text": [
      "Loading from /home/lam3654/MSAI_pneumonitis/data/train/small_pneumonitis_negative/P0973\n"
     ]
    },
    {
     "name": "stderr",
     "output_type": "stream",
     "text": [
      "Loading through DICOM files: 100%|██████████████████████████████████████████████████████████████████████| 1/1 [00:02<00:00,  2.61s/it]\n"
     ]
    },
    {
     "name": "stdout",
     "output_type": "stream",
     "text": [
      "Compiling dictionaries together...\n",
      "Index 0, description O-MAR, iDose (3) at /home/lam3654/MSAI_pneumonitis/data/train/small_pneumonitis_negative/P0973\n",
      "1 unique series IDs were found. Default is index 0, to change use set_index(index)\n",
      "Contour names or associations changed, resetting mask\n",
      "The following indexes have all ROIs present\n",
      "Index 0, located at /home/lam3654/MSAI_pneumonitis/data/train/small_pneumonitis_negative/P0973\n",
      "Finished listing present indexes\n",
      "Loading images for O-MAR, iDose (3) at \n",
      " /home/lam3654/MSAI_pneumonitis/data/train/small_pneumonitis_negative/P0973\n",
      "\n",
      "Erasing any previous mask as we load a new new image set\n"
     ]
    },
    {
     "name": "stderr",
     "output_type": "stream",
     "text": [
      "Loading through DICOM files:  50%|███████████████████████████████████                                   | 2/4 [00:00<00:00, 19.20it/s]"
     ]
    },
    {
     "name": "stdout",
     "output_type": "stream",
     "text": [
      "Loading from /home/lam3654/MSAI_pneumonitis/data/train/small_pneumonitis_negative/NU_0026/2018-07__Studies/NU.0026_NU.0026_RTPLAN_2018-07-13_153554_MInIP.SBRT.chest.plan.and.bellows_NU.0026_n1__00000\n",
      "Loading from /home/lam3654/MSAI_pneumonitis/data/train/small_pneumonitis_negative/NU_0026/2018-07__Studies/NU.0026_NU.0026_RTDOSE_2018-07-13_153554_MInIP.SBRT.chest.plan.and.bellows_NU.0026_n1__00000\n",
      "Loading from /home/lam3654/MSAI_pneumonitis/data/train/small_pneumonitis_negative/NU_0026/2018-07__Studies/NU.0026_NU.0026_CT_2018-07-13_153554_SBRT.chest.plan.and.bellows_NU.0026_n161__00000\n",
      "Loading from /home/lam3654/MSAI_pneumonitis/data/train/small_pneumonitis_negative/NU_0026/2018-07__Studies/NU.0026_NU.0026_RTst_2018-07-13_153554_SBRT.chest.plan.and.bellows_AY_n1__00000\n",
      "Had an error loading /home/lam3654/MSAI_pneumonitis/data/train/small_pneumonitis_negative/NU_0026/2018-07__Studies/NU.0026_NU.0026_RTPLAN_2018-07-13_153554_MInIP.SBRT.chest.plan.and.bellows_NU.0026_n1__00000/2.16.840.1.114362.1.11940992.22933840372.569049523.577.8684.dcm\n"
     ]
    },
    {
     "name": "stderr",
     "output_type": "stream",
     "text": [
      "Loading through DICOM files: 100%|██████████████████████████████████████████████████████████████████████| 4/4 [00:02<00:00,  1.44it/s]\n"
     ]
    },
    {
     "name": "stdout",
     "output_type": "stream",
     "text": [
      "Compiling dictionaries together...\n",
      "Index 0, description NU_0026  at /home/lam3654/MSAI_pneumonitis/data/train/small_pneumonitis_negative/NU_0026/2018-07__Studies/NU.0026_NU.0026_CT_2018-07-13_153554_SBRT.chest.plan.and.bellows_NU.0026_n161__00000\n",
      "Index 1, description None at None\n",
      "2 unique series IDs were found. Default is index 0, to change use set_index(index)\n",
      "Contour names or associations changed, resetting mask\n",
      "The following indexes have all ROIs present\n",
      "Index 0, located at /home/lam3654/MSAI_pneumonitis/data/train/small_pneumonitis_negative/NU_0026/2018-07__Studies/NU.0026_NU.0026_CT_2018-07-13_153554_SBRT.chest.plan.and.bellows_NU.0026_n161__00000\n",
      "Finished listing present indexes\n",
      "Loading images for NU_0026  at \n",
      " /home/lam3654/MSAI_pneumonitis/data/train/small_pneumonitis_negative/NU_0026/2018-07__Studies/NU.0026_NU.0026_CT_2018-07-13_153554_SBRT.chest.plan.and.bellows_NU.0026_n161__00000\n",
      "\n",
      "Erasing any previous mask as we load a new new image set\n"
     ]
    },
    {
     "name": "stderr",
     "output_type": "stream",
     "text": [
      "Loading through DICOM files:   0%|                                                                              | 0/1 [00:00<?, ?it/s]"
     ]
    },
    {
     "name": "stdout",
     "output_type": "stream",
     "text": [
      "Loading from /home/lam3654/MSAI_pneumonitis/data/train/small_pneumonitis_negative/P0848\n"
     ]
    },
    {
     "name": "stderr",
     "output_type": "stream",
     "text": [
      "Loading through DICOM files: 100%|██████████████████████████████████████████████████████████████████████| 1/1 [00:11<00:00, 11.35s/it]\n"
     ]
    },
    {
     "name": "stdout",
     "output_type": "stream",
     "text": [
      "Compiling dictionaries together...\n",
      "Index 0, description AVG 0.0,10.0,20.0,30.0,40.0,50.0,60.0,70.0,80.0,90.0 at /home/lam3654/MSAI_pneumonitis/data/train/small_pneumonitis_negative/P0848\n",
      "Index 1, description Axial Mediastinum Chest  3.0  B35f at /home/lam3654/MSAI_pneumonitis/data/train/small_pneumonitis_negative/P0848\n",
      "Index 2, description Axial Mediastinum Chest  3.0  B35f at /home/lam3654/MSAI_pneumonitis/data/train/small_pneumonitis_negative/P0848\n",
      "Index 3, description None at None\n",
      "4 unique series IDs were found. Default is index 0, to change use set_index(index)\n",
      "Lacking ['llung'] in index 1, location /home/lam3654/MSAI_pneumonitis/data/train/small_pneumonitis_negative/P0848. Found []\n",
      "Lacking ['llung'] in index 2, location /home/lam3654/MSAI_pneumonitis/data/train/small_pneumonitis_negative/P0848. Found []\n",
      "Contour names or associations changed, resetting mask\n",
      "The following indexes have all ROIs present\n",
      "Index 0, located at /home/lam3654/MSAI_pneumonitis/data/train/small_pneumonitis_negative/P0848\n",
      "Finished listing present indexes\n",
      "Loading images for AVG 0.0,10.0,20.0,30.0,40.0,50.0,60.0,70.0,80.0,90.0 at \n",
      " /home/lam3654/MSAI_pneumonitis/data/train/small_pneumonitis_negative/P0848\n",
      "\n",
      "Erasing any previous mask as we load a new new image set\n"
     ]
    },
    {
     "name": "stderr",
     "output_type": "stream",
     "text": [
      "Loading through DICOM files:  50%|███████████████████████████████████                                   | 1/2 [00:00<00:00,  8.01it/s]"
     ]
    },
    {
     "name": "stdout",
     "output_type": "stream",
     "text": [
      "Loading from /home/lam3654/MSAI_pneumonitis/data/train/small_pneumonitis_negative/NU_0237/2019-02__Studies/NU.0237_NU.0237_RTDOSE_2019-02-14_122558_SBRT.Chest.Planning_NU.0237_n1__00000\n",
      "Loading from /home/lam3654/MSAI_pneumonitis/data/train/small_pneumonitis_negative/NU_0237/2019-02__Studies/NU.0237_NU.0237_CT_2019-02-14_122558_SBRT.Chest.Planning_NU.0237_n170__00000\n"
     ]
    },
    {
     "name": "stderr",
     "output_type": "stream",
     "text": [
      "Loading through DICOM files: 100%|██████████████████████████████████████████████████████████████████████| 2/2 [00:03<00:00,  1.67s/it]"
     ]
    },
    {
     "name": "stdout",
     "output_type": "stream",
     "text": [
      "failed on /home/lam3654/MSAI_pneumonitis/data/train/small_pneumonitis_negative/NU_0237/2019-02__Studies/NU.0237_NU.0237_CT_2019-02-14_122558_SBRT.Chest.Planning_NU.0237_n170__00000\n",
      "Compiling dictionaries together...\n",
      "Index 0, description NU_0237  at /home/lam3654/MSAI_pneumonitis/data/train/small_pneumonitis_negative/NU_0237/2019-02__Studies/NU.0237_NU.0237_CT_2019-02-14_122558_SBRT.Chest.Planning_NU.0237_n170__00000\n",
      "Index 1, description None at None\n",
      "2 unique series IDs were found. Default is index 0, to change use set_index(index)\n",
      "Lacking ['llung'] in index 0, location /home/lam3654/MSAI_pneumonitis/data/train/small_pneumonitis_negative/NU_0237/2019-02__Studies/NU.0237_NU.0237_CT_2019-02-14_122558_SBRT.Chest.Planning_NU.0237_n170__00000. Found []\n",
      "Contour names or associations changed, resetting mask\n",
      "The following indexes have all ROIs present\n",
      "Finished listing present indexes\n"
     ]
    },
    {
     "name": "stderr",
     "output_type": "stream",
     "text": [
      "\n"
     ]
    }
   ],
   "source": [
    "missed_contours = []\n",
    "skipped_cts = []\n",
    "total_arrays = []\n",
    "total_labels = []\n",
    "\n",
    "for i in range(len(train_data)):\n",
    "    try:\n",
    "        single_arrays = []\n",
    "        Dicom_path = train_data[i]\n",
    "        Dicom_reader = DicomReaderWriter(description='Examples', arg_max=True)\n",
    "        Dicom_reader.walk_through_folders(Dicom_path) \n",
    "        # all_rois = Dicom_reader.return_rois(print_rois=True) # Return a list of all rois present\n",
    "\n",
    "        right_side = lung_side(Dicom_path)\n",
    "        if right_side == True:\n",
    "            Contour_names = ['rlung'] \n",
    "            associations = [ROIAssociationClass('rlung', right_contours)]\n",
    "        else:\n",
    "            Contour_names = ['llung'] \n",
    "            associations = [ROIAssociationClass('llung', left_contours)]\n",
    "        Dicom_reader.set_contour_names_and_associations(contour_names=Contour_names, associations=associations)\n",
    "        indexes = Dicom_reader.which_indexes_have_all_rois()\n",
    "        if indexes != []:\n",
    "            pt_indx = indexes[-1]\n",
    "            Dicom_reader.set_index(pt_indx) \n",
    "            Dicom_reader.get_images_and_mask()  \n",
    "\n",
    "            image = Dicom_reader.ArrayDicom # image array\n",
    "            mask = Dicom_reader.mask # mask array\n",
    "\n",
    "            slice_locations = np.unique(np.where(mask != 0)[0]) # get indexes for where there is a contour present \n",
    "            slice_start = slice_locations[0] # first slice of contour \n",
    "            slice_end = slice_locations[len(slice_locations)-1] # last slice of contour\n",
    "\n",
    "            counter = 1\n",
    "\n",
    "            for img_arr, contour_arr in zip(image[slice_start:slice_end+1], mask[slice_start:slice_end+1]): \n",
    "                if counter % skip == 0: # if current slice is divisible by desired skip amount \n",
    "                    select = np.multiply(img_arr, contour_arr)\n",
    "                    single_arrays.append(select)\n",
    "                counter += 1\n",
    "\n",
    "            single_labels = [train_labels[i] for x in range(len(single_arrays))]\n",
    "            total_arrays = total_arrays + single_arrays\n",
    "            total_labels = total_labels + single_labels\n",
    "        else:\n",
    "            missed_contours.append(Dicom_path)\n",
    "    \n",
    "    except TypeError:\n",
    "        print(\"skip this dataset\")\n",
    "        skipped_cts.append(Dicom_path)\n",
    "        continue"
   ]
  },
  {
   "cell_type": "code",
   "execution_count": 10,
   "metadata": {},
   "outputs": [
    {
     "name": "stdout",
     "output_type": "stream",
     "text": [
      "1654\n"
     ]
    }
   ],
   "source": [
    "print(len(total_arrays\n",
    "          ))"
   ]
  },
  {
   "attachments": {},
   "cell_type": "markdown",
   "metadata": {},
   "source": [
    "### Save array and label lists"
   ]
  },
  {
   "cell_type": "code",
   "execution_count": 11,
   "metadata": {},
   "outputs": [],
   "source": [
    "np_folder_path = '/home/lam3654/MSAI_pneumonitis/data/pneumonitis_np'"
   ]
  },
  {
   "cell_type": "code",
   "execution_count": 12,
   "metadata": {},
   "outputs": [],
   "source": [
    "np.save(os.path.join(np_folder_path, \"ipsi_train_arrays.npy\"), total_arrays)\n",
    "\n",
    "with open(os.path.join(np_folder_path, \"ipsi_train_labels_np.json\"), \"w\") as file:\n",
    "    json.dump(total_labels, file)"
   ]
  },
  {
   "attachments": {},
   "cell_type": "markdown",
   "metadata": {},
   "source": [
    "## Build Dataset"
   ]
  },
  {
   "cell_type": "code",
   "execution_count": 13,
   "metadata": {},
   "outputs": [],
   "source": [
    "class CTDataset(Dataset):\n",
    "    def __init__(self, data, labels):\n",
    "        self.data = data\n",
    "        self.labels = labels\n",
    "\n",
    "    def __len__(self):\n",
    "        return len(self.data)\n",
    "\n",
    "    def __getitem__(self, index):\n",
    "        image = self.data[index]\n",
    "        label = self.labels[index]\n",
    "        return image, label"
   ]
  },
  {
   "cell_type": "code",
   "execution_count": 14,
   "metadata": {},
   "outputs": [],
   "source": [
    "train_array_list = np.load(os.path.join(np_folder_path, \"ipsi_train_arrays.npy\"), allow_pickle=True)\n",
    "\n",
    "\n",
    "with open(os.path.join(np_folder_path, \"ipsi_train_labels_np.json\"), \"r\") as file:\n",
    "    train_labels_list = json.load(file)"
   ]
  },
  {
   "cell_type": "code",
   "execution_count": 15,
   "metadata": {},
   "outputs": [
    {
     "name": "stdout",
     "output_type": "stream",
     "text": [
      "1654\n"
     ]
    }
   ],
   "source": [
    "print(len(train_array_list))"
   ]
  },
  {
   "cell_type": "code",
   "execution_count": 16,
   "metadata": {},
   "outputs": [],
   "source": [
    "dataset = CTDataset(train_array_list, train_labels_list)\n",
    "data_loader = DataLoader(dataset, batch_size=4, shuffle=True)"
   ]
  },
  {
   "cell_type": "code",
   "execution_count": 17,
   "metadata": {},
   "outputs": [],
   "source": [
    "class CNNClassifier(nn.Module):\n",
    "    def __init__(self):\n",
    "        super(CNNClassifier, self).__init__()\n",
    "        self.conv1 = nn.Conv2d(1, 32, kernel_size=3, padding=1)\n",
    "        self.conv2 = nn.Conv2d(32, 64, kernel_size=3, padding=1)\n",
    "        self.pool = nn.MaxPool2d(2, 2)\n",
    "        self.fc1 = nn.Linear(64 * 128 * 128, 512)\n",
    "        self.fc2 = nn.Linear(512, 2)\n",
    "\n",
    "    def forward(self, x):\n",
    "        x = self.pool(F.relu(self.conv1(x)))\n",
    "        x = self.pool(F.relu(self.conv2(x)))\n",
    "        x = x.view(-1, 64 * 128 * 128)\n",
    "        x = F.relu(self.fc1(x))\n",
    "        x = self.fc2(x)\n",
    "        return x"
   ]
  },
  {
   "attachments": {},
   "cell_type": "markdown",
   "metadata": {},
   "source": [
    "## Training"
   ]
  },
  {
   "cell_type": "code",
   "execution_count": 18,
   "metadata": {},
   "outputs": [
    {
     "name": "stdout",
     "output_type": "stream",
     "text": [
      "Training on cuda:0\n",
      "Epoch [1/10], Loss: 1.0947\n",
      "Epoch [2/10], Loss: 0.0532\n",
      "Epoch [3/10], Loss: 0.0031\n",
      "Epoch [4/10], Loss: 0.0309\n",
      "Epoch [5/10], Loss: 0.0000\n",
      "Epoch [6/10], Loss: 0.0000\n",
      "Epoch [7/10], Loss: 0.0000\n",
      "Epoch [8/10], Loss: 0.0002\n",
      "Epoch [9/10], Loss: 0.0001\n",
      "Epoch [10/10], Loss: 0.0001\n"
     ]
    },
    {
     "data": {
      "image/png": "[encoded data removed]",
      "text/plain": [
       "<Figure size 640x480 with 2 Axes>"
      ]
     },
     "metadata": {},
     "output_type": "display_data"
    }
   ],
   "source": [
    "# Check if a GPU is available and if not, default to CPU\n",
    "device = torch.device(\"cuda:0\" if torch.cuda.is_available() else \"cpu\")\n",
    "print(f\"Training on {device}\")\n",
    "\n",
    "# Initialize the model, loss function, and optimizer\n",
    "model = CNNClassifier().to(device)\n",
    "criterion = nn.CrossEntropyLoss()\n",
    "optimizer = optim.Adam(model.parameters(), lr=0.001)\n",
    "accuracy_list = []\n",
    "loss_list = []\n",
    "\n",
    "\n",
    "output_list = []\n",
    "num_epochs = 10 \n",
    "for epoch in range(num_epochs):\n",
    "    true_labels = []\n",
    "    pred_labels = []\n",
    "    for images, labels in data_loader:\n",
    "        images = images.to(device)\n",
    "        labels = labels.to(device)\n",
    "        optimizer.zero_grad()\n",
    "        images = images[:, np.newaxis, :, :]\n",
    "        images = images.float()\n",
    "\n",
    "        # Forward pass\n",
    "        outputs = model(images)\n",
    "        output_list.append(outputs)\n",
    "        loss = criterion(outputs, labels)\n",
    "\n",
    "        _, preds = torch.max(outputs, 1)  # Get the predicted classes\n",
    "\n",
    "        true_labels.extend(labels.cpu().numpy())\n",
    "        pred_labels.extend(preds.cpu().numpy())\n",
    "\n",
    "        # Backward and optimize\n",
    "        loss.backward()\n",
    "        optimizer.step()\n",
    "\n",
    "    # Convert to numpy arrays for use with sklearn\n",
    "    true_labels = np.array(true_labels)\n",
    "    pred_labels = np.array(pred_labels)\n",
    "    accuracy = accuracy_score(true_labels, pred_labels)\n",
    "    accuracy_list.append(accuracy)\n",
    "    loss_list.append(loss.item())\n",
    "    # Print the loss after each epoch\n",
    "    print(f\"Epoch [{epoch+1}/{num_epochs}], Loss: {loss.item():.4f}\")\n",
    "\n",
    "x_list = [x for x in range(num_epochs)]\n",
    "\n",
    "plt.subplot(2, 1, 1)  # (rows, columns, subplot index)\n",
    "plt.plot(x_list, loss_list)\n",
    "plt.xlabel('Epochs')\n",
    "plt.ylabel('Loss')\n",
    "plt.title('Training loss over epochs')\n",
    "\n",
    "# Create the second subplot\n",
    "plt.subplot(2, 1, 2)  # (rows, columns, subplot index)\n",
    "plt.plot(x_list, accuracy_list)\n",
    "plt.xlabel('Epochs')\n",
    "plt.ylabel('Accuracy')\n",
    "plt.title('Training accuracy over epochs')\n",
    "\n",
    "# Adjust the spacing between plots\n",
    "plt.tight_layout()\n",
    "\n",
    "# Display the plots\n",
    "plt.show()\n"
   ]
  },
  {
   "attachments": {},
   "cell_type": "markdown",
   "metadata": {},
   "source": [
    "## Testing"
   ]
  },
  {
   "attachments": {},
   "cell_type": "markdown",
   "metadata": {},
   "source": [
    "### Prep dataset"
   ]
  },
  {
   "cell_type": "code",
   "execution_count": 19,
   "metadata": {},
   "outputs": [],
   "source": [
    "path = '/home/lam3654/MSAI_pneumonitis/lung_cancer_radiomics/train_dev_test_lists'\n",
    "\n",
    "with open(os.path.join(path, \"small_test_data.json\"), \"r\") as file:\n",
    "    test_data = json.load(file)\n",
    "\n",
    "with open(os.path.join(path, \"small_test_labels.json\"), \"r\") as file:\n",
    "    test_labels = json.load(file)"
   ]
  },
  {
   "cell_type": "code",
   "execution_count": 20,
   "metadata": {},
   "outputs": [
    {
     "name": "stderr",
     "output_type": "stream",
     "text": [
      "Loading through DICOM files:   0%|                                                                              | 0/1 [00:00<?, ?it/s]"
     ]
    },
    {
     "name": "stdout",
     "output_type": "stream",
     "text": [
      "Loading from /home/lam3654/MSAI_pneumonitis/data/train/small_pneumonitis_negative/P1067\n"
     ]
    },
    {
     "name": "stderr",
     "output_type": "stream",
     "text": [
      "Loading through DICOM files: 100%|██████████████████████████████████████████████████████████████████████| 1/1 [00:37<00:00, 37.98s/it]\n"
     ]
    },
    {
     "name": "stdout",
     "output_type": "stream",
     "text": [
      "Compiling dictionaries together...\n",
      "Index 0, description abc 1; AVG BODY/OncoBody at /home/lam3654/MSAI_pneumonitis/data/train/small_pneumonitis_negative/P1067\n",
      "Index 1, description ThorRoutine  3.0  B41f at /home/lam3654/MSAI_pneumonitis/data/train/small_pneumonitis_negative/P1067\n",
      "Index 2, description ThorRoutine  3.0  B41f at /home/lam3654/MSAI_pneumonitis/data/train/small_pneumonitis_negative/P1067\n",
      "Index 3, description ThorRoutine  3.0  B41f at /home/lam3654/MSAI_pneumonitis/data/train/small_pneumonitis_negative/P1067\n",
      "Index 4, description ThorRoutine  3.0  B41f at /home/lam3654/MSAI_pneumonitis/data/train/small_pneumonitis_negative/P1067\n",
      "Index 5, description ThorRoutine  3.0  B41f at /home/lam3654/MSAI_pneumonitis/data/train/small_pneumonitis_negative/P1067\n",
      "Index 6, description ThorRoutine  3.0  B41f at /home/lam3654/MSAI_pneumonitis/data/train/small_pneumonitis_negative/P1067\n",
      "Index 7, description ThorRoutine  3.0  B41f at /home/lam3654/MSAI_pneumonitis/data/train/small_pneumonitis_negative/P1067\n",
      "Index 8, description ThorRoutine  3.0  B41f at /home/lam3654/MSAI_pneumonitis/data/train/small_pneumonitis_negative/P1067\n",
      "Index 9, description None at None\n",
      "10 unique series IDs were found. Default is index 0, to change use set_index(index)\n",
      "Lacking ['llung'] in index 1, location /home/lam3654/MSAI_pneumonitis/data/train/small_pneumonitis_negative/P1067. Found []\n",
      "Lacking ['llung'] in index 2, location /home/lam3654/MSAI_pneumonitis/data/train/small_pneumonitis_negative/P1067. Found []\n",
      "Lacking ['llung'] in index 3, location /home/lam3654/MSAI_pneumonitis/data/train/small_pneumonitis_negative/P1067. Found []\n",
      "Lacking ['llung'] in index 4, location /home/lam3654/MSAI_pneumonitis/data/train/small_pneumonitis_negative/P1067. Found []\n",
      "Lacking ['llung'] in index 5, location /home/lam3654/MSAI_pneumonitis/data/train/small_pneumonitis_negative/P1067. Found []\n",
      "Lacking ['llung'] in index 6, location /home/lam3654/MSAI_pneumonitis/data/train/small_pneumonitis_negative/P1067. Found []\n",
      "Lacking ['llung'] in index 7, location /home/lam3654/MSAI_pneumonitis/data/train/small_pneumonitis_negative/P1067. Found []\n",
      "Lacking ['llung'] in index 8, location /home/lam3654/MSAI_pneumonitis/data/train/small_pneumonitis_negative/P1067. Found []\n",
      "Contour names or associations changed, resetting mask\n",
      "The following indexes have all ROIs present\n",
      "Index 0, located at /home/lam3654/MSAI_pneumonitis/data/train/small_pneumonitis_negative/P1067\n",
      "Finished listing present indexes\n",
      "Loading images for abc 1; AVG BODY/OncoBody at \n",
      " /home/lam3654/MSAI_pneumonitis/data/train/small_pneumonitis_negative/P1067\n",
      "\n",
      "Erasing any previous mask as we load a new new image set\n"
     ]
    },
    {
     "name": "stderr",
     "output_type": "stream",
     "text": [
      "Loading through DICOM files:   0%|                                                                              | 0/1 [00:00<?, ?it/s]"
     ]
    },
    {
     "name": "stdout",
     "output_type": "stream",
     "text": [
      "Loading from /home/lam3654/MSAI_pneumonitis/data/train/pneumonitis_positive/P0971\n"
     ]
    },
    {
     "name": "stderr",
     "output_type": "stream",
     "text": [
      "Loading through DICOM files: 100%|██████████████████████████████████████████████████████████████████████| 1/1 [00:02<00:00,  2.12s/it]\n"
     ]
    },
    {
     "name": "stdout",
     "output_type": "stream",
     "text": [
      "Compiling dictionaries together...\n",
      "Index 0, description  at /home/lam3654/MSAI_pneumonitis/data/train/pneumonitis_positive/P0971\n",
      "1 unique series IDs were found. Default is index 0, to change use set_index(index)\n",
      "Contour names or associations changed, resetting mask\n",
      "The following indexes have all ROIs present\n",
      "Index 0, located at /home/lam3654/MSAI_pneumonitis/data/train/pneumonitis_positive/P0971\n",
      "Finished listing present indexes\n",
      "Loading images for  at \n",
      " /home/lam3654/MSAI_pneumonitis/data/train/pneumonitis_positive/P0971\n",
      "\n",
      "Erasing any previous mask as we load a new new image set\n"
     ]
    },
    {
     "name": "stderr",
     "output_type": "stream",
     "text": [
      "Loading through DICOM files:   0%|                                                                              | 0/1 [00:00<?, ?it/s]"
     ]
    },
    {
     "name": "stdout",
     "output_type": "stream",
     "text": [
      "Loading from /home/lam3654/MSAI_pneumonitis/data/train/pneumonitis_positive/P0668\n"
     ]
    },
    {
     "name": "stderr",
     "output_type": "stream",
     "text": [
      "Loading through DICOM files: 100%|██████████████████████████████████████████████████████████████████████| 1/1 [00:02<00:00,  2.55s/it]\n"
     ]
    },
    {
     "name": "stdout",
     "output_type": "stream",
     "text": [
      "Compiling dictionaries together...\n",
      "Index 0, description  at /home/lam3654/MSAI_pneumonitis/data/train/pneumonitis_positive/P0668\n",
      "1 unique series IDs were found. Default is index 0, to change use set_index(index)\n",
      "Contour names or associations changed, resetting mask\n",
      "The following indexes have all ROIs present\n",
      "Index 0, located at /home/lam3654/MSAI_pneumonitis/data/train/pneumonitis_positive/P0668\n",
      "Finished listing present indexes\n",
      "Loading images for  at \n",
      " /home/lam3654/MSAI_pneumonitis/data/train/pneumonitis_positive/P0668\n",
      "\n",
      "Erasing any previous mask as we load a new new image set\n"
     ]
    },
    {
     "name": "stderr",
     "output_type": "stream",
     "text": [
      "Loading through DICOM files:   0%|                                                                              | 0/1 [00:00<?, ?it/s]"
     ]
    },
    {
     "name": "stdout",
     "output_type": "stream",
     "text": [
      "Loading from /home/lam3654/MSAI_pneumonitis/data/train/small_pneumonitis_negative/P0222\n"
     ]
    },
    {
     "name": "stderr",
     "output_type": "stream",
     "text": [
      "Loading through DICOM files: 100%|██████████████████████████████████████████████████████████████████████| 1/1 [00:03<00:00,  3.07s/it]\n"
     ]
    },
    {
     "name": "stdout",
     "output_type": "stream",
     "text": [
      "Compiling dictionaries together...\n",
      "Index 0, description NEW 4DCT/OncoBody  at /home/lam3654/MSAI_pneumonitis/data/train/small_pneumonitis_negative/P0222\n",
      "Index 1, description None at None\n",
      "2 unique series IDs were found. Default is index 0, to change use set_index(index)\n",
      "Contour names or associations changed, resetting mask\n",
      "The following indexes have all ROIs present\n",
      "Index 0, located at /home/lam3654/MSAI_pneumonitis/data/train/small_pneumonitis_negative/P0222\n",
      "Finished listing present indexes\n",
      "Loading images for NEW 4DCT/OncoBody  at \n",
      " /home/lam3654/MSAI_pneumonitis/data/train/small_pneumonitis_negative/P0222\n",
      "\n",
      "Erasing any previous mask as we load a new new image set\n"
     ]
    },
    {
     "name": "stderr",
     "output_type": "stream",
     "text": [
      "Loading through DICOM files:   0%|                                                                              | 0/1 [00:00<?, ?it/s]"
     ]
    },
    {
     "name": "stdout",
     "output_type": "stream",
     "text": [
      "Loading from /home/lam3654/MSAI_pneumonitis/data/train/pneumonitis_positive/P1159\n"
     ]
    },
    {
     "name": "stderr",
     "output_type": "stream",
     "text": [
      "Loading through DICOM files: 100%|██████████████████████████████████████████████████████████████████████| 1/1 [00:29<00:00, 29.85s/it]\n"
     ]
    },
    {
     "name": "stdout",
     "output_type": "stream",
     "text": [
      "Compiling dictionaries together...\n",
      "Index 0, description NEW 4DCT/OncoBody  at /home/lam3654/MSAI_pneumonitis/data/train/pneumonitis_positive/P1159\n",
      "Index 1, description ThoraxRoutine 5.0 B40s at /home/lam3654/MSAI_pneumonitis/data/train/pneumonitis_positive/P1159\n",
      "Index 2, description CHEST  1.0  B35f at /home/lam3654/MSAI_pneumonitis/data/train/pneumonitis_positive/P1159\n",
      "Index 3, description CHEST  3.0  B35f at /home/lam3654/MSAI_pneumonitis/data/train/pneumonitis_positive/P1159\n",
      "Index 4, description ThoraxRoutine 5.0 B40s at /home/lam3654/MSAI_pneumonitis/data/train/pneumonitis_positive/P1159\n",
      "Index 5, description 3MMCHEST  3.0  B35f  at /home/lam3654/MSAI_pneumonitis/data/train/pneumonitis_positive/P1159\n",
      "Index 6, description 3MMCHEST  3.0  B35f  at /home/lam3654/MSAI_pneumonitis/data/train/pneumonitis_positive/P1159\n",
      "Index 7, description CHEST  3.0  B35f at /home/lam3654/MSAI_pneumonitis/data/train/pneumonitis_positive/P1159\n",
      "Index 8, description None at None\n",
      "9 unique series IDs were found. Default is index 0, to change use set_index(index)\n",
      "Lacking ['llung'] in index 1, location /home/lam3654/MSAI_pneumonitis/data/train/pneumonitis_positive/P1159. Found []\n",
      "Lacking ['llung'] in index 2, location /home/lam3654/MSAI_pneumonitis/data/train/pneumonitis_positive/P1159. Found []\n",
      "Lacking ['llung'] in index 3, location /home/lam3654/MSAI_pneumonitis/data/train/pneumonitis_positive/P1159. Found []\n",
      "Lacking ['llung'] in index 4, location /home/lam3654/MSAI_pneumonitis/data/train/pneumonitis_positive/P1159. Found []\n",
      "Lacking ['llung'] in index 5, location /home/lam3654/MSAI_pneumonitis/data/train/pneumonitis_positive/P1159. Found []\n",
      "Lacking ['llung'] in index 6, location /home/lam3654/MSAI_pneumonitis/data/train/pneumonitis_positive/P1159. Found []\n",
      "Lacking ['llung'] in index 7, location /home/lam3654/MSAI_pneumonitis/data/train/pneumonitis_positive/P1159. Found []\n",
      "Contour names or associations changed, resetting mask\n",
      "The following indexes have all ROIs present\n",
      "Index 0, located at /home/lam3654/MSAI_pneumonitis/data/train/pneumonitis_positive/P1159\n",
      "Finished listing present indexes\n",
      "Loading images for NEW 4DCT/OncoBody  at \n",
      " /home/lam3654/MSAI_pneumonitis/data/train/pneumonitis_positive/P1159\n",
      "\n",
      "Erasing any previous mask as we load a new new image set\n"
     ]
    },
    {
     "name": "stderr",
     "output_type": "stream",
     "text": [
      "Loading through DICOM files:   0%|                                                                              | 0/4 [00:00<?, ?it/s]"
     ]
    },
    {
     "name": "stdout",
     "output_type": "stream",
     "text": [
      "Loading from /home/lam3654/MSAI_pneumonitis/data/train/pneumonitis_positive/NU_0035/2016-07__Studies/NU.0035_NU.0035_RTDOSE_2016-07-30_083030_SBRT.lung.planning.bellows_NU.0035_n1__00000\n",
      "Loading from /home/lam3654/MSAI_pneumonitis/data/train/pneumonitis_positive/NU_0035/2016-07__Studies/NU.0035_NU.0035_CT_2016-07-30_083030_SBRT.lung.planning.bellows_NU.0035_n198__00000\n",
      "Loading from /home/lam3654/MSAI_pneumonitis/data/train/pneumonitis_positive/NU_0035/2016-07__Studies/NU.0035_NU.0035_RTst_2016-07-30_083030_SBRT.lung.planning.bellows_AY_n1__00000\n",
      "Loading from /home/lam3654/MSAI_pneumonitis/data/train/pneumonitis_positive/NU_0035/2016-07__Studies/NU.0035_NU.0035_RTPLAN_2016-07-30_083030_SBRT.lung.planning.bellows_NU.0035_n1__00000\n"
     ]
    },
    {
     "name": "stderr",
     "output_type": "stream",
     "text": [
      "Loading through DICOM files:  75%|████████████████████████████████████████████████████▌                 | 3/4 [00:00<00:00,  6.48it/s]"
     ]
    },
    {
     "name": "stdout",
     "output_type": "stream",
     "text": [
      "Had an error loading /home/lam3654/MSAI_pneumonitis/data/train/pneumonitis_positive/NU_0035/2016-07__Studies/NU.0035_NU.0035_RTPLAN_2016-07-30_083030_SBRT.lung.planning.bellows_NU.0035_n1__00000/2.16.840.1.114362.1.11940992.22933840372.569048698.1055.7021.dcm\n"
     ]
    },
    {
     "name": "stderr",
     "output_type": "stream",
     "text": [
      "Loading through DICOM files: 100%|██████████████████████████████████████████████████████████████████████| 4/4 [00:04<00:00,  1.02s/it]\n"
     ]
    },
    {
     "name": "stdout",
     "output_type": "stream",
     "text": [
      "Compiling dictionaries together...\n",
      "Index 0, description NU_0035  at /home/lam3654/MSAI_pneumonitis/data/train/pneumonitis_positive/NU_0035/2016-07__Studies/NU.0035_NU.0035_CT_2016-07-30_083030_SBRT.lung.planning.bellows_NU.0035_n198__00000\n",
      "Index 1, description None at None\n",
      "2 unique series IDs were found. Default is index 0, to change use set_index(index)\n",
      "Contour names or associations changed, resetting mask\n",
      "The following indexes have all ROIs present\n",
      "Index 0, located at /home/lam3654/MSAI_pneumonitis/data/train/pneumonitis_positive/NU_0035/2016-07__Studies/NU.0035_NU.0035_CT_2016-07-30_083030_SBRT.lung.planning.bellows_NU.0035_n198__00000\n",
      "Finished listing present indexes\n",
      "Loading images for NU_0035  at \n",
      " /home/lam3654/MSAI_pneumonitis/data/train/pneumonitis_positive/NU_0035/2016-07__Studies/NU.0035_NU.0035_CT_2016-07-30_083030_SBRT.lung.planning.bellows_NU.0035_n198__00000\n",
      "\n",
      "Erasing any previous mask as we load a new new image set\n"
     ]
    },
    {
     "name": "stderr",
     "output_type": "stream",
     "text": [
      "Loading through DICOM files:   0%|                                                                              | 0/1 [00:00<?, ?it/s]"
     ]
    },
    {
     "name": "stdout",
     "output_type": "stream",
     "text": [
      "Loading from /home/lam3654/MSAI_pneumonitis/data/train/pneumonitis_positive/P0500\n"
     ]
    },
    {
     "name": "stderr",
     "output_type": "stream",
     "text": [
      "Loading through DICOM files: 100%|██████████████████████████████████████████████████████████████████████| 1/1 [00:06<00:00,  6.76s/it]\n"
     ]
    },
    {
     "name": "stdout",
     "output_type": "stream",
     "text": [
      "Compiling dictionaries together...\n",
      "Index 0, description 4D CT/OncoBody at /home/lam3654/MSAI_pneumonitis/data/train/pneumonitis_positive/P0500\n",
      "Index 1, description 3mm Chest  3.0  B35s at /home/lam3654/MSAI_pneumonitis/data/train/pneumonitis_positive/P0500\n",
      "Index 2, description None at None\n",
      "3 unique series IDs were found. Default is index 0, to change use set_index(index)\n",
      "Lacking ['llung'] in index 1, location /home/lam3654/MSAI_pneumonitis/data/train/pneumonitis_positive/P0500. Found []\n",
      "Contour names or associations changed, resetting mask\n",
      "The following indexes have all ROIs present\n",
      "Index 0, located at /home/lam3654/MSAI_pneumonitis/data/train/pneumonitis_positive/P0500\n",
      "Finished listing present indexes\n",
      "Loading images for 4D CT/OncoBody at \n",
      " /home/lam3654/MSAI_pneumonitis/data/train/pneumonitis_positive/P0500\n",
      "\n",
      "Erasing any previous mask as we load a new new image set\n"
     ]
    },
    {
     "name": "stderr",
     "output_type": "stream",
     "text": [
      "Loading through DICOM files:   0%|                                                                              | 0/1 [00:00<?, ?it/s]"
     ]
    },
    {
     "name": "stdout",
     "output_type": "stream",
     "text": [
      "Loading from /home/lam3654/MSAI_pneumonitis/data/train/pneumonitis_positive/P1199\n"
     ]
    },
    {
     "name": "stderr",
     "output_type": "stream",
     "text": [
      "Loading through DICOM files: 100%|██████████████████████████████████████████████████████████████████████| 1/1 [00:07<00:00,  7.76s/it]\n"
     ]
    },
    {
     "name": "stdout",
     "output_type": "stream",
     "text": [
      "Compiling dictionaries together...\n",
      "Index 0, description 4D CT/OncoBody at /home/lam3654/MSAI_pneumonitis/data/train/pneumonitis_positive/P1199\n",
      "Index 1, description 3mm Chest  3.0  B35s at /home/lam3654/MSAI_pneumonitis/data/train/pneumonitis_positive/P1199\n",
      "Index 2, description None at None\n",
      "3 unique series IDs were found. Default is index 0, to change use set_index(index)\n",
      "Lacking ['llung'] in index 1, location /home/lam3654/MSAI_pneumonitis/data/train/pneumonitis_positive/P1199. Found []\n",
      "Contour names or associations changed, resetting mask\n",
      "The following indexes have all ROIs present\n",
      "Index 0, located at /home/lam3654/MSAI_pneumonitis/data/train/pneumonitis_positive/P1199\n",
      "Finished listing present indexes\n",
      "Loading images for 4D CT/OncoBody at \n",
      " /home/lam3654/MSAI_pneumonitis/data/train/pneumonitis_positive/P1199\n",
      "\n",
      "Erasing any previous mask as we load a new new image set\n"
     ]
    },
    {
     "name": "stderr",
     "output_type": "stream",
     "text": [
      "Loading through DICOM files:   0%|                                                                              | 0/4 [00:00<?, ?it/s]"
     ]
    },
    {
     "name": "stdout",
     "output_type": "stream",
     "text": [
      "Loading from /home/lam3654/MSAI_pneumonitis/data/train/small_pneumonitis_negative/NU_0092/2016-12__Studies/NU.0092_NU.0092_RTDOSE_2016-12-05_133854_SBRT.lung.planning_NU.0092_n1__00000\n",
      "Loading from /home/lam3654/MSAI_pneumonitis/data/train/small_pneumonitis_negative/NU_0092/2016-12__Studies/NU.0092_NU.0092_RTst_2016-12-05_133854_SBRT.lung.planning_AY_n1__00000\n",
      "Loading from /home/lam3654/MSAI_pneumonitis/data/train/small_pneumonitis_negative/NU_0092/2016-12__Studies/NU.0092_NU.0092_CT_2016-12-05_133854_SBRT.lung.planning_NU.0092_n129__00000\n",
      "Loading from /home/lam3654/MSAI_pneumonitis/data/train/small_pneumonitis_negative/NU_0092/2016-12__Studies/NU.0092_NU.0092_RTPLAN_2016-12-05_133854_SBRT.lung.planning_NU.0092_n1__00000\n",
      "Had an error loading /home/lam3654/MSAI_pneumonitis/data/train/small_pneumonitis_negative/NU_0092/2016-12__Studies/NU.0092_NU.0092_RTPLAN_2016-12-05_133854_SBRT.lung.planning_NU.0092_n1__00000/2.16.840.1.114362.1.11940992.22933840372.569052445.673.7788.dcm\n"
     ]
    },
    {
     "name": "stderr",
     "output_type": "stream",
     "text": [
      "Loading through DICOM files: 100%|██████████████████████████████████████████████████████████████████████| 4/4 [00:02<00:00,  1.65it/s]\n"
     ]
    },
    {
     "name": "stdout",
     "output_type": "stream",
     "text": [
      "Compiling dictionaries together...\n",
      "Index 0, description NU_0092  at /home/lam3654/MSAI_pneumonitis/data/train/small_pneumonitis_negative/NU_0092/2016-12__Studies/NU.0092_NU.0092_CT_2016-12-05_133854_SBRT.lung.planning_NU.0092_n129__00000\n",
      "Index 1, description None at None\n",
      "2 unique series IDs were found. Default is index 0, to change use set_index(index)\n",
      "Contour names or associations changed, resetting mask\n",
      "The following indexes have all ROIs present\n",
      "Index 0, located at /home/lam3654/MSAI_pneumonitis/data/train/small_pneumonitis_negative/NU_0092/2016-12__Studies/NU.0092_NU.0092_CT_2016-12-05_133854_SBRT.lung.planning_NU.0092_n129__00000\n",
      "Finished listing present indexes\n",
      "Loading images for NU_0092  at \n",
      " /home/lam3654/MSAI_pneumonitis/data/train/small_pneumonitis_negative/NU_0092/2016-12__Studies/NU.0092_NU.0092_CT_2016-12-05_133854_SBRT.lung.planning_NU.0092_n129__00000\n",
      "\n",
      "Erasing any previous mask as we load a new new image set\n"
     ]
    },
    {
     "name": "stderr",
     "output_type": "stream",
     "text": [
      "Loading through DICOM files:   0%|                                                                              | 0/1 [00:00<?, ?it/s]"
     ]
    },
    {
     "name": "stdout",
     "output_type": "stream",
     "text": [
      "Loading from /home/lam3654/MSAI_pneumonitis/data/train/small_pneumonitis_negative/P0970\n"
     ]
    },
    {
     "name": "stderr",
     "output_type": "stream",
     "text": [
      "Loading through DICOM files: 100%|██████████████████████████████████████████████████████████████████████| 1/1 [00:34<00:00, 34.76s/it]\n"
     ]
    },
    {
     "name": "stdout",
     "output_type": "stream",
     "text": [
      "Compiling dictionaries together...\n",
      "Index 0, description NEW 4DCT/OncoBody  at /home/lam3654/MSAI_pneumonitis/data/train/small_pneumonitis_negative/P0970\n",
      "Index 1, description 3mm Chest  3.0  B35s at /home/lam3654/MSAI_pneumonitis/data/train/small_pneumonitis_negative/P0970\n",
      "Index 2, description 3mm Chest  3.0  B35s at /home/lam3654/MSAI_pneumonitis/data/train/small_pneumonitis_negative/P0970\n",
      "Index 3, description 3mm Chest  3.0  B35s at /home/lam3654/MSAI_pneumonitis/data/train/small_pneumonitis_negative/P0970\n",
      "Index 4, description THORAX  3.0  B35f  at /home/lam3654/MSAI_pneumonitis/data/train/small_pneumonitis_negative/P0970\n",
      "Index 5, description 3mm Chest  3.0  B35s at /home/lam3654/MSAI_pneumonitis/data/train/small_pneumonitis_negative/P0970\n",
      "Index 6, description CHEST  3.0  B35f at /home/lam3654/MSAI_pneumonitis/data/train/small_pneumonitis_negative/P0970\n",
      "Index 7, description 3MMCHEST  3.0  B35f  at /home/lam3654/MSAI_pneumonitis/data/train/small_pneumonitis_negative/P0970\n",
      "8 unique series IDs were found. Default is index 0, to change use set_index(index)\n",
      "Lacking ['llung'] in index 1, location /home/lam3654/MSAI_pneumonitis/data/train/small_pneumonitis_negative/P0970. Found []\n",
      "Lacking ['llung'] in index 2, location /home/lam3654/MSAI_pneumonitis/data/train/small_pneumonitis_negative/P0970. Found []\n",
      "Lacking ['llung'] in index 3, location /home/lam3654/MSAI_pneumonitis/data/train/small_pneumonitis_negative/P0970. Found []\n",
      "Lacking ['llung'] in index 4, location /home/lam3654/MSAI_pneumonitis/data/train/small_pneumonitis_negative/P0970. Found []\n",
      "Lacking ['llung'] in index 5, location /home/lam3654/MSAI_pneumonitis/data/train/small_pneumonitis_negative/P0970. Found []\n",
      "Lacking ['llung'] in index 6, location /home/lam3654/MSAI_pneumonitis/data/train/small_pneumonitis_negative/P0970. Found []\n",
      "Lacking ['llung'] in index 7, location /home/lam3654/MSAI_pneumonitis/data/train/small_pneumonitis_negative/P0970. Found []\n",
      "Contour names or associations changed, resetting mask\n",
      "The following indexes have all ROIs present\n",
      "Index 0, located at /home/lam3654/MSAI_pneumonitis/data/train/small_pneumonitis_negative/P0970\n",
      "Finished listing present indexes\n",
      "Loading images for NEW 4DCT/OncoBody  at \n",
      " /home/lam3654/MSAI_pneumonitis/data/train/small_pneumonitis_negative/P0970\n",
      "\n",
      "Erasing any previous mask as we load a new new image set\n"
     ]
    },
    {
     "name": "stderr",
     "output_type": "stream",
     "text": [
      "Loading through DICOM files:   0%|                                                                              | 0/1 [00:00<?, ?it/s]"
     ]
    },
    {
     "name": "stdout",
     "output_type": "stream",
     "text": [
      "Loading from /home/lam3654/MSAI_pneumonitis/data/train/pneumonitis_positive/P1097\n"
     ]
    },
    {
     "name": "stderr",
     "output_type": "stream",
     "text": [
      "Loading through DICOM files: 100%|██████████████████████████████████████████████████████████████████████| 1/1 [00:02<00:00,  2.57s/it]\n"
     ]
    },
    {
     "name": "stdout",
     "output_type": "stream",
     "text": [
      "Compiling dictionaries together...\n",
      "Index 0, description  at /home/lam3654/MSAI_pneumonitis/data/train/pneumonitis_positive/P1097\n",
      "1 unique series IDs were found. Default is index 0, to change use set_index(index)\n",
      "Contour names or associations changed, resetting mask\n",
      "The following indexes have all ROIs present\n",
      "Index 0, located at /home/lam3654/MSAI_pneumonitis/data/train/pneumonitis_positive/P1097\n",
      "Finished listing present indexes\n",
      "Loading images for  at \n",
      " /home/lam3654/MSAI_pneumonitis/data/train/pneumonitis_positive/P1097\n",
      "\n",
      "Erasing any previous mask as we load a new new image set\n"
     ]
    },
    {
     "name": "stderr",
     "output_type": "stream",
     "text": [
      "Loading through DICOM files:   0%|                                                                              | 0/1 [00:00<?, ?it/s]"
     ]
    },
    {
     "name": "stdout",
     "output_type": "stream",
     "text": [
      "Loading from /home/lam3654/MSAI_pneumonitis/data/train/small_pneumonitis_negative/P0699\n"
     ]
    },
    {
     "name": "stderr",
     "output_type": "stream",
     "text": [
      "Loading through DICOM files: 100%|██████████████████████████████████████████████████████████████████████| 1/1 [00:41<00:00, 41.43s/it]\n"
     ]
    },
    {
     "name": "stdout",
     "output_type": "stream",
     "text": [
      "Compiling dictionaries together...\n",
      "Index 0, description  at /home/lam3654/MSAI_pneumonitis/data/train/small_pneumonitis_negative/P0699\n",
      "Index 1, description 3mm Chest  3.0  B35s at /home/lam3654/MSAI_pneumonitis/data/train/small_pneumonitis_negative/P0699\n",
      "Index 2, description 3mm Chest  3.0  B35s at /home/lam3654/MSAI_pneumonitis/data/train/small_pneumonitis_negative/P0699\n",
      "Index 3, description 3mm Chest  3.0  B35s at /home/lam3654/MSAI_pneumonitis/data/train/small_pneumonitis_negative/P0699\n",
      "Index 4, description 3mm Chest  3.0  B35s at /home/lam3654/MSAI_pneumonitis/data/train/small_pneumonitis_negative/P0699\n",
      "Index 5, description 3mm Chest  3.0  B35s at /home/lam3654/MSAI_pneumonitis/data/train/small_pneumonitis_negative/P0699\n",
      "Index 6, description 3mm Chest  3.0  B35s at /home/lam3654/MSAI_pneumonitis/data/train/small_pneumonitis_negative/P0699\n",
      "Index 7, description None at None\n",
      "8 unique series IDs were found. Default is index 0, to change use set_index(index)\n",
      "Lacking ['llung'] in index 1, location /home/lam3654/MSAI_pneumonitis/data/train/small_pneumonitis_negative/P0699. Found []\n",
      "Lacking ['llung'] in index 2, location /home/lam3654/MSAI_pneumonitis/data/train/small_pneumonitis_negative/P0699. Found []\n",
      "Lacking ['llung'] in index 3, location /home/lam3654/MSAI_pneumonitis/data/train/small_pneumonitis_negative/P0699. Found []\n",
      "Lacking ['llung'] in index 4, location /home/lam3654/MSAI_pneumonitis/data/train/small_pneumonitis_negative/P0699. Found []\n",
      "Lacking ['llung'] in index 5, location /home/lam3654/MSAI_pneumonitis/data/train/small_pneumonitis_negative/P0699. Found []\n",
      "Lacking ['llung'] in index 6, location /home/lam3654/MSAI_pneumonitis/data/train/small_pneumonitis_negative/P0699. Found []\n",
      "Contour names or associations changed, resetting mask\n",
      "The following indexes have all ROIs present\n",
      "Index 0, located at /home/lam3654/MSAI_pneumonitis/data/train/small_pneumonitis_negative/P0699\n",
      "Finished listing present indexes\n",
      "Loading images for  at \n",
      " /home/lam3654/MSAI_pneumonitis/data/train/small_pneumonitis_negative/P0699\n",
      "\n",
      "Erasing any previous mask as we load a new new image set\n"
     ]
    },
    {
     "name": "stderr",
     "output_type": "stream",
     "text": [
      "Loading through DICOM files:   0%|                                                                              | 0/1 [00:00<?, ?it/s]"
     ]
    },
    {
     "name": "stdout",
     "output_type": "stream",
     "text": [
      "Loading from /home/lam3654/MSAI_pneumonitis/data/train/small_pneumonitis_negative/P0511\n"
     ]
    },
    {
     "name": "stderr",
     "output_type": "stream",
     "text": [
      "Loading through DICOM files: 100%|██████████████████████████████████████████████████████████████████████| 1/1 [00:34<00:00, 34.62s/it]\n"
     ]
    },
    {
     "name": "stdout",
     "output_type": "stream",
     "text": [
      "Compiling dictionaries together...\n",
      "Index 0, description 4D CT/OncoBody at /home/lam3654/MSAI_pneumonitis/data/train/small_pneumonitis_negative/P0511\n",
      "Index 1, description 3mm Chest  3.0  B35s at /home/lam3654/MSAI_pneumonitis/data/train/small_pneumonitis_negative/P0511\n",
      "Index 2, description 3mm Chest  3.0  B35s at /home/lam3654/MSAI_pneumonitis/data/train/small_pneumonitis_negative/P0511\n",
      "Index 3, description 3MMCHEST  3.0  B35f  at /home/lam3654/MSAI_pneumonitis/data/train/small_pneumonitis_negative/P0511\n",
      "Index 4, description 3mm Chest  3.0  B35s at /home/lam3654/MSAI_pneumonitis/data/train/small_pneumonitis_negative/P0511\n",
      "Index 5, description 3mm Chest  3.0  B35s at /home/lam3654/MSAI_pneumonitis/data/train/small_pneumonitis_negative/P0511\n",
      "Index 6, description THORAX  3.0  B35f  at /home/lam3654/MSAI_pneumonitis/data/train/small_pneumonitis_negative/P0511\n",
      "Index 7, description None at None\n",
      "8 unique series IDs were found. Default is index 0, to change use set_index(index)\n",
      "Lacking ['llung'] in index 1, location /home/lam3654/MSAI_pneumonitis/data/train/small_pneumonitis_negative/P0511. Found []\n",
      "Lacking ['llung'] in index 2, location /home/lam3654/MSAI_pneumonitis/data/train/small_pneumonitis_negative/P0511. Found []\n",
      "Lacking ['llung'] in index 3, location /home/lam3654/MSAI_pneumonitis/data/train/small_pneumonitis_negative/P0511. Found []\n",
      "Lacking ['llung'] in index 4, location /home/lam3654/MSAI_pneumonitis/data/train/small_pneumonitis_negative/P0511. Found []\n",
      "Lacking ['llung'] in index 5, location /home/lam3654/MSAI_pneumonitis/data/train/small_pneumonitis_negative/P0511. Found []\n",
      "Lacking ['llung'] in index 6, location /home/lam3654/MSAI_pneumonitis/data/train/small_pneumonitis_negative/P0511. Found []\n",
      "Contour names or associations changed, resetting mask\n",
      "The following indexes have all ROIs present\n",
      "Index 0, located at /home/lam3654/MSAI_pneumonitis/data/train/small_pneumonitis_negative/P0511\n",
      "Finished listing present indexes\n",
      "Loading images for 4D CT/OncoBody at \n",
      " /home/lam3654/MSAI_pneumonitis/data/train/small_pneumonitis_negative/P0511\n",
      "\n",
      "Erasing any previous mask as we load a new new image set\n"
     ]
    },
    {
     "name": "stderr",
     "output_type": "stream",
     "text": [
      "Loading through DICOM files:   0%|                                                                              | 0/4 [00:00<?, ?it/s]"
     ]
    },
    {
     "name": "stdout",
     "output_type": "stream",
     "text": [
      "Loading from /home/lam3654/MSAI_pneumonitis/data/train/small_pneumonitis_negative/NU_0003/2018-06__Studies/NU.0003_NU.0003_CT_2018-06-01_135234_SBRT.lung.planning.scan_NU.0003_n169__00000\n",
      "Loading from /home/lam3654/MSAI_pneumonitis/data/train/small_pneumonitis_negative/NU_0003/2018-06__Studies/NU.0003_NU.0003_RTDOSE_2018-06-01_135234_SBRT.lung.planning.scan_Coron_n1__00000\n",
      "Loading from /home/lam3654/MSAI_pneumonitis/data/train/small_pneumonitis_negative/NU_0003/2018-06__Studies/NU.0003_NU.0003_RTst_2018-06-01_135234_SBRT.lung.planning.scan_AY_n1__00000\n",
      "Loading from /home/lam3654/MSAI_pneumonitis/data/train/small_pneumonitis_negative/NU_0003/2018-06__Studies/NU.0003_NU.0003_RTPLAN_2018-06-01_135234_SBRT.lung.planning.scan_NU.0003_n1__00000\n",
      "Had an error loading /home/lam3654/MSAI_pneumonitis/data/train/small_pneumonitis_negative/NU_0003/2018-06__Studies/NU.0003_NU.0003_RTPLAN_2018-06-01_135234_SBRT.lung.planning.scan_NU.0003_n1__00000/2.16.840.1.114362.1.11940992.22933840372.569051724.879.4022.dcm\n"
     ]
    },
    {
     "name": "stderr",
     "output_type": "stream",
     "text": [
      "Loading through DICOM files: 100%|██████████████████████████████████████████████████████████████████████| 4/4 [00:03<00:00,  1.14it/s]\n"
     ]
    },
    {
     "name": "stdout",
     "output_type": "stream",
     "text": [
      "Compiling dictionaries together...\n",
      "Index 0, description NU_0003  at /home/lam3654/MSAI_pneumonitis/data/train/small_pneumonitis_negative/NU_0003/2018-06__Studies/NU.0003_NU.0003_CT_2018-06-01_135234_SBRT.lung.planning.scan_NU.0003_n169__00000\n",
      "Index 1, description None at None\n",
      "2 unique series IDs were found. Default is index 0, to change use set_index(index)\n",
      "Contour names or associations changed, resetting mask\n",
      "The following indexes have all ROIs present\n",
      "Index 0, located at /home/lam3654/MSAI_pneumonitis/data/train/small_pneumonitis_negative/NU_0003/2018-06__Studies/NU.0003_NU.0003_CT_2018-06-01_135234_SBRT.lung.planning.scan_NU.0003_n169__00000\n",
      "Finished listing present indexes\n",
      "Loading images for NU_0003  at \n",
      " /home/lam3654/MSAI_pneumonitis/data/train/small_pneumonitis_negative/NU_0003/2018-06__Studies/NU.0003_NU.0003_CT_2018-06-01_135234_SBRT.lung.planning.scan_NU.0003_n169__00000\n",
      "\n",
      "Erasing any previous mask as we load a new new image set\n"
     ]
    },
    {
     "name": "stderr",
     "output_type": "stream",
     "text": [
      "Loading through DICOM files:   0%|                                                                              | 0/1 [00:00<?, ?it/s]"
     ]
    },
    {
     "name": "stdout",
     "output_type": "stream",
     "text": [
      "Loading from /home/lam3654/MSAI_pneumonitis/data/train/small_pneumonitis_negative/P0595\n"
     ]
    },
    {
     "name": "stderr",
     "output_type": "stream",
     "text": [
      "Loading through DICOM files: 100%|██████████████████████████████████████████████████████████████████████| 1/1 [00:40<00:00, 40.12s/it]\n"
     ]
    },
    {
     "name": "stdout",
     "output_type": "stream",
     "text": [
      "Compiling dictionaries together...\n",
      "Index 0, description 4D CT/OncoBody at /home/lam3654/MSAI_pneumonitis/data/train/small_pneumonitis_negative/P0595\n",
      "Index 1, description 3mm Chest  3.0  B35s at /home/lam3654/MSAI_pneumonitis/data/train/small_pneumonitis_negative/P0595\n",
      "Index 2, description 3mm Chest  3.0  B35s at /home/lam3654/MSAI_pneumonitis/data/train/small_pneumonitis_negative/P0595\n",
      "Index 3, description 3mm Chest  3.0  B35s at /home/lam3654/MSAI_pneumonitis/data/train/small_pneumonitis_negative/P0595\n",
      "Index 4, description 3mm Chest  3.0  B35s at /home/lam3654/MSAI_pneumonitis/data/train/small_pneumonitis_negative/P0595\n",
      "Index 5, description 3mm Chest  3.0  B35s at /home/lam3654/MSAI_pneumonitis/data/train/small_pneumonitis_negative/P0595\n",
      "Index 6, description 3mm Chest  3.0  B35s at /home/lam3654/MSAI_pneumonitis/data/train/small_pneumonitis_negative/P0595\n",
      "Index 7, description 3mm Chest  3.0  B35s at /home/lam3654/MSAI_pneumonitis/data/train/small_pneumonitis_negative/P0595\n",
      "Index 8, description None at None\n",
      "9 unique series IDs were found. Default is index 0, to change use set_index(index)\n",
      "Lacking ['llung'] in index 1, location /home/lam3654/MSAI_pneumonitis/data/train/small_pneumonitis_negative/P0595. Found []\n",
      "Lacking ['llung'] in index 2, location /home/lam3654/MSAI_pneumonitis/data/train/small_pneumonitis_negative/P0595. Found []\n",
      "Lacking ['llung'] in index 3, location /home/lam3654/MSAI_pneumonitis/data/train/small_pneumonitis_negative/P0595. Found []\n",
      "Lacking ['llung'] in index 4, location /home/lam3654/MSAI_pneumonitis/data/train/small_pneumonitis_negative/P0595. Found []\n",
      "Lacking ['llung'] in index 5, location /home/lam3654/MSAI_pneumonitis/data/train/small_pneumonitis_negative/P0595. Found []\n",
      "Lacking ['llung'] in index 6, location /home/lam3654/MSAI_pneumonitis/data/train/small_pneumonitis_negative/P0595. Found []\n",
      "Lacking ['llung'] in index 7, location /home/lam3654/MSAI_pneumonitis/data/train/small_pneumonitis_negative/P0595. Found []\n",
      "Contour names or associations changed, resetting mask\n",
      "The following indexes have all ROIs present\n",
      "Index 0, located at /home/lam3654/MSAI_pneumonitis/data/train/small_pneumonitis_negative/P0595\n",
      "Finished listing present indexes\n",
      "Loading images for 4D CT/OncoBody at \n",
      " /home/lam3654/MSAI_pneumonitis/data/train/small_pneumonitis_negative/P0595\n",
      "\n",
      "Erasing any previous mask as we load a new new image set\n"
     ]
    },
    {
     "name": "stderr",
     "output_type": "stream",
     "text": [
      "Loading through DICOM files:   0%|                                                                              | 0/1 [00:00<?, ?it/s]"
     ]
    },
    {
     "name": "stdout",
     "output_type": "stream",
     "text": [
      "Loading from /home/lam3654/MSAI_pneumonitis/data/train/pneumonitis_positive/P0784\n"
     ]
    },
    {
     "name": "stderr",
     "output_type": "stream",
     "text": [
      "Loading through DICOM files: 100%|██████████████████████████████████████████████████████████████████████| 1/1 [00:15<00:00, 15.21s/it]\n"
     ]
    },
    {
     "name": "stdout",
     "output_type": "stream",
     "text": [
      "Compiling dictionaries together...\n",
      "Index 0, description AVG 0.0,10.0,20.0,30.0,40.0,50.0,60.0,70.0,80.0,90.0 at /home/lam3654/MSAI_pneumonitis/data/train/pneumonitis_positive/P0784\n",
      "Index 1, description Axial Mediastinum Chest  3.0  B35f at /home/lam3654/MSAI_pneumonitis/data/train/pneumonitis_positive/P0784\n",
      "Index 2, description 3mm Chest  3.0  B35s at /home/lam3654/MSAI_pneumonitis/data/train/pneumonitis_positive/P0784\n",
      "Index 3, description 3mm Chest  3.0  B35s at /home/lam3654/MSAI_pneumonitis/data/train/pneumonitis_positive/P0784\n",
      "Index 4, description None at None\n",
      "5 unique series IDs were found. Default is index 0, to change use set_index(index)\n",
      "Lacking ['llung'] in index 1, location /home/lam3654/MSAI_pneumonitis/data/train/pneumonitis_positive/P0784. Found []\n",
      "Lacking ['llung'] in index 2, location /home/lam3654/MSAI_pneumonitis/data/train/pneumonitis_positive/P0784. Found []\n",
      "Lacking ['llung'] in index 3, location /home/lam3654/MSAI_pneumonitis/data/train/pneumonitis_positive/P0784. Found []\n",
      "Contour names or associations changed, resetting mask\n",
      "The following indexes have all ROIs present\n",
      "Index 0, located at /home/lam3654/MSAI_pneumonitis/data/train/pneumonitis_positive/P0784\n",
      "Finished listing present indexes\n",
      "Loading images for AVG 0.0,10.0,20.0,30.0,40.0,50.0,60.0,70.0,80.0,90.0 at \n",
      " /home/lam3654/MSAI_pneumonitis/data/train/pneumonitis_positive/P0784\n",
      "\n",
      "Erasing any previous mask as we load a new new image set\n"
     ]
    },
    {
     "name": "stderr",
     "output_type": "stream",
     "text": [
      "Loading through DICOM files:   0%|                                                                              | 0/1 [00:00<?, ?it/s]"
     ]
    },
    {
     "name": "stdout",
     "output_type": "stream",
     "text": [
      "Loading from /home/lam3654/MSAI_pneumonitis/data/train/small_pneumonitis_negative/P1217\n"
     ]
    },
    {
     "name": "stderr",
     "output_type": "stream",
     "text": [
      "Loading through DICOM files: 100%|██████████████████████████████████████████████████████████████████████| 1/1 [00:02<00:00,  2.68s/it]\n"
     ]
    },
    {
     "name": "stdout",
     "output_type": "stream",
     "text": [
      "Compiling dictionaries together...\n",
      "Index 0, description  at /home/lam3654/MSAI_pneumonitis/data/train/small_pneumonitis_negative/P1217\n",
      "1 unique series IDs were found. Default is index 0, to change use set_index(index)\n",
      "Contour names or associations changed, resetting mask\n",
      "The following indexes have all ROIs present\n",
      "Index 0, located at /home/lam3654/MSAI_pneumonitis/data/train/small_pneumonitis_negative/P1217\n",
      "Finished listing present indexes\n",
      "Loading images for  at \n",
      " /home/lam3654/MSAI_pneumonitis/data/train/small_pneumonitis_negative/P1217\n",
      "\n",
      "Erasing any previous mask as we load a new new image set\n"
     ]
    },
    {
     "name": "stderr",
     "output_type": "stream",
     "text": [
      "Loading through DICOM files:   0%|                                                                              | 0/1 [00:00<?, ?it/s]"
     ]
    },
    {
     "name": "stdout",
     "output_type": "stream",
     "text": [
      "Loading from /home/lam3654/MSAI_pneumonitis/data/train/pneumonitis_positive/P0054\n"
     ]
    },
    {
     "name": "stderr",
     "output_type": "stream",
     "text": [
      "Loading through DICOM files: 100%|██████████████████████████████████████████████████████████████████████| 1/1 [00:20<00:00, 20.25s/it]\n"
     ]
    },
    {
     "name": "stdout",
     "output_type": "stream",
     "text": [
      "Compiling dictionaries together...\n",
      "Index 0, description 4D CT/OncoBody at /home/lam3654/MSAI_pneumonitis/data/train/pneumonitis_positive/P0054\n",
      "Index 1, description Thorax  3.0  B31f  at /home/lam3654/MSAI_pneumonitis/data/train/pneumonitis_positive/P0054\n",
      "Index 2, description Thorax  3.0  B31f  at /home/lam3654/MSAI_pneumonitis/data/train/pneumonitis_positive/P0054\n",
      "Index 3, description Thorax  3.0  B31f  at /home/lam3654/MSAI_pneumonitis/data/train/pneumonitis_positive/P0054\n",
      "Index 4, description Thorax  3.0  B31f  at /home/lam3654/MSAI_pneumonitis/data/train/pneumonitis_positive/P0054\n",
      "Index 5, description PE CHEST  1.0  B30f  at /home/lam3654/MSAI_pneumonitis/data/train/pneumonitis_positive/P0054\n",
      "Index 6, description None at None\n",
      "7 unique series IDs were found. Default is index 0, to change use set_index(index)\n",
      "Lacking ['llung'] in index 1, location /home/lam3654/MSAI_pneumonitis/data/train/pneumonitis_positive/P0054. Found []\n",
      "Lacking ['llung'] in index 2, location /home/lam3654/MSAI_pneumonitis/data/train/pneumonitis_positive/P0054. Found []\n",
      "Lacking ['llung'] in index 3, location /home/lam3654/MSAI_pneumonitis/data/train/pneumonitis_positive/P0054. Found []\n",
      "Lacking ['llung'] in index 4, location /home/lam3654/MSAI_pneumonitis/data/train/pneumonitis_positive/P0054. Found []\n",
      "Lacking ['llung'] in index 5, location /home/lam3654/MSAI_pneumonitis/data/train/pneumonitis_positive/P0054. Found []\n",
      "Contour names or associations changed, resetting mask\n",
      "The following indexes have all ROIs present\n",
      "Index 0, located at /home/lam3654/MSAI_pneumonitis/data/train/pneumonitis_positive/P0054\n",
      "Finished listing present indexes\n",
      "Loading images for 4D CT/OncoBody at \n",
      " /home/lam3654/MSAI_pneumonitis/data/train/pneumonitis_positive/P0054\n",
      "\n",
      "Erasing any previous mask as we load a new new image set\n"
     ]
    },
    {
     "name": "stderr",
     "output_type": "stream",
     "text": [
      "Loading through DICOM files:  50%|███████████████████████████████████                                   | 2/4 [00:00<00:00, 19.26it/s]"
     ]
    },
    {
     "name": "stdout",
     "output_type": "stream",
     "text": [
      "Loading from /home/lam3654/MSAI_pneumonitis/data/train/small_pneumonitis_negative/NU_0012A/2019-04__Studies/NU.0012C_NU.0012C_CT_2019-04-11_095832_SBRT.Lung.Planning.Scan_NU.0012C_n180__00000\n",
      "Loading from /home/lam3654/MSAI_pneumonitis/data/train/small_pneumonitis_negative/NU_0012A/2019-04__Studies/NU.0012C_NU.0012C_RTst_2019-04-11_095832_SBRT.Lung.Planning.Scan_AY.0012A_n1__00000\n",
      "Loading from /home/lam3654/MSAI_pneumonitis/data/train/small_pneumonitis_negative/NU_0012A/2019-04__Studies/NU.0012C_NU.0012C_RTPLAN_2019-04-11_095832_MinIP.SBRT.Lung.Planning.Scan_NU.0012C_n1__00000\n",
      "Loading from /home/lam3654/MSAI_pneumonitis/data/train/small_pneumonitis_negative/NU_0012A/2019-04__Studies/NU.0012C_NU.0012C_RTDOSE_2019-04-11_095832_MinIP.SBRT.Lung.Planning.Scan_NU.0012C_n1__00000\n",
      "Had an error loading /home/lam3654/MSAI_pneumonitis/data/train/small_pneumonitis_negative/NU_0012A/2019-04__Studies/NU.0012C_NU.0012C_RTPLAN_2019-04-11_095832_MinIP.SBRT.Lung.Planning.Scan_NU.0012C_n1__00000/2.16.840.1.114362.1.11940992.22933840372.569056651.949.553.dcm\n"
     ]
    },
    {
     "name": "stderr",
     "output_type": "stream",
     "text": [
      "Loading through DICOM files: 100%|██████████████████████████████████████████████████████████████████████| 4/4 [00:03<00:00,  1.31it/s]\n"
     ]
    },
    {
     "name": "stdout",
     "output_type": "stream",
     "text": [
      "Compiling dictionaries together...\n",
      "Index 0, description NU_0012C at /home/lam3654/MSAI_pneumonitis/data/train/small_pneumonitis_negative/NU_0012A/2019-04__Studies/NU.0012C_NU.0012C_CT_2019-04-11_095832_SBRT.Lung.Planning.Scan_NU.0012C_n180__00000\n",
      "Index 1, description None at None\n",
      "2 unique series IDs were found. Default is index 0, to change use set_index(index)\n",
      "Contour names or associations changed, resetting mask\n",
      "The following indexes have all ROIs present\n",
      "Index 0, located at /home/lam3654/MSAI_pneumonitis/data/train/small_pneumonitis_negative/NU_0012A/2019-04__Studies/NU.0012C_NU.0012C_CT_2019-04-11_095832_SBRT.Lung.Planning.Scan_NU.0012C_n180__00000\n",
      "Finished listing present indexes\n",
      "Loading images for NU_0012C at \n",
      " /home/lam3654/MSAI_pneumonitis/data/train/small_pneumonitis_negative/NU_0012A/2019-04__Studies/NU.0012C_NU.0012C_CT_2019-04-11_095832_SBRT.Lung.Planning.Scan_NU.0012C_n180__00000\n",
      "\n",
      "Erasing any previous mask as we load a new new image set\n"
     ]
    }
   ],
   "source": [
    "missed_test_contours = []\n",
    "skipped_test_cts = []\n",
    "total_test_arrays = []\n",
    "total_test_labels = []\n",
    "\n",
    "for i in range(len(test_data)):\n",
    "    try:\n",
    "        single_arrays = []\n",
    "        Dicom_path = test_data[i]\n",
    "        Dicom_reader = DicomReaderWriter(description='Examples', arg_max=True)\n",
    "        Dicom_reader.walk_through_folders(Dicom_path) \n",
    "        # all_rois = Dicom_reader.return_rois(print_rois=True) # Return a list of all rois present\n",
    "\n",
    "        right_side = lung_side(Dicom_path)\n",
    "        if right_side == True:\n",
    "            Contour_names = ['rlung'] \n",
    "            associations = [ROIAssociationClass('rlung', right_contours)]\n",
    "        else:\n",
    "            Contour_names = ['llung'] \n",
    "            associations = [ROIAssociationClass('llung', left_contours)]\n",
    "        Dicom_reader.set_contour_names_and_associations(contour_names=Contour_names, associations=associations)\n",
    "        indexes = Dicom_reader.which_indexes_have_all_rois()\n",
    "        if indexes != []:\n",
    "            pt_indx = indexes[-1]\n",
    "            Dicom_reader.set_index(pt_indx) \n",
    "            Dicom_reader.get_images_and_mask()  \n",
    "\n",
    "            image = Dicom_reader.ArrayDicom # image array\n",
    "            mask = Dicom_reader.mask # mask array\n",
    "\n",
    "            slice_locations = np.unique(np.where(mask != 0)[0]) # get indexes for where there is a contour present \n",
    "            slice_start = slice_locations[0] # first slice of contour \n",
    "            slice_end = slice_locations[len(slice_locations)-1] # last slice of contour\n",
    "\n",
    "            counter = 1\n",
    "\n",
    "            for img_arr, contour_arr in zip(image[slice_start:slice_end+1], mask[slice_start:slice_end+1]): \n",
    "                if counter % skip == 0: # if current slice is divisible by desired skip amount \n",
    "                    select = np.multiply(img_arr, contour_arr)\n",
    "                    single_arrays.append(select)\n",
    "                counter += 1\n",
    "\n",
    "            single_labels = [test_labels[i] for x in range(len(single_arrays))]\n",
    "            total_test_arrays = total_test_arrays + single_arrays\n",
    "            total_test_labels = total_test_labels + single_labels\n",
    "        else:\n",
    "            missed_test_contours.append(Dicom_path)\n",
    "    \n",
    "    except TypeError:\n",
    "        print(\"skip this dataset\")\n",
    "        skipped_test_cts.append(Dicom_path)\n",
    "        continue"
   ]
  },
  {
   "cell_type": "code",
   "execution_count": 21,
   "metadata": {},
   "outputs": [
    {
     "name": "stdout",
     "output_type": "stream",
     "text": [
      "373\n",
      "0\n"
     ]
    }
   ],
   "source": [
    "print(len(total_test_labels))\n",
    "print(len(skipped_test_cts))"
   ]
  },
  {
   "attachments": {},
   "cell_type": "markdown",
   "metadata": {},
   "source": [
    "### Save arrays"
   ]
  },
  {
   "cell_type": "code",
   "execution_count": 22,
   "metadata": {},
   "outputs": [],
   "source": [
    "np.save(os.path.join(np_folder_path, \"ipsi_test_arrays.npy\"), total_test_arrays)\n",
    "\n",
    "with open(os.path.join(np_folder_path, \"ipsi_test_labels_np.json\"), \"w\") as file:\n",
    "    json.dump(total_test_labels, file)"
   ]
  },
  {
   "attachments": {},
   "cell_type": "markdown",
   "metadata": {},
   "source": [
    "### Load dataset"
   ]
  },
  {
   "cell_type": "code",
   "execution_count": 23,
   "metadata": {},
   "outputs": [],
   "source": [
    "test_array_list = np.load(os.path.join(np_folder_path, \"ipsi_test_arrays.npy\"), allow_pickle=True)\n",
    "\n",
    "with open(os.path.join(np_folder_path, \"ipsi_test_labels_np.json\"), \"r\") as file:\n",
    "    test_labels_list = json.load(file)"
   ]
  },
  {
   "cell_type": "code",
   "execution_count": 24,
   "metadata": {},
   "outputs": [],
   "source": [
    "test_dataset = CTDataset(test_array_list, test_labels_list)\n",
    "test_data_loader = DataLoader(test_dataset, batch_size=4, shuffle=True)"
   ]
  },
  {
   "attachments": {},
   "cell_type": "markdown",
   "metadata": {},
   "source": [
    "### Train"
   ]
  },
  {
   "cell_type": "code",
   "execution_count": 25,
   "metadata": {},
   "outputs": [
    {
     "data": {
      "image/png": "[encoded data removed]",
      "text/plain": [
       "<Figure size 640x480 with 2 Axes>"
      ]
     },
     "metadata": {},
     "output_type": "display_data"
    },
    {
     "name": "stdout",
     "output_type": "stream",
     "text": [
      "Accuracy: 0.4745308310991957\n",
      "ROC AUC: 0.45315347087521307\n"
     ]
    }
   ],
   "source": [
    "model = model.to(device)\n",
    "model.eval()  # Set the model to evaluation mode\n",
    "\n",
    "true_labels = []\n",
    "pred_labels = []\n",
    "outputs_list = []\n",
    "\n",
    "# Loop through the test data\n",
    "for inputs, labels in test_data_loader:\n",
    "    inputs, labels = inputs.to(device), labels.to(device)\n",
    "    inputs = inputs[:, np.newaxis, :, :]\n",
    "    inputs = inputs.float()\n",
    "\n",
    "\n",
    "    # Forward pass\n",
    "    outputs = model(inputs)\n",
    "    _, preds = torch.max(outputs, 1)  # Get the predicted classes\n",
    "\n",
    "    true_labels.extend(labels.cpu().numpy())\n",
    "    pred_labels.extend(preds.cpu().numpy())\n",
    "    outputs_list.extend(outputs.detach().cpu().numpy())\n",
    "\n",
    "# Convert to numpy arrays for use with sklearn\n",
    "true_labels = np.array(true_labels)\n",
    "pred_labels = np.array(pred_labels)\n",
    "\n",
    "# Compute ROC AUC\n",
    "roc_auc = roc_auc_score(label_binarize(true_labels, classes=[0,1]),\n",
    "                        label_binarize(pred_labels, classes=[0,1]), \n",
    "                        average='macro')\n",
    "\n",
    "# Compute accuracy\n",
    "accuracy = accuracy_score(true_labels, pred_labels)\n",
    "\n",
    "# Compute confusion matrix\n",
    "cm = confusion_matrix(true_labels, pred_labels)\n",
    "\n",
    "# Plot confusion matrix\n",
    "sns.heatmap(cm, annot=True, cmap='Blues', fmt='g')\n",
    "plt.xlabel('Predicted')\n",
    "plt.ylabel('True')\n",
    "plt.show()\n",
    "\n",
    "print(f\"Accuracy: {accuracy}\")\n",
    "print(f\"ROC AUC: {roc_auc}\")"
   ]
  },
  {
   "attachments": {},
   "cell_type": "markdown",
   "metadata": {},
   "source": []
  }
 ],
 "metadata": {
  "kernelspec": {
   "display_name": "Python (practicum_env)",
   "language": "python",
   "name": "practicum_env"
  },
  "language_info": {
   "codemirror_mode": {
    "name": "ipython",
    "version": 3
   },
   "file_extension": ".py",
   "mimetype": "text/x-python",
   "name": "python",
   "nbconvert_exporter": "python",
   "pygments_lexer": "ipython3",
   "version": "3.8.13"
  },
  "orig_nbformat": 4
 },
 "nbformat": 4,
 "nbformat_minor": 2
}

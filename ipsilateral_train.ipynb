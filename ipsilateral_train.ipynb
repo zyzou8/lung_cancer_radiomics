{
 "cells": [
  {
   "attachments": {},
   "cell_type": "markdown",
   "metadata": {},
   "source": [
    "# Ipsilateral-GTV Model Pipeline\n"
   ]
  },
  {
   "attachments": {},
   "cell_type": "markdown",
   "metadata": {},
   "source": [
    "## Environment setup"
   ]
  },
  {
   "cell_type": "code",
   "execution_count": 36,
   "metadata": {},
   "outputs": [],
   "source": [
    "from DicomRTTool.ReaderWriter import DicomReaderWriter, ROIAssociationClass\n",
    "import SimpleITK as sitk\n",
    "import matplotlib.pyplot as plt\n",
    "import numpy as np\n",
    "import torch\n",
    "import torch.nn as nn\n",
    "import torch.optim as optim\n",
    "from torch.utils.data import DataLoader, Dataset, ConcatDataset, TensorDataset\n",
    "import pandas as pd"
   ]
  },
  {
   "attachments": {},
   "cell_type": "markdown",
   "metadata": {},
   "source": [
    "## Data preparation"
   ]
  },
  {
   "attachments": {},
   "cell_type": "markdown",
   "metadata": {},
   "source": [
    "### **Enter path to dicom folder here"
   ]
  },
  {
   "cell_type": "code",
   "execution_count": 37,
   "metadata": {},
   "outputs": [],
   "source": [
    "Dicom_path = r'/home/lam3654/MSAI_pneumonitis/data/BATCH 1'"
   ]
  },
  {
   "cell_type": "code",
   "execution_count": 38,
   "metadata": {},
   "outputs": [],
   "source": [
    "def display_slices(image, mask, skip=1):\n",
    "    \"\"\"\n",
    "    Displays a series of slices in z-direction that contains the segmented regions of interest.\n",
    "    Ensures all contours are displayed in consistent and different colors.\n",
    "        Parameters:\n",
    "            image (array-like): Numpy array of image.\n",
    "            mask (array-like): Numpy array of mask.\n",
    "            skip (int): Only print every nth slice, i.e. if 3 only print every 3rd slice, default 1.\n",
    "        Returns:\n",
    "            None (series of in-line plots).\n",
    "    \"\"\"\n",
    "\n",
    "    slice_locations = np.unique(np.where(mask != 0)[0]) # get indexes for where there is a contour present \n",
    "    slice_start = slice_locations[0] # first slice of contour \n",
    "    slice_end = slice_locations[len(slice_locations)-1] # last slice of contour\n",
    "    \n",
    "    counter = 1\n",
    "    \n",
    "    for img_arr, contour_arr in zip(image[slice_start:slice_end+1], mask[slice_start:slice_end+1]): # plot the slices with contours overlayed ontop\n",
    "        if counter % skip == 0: # if current slice is divisible by desired skip amount \n",
    "            masked_contour_arr = np.ma.masked_where(contour_arr == 0, contour_arr)\n",
    "            plt.imshow(img_arr, cmap='gray', interpolation='none')\n",
    "            plt.imshow(masked_contour_arr, cmap='cool', interpolation='none', alpha=0.5, vmin = 1, vmax = np.amax(mask)) # vmax is set as total number of contours so same colors can be displayed for each slice\n",
    "            plt.show()\n",
    "        counter += 1"
   ]
  },
  {
   "cell_type": "code",
   "execution_count": null,
   "metadata": {},
   "outputs": [],
   "source": [
    "Dicom_left_reader = DicomReaderWriter(description='Examples', arg_max=True)\n",
    "Dicom_left_reader.walk_through_folders(Dicom_path) # This will parse through all DICOM present in the folder and subfolders"
   ]
  },
  {
   "cell_type": "code",
   "execution_count": 39,
   "metadata": {},
   "outputs": [
    {
     "name": "stderr",
     "output_type": "stream",
     "text": [
      "Loading through DICOM files:   0%|                                                                                                       | 0/204 [00:00<?, ?it/s]"
     ]
    },
    {
     "name": "stdout",
     "output_type": "stream",
     "text": [
      "Loading from /home/lam3654/MSAI_pneumonitis/data/BATCH 1/NU_0011/2019-06__Studies/NU.0011_NU.0011_RTst_2019-06-11_160923_SBRT.Planning.Scan_AY_n1__00000\n",
      "Loading from /home/lam3654/MSAI_pneumonitis/data/BATCH 1/NU_0033/2018-06__Studies/NU.0033_NU.0033_RTDOSE_2018-06-21_152956_sbrt.lung.planning.w.contrast_NU.0033_n1__00000\n",
      "Loading from /home/lam3654/MSAI_pneumonitis/data/BATCH 1/NU_0037/2012-09__Studies/NU.0037_NU.0037_RTDOSE_2012-09-12_091234_SBRT.planning.bellows_NU.0037_n1__00000\n",
      "Loading from /home/lam3654/MSAI_pneumonitis/data/BATCH 1/NU_0019/2018-07__Studies/NU.0019_NU.0019_RTDOSE_2018-07-11_162227_sbrt.lung.planning_NU.0019_n1__00000\n",
      "Loading from /home/lam3654/MSAI_pneumonitis/data/BATCH 1/NU_0011/2019-06__Studies/NU.0011_NU.0011_RTDOSE_2019-06-11_160923_MinIP.SBRT.Planning.Scan_._n1__00000\n",
      "Loading from /home/lam3654/MSAI_pneumonitis/data/BATCH 1/NU_0004/2016-07__Studies/NU.0004_NU.0004_CT_2016-07-03_145128_SBRT.Lung.planning_NU.0004_n187__00000\n",
      "Loading from /home/lam3654/MSAI_pneumonitis/data/BATCH 1/NU_0015/2018-08__Studies/NU.0015_NU.0015_RTDOSE_2018-08-25_111034_SBRT.Chest.planning_NU.0015_n1__00000\n",
      "Loading from /home/lam3654/MSAI_pneumonitis/data/BATCH 1/NU_0015/2018-08__Studies/NU.0015_NU.0015_CT_2018-08-25_111034_SBRT.Chest.planning_NU.0015_n170__00000\n",
      "Loading from /home/lam3654/MSAI_pneumonitis/data/BATCH 1/NU_0040/2019-05__Studies/NU.0040_NU.0040_CT_2019-05-22_143029_SBRT.LUL.Planning_NU.0040_n155__00000\n",
      "Loading from /home/lam3654/MSAI_pneumonitis/data/BATCH 1/NU_0033/2018-06__Studies/NU.0033_NU.0033_RTst_2018-06-21_152956_sbrt.lung.planning.w.contrast_AY_n1__00000\n",
      "Loading from /home/lam3654/MSAI_pneumonitis/data/BATCH 1/NU_0019/2018-07__Studies/NU.0019_NU.0019_RTPLAN_2018-07-11_162227_sbrt.lung.planning_NU.0019_n1__00000\n",
      "Loading from /home/lam3654/MSAI_pneumonitis/data/BATCH 1/NU_0019/2018-07__Studies/NU.0019_NU.0019_CT_2018-07-11_162227_sbrt.lung.planning_NU.0019_n158__00000\n",
      "Loading from /home/lam3654/MSAI_pneumonitis/data/BATCH 1/NU_0004/2016-07__Studies/NU.0004_NU.0004_RTst_2016-07-03_145128_SBRT.Lung.planning_AY_n1__00000\n",
      "Loading from /home/lam3654/MSAI_pneumonitis/data/BATCH 1/NU_0004/2016-07__Studies/NU.0004_NU.0004_RTPLAN_2016-07-03_145128_SBRT.Lung.planning_NU.0004_n1__00000\n",
      "Loading from /home/lam3654/MSAI_pneumonitis/data/BATCH 1/NU_0239/2017-08__Studies/NU.0239_NU.0239_RTDOSE_2017-08-01_093310_SBRT.Lung_._n1__00000\n",
      "Loading from /home/lam3654/MSAI_pneumonitis/data/BATCH 1/NU_0239/2017-08__Studies/NU.0239_NU.0239_RTst_2017-08-01_093310_SBRT.Lung_AY_n1__00000\n",
      "Loading from /home/lam3654/MSAI_pneumonitis/data/BATCH 1/NU_0239/2017-08__Studies/NU.0239_NU.0239_CT_2017-08-01_093310_SBRT.Lung_._n215__00000\n",
      "Loading from /home/lam3654/MSAI_pneumonitis/data/BATCH 1/NU_0040/2019-05__Studies/NU.0040_NU.0040_RTst_2019-05-22_143029_SBRT.LUL.Planning_AY_n1__00000\n",
      "Loading from /home/lam3654/MSAI_pneumonitis/data/BATCH 1/NU_0040/2019-05__Studies/NU.0040_NU.0040_RTDOSE_2019-05-22_143029_SBRT.LUL.Planning_NU.0040_n1__00000\n",
      "Loading from /home/lam3654/MSAI_pneumonitis/data/BATCH 1/NU_0026/2018-07__Studies/NU.0026_NU.0026_RTPLAN_2018-07-13_153554_MInIP.SBRT.chest.plan.and.bellows_NU.0026_n1__00000\n",
      "Loading from /home/lam3654/MSAI_pneumonitis/data/BATCH 1/NU_0026/2018-07__Studies/NU.0026_NU.0026_RTst_2018-07-13_153554_SBRT.chest.plan.and.bellows_AY_n1__00000\n",
      "Loading from /home/lam3654/MSAI_pneumonitis/data/BATCH 1/NU_0011/2019-06__Studies/NU.0011_NU.0011_CT_2019-06-11_160923_SBRT.Planning.Scan_._n126__00000\n",
      "Loading from /home/lam3654/MSAI_pneumonitis/data/BATCH 1/NU_0004/2016-07__Studies/NU.0004_NU.0004_RTDOSE_2016-07-03_145128_SBRT.Lung.planning_NU.0004_n1__00000\n",
      "Loading from /home/lam3654/MSAI_pneumonitis/data/BATCH 1/NU_0239/2017-08__Studies/NU.0239_NU.0239_RTPLAN_2017-08-01_093310_SBRT.Lung_._n1__00000\n",
      "Loading from /home/lam3654/MSAI_pneumonitis/data/BATCH 1/NU_0015/2018-08__Studies/NU.0015_NU.0015_RTPLAN_2018-08-25_111034_SBRT.Chest.planning_NU.0015_n1__00000\n",
      "Loading from /home/lam3654/MSAI_pneumonitis/data/BATCH 1/NU_0040/2019-05__Studies/NU.0040_NU.0040_RTPLAN_2019-05-22_143029_SBRT.LUL.Planning_NU.0040_n1__00000\n",
      "Loading from /home/lam3654/MSAI_pneumonitis/data/BATCH 1/NU_0062/2012-09__Studies/NU.0062_NU.0062_RTst_2012-09-23_092750_SBRT.Lung.Plan_AY_n1__00000\n",
      "Loading from /home/lam3654/MSAI_pneumonitis/data/BATCH 1/NU_0044/2016-08__Studies/NU.0044_NU.0044_CT_2016-08-12_091943_SBRT.RLL.PLANNING_NU.0044_n177__00000\n",
      "Loading from /home/lam3654/MSAI_pneumonitis/data/BATCH 1/NU_0033/2018-06__Studies/NU.0033_NU.0033_RTPLAN_2018-06-21_152956_sbrt.lung.planning.w.contrast_NU.0033_n1__00000\n",
      "Loading from /home/lam3654/MSAI_pneumonitis/data/BATCH 1/NU_0026/2018-07__Studies/NU.0026_NU.0026_CT_2018-07-13_153554_SBRT.chest.plan.and.bellows_NU.0026_n161__00000\n",
      "Loading from /home/lam3654/MSAI_pneumonitis/data/BATCH 1/NU_0011/2019-06__Studies/NU.0011_NU.0011_RTPLAN_2019-06-11_160923_MinIP.SBRT.Planning.Scan_._n1__00000\n",
      "Loading from /home/lam3654/MSAI_pneumonitis/data/BATCH 1/NU_0015/2018-08__Studies/NU.0015_NU.0015_RTst_2018-08-25_111034_SBRT.Chest.planning_AY_n1__00000\n",
      "Loading from /home/lam3654/MSAI_pneumonitis/data/BATCH 1/NU_0019/2018-07__Studies/NU.0019_NU.0019_RTst_2018-07-11_162227_sbrt.lung.planning_AY_n1__00000\n",
      "Loading from /home/lam3654/MSAI_pneumonitis/data/BATCH 1/NU_0062/2012-09__Studies/NU.0062_NU.0062_CT_2012-09-23_092750_SBRT.Lung.Plan_NU.0062_n175__00000\n",
      "Loading from /home/lam3654/MSAI_pneumonitis/data/BATCH 1/NU_0062/2012-09__Studies/NU.0062_NU.0062_RTPLAN_2012-09-23_092750_SBRT.Lung.Plan_NU.0062_n1__00000\n",
      "Loading from /home/lam3654/MSAI_pneumonitis/data/BATCH 1/NU_0062/2012-09__Studies/NU.0062_NU.0062_RTDOSE_2012-09-23_092750_SBRT.Lung.Plan_NU.0062_n1__00000\n",
      "Loading from /home/lam3654/MSAI_pneumonitis/data/BATCH 1/NU_0044/2016-08__Studies/NU.0044_NU.0044_RTPLAN_2016-08-12_091943_SBRT.RLL.PLANNING_NU.0044_n1__00000\n",
      "Loading from /home/lam3654/MSAI_pneumonitis/data/BATCH 1/NU_0044/2016-08__Studies/NU.0044_NU.0044_RTst_2016-08-12_091943_SBRT.RLL.PLANNING_AY_n1__00000\n",
      "Loading from /home/lam3654/MSAI_pneumonitis/data/BATCH 1/NU_0033/2018-06__Studies/NU.0033_NU.0033_CT_2018-06-21_152956_sbrt.lung.planning.w.contrast_NU.0033_n135__00000\n",
      "Loading from /home/lam3654/MSAI_pneumonitis/data/BATCH 1/NU_0037/2012-09__Studies/NU.0037_NU.0037_RTPLAN_2012-09-12_091234_SBRT.planning.bellows_NU.0037_n1__00000\n",
      "Loading from /home/lam3654/MSAI_pneumonitis/data/BATCH 1/NU_0037/2012-09__Studies/NU.0037_NU.0037_RTst_2012-09-12_091234_SBRT.planning.bellows_AY_n1__00000\n",
      "Loading from /home/lam3654/MSAI_pneumonitis/data/BATCH 1/NU_0055/2016-04__Studies/NU.0055_NU.0055_RTDOSE_2016-04-18_135434_SBRT.lung.planning_NU.0055_n1__00000\n",
      "Loading from /home/lam3654/MSAI_pneumonitis/data/BATCH 1/NU_0037/2012-09__Studies/NU.0037_NU.0037_CT_2012-09-12_091234_SBRT.planning.bellows_NU.0037_n214__00000\n",
      "Loading from /home/lam3654/MSAI_pneumonitis/data/BATCH 1/NU_0026/2018-07__Studies/NU.0026_NU.0026_RTDOSE_2018-07-13_153554_MInIP.SBRT.chest.plan.and.bellows_NU.0026_n1__00000\n",
      "Loading from /home/lam3654/MSAI_pneumonitis/data/BATCH 1/NU_0044/2016-08__Studies/NU.0044_NU.0044_RTDOSE_2016-08-12_091943_SBRT.RLL.PLANNING_NU.0044_n1__00000\n"
     ]
    },
    {
     "name": "stderr",
     "output_type": "stream",
     "text": [
      "Loading through DICOM files:   6%|█████▌                                                                                        | 12/204 [00:00<00:18, 10.33it/s]"
     ]
    },
    {
     "name": "stdout",
     "output_type": "stream",
     "text": [
      "Loading from /home/lam3654/MSAI_pneumonitis/data/BATCH 1/NU_0055/2016-04__Studies/NU.0055_NU.0055_RTst_2016-04-18_135434_SBRT.lung.planning_AY_n1__00000\n",
      "Loading from /home/lam3654/MSAI_pneumonitis/data/BATCH 1/NU_0038/2012-03__Studies/NU.0038_NU.0038_CT_2012-03-05_113831_SBRT.Planning.Scan_NU.0038_n162__00000\n",
      "Loading from /home/lam3654/MSAI_pneumonitis/data/BATCH 1/NU_0055/2016-04__Studies/NU.0055_NU.0055_RTPLAN_2016-04-18_135434_SBRT.lung.planning_NU.0055_n1__00000\n",
      "Loading from /home/lam3654/MSAI_pneumonitis/data/BATCH 1/NU_0038/2012-03__Studies/NU.0038_NU.0038_RTPLAN_2012-03-05_113831_SBRT.Planning.Scan_NU.0038_n1__00000\n",
      "Loading from /home/lam3654/MSAI_pneumonitis/data/BATCH 1/NU_0055/2016-04__Studies/NU.0055_NU.0055_CT_2016-04-18_135434_SBRT.lung.planning_NU.0055_n164__00000\n",
      "Loading from /home/lam3654/MSAI_pneumonitis/data/BATCH 1/NU_0038/2012-03__Studies/NU.0038_NU.0038_RTst_2012-03-05_113831_SBRT.Planning.Scan_AY_n1__00000\n",
      "Loading from /home/lam3654/MSAI_pneumonitis/data/BATCH 1/NU_0038/2012-03__Studies/NU.0038_NU.0038_RTDOSE_2012-03-05_113831_SBRT.Planning.Scan_NU.0038_n1__00000\n",
      "Loading from /home/lam3654/MSAI_pneumonitis/data/BATCH 1/NU_0066/2017-08__Studies/NU.0066_NU.0066_RTDOSE_2017-08-25_144014_R.Lung.SBRT.planning_NU.0066_n1__00000\n",
      "Loading from /home/lam3654/MSAI_pneumonitis/data/BATCH 1/NU_0066/2017-08__Studies/NU.0066_NU.0066_CT_2017-08-25_144014_R.Lung.SBRT.planning_NU.0066_n143__00000\n"
     ]
    },
    {
     "name": "stderr",
     "output_type": "stream",
     "text": [
      "Loading through DICOM files:   7%|██████▍                                                                                       | 14/204 [00:00<00:20,  9.19it/s]"
     ]
    },
    {
     "name": "stdout",
     "output_type": "stream",
     "text": [
      "Loading from /home/lam3654/MSAI_pneumonitis/data/BATCH 1/NU_0066/2017-08__Studies/NU.0066_NU.0066_RTst_2017-08-25_144014_R.Lung.SBRT.planning_AY_n1__00000\n",
      "Loading from /home/lam3654/MSAI_pneumonitis/data/BATCH 1/NU_0066/2017-08__Studies/NU.0066_NU.0066_RTPLAN_2017-08-25_144014_R.Lung.SBRT.planning_NU.0066_n1__00000\n",
      "Loading from /home/lam3654/MSAI_pneumonitis/data/BATCH 1/NU_0049/2017-12__Studies/NU.0049_NU.0049_RTst_2017-12-24_145132_SBRT.Lung.planning_AY_n1__00000\n",
      "Loading from /home/lam3654/MSAI_pneumonitis/data/BATCH 1/NU_0049/2017-12__Studies/NU.0049_NU.0049_RTDOSE_2017-12-24_145132_SBRT.Lung.planning_NU.0049_n1__00000\n",
      "Loading from /home/lam3654/MSAI_pneumonitis/data/BATCH 1/NU_0049/2017-12__Studies/NU.0049_NU.0049_CT_2017-12-24_145132_SBRT.Lung.planning_NU.0049_n133__00000\n",
      "Loading from /home/lam3654/MSAI_pneumonitis/data/BATCH 1/NU_0049/2017-12__Studies/NU.0049_NU.0049_RTPLAN_2017-12-24_145132_SBRT.Lung.planning_NU.0049_n1__00000\n"
     ]
    },
    {
     "name": "stderr",
     "output_type": "stream",
     "text": [
      "Loading through DICOM files:   8%|███████▎                                                                                      | 16/204 [00:02<00:51,  3.66it/s]"
     ]
    },
    {
     "name": "stdout",
     "output_type": "stream",
     "text": [
      "Had an error loading /home/lam3654/MSAI_pneumonitis/data/BATCH 1/NU_0037/2012-09__Studies/NU.0037_NU.0037_RTPLAN_2012-09-12_091234_SBRT.planning.bellows_NU.0037_n1__00000/2.16.840.1.114362.1.11940992.22933840372.569048464.189.8906.dcm\n",
      "Had an error loading /home/lam3654/MSAI_pneumonitis/data/BATCH 1/NU_0062/2012-09__Studies/NU.0062_NU.0062_RTPLAN_2012-09-23_092750_SBRT.Lung.Plan_NU.0062_n1__00000/2.16.840.1.114362.1.11940992.22933840372.569052816.114.2423.dcm\n",
      "Loading from /home/lam3654/MSAI_pneumonitis/data/BATCH 1/NU_0067/2012-08__Studies/NU.0067_NU.0067_CT_2012-08-26_125240_RUL.SBRT.planning.scan.w..bellows_NU.0067_n195__00000\n",
      "Loading from /home/lam3654/MSAI_pneumonitis/data/BATCH 1/NU_0067/2012-08__Studies/NU.0067_NU.0067_RTPLAN_2012-08-26_125240_RUL.SBRT.planning.scan.w..bellows_NU.0067_n1__00000\n"
     ]
    },
    {
     "name": "stderr",
     "output_type": "stream",
     "text": [
      "Loading through DICOM files:  10%|█████████▏                                                                                    | 20/204 [00:03<00:43,  4.25it/s]"
     ]
    },
    {
     "name": "stdout",
     "output_type": "stream",
     "text": [
      "Had an error loading /home/lam3654/MSAI_pneumonitis/data/BATCH 1/NU_0026/2018-07__Studies/NU.0026_NU.0026_RTPLAN_2018-07-13_153554_MInIP.SBRT.chest.plan.and.bellows_NU.0026_n1__00000/2.16.840.1.114362.1.11940992.22933840372.569049523.577.8684.dcm\n",
      "Loading from /home/lam3654/MSAI_pneumonitis/data/BATCH 1/NU_0067/2012-08__Studies/NU.0067_NU.0067_RTst_2012-08-26_125240_RUL.SBRT.planning.scan.w..bellows_AY_n1__00000\n",
      "Loading from /home/lam3654/MSAI_pneumonitis/data/BATCH 1/NU_0067/2012-08__Studies/NU.0067_NU.0067_RTDOSE_2012-08-26_125240_RUL.SBRT.planning.scan.w..bellows_NU.0067_n1__00000\n",
      "Had an error loading /home/lam3654/MSAI_pneumonitis/data/BATCH 1/NU_0239/2017-08__Studies/NU.0239_NU.0239_RTPLAN_2017-08-01_093310_SBRT.Lung_._n1__00000/2.16.840.1.114362.1.12046989.24327927514.609546435.590.354.dcm\n",
      "Had an error loading /home/lam3654/MSAI_pneumonitis/data/BATCH 1/NU_0040/2019-05__Studies/NU.0040_NU.0040_RTPLAN_2019-05-22_143029_SBRT.LUL.Planning_NU.0040_n1__00000/2.16.840.1.114362.1.11940992.24327927514.584242565.183.1320.dcm\n",
      "Had an error loading /home/lam3654/MSAI_pneumonitis/data/BATCH 1/NU_0015/2018-08__Studies/NU.0015_NU.0015_RTPLAN_2018-08-25_111034_SBRT.Chest.planning_NU.0015_n1__00000/2.16.840.1.114362.1.11940992.22933840372.569052960.1004.6977.dcm\n"
     ]
    },
    {
     "name": "stderr",
     "output_type": "stream",
     "text": [
      "Loading through DICOM files:  13%|███████████▉                                                                                  | 26/204 [00:03<00:16, 10.53it/s]"
     ]
    },
    {
     "name": "stdout",
     "output_type": "stream",
     "text": [
      "Loading from /home/lam3654/MSAI_pneumonitis/data/BATCH 1/ANON_0021/2018-07__Studies/ANON.0021_ANON.0021_RTPLAN_2018-07-09_160712_MinIP.SBRT.lung.planning_._n1__00000\n",
      "Loading from /home/lam3654/MSAI_pneumonitis/data/BATCH 1/ANON_0021/2018-07__Studies/ANON.0021_ANON.0021_RTDOSE_2018-07-09_160712_MinIP.SBRT.lung.planning_._n1__00000\n",
      "Had an error loading /home/lam3654/MSAI_pneumonitis/data/BATCH 1/NU_0038/2012-03__Studies/NU.0038_NU.0038_RTPLAN_2012-03-05_113831_SBRT.Planning.Scan_NU.0038_n1__00000/2.16.840.1.114362.1.11940992.22933840372.569048378.424.3253.dcm\n",
      "Loading from /home/lam3654/MSAI_pneumonitis/data/BATCH 1/ANON_0021/2018-07__Studies/ANON.0021_ANON.0021_CT_2018-07-09_160712_SBRT.lung.planning_._n113__00000\n",
      "Loading from /home/lam3654/MSAI_pneumonitis/data/BATCH 1/ANON_0021/2018-07__Studies/ANON.0021_ANON.0021_RTst_2018-07-09_160712_SBRT.lung.planning_AY_n1__00000\n",
      "Loading from /home/lam3654/MSAI_pneumonitis/data/BATCH 1/NU_0020/2018-07__Studies/NU.0020_NU.0020_RTst_2018-07-10_145219_SBRT.planning_AY_n1__00000\n",
      "Loading from /home/lam3654/MSAI_pneumonitis/data/BATCH 1/NU_0020/2018-07__Studies/NU.0020_NU.0020_RTDOSE_2018-07-10_145219_SBRT.planning_NU.0020_n1__00000\n",
      "Had an error loading /home/lam3654/MSAI_pneumonitis/data/BATCH 1/NU_0055/2016-04__Studies/NU.0055_NU.0055_RTPLAN_2016-04-18_135434_SBRT.lung.planning_NU.0055_n1__00000/2.16.840.1.114362.1.11940992.22933840372.569051027.554.635.dcm\n"
     ]
    },
    {
     "name": "stderr",
     "output_type": "stream",
     "text": [
      "Loading through DICOM files:  15%|█████████████▊                                                                                | 30/204 [00:03<00:11, 14.90it/s]"
     ]
    },
    {
     "name": "stdout",
     "output_type": "stream",
     "text": [
      "Loading from /home/lam3654/MSAI_pneumonitis/data/BATCH 1/NU_0020/2018-07__Studies/NU.0020_NU.0020_CT_2018-07-10_145219_SBRT.planning_NU.0020_n156__00000\n",
      "Had an error loading /home/lam3654/MSAI_pneumonitis/data/BATCH 1/NU_0004/2016-07__Studies/NU.0004_NU.0004_RTPLAN_2016-07-03_145128_SBRT.Lung.planning_NU.0004_n1__00000/2.16.840.1.114362.1.11940992.22933840372.569051611.481.7904.dcm\n",
      "Loading from /home/lam3654/MSAI_pneumonitis/data/BATCH 1/NU_0003/2018-06__Studies/NU.0003_NU.0003_CT_2018-06-01_135234_SBRT.lung.planning.scan_NU.0003_n169__00000\n",
      "Had an error loading /home/lam3654/MSAI_pneumonitis/data/BATCH 1/NU_0044/2016-08__Studies/NU.0044_NU.0044_RTPLAN_2016-08-12_091943_SBRT.RLL.PLANNING_NU.0044_n1__00000/2.16.840.1.114362.1.11940992.22933840372.569056857.729.6663.dcm\n",
      "Loading from /home/lam3654/MSAI_pneumonitis/data/BATCH 1/NU_0020/2018-07__Studies/NU.0020_NU.0020_RTPLAN_2018-07-10_145219_SBRT.planning_NU.0020_n1__00000\n",
      "Loading from /home/lam3654/MSAI_pneumonitis/data/BATCH 1/NU_0003/2018-06__Studies/NU.0003_NU.0003_RTDOSE_2018-06-01_135234_SBRT.lung.planning.scan_Coron_n1__00000\n"
     ]
    },
    {
     "name": "stderr",
     "output_type": "stream",
     "text": [
      "Loading through DICOM files:  17%|████████████████▏                                                                             | 35/204 [00:03<00:12, 13.37it/s]"
     ]
    },
    {
     "name": "stdout",
     "output_type": "stream",
     "text": [
      "Had an error loading /home/lam3654/MSAI_pneumonitis/data/BATCH 1/NU_0011/2019-06__Studies/NU.0011_NU.0011_RTPLAN_2019-06-11_160923_MinIP.SBRT.Planning.Scan_._n1__00000/2.16.840.1.114362.1.11940992.24327927514.584240850.1027.478.dcm\n",
      "Loading from /home/lam3654/MSAI_pneumonitis/data/BATCH 1/NU_0012A/2019-04__Studies/NU.0012C_NU.0012C_CT_2019-04-11_095832_SBRT.Lung.Planning.Scan_NU.0012C_n180__00000\n",
      "Loading from /home/lam3654/MSAI_pneumonitis/data/BATCH 1/NU_0003/2018-06__Studies/NU.0003_NU.0003_RTPLAN_2018-06-01_135234_SBRT.lung.planning.scan_NU.0003_n1__00000\n",
      "Loading from /home/lam3654/MSAI_pneumonitis/data/BATCH 1/NU_0003/2018-06__Studies/NU.0003_NU.0003_RTst_2018-06-01_135234_SBRT.lung.planning.scan_AY_n1__00000\n",
      "Loading from /home/lam3654/MSAI_pneumonitis/data/BATCH 1/NU_0012A/2019-04__Studies/NU.0012C_NU.0012C_RTPLAN_2019-04-11_095832_MinIP.SBRT.Lung.Planning.Scan_NU.0012C_n1__00000\n",
      "Loading from /home/lam3654/MSAI_pneumonitis/data/BATCH 1/NU_0012A/2019-04__Studies/NU.0012C_NU.0012C_RTst_2019-04-11_095832_SBRT.Lung.Planning.Scan_AY.0012A_n1__00000\n",
      "Loading from /home/lam3654/MSAI_pneumonitis/data/BATCH 1/NU_0012A/2019-04__Studies/NU.0012C_NU.0012C_RTDOSE_2019-04-11_095832_MinIP.SBRT.Lung.Planning.Scan_NU.0012C_n1__00000\n"
     ]
    },
    {
     "name": "stderr",
     "output_type": "stream",
     "text": [
      "Loading through DICOM files:  19%|█████████████████▌                                                                            | 38/204 [00:04<00:12, 13.12it/s]"
     ]
    },
    {
     "name": "stdout",
     "output_type": "stream",
     "text": [
      "Had an error loading /home/lam3654/MSAI_pneumonitis/data/BATCH 1/NU_0019/2018-07__Studies/NU.0019_NU.0019_RTPLAN_2018-07-11_162227_sbrt.lung.planning_NU.0019_n1__00000/2.16.840.1.114362.1.11940992.24327927514.584609494.501.403.dcm\n",
      "Loading from /home/lam3654/MSAI_pneumonitis/data/BATCH 1/NU_0042/2010-02__Studies/NU.0042_NU.0042_CT_2010-02-07_103323_SBRT.Lung.Planning_NU.0042_n217__00000\n",
      "Had an error loading /home/lam3654/MSAI_pneumonitis/data/BATCH 1/NU_0033/2018-06__Studies/NU.0033_NU.0033_RTPLAN_2018-06-21_152956_sbrt.lung.planning.w.contrast_NU.0033_n1__00000/2.16.840.1.114362.1.11940992.24327927514.584242361.878.1154.dcm\n",
      "Had an error loading /home/lam3654/MSAI_pneumonitis/data/BATCH 1/NU_0067/2012-08__Studies/NU.0067_NU.0067_RTPLAN_2012-08-26_125240_RUL.SBRT.planning.scan.w..bellows_NU.0067_n1__00000/2.16.840.1.114362.1.11940992.22933840372.569053028.436.1055.dcm\n",
      "Loading from /home/lam3654/MSAI_pneumonitis/data/BATCH 1/NU_0042/2010-02__Studies/NU.0042_NU.0042_RTDOSE_2010-02-07_103323_SBRT.Lung.Planning_NU.0042_n1__00000\n",
      "Loading from /home/lam3654/MSAI_pneumonitis/data/BATCH 1/NU_0042/2010-02__Studies/NU.0042_NU.0042_RTst_2010-02-07_103323_SBRT.Lung.Planning_AY_n1__00000\n",
      "Loading from /home/lam3654/MSAI_pneumonitis/data/BATCH 1/NU_0042/2010-02__Studies/NU.0042_NU.0042_RTPLAN_2010-02-07_103323_SBRT.Lung.Planning_NU.0042_n1__00000\n",
      "Loading from /home/lam3654/MSAI_pneumonitis/data/BATCH 1/NU_0007/2018-08__Studies/NU.0007_NU.0007_CT_2018-08-27_133110_SBRT.Plan.and.Bellows_NU.0007_n165__00000\n",
      "Loading from /home/lam3654/MSAI_pneumonitis/data/BATCH 1/NU_0007/2018-08__Studies/NU.0007_NU.0007_RTPLAN_2018-08-27_133110_SBRT.Plan.and.Bellows_NU.0007_n1__00000\n",
      "Loading from /home/lam3654/MSAI_pneumonitis/data/BATCH 1/NU_0007/2018-08__Studies/NU.0007_NU.0007_RTDOSE_2018-08-27_133110_SBRT.Plan.and.Bellows_NU.0007_n1__00000\n"
     ]
    },
    {
     "name": "stderr",
     "output_type": "stream",
     "text": [
      "Loading through DICOM files:  23%|█████████████████████▏                                                                        | 46/204 [00:04<00:09, 17.35it/s]"
     ]
    },
    {
     "name": "stdout",
     "output_type": "stream",
     "text": [
      "Loading from /home/lam3654/MSAI_pneumonitis/data/BATCH 1/NU_0007/2018-08__Studies/NU.0007_NU.0007_RTst_2018-08-27_133110_SBRT.Plan.and.Bellows_AY_n1__00000\n",
      "Loading from /home/lam3654/MSAI_pneumonitis/data/BATCH 1/NU_0032/2010-09__Studies/NU.0032_NU.0032_RTDOSE_2010-09-14_101742_SBRT.Lung.Planning_NU.0032_n1__00000\n",
      "Loading from /home/lam3654/MSAI_pneumonitis/data/BATCH 1/NU_0032/2010-09__Studies/NU.0032_NU.0032_CT_2010-09-14_101742_SBRT.Lung.Planning_NU.0032_n153__00000\n",
      "Loading from /home/lam3654/MSAI_pneumonitis/data/BATCH 1/NU_0032/2010-09__Studies/NU.0032_NU.0032_RTPLAN_2010-09-14_101742_SBRT.Lung.Planning_NU.0032_n1__00000\n",
      "Loading from /home/lam3654/MSAI_pneumonitis/data/BATCH 1/NU_0032/2010-09__Studies/NU.0032_NU.0032_RTst_2010-09-14_101742_SBRT.Lung.Planning_AY_n1__00000\n",
      "Loading from /home/lam3654/MSAI_pneumonitis/data/BATCH 1/NU_0018/2018-07__Studies/NU.0018_NU.0018_RTst_2018-07-11_125322_sbrt.lung.planning_AY_n1__00000\n"
     ]
    },
    {
     "name": "stderr",
     "output_type": "stream",
     "text": [
      "Loading through DICOM files:  25%|███████████████████████▌                                                                      | 51/204 [00:05<00:27,  5.53it/s]"
     ]
    },
    {
     "name": "stdout",
     "output_type": "stream",
     "text": [
      "Loading from /home/lam3654/MSAI_pneumonitis/data/BATCH 1/NU_0018/2018-07__Studies/NU.0018_NU.0018_RTDOSE_2018-07-11_125322_sbrt.lung.planning_._n1__00000\n",
      "Loading from /home/lam3654/MSAI_pneumonitis/data/BATCH 1/NU_0018/2018-07__Studies/NU.0018_NU.0018_CT_2018-07-11_125322_sbrt.lung.planning_._n151__00000\n"
     ]
    },
    {
     "name": "stderr",
     "output_type": "stream",
     "text": [
      "Loading through DICOM files:  26%|████████████████████████▉                                                                     | 54/204 [00:05<00:27,  5.41it/s]"
     ]
    },
    {
     "name": "stdout",
     "output_type": "stream",
     "text": [
      "Loading from /home/lam3654/MSAI_pneumonitis/data/BATCH 1/NU_0018/2018-07__Studies/NU.0018_NU.0018_RTPLAN_2018-07-11_125322_sbrt.lung.planning_._n1__00000\n",
      "Loading from /home/lam3654/MSAI_pneumonitis/data/BATCH 1/NU_0043/2018-08__Studies/NU.0043_NU.0043_RTst_2018-08-20_085659_SBRT.Planning.Scan_AY_n1__00000\n",
      "Had an error loading /home/lam3654/MSAI_pneumonitis/data/BATCH 1/NU_0066/2017-08__Studies/NU.0066_NU.0066_RTPLAN_2017-08-25_144014_R.Lung.SBRT.planning_NU.0066_n1__00000/2.16.840.1.114362.1.11940992.24327927514.584243478.990.1958.dcm\n",
      "Loading from /home/lam3654/MSAI_pneumonitis/data/BATCH 1/NU_0043/2018-08__Studies/NU.0043_NU.0043_CT_2018-08-20_085659_SBRT.Planning.Scan_NU.0043_n160__00000\n"
     ]
    },
    {
     "name": "stderr",
     "output_type": "stream",
     "text": [
      "Loading through DICOM files:  27%|█████████████████████████▎                                                                    | 55/204 [00:05<00:24,  5.99it/s]"
     ]
    },
    {
     "name": "stdout",
     "output_type": "stream",
     "text": [
      "Loading from /home/lam3654/MSAI_pneumonitis/data/BATCH 1/NU_0043/2018-08__Studies/NU.0043_NU.0043_RTPLAN_2018-08-20_085659_SBRT.Planning.Scan_NU.0043_n1__00000\n",
      "Loading from /home/lam3654/MSAI_pneumonitis/data/BATCH 1/NU_0043/2018-08__Studies/NU.0043_NU.0043_RTDOSE_2018-08-20_085659_SBRT.Planning.Scan_NU.0043_n1__00000\n"
     ]
    },
    {
     "name": "stderr",
     "output_type": "stream",
     "text": [
      "Loading through DICOM files:  28%|██████████████████████████▎                                                                   | 57/204 [00:06<00:35,  4.17it/s]"
     ]
    },
    {
     "name": "stdout",
     "output_type": "stream",
     "text": [
      "Loading from /home/lam3654/MSAI_pneumonitis/data/BATCH 1/NU_0036/2010-10__Studies/NU.0036_NU.0036_RTDOSE_2010-10-20_100815_SBRT.Right.Lung.Plan_NU.0036_n1__00000Had an error loading /home/lam3654/MSAI_pneumonitis/data/BATCH 1/NU_0049/2017-12__Studies/NU.0049_NU.0049_RTPLAN_2017-12-24_145132_SBRT.Lung.planning_NU.0049_n1__00000/2.16.840.1.114362.1.11940992.22933840372.569059197.800.7175.dcm\n",
      "\n",
      "Loading from /home/lam3654/MSAI_pneumonitis/data/BATCH 1/NU_0036/2010-10__Studies/NU.0036_NU.0036_RTst_2010-10-20_100815_SBRT.Right.Lung.Plan_AY_n1__00000\n",
      "Had an error loading /home/lam3654/MSAI_pneumonitis/data/BATCH 1/NU_0032/2010-09__Studies/NU.0032_NU.0032_RTPLAN_2010-09-14_101742_SBRT.Lung.Planning_NU.0032_n1__00000/2.16.840.1.114362.1.11940992.22933840372.569468540.891.2986.dcm\n"
     ]
    },
    {
     "name": "stderr",
     "output_type": "stream",
     "text": [
      "Loading through DICOM files:  31%|█████████████████████████████                                                                 | 63/204 [00:07<00:20,  6.88it/s]"
     ]
    },
    {
     "name": "stdout",
     "output_type": "stream",
     "text": [
      "Had an error loading /home/lam3654/MSAI_pneumonitis/data/BATCH 1/ANON_0021/2018-07__Studies/ANON.0021_ANON.0021_RTPLAN_2018-07-09_160712_MinIP.SBRT.lung.planning_._n1__00000/2.16.840.1.114362.1.12046989.25219549400.615947618.725.9510.dcm\n",
      "Loading from /home/lam3654/MSAI_pneumonitis/data/BATCH 1/NU_0036/2010-10__Studies/NU.0036_NU.0036_CT_2010-10-20_100815_SBRT.Right.Lung.Plan_NU.0036_n165__00000\n",
      "Had an error loading /home/lam3654/MSAI_pneumonitis/data/BATCH 1/NU_0042/2010-02__Studies/NU.0042_NU.0042_RTPLAN_2010-02-07_103323_SBRT.Lung.Planning_NU.0042_n1__00000/2.16.840.1.114362.1.11940992.22933840372.569060004.554.2310.dcm\n",
      "Loading from /home/lam3654/MSAI_pneumonitis/data/BATCH 1/NU_0036/2010-10__Studies/NU.0036_NU.0036_RTPLAN_2010-10-20_100815_SBRT.Right.Lung.Plan_NU.0036_n1__00000\n",
      "Loading from /home/lam3654/MSAI_pneumonitis/data/BATCH 1/NU_0061/2018-05__Studies/NU.0061_NU.0061_RTPLAN_2018-05-15_103830_sbrt.lung.planning.bellows_NU.0061_n1__00000\n",
      "Loading from /home/lam3654/MSAI_pneumonitis/data/BATCH 1/NU_0061/2018-05__Studies/NU.0061_NU.0061_RTDOSE_2018-05-15_103830_sbrt.lung.planning.bellows_NU.0061_n1__00000\n",
      "Loading from /home/lam3654/MSAI_pneumonitis/data/BATCH 1/NU_0061/2018-05__Studies/NU.0061_NU.0061_RTst_2018-05-15_103830_sbrt.lung.planning.bellows_AY_n1__00000\n"
     ]
    },
    {
     "name": "stderr",
     "output_type": "stream",
     "text": [
      "Loading through DICOM files:  31%|█████████████████████████████▍                                                                | 64/204 [00:07<00:30,  4.52it/s]"
     ]
    },
    {
     "name": "stdout",
     "output_type": "stream",
     "text": [
      "Loading from /home/lam3654/MSAI_pneumonitis/data/BATCH 1/NU_0061/2018-05__Studies/NU.0061_NU.0061_CT_2018-05-15_103830_sbrt.lung.planning.bellows_NU.0061_n144__00000\n",
      "Loading from /home/lam3654/MSAI_pneumonitis/data/BATCH 1/NU_0004R/2019-03__Studies/NU.0004_NU.0004_CT_2019-03-02_105611_SBRT.Planning.Scan_NU.0004_n174__00000\n"
     ]
    },
    {
     "name": "stderr",
     "output_type": "stream",
     "text": [
      "Loading through DICOM files:  32%|█████████████████████████████▉                                                                | 65/204 [00:07<00:27,  5.04it/s]"
     ]
    },
    {
     "name": "stdout",
     "output_type": "stream",
     "text": [
      "Loading from /home/lam3654/MSAI_pneumonitis/data/BATCH 1/NU_0004R/2019-03__Studies/NU.0004_NU.0004_RTst_2019-03-02_105611_SBRT.Planning.Scan_AY_n1__00000\n"
     ]
    },
    {
     "name": "stderr",
     "output_type": "stream",
     "text": [
      "Loading through DICOM files:  32%|██████████████████████████████▍                                                               | 66/204 [00:07<00:32,  4.27it/s]"
     ]
    },
    {
     "name": "stdout",
     "output_type": "stream",
     "text": [
      "Loading from /home/lam3654/MSAI_pneumonitis/data/BATCH 1/NU_0004R/2019-03__Studies/NU.0004_NU.0004_RTPLAN_2019-03-02_105611_SBRT.Planning.Scan_NU.0004_n1__00000\n"
     ]
    },
    {
     "name": "stderr",
     "output_type": "stream",
     "text": [
      "Loading through DICOM files:  34%|███████████████████████████████▊                                                              | 69/204 [00:08<00:33,  4.00it/s]"
     ]
    },
    {
     "name": "stdout",
     "output_type": "stream",
     "text": [
      "Had an error loading /home/lam3654/MSAI_pneumonitis/data/BATCH 1/NU_0003/2018-06__Studies/NU.0003_NU.0003_RTPLAN_2018-06-01_135234_SBRT.lung.planning.scan_NU.0003_n1__00000/2.16.840.1.114362.1.11940992.22933840372.569051724.879.4022.dcm\n",
      "Had an error loading /home/lam3654/MSAI_pneumonitis/data/BATCH 1/NU_0020/2018-07__Studies/NU.0020_NU.0020_RTPLAN_2018-07-10_145219_SBRT.planning_NU.0020_n1__00000/2.16.840.1.114362.1.11940992.24327927514.584242176.1086.1008.dcm\n",
      "Loading from /home/lam3654/MSAI_pneumonitis/data/BATCH 1/NU_0004R/2019-03__Studies/NU.0004_NU.0004_RTDOSE_2019-03-02_105611_SBRT.Planning.Scan_NU.0004_n1__00000\n",
      "Had an error loading /home/lam3654/MSAI_pneumonitis/data/BATCH 1/NU_0036/2010-10__Studies/NU.0036_NU.0036_RTPLAN_2010-10-20_100815_SBRT.Right.Lung.Plan_NU.0036_n1__00000/2.16.840.1.114362.1.11940992.22933840372.569048418.186.6931.dcm\n",
      "Loading from /home/lam3654/MSAI_pneumonitis/data/BATCH 1/NU_0054/2016-02__Studies/NU.0054_NU.0054_RTst_2016-02-25_161010_L.Lung.SBRT.plan_AY_n1__00000\n"
     ]
    },
    {
     "name": "stderr",
     "output_type": "stream",
     "text": [
      "Loading through DICOM files:  35%|█████████████████████████████████▏                                                            | 72/204 [00:09<00:25,  5.21it/s]"
     ]
    },
    {
     "name": "stdout",
     "output_type": "stream",
     "text": [
      "Loading from /home/lam3654/MSAI_pneumonitis/data/BATCH 1/NU_0054/2016-02__Studies/NU.0054_NU.0054_RTPLAN_2016-02-25_161010_L.Lung.SBRT.plan_._n1__00000\n",
      "Had an error loading /home/lam3654/MSAI_pneumonitis/data/BATCH 1/NU_0012A/2019-04__Studies/NU.0012C_NU.0012C_RTPLAN_2019-04-11_095832_MinIP.SBRT.Lung.Planning.Scan_NU.0012C_n1__00000/2.16.840.1.114362.1.11940992.22933840372.569056651.949.553.dcm\n",
      "Loading from /home/lam3654/MSAI_pneumonitis/data/BATCH 1/NU_0054/2016-02__Studies/NU.0054_NU.0054_CT_2016-02-25_161010_L.Lung.SBRT.plan_._n171__00000\n",
      "Loading from /home/lam3654/MSAI_pneumonitis/data/BATCH 1/NU_0054/2016-02__Studies/NU.0054_NU.0054_RTDOSE_2016-02-25_161010_L.Lung.SBRT.plan_._n1__00000\n"
     ]
    },
    {
     "name": "stderr",
     "output_type": "stream",
     "text": [
      "Loading through DICOM files:  37%|███████████████████████████████████                                                           | 76/204 [00:09<00:26,  4.78it/s]"
     ]
    },
    {
     "name": "stdout",
     "output_type": "stream",
     "text": [
      "Loading from /home/lam3654/MSAI_pneumonitis/data/BATCH 1/NU_0065/2016-05__Studies/NU.0065_NU.0065_RTPLAN_2016-05-10_133801_sbrt.lung_NU.0065_n1__00000\n",
      "Loading from /home/lam3654/MSAI_pneumonitis/data/BATCH 1/NU_0065/2016-05__Studies/NU.0065_NU.0065_RTDOSE_2016-05-10_133801_sbrt.lung_NU.0065_n1__00000\n",
      "Loading from /home/lam3654/MSAI_pneumonitis/data/BATCH 1/NU_0065/2016-05__Studies/NU.0065_NU.0065_RTst_2016-05-10_133801_sbrt.lung_AY_n1__00000\n",
      "Loading from /home/lam3654/MSAI_pneumonitis/data/BATCH 1/NU_0065/2016-05__Studies/NU.0065_NU.0065_CT_2016-05-10_133801_sbrt.lung_NU.0065_n149__00000\n"
     ]
    },
    {
     "name": "stderr",
     "output_type": "stream",
     "text": [
      "Loading through DICOM files:  38%|███████████████████████████████████▍                                                          | 77/204 [00:09<00:24,  5.28it/s]"
     ]
    },
    {
     "name": "stdout",
     "output_type": "stream",
     "text": [
      "Loading from /home/lam3654/MSAI_pneumonitis/data/BATCH 1/NU_0048/2019-01__Studies/NU.0048_NU.0048_RTst_2019-01-06_133940_sbrt.lung.iso.Planning_AY_n1__00000\n",
      "Loading from /home/lam3654/MSAI_pneumonitis/data/BATCH 1/NU_0048/2019-01__Studies/NU.0048_NU.0048_RTPLAN_2019-01-06_133940_MinIP.sbrt.lung.iso.Planning_NU.0048_n1__00000\n"
     ]
    },
    {
     "name": "stderr",
     "output_type": "stream",
     "text": [
      "Loading through DICOM files:  39%|████████████████████████████████████▍                                                         | 79/204 [00:10<00:26,  4.72it/s]"
     ]
    },
    {
     "name": "stdout",
     "output_type": "stream",
     "text": [
      "Had an error loading /home/lam3654/MSAI_pneumonitis/data/BATCH 1/NU_0007/2018-08__Studies/NU.0007_NU.0007_RTPLAN_2018-08-27_133110_SBRT.Plan.and.Bellows_NU.0007_n1__00000/2.16.840.1.114362.1.11940992.22933840372.569056098.532.3477.dcm\n",
      "Loading from /home/lam3654/MSAI_pneumonitis/data/BATCH 1/NU_0048/2019-01__Studies/NU.0048_NU.0048_CT_2019-01-06_133940_sbrt.lung.iso.Planning_NU.0048_n116__00000\n"
     ]
    },
    {
     "name": "stderr",
     "output_type": "stream",
     "text": [
      "Loading through DICOM files:  40%|█████████████████████████████████████▎                                                        | 81/204 [00:10<00:25,  4.77it/s]"
     ]
    },
    {
     "name": "stdout",
     "output_type": "stream",
     "text": [
      "Had an error loading /home/lam3654/MSAI_pneumonitis/data/BATCH 1/NU_0043/2018-08__Studies/NU.0043_NU.0043_RTPLAN_2018-08-20_085659_SBRT.Planning.Scan_NU.0043_n1__00000/2.16.840.1.114362.1.11940992.22933840372.569048660.834.5222.dcm\n",
      "Loading from /home/lam3654/MSAI_pneumonitis/data/BATCH 1/NU_0048/2019-01__Studies/NU.0048_NU.0048_RTDOSE_2019-01-06_133940_MinIP.sbrt.lung.iso.Planning_NU.0048_n1__00000\n",
      "Loading from /home/lam3654/MSAI_pneumonitis/data/BATCH 1/NU_0059/2015-12__Studies/NU.0059_NU.0059_CT_2015-12-17_094629_LUL-Planning_NU.0059_n157__00000\n",
      "Had an error loading /home/lam3654/MSAI_pneumonitis/data/BATCH 1/NU_0018/2018-07__Studies/NU.0018_NU.0018_RTPLAN_2018-07-11_125322_sbrt.lung.planning_._n1__00000/2.16.840.1.114362.1.11940992.24327927514.584241430.895.839.dcm\n"
     ]
    },
    {
     "name": "stderr",
     "output_type": "stream",
     "text": [
      "Loading through DICOM files:  40%|█████████████████████████████████████▊                                                        | 82/204 [00:10<00:29,  4.10it/s]"
     ]
    },
    {
     "name": "stdout",
     "output_type": "stream",
     "text": [
      "Loading from /home/lam3654/MSAI_pneumonitis/data/BATCH 1/NU_0059/2015-12__Studies/NU.0059_NU.0059_RTst_2015-12-17_094629_LUL-Planning_AY_n1__00000\n",
      "Loading from /home/lam3654/MSAI_pneumonitis/data/BATCH 1/NU_0059/2015-12__Studies/NU.0059_NU.0059_RTDOSE_2015-12-17_094629_LUL-Planning_NU.0059_n1__00000\n"
     ]
    },
    {
     "name": "stderr",
     "output_type": "stream",
     "text": [
      "Loading through DICOM files:  42%|███████████████████████████████████████▏                                                      | 85/204 [00:11<00:22,  5.22it/s]"
     ]
    },
    {
     "name": "stdout",
     "output_type": "stream",
     "text": [
      "Loading from /home/lam3654/MSAI_pneumonitis/data/BATCH 1/NU_0059/2015-12__Studies/NU.0059_NU.0059_RTPLAN_2015-12-17_094629_LUL-Planning_NU.0059_n1__00000\n",
      "Loading from /home/lam3654/MSAI_pneumonitis/data/BATCH 1/NU_0001/2018-10__Studies/NU.0001_NU.0001_RTDOSE_2018-10-08_144305_SBRT.Planning_NU.0001_n1__00000\n"
     ]
    },
    {
     "name": "stderr",
     "output_type": "stream",
     "text": [
      "Loading through DICOM files:  42%|███████████████████████████████████████▋                                                      | 86/204 [00:11<00:25,  4.56it/s]"
     ]
    },
    {
     "name": "stdout",
     "output_type": "stream",
     "text": [
      "Loading from /home/lam3654/MSAI_pneumonitis/data/BATCH 1/NU_0001/2018-10__Studies/NU.0001_NU.0001_CT_2018-10-08_144305_SBRT.Planning_NU.0001_n172__00000\n",
      "Loading from /home/lam3654/MSAI_pneumonitis/data/BATCH 1/NU_0001/2018-10__Studies/NU.0001_NU.0001_RTst_2018-10-08_144305_SBRT.Planning_AY_n1__00000\n"
     ]
    },
    {
     "name": "stderr",
     "output_type": "stream",
     "text": [
      "Loading through DICOM files:  43%|████████████████████████████████████████                                                      | 87/204 [00:11<00:30,  3.79it/s]"
     ]
    },
    {
     "name": "stdout",
     "output_type": "stream",
     "text": [
      "Loading from /home/lam3654/MSAI_pneumonitis/data/BATCH 1/NU_0001/2018-10__Studies/NU.0001_NU.0001_RTPLAN_2018-10-08_144305_SBRT.Planning_NU.0001_n1__00000\n"
     ]
    },
    {
     "name": "stderr",
     "output_type": "stream",
     "text": [
      "Loading through DICOM files:  45%|██████████████████████████████████████████▍                                                   | 92/204 [00:13<00:49,  2.26it/s]"
     ]
    },
    {
     "name": "stdout",
     "output_type": "stream",
     "text": [
      "Loading from /home/lam3654/MSAI_pneumonitis/data/BATCH 1/NU_0005/2018-08__Studies/NU.0005_NU.0005_RTDOSE_2018-08-29_144651_SBRT.LUL.Plan.Scan.and.Bellows_._n1__00000\n",
      "Had an error loading /home/lam3654/MSAI_pneumonitis/data/BATCH 1/NU_0061/2018-05__Studies/NU.0061_NU.0061_RTPLAN_2018-05-15_103830_sbrt.lung.planning.bellows_NU.0061_n1__00000/2.16.840.1.114362.1.11940992.24327927514.584243033.865.1644.dcm\n",
      "Loading from /home/lam3654/MSAI_pneumonitis/data/BATCH 1/NU_0005/2018-08__Studies/NU.0005_NU.0005_RTst_2018-08-29_144651_SBRT.LUL.Plan.Scan.and.Bellows_AY_n1__00000\n",
      "Loading from /home/lam3654/MSAI_pneumonitis/data/BATCH 1/NU_0005/2018-08__Studies/NU.0005_NU.0005_RTPLAN_2018-08-29_144651_SBRT.LUL.Plan.Scan.and.Bellows_._n1__00000\n",
      "Had an error loading /home/lam3654/MSAI_pneumonitis/data/BATCH 1/NU_0004R/2019-03__Studies/NU.0004_NU.0004_RTPLAN_2019-03-02_105611_SBRT.Planning.Scan_NU.0004_n1__00000/2.16.840.1.114362.1.11940992.22933840372.569051611.962.7907.dcm\n"
     ]
    },
    {
     "name": "stderr",
     "output_type": "stream",
     "text": [
      "Loading through DICOM files:  46%|██████████████████████████████████████████▊                                                   | 93/204 [00:13<00:43,  2.52it/s]"
     ]
    },
    {
     "name": "stdout",
     "output_type": "stream",
     "text": [
      "Loading from /home/lam3654/MSAI_pneumonitis/data/BATCH 1/NU_0005/2018-08__Studies/NU.0005_NU.0005_CT_2018-08-29_144651_SBRT.LUL.Plan.Scan.and.Bellows_._n187__00000\n",
      "Loading from /home/lam3654/MSAI_pneumonitis/data/BATCH 1/NU_0030/2018-10__Studies/NU.0030_NU.0030_RTst_2018-10-02_150021_SBRT.Chest.Planning.Scan_AY_n1__00000\n"
     ]
    },
    {
     "name": "stderr",
     "output_type": "stream",
     "text": [
      "Loading through DICOM files:  47%|███████████████████████████████████████████▊                                                  | 95/204 [00:14<00:24,  4.43it/s]"
     ]
    },
    {
     "name": "stdout",
     "output_type": "stream",
     "text": [
      "Loading from /home/lam3654/MSAI_pneumonitis/data/BATCH 1/NU_0030/2018-10__Studies/NU.0030_NU.0030_RTPLAN_2018-10-02_150021_MinIP.SBRT.Chest.Planning.Scan_NU.0030_n1__00000\n",
      "Had an error loading /home/lam3654/MSAI_pneumonitis/data/BATCH 1/NU_0048/2019-01__Studies/NU.0048_NU.0048_RTPLAN_2019-01-06_133940_MinIP.sbrt.lung.iso.Planning_NU.0048_n1__00000/2.16.840.1.114362.1.11940992.22933840372.569461427.807.6079.dcm\n",
      "Loading from /home/lam3654/MSAI_pneumonitis/data/BATCH 1/NU_0030/2018-10__Studies/NU.0030_NU.0030_CT_2018-10-02_150021_SBRT.Chest.Planning.Scan_NU.0030_n142__00000\n",
      "Loading from /home/lam3654/MSAI_pneumonitis/data/BATCH 1/NU_0030/2018-10__Studies/NU.0030_NU.0030_RTDOSE_2018-10-02_150021_MinIP.SBRT.Chest.Planning.Scan_NU.0030_n1__00000\n"
     ]
    },
    {
     "name": "stderr",
     "output_type": "stream",
     "text": [
      "Loading through DICOM files:  48%|████████████████████████████████████████████▋                                                 | 97/204 [00:14<00:30,  3.48it/s]"
     ]
    },
    {
     "name": "stdout",
     "output_type": "stream",
     "text": [
      "Loading from /home/lam3654/MSAI_pneumonitis/data/BATCH 1/NU_0023/2018-08__Studies/NU.0023_NU.0023_CT_2018-08-03_144220_sbrt.lung.planning_NU.0023_n183__00000\n",
      "Had an error loading /home/lam3654/MSAI_pneumonitis/data/BATCH 1/NU_0054/2016-02__Studies/NU.0054_NU.0054_RTPLAN_2016-02-25_161010_L.Lung.SBRT.plan_._n1__00000/2.16.840.1.114362.1.12046989.25391989775.615975847.169.1214.dcm\n",
      "Loading from /home/lam3654/MSAI_pneumonitis/data/BATCH 1/NU_0023/2018-08__Studies/NU.0023_NU.0023_RTst_2018-08-03_144220_sbrt.lung.planning_AY_n1__00000\n"
     ]
    },
    {
     "name": "stderr",
     "output_type": "stream",
     "text": [
      "Loading through DICOM files:  49%|█████████████████████████████████████████████▌                                                | 99/204 [00:15<00:29,  3.51it/s]"
     ]
    },
    {
     "name": "stdout",
     "output_type": "stream",
     "text": [
      "Had an error loading /home/lam3654/MSAI_pneumonitis/data/BATCH 1/NU_0065/2016-05__Studies/NU.0065_NU.0065_RTPLAN_2016-05-10_133801_sbrt.lung_NU.0065_n1__00000/2.16.840.1.114362.1.11940992.24327927514.584243432.204.1804.dcm\n",
      "Loading from /home/lam3654/MSAI_pneumonitis/data/BATCH 1/NU_0023/2018-08__Studies/NU.0023_NU.0023_RTDOSE_2018-08-03_144220_MinIP.sbrt.lung.planning_NU.0023_n1__00000\n",
      "Loading from /home/lam3654/MSAI_pneumonitis/data/BATCH 1/NU_0023/2018-08__Studies/NU.0023_NU.0023_RTPLAN_2018-08-03_144220_MinIP.sbrt.lung.planning_NU.0023_n1__00000\n"
     ]
    },
    {
     "name": "stderr",
     "output_type": "stream",
     "text": [
      "Loading through DICOM files:  49%|█████████████████████████████████████████████▌                                               | 100/204 [00:15<00:33,  3.11it/s]"
     ]
    },
    {
     "name": "stdout",
     "output_type": "stream",
     "text": [
      "Loading from /home/lam3654/MSAI_pneumonitis/data/BATCH 1/NU_0041/2013-10__Studies/NU.0041_NU.0041_RTst_2013-10-29_091902_SBRT.LLL.Plan_AY_n1__00000\n"
     ]
    },
    {
     "name": "stderr",
     "output_type": "stream",
     "text": [
      "Loading through DICOM files:  50%|██████████████████████████████████████████████                                               | 101/204 [00:16<00:36,  2.81it/s]"
     ]
    },
    {
     "name": "stdout",
     "output_type": "stream",
     "text": [
      "Had an error loading /home/lam3654/MSAI_pneumonitis/data/BATCH 1/NU_0059/2015-12__Studies/NU.0059_NU.0059_RTPLAN_2015-12-17_094629_LUL-Planning_NU.0059_n1__00000/2.16.840.1.114362.1.11940992.24327927514.584242873.368.1488.dcm\n",
      "Loading from /home/lam3654/MSAI_pneumonitis/data/BATCH 1/NU_0041/2013-10__Studies/NU.0041_NU.0041_CT_2013-10-29_091902_SBRT.LLL.Plan_NU.0041_n213__00000\n"
     ]
    },
    {
     "name": "stderr",
     "output_type": "stream",
     "text": [
      "Loading through DICOM files:  50%|██████████████████████████████████████████████▌                                              | 102/204 [00:17<00:54,  1.88it/s]"
     ]
    },
    {
     "name": "stdout",
     "output_type": "stream",
     "text": [
      "Loading from /home/lam3654/MSAI_pneumonitis/data/BATCH 1/NU_0041/2013-10__Studies/NU.0041_NU.0041_RTDOSE_2013-10-29_091902_SBRT.LLL.Plan_NU.0041_n1__00000\n"
     ]
    },
    {
     "name": "stderr",
     "output_type": "stream",
     "text": [
      "Loading through DICOM files:  51%|███████████████████████████████████████████████▊                                             | 105/204 [00:18<00:35,  2.76it/s]"
     ]
    },
    {
     "name": "stdout",
     "output_type": "stream",
     "text": [
      "Had an error loading /home/lam3654/MSAI_pneumonitis/data/BATCH 1/NU_0030/2018-10__Studies/NU.0030_NU.0030_RTPLAN_2018-10-02_150021_MinIP.SBRT.Chest.Planning.Scan_NU.0030_n1__00000/2.16.840.1.114362.1.11940992.22933840372.569057948.717.549.dcm\n",
      "Loading from /home/lam3654/MSAI_pneumonitis/data/BATCH 1/NU_0041/2013-10__Studies/NU.0041_NU.0041_RTPLAN_2013-10-29_091902_SBRT.LLL.Plan_NU.0041_n1__00000\n",
      "Loading from /home/lam3654/MSAI_pneumonitis/data/BATCH 1/NU_0006/2018-07__Studies/NU.0006_NU.0006_RTst_2018-07-17_141739_SBRT.lung.Planning.Scan_AY_n1__00000\n",
      "Loading from /home/lam3654/MSAI_pneumonitis/data/BATCH 1/NU_0006/2018-07__Studies/NU.0006_NU.0006_CT_2018-07-17_141739_SBRT.lung.Planning.Scan_NU.0006_n143__00000\n"
     ]
    },
    {
     "name": "stderr",
     "output_type": "stream",
     "text": [
      "Loading through DICOM files:  52%|████████████████████████████████████████████████▊                                            | 107/204 [00:19<00:42,  2.30it/s]"
     ]
    },
    {
     "name": "stdout",
     "output_type": "stream",
     "text": [
      "Had an error loading /home/lam3654/MSAI_pneumonitis/data/BATCH 1/NU_0001/2018-10__Studies/NU.0001_NU.0001_RTPLAN_2018-10-08_144305_SBRT.Planning_NU.0001_n1__00000/2.16.840.1.114362.1.11940992.22933840372.569057282.346.7761.dcm\n",
      "Loading from /home/lam3654/MSAI_pneumonitis/data/BATCH 1/NU_0006/2018-07__Studies/NU.0006_NU.0006_RTPLAN_2018-07-17_141739_MInIP.SBRT.lung.Bellows.Scan_NU.0006_n1__00000\n",
      "Loading from /home/lam3654/MSAI_pneumonitis/data/BATCH 1/NU_0006/2018-07__Studies/NU.0006_NU.0006_RTDOSE_2018-07-17_141739_MInIP.SBRT.lung.Bellows.Scan_NU.0006_n1__00000\n"
     ]
    },
    {
     "name": "stderr",
     "output_type": "stream",
     "text": [
      "Loading through DICOM files:  54%|██████████████████████████████████████████████████▏                                          | 110/204 [00:19<00:31,  3.02it/s]"
     ]
    },
    {
     "name": "stdout",
     "output_type": "stream",
     "text": [
      "Had an error loading /home/lam3654/MSAI_pneumonitis/data/BATCH 1/NU_0023/2018-08__Studies/NU.0023_NU.0023_RTPLAN_2018-08-03_144220_MinIP.sbrt.lung.planning_NU.0023_n1__00000/2.16.840.1.114362.1.11940992.22933840372.569048679.915.6347.dcm\n",
      "Had an error loading /home/lam3654/MSAI_pneumonitis/data/BATCH 1/NU_0005/2018-08__Studies/NU.0005_NU.0005_RTPLAN_2018-08-29_144651_SBRT.LUL.Plan.Scan.and.Bellows_._n1__00000/2.16.840.1.114362.1.12046989.25391989775.615974270.1010.1.dcm\n",
      "Loading from /home/lam3654/MSAI_pneumonitis/data/BATCH 1/NU_0034/2012-08__Studies/NU.0034_NU.0034_RTst_2012-08-30_110406_SBRT.planning.+.bellows_AY_n1__00000\n",
      "Loading from /home/lam3654/MSAI_pneumonitis/data/BATCH 1/NU_0034/2012-08__Studies/NU.0034_NU.0034_RTDOSE_2012-08-30_110406_SBRT.planning.+.bellows_NU.0034_n1__00000\n"
     ]
    },
    {
     "name": "stderr",
     "output_type": "stream",
     "text": [
      "Loading through DICOM files:  54%|██████████████████████████████████████████████████▌                                          | 111/204 [00:20<00:33,  2.77it/s]"
     ]
    },
    {
     "name": "stdout",
     "output_type": "stream",
     "text": [
      "Loading from /home/lam3654/MSAI_pneumonitis/data/BATCH 1/NU_0034/2012-08__Studies/NU.0034_NU.0034_CT_2012-08-30_110406_SBRT.planning.+.bellows_NU.0034_n148__00000\n",
      "Loading from /home/lam3654/MSAI_pneumonitis/data/BATCH 1/NU_0034/2012-08__Studies/NU.0034_NU.0034_RTPLAN_2012-08-30_110406_SBRT.planning.+.bellows_NU.0034_n1__00000\n"
     ]
    },
    {
     "name": "stderr",
     "output_type": "stream",
     "text": [
      "Loading through DICOM files:  55%|███████████████████████████████████████████████████▌                                         | 113/204 [00:21<00:49,  1.84it/s]"
     ]
    },
    {
     "name": "stdout",
     "output_type": "stream",
     "text": [
      "Loading from /home/lam3654/MSAI_pneumonitis/data/BATCH 1/NU_0024/2018-08__Studies/NU.0024_NU.0024_RTst_2018-08-09_163459_sbrt.lung.planning.scan_AY_n1__00000\n",
      "Loading from /home/lam3654/MSAI_pneumonitis/data/BATCH 1/NU_0024/2018-08__Studies/NU.0024_NU.0024_CT_2018-08-09_163459_sbrt.lung.planning.scan_NU.0024_n170__00000\n"
     ]
    },
    {
     "name": "stderr",
     "output_type": "stream",
     "text": [
      "Loading through DICOM files:  56%|███████████████████████████████████████████████████▉                                         | 114/204 [00:23<01:18,  1.15it/s]"
     ]
    },
    {
     "name": "stdout",
     "output_type": "stream",
     "text": [
      "Had an error loading /home/lam3654/MSAI_pneumonitis/data/BATCH 1/NU_0041/2013-10__Studies/NU.0041_NU.0041_RTPLAN_2013-10-29_091902_SBRT.LLL.Plan_NU.0041_n1__00000/2.16.840.1.114362.1.11940992.22933840372.569052985.933.9276.dcm\n",
      "Loading from /home/lam3654/MSAI_pneumonitis/data/BATCH 1/NU_0024/2018-08__Studies/NU.0024_NU.0024_RTDOSE_2018-08-09_163459_sbrt.lung.planning.scan_NU.0024_n1__00000\n"
     ]
    },
    {
     "name": "stderr",
     "output_type": "stream",
     "text": [
      "Loading through DICOM files:  56%|████████████████████████████████████████████████████▍                                        | 115/204 [00:23<01:03,  1.40it/s]"
     ]
    },
    {
     "name": "stdout",
     "output_type": "stream",
     "text": [
      "Loading from /home/lam3654/MSAI_pneumonitis/data/BATCH 1/NU_0024/2018-08__Studies/NU.0024_NU.0024_RTPLAN_2018-08-09_163459_sbrt.lung.planning.scan_NU.0024_n1__00000\n"
     ]
    },
    {
     "name": "stderr",
     "output_type": "stream",
     "text": [
      "Loading through DICOM files:  57%|████████████████████████████████████████████████████▉                                        | 116/204 [00:24<00:56,  1.55it/s]"
     ]
    },
    {
     "name": "stdout",
     "output_type": "stream",
     "text": [
      "Had an error loading /home/lam3654/MSAI_pneumonitis/data/BATCH 1/NU_0034/2012-08__Studies/NU.0034_NU.0034_RTPLAN_2012-08-30_110406_SBRT.planning.+.bellows_NU.0034_n1__00000/2.16.840.1.114362.1.11940992.22933840372.569052778.528.453.dcm\n",
      "Loading from /home/lam3654/MSAI_pneumonitis/data/BATCH 1/NU_0052/2013-02__Studies/NU.0052_NU.0052_RTst_2013-02-04_085835_SBRT.Lung.Plan_AY_n1__00000\n",
      "Loading from /home/lam3654/MSAI_pneumonitis/data/BATCH 1/NU_0052/2013-02__Studies/NU.0052_NU.0052_RTDOSE_2013-02-04_085835_SBRT.Lung.Plan_NU.0052_n1__00000\n"
     ]
    },
    {
     "name": "stderr",
     "output_type": "stream",
     "text": [
      "Loading through DICOM files:  58%|█████████████████████████████████████████████████████▊                                       | 118/204 [00:24<00:43,  1.97it/s]"
     ]
    },
    {
     "name": "stdout",
     "output_type": "stream",
     "text": [
      "Loading from /home/lam3654/MSAI_pneumonitis/data/BATCH 1/NU_0052/2013-02__Studies/NU.0052_NU.0052_RTPLAN_2013-02-04_085835_SBRT.Lung.Plan_NU.0052_n1__00000\n"
     ]
    },
    {
     "name": "stderr",
     "output_type": "stream",
     "text": [
      "Loading through DICOM files:  59%|██████████████████████████████████████████████████████▋                                      | 120/204 [00:26<00:48,  1.75it/s]"
     ]
    },
    {
     "name": "stdout",
     "output_type": "stream",
     "text": [
      "Had an error loading /home/lam3654/MSAI_pneumonitis/data/BATCH 1/NU_0006/2018-07__Studies/NU.0006_NU.0006_RTPLAN_2018-07-17_141739_MInIP.SBRT.lung.Bellows.Scan_NU.0006_n1__00000/2.16.840.1.114362.1.11940992.22933840372.569054198.579.7392.dcm\n",
      "Loading from /home/lam3654/MSAI_pneumonitis/data/BATCH 1/NU_0052/2013-02__Studies/NU.0052_NU.0052_CT_2013-02-04_085835_SBRT.Lung.Plan_NU.0052_n157__00000\n",
      "Loading from /home/lam3654/MSAI_pneumonitis/data/BATCH 1/NU_0045/2018-04__Studies/NU.0045_NU.0045_CT_2018-04-03_145050_sbrt.lung.planning_NU.0045_n156__00000\n"
     ]
    },
    {
     "name": "stderr",
     "output_type": "stream",
     "text": [
      "Loading through DICOM files:  59%|███████████████████████████████████████████████████████▏                                     | 121/204 [00:29<01:41,  1.23s/it]"
     ]
    },
    {
     "name": "stdout",
     "output_type": "stream",
     "text": [
      "Had an error loading /home/lam3654/MSAI_pneumonitis/data/BATCH 1/NU_0024/2018-08__Studies/NU.0024_NU.0024_RTPLAN_2018-08-09_163459_sbrt.lung.planning.scan_NU.0024_n1__00000/2.16.840.1.114362.1.11940992.22933840372.569053792.541.6429.dcm\n",
      "Loading from /home/lam3654/MSAI_pneumonitis/data/BATCH 1/NU_0045/2018-04__Studies/NU.0045_NU.0045_RTDOSE_2018-04-03_145050_MinIP.sbrt.lung.planning_NU.0045_n1__00000\n"
     ]
    },
    {
     "name": "stderr",
     "output_type": "stream",
     "text": [
      "Loading through DICOM files:  60%|████████████████████████████████████████████████████████                                     | 123/204 [00:30<01:05,  1.24it/s]"
     ]
    },
    {
     "name": "stdout",
     "output_type": "stream",
     "text": [
      "Loading from /home/lam3654/MSAI_pneumonitis/data/BATCH 1/NU_0045/2018-04__Studies/NU.0045_NU.0045_RTPLAN_2018-04-03_145050_MinIP.sbrt.lung.planning_NU.0045_n1__00000\n"
     ]
    },
    {
     "name": "stderr",
     "output_type": "stream",
     "text": [
      "Loading through DICOM files:  61%|████████████████████████████████████████████████████████▌                                    | 124/204 [00:30<00:52,  1.51it/s]"
     ]
    },
    {
     "name": "stdout",
     "output_type": "stream",
     "text": [
      "Loading from /home/lam3654/MSAI_pneumonitis/data/BATCH 1/NU_0045/2018-04__Studies/NU.0045_NU.0045_RTst_2018-04-03_145050_sbrt.lung.planning_AY_n1__00000\n",
      "Loading from /home/lam3654/MSAI_pneumonitis/data/BATCH 1/NU_0035/2016-07__Studies/NU.0035_NU.0035_RTDOSE_2016-07-30_083030_SBRT.lung.planning.bellows_NU.0035_n1__00000\n"
     ]
    },
    {
     "name": "stderr",
     "output_type": "stream",
     "text": [
      "Loading through DICOM files:  61%|████████████████████████████████████████████████████████▉                                    | 125/204 [00:30<00:48,  1.63it/s]"
     ]
    },
    {
     "name": "stdout",
     "output_type": "stream",
     "text": [
      "Loading from /home/lam3654/MSAI_pneumonitis/data/BATCH 1/NU_0035/2016-07__Studies/NU.0035_NU.0035_CT_2016-07-30_083030_SBRT.lung.planning.bellows_NU.0035_n198__00000\n"
     ]
    },
    {
     "name": "stderr",
     "output_type": "stream",
     "text": [
      "Loading through DICOM files:  62%|█████████████████████████████████████████████████████████▍                                   | 126/204 [00:32<01:03,  1.24it/s]"
     ]
    },
    {
     "name": "stdout",
     "output_type": "stream",
     "text": [
      "Had an error loading /home/lam3654/MSAI_pneumonitis/data/BATCH 1/NU_0052/2013-02__Studies/NU.0052_NU.0052_RTPLAN_2013-02-04_085835_SBRT.Lung.Plan_NU.0052_n1__00000/2.16.840.1.114362.1.11940992.22933840372.569055848.269.64.dcm\n",
      "Loading from /home/lam3654/MSAI_pneumonitis/data/BATCH 1/NU_0035/2016-07__Studies/NU.0035_NU.0035_RTst_2016-07-30_083030_SBRT.lung.planning.bellows_AY_n1__00000\n"
     ]
    },
    {
     "name": "stderr",
     "output_type": "stream",
     "text": [
      "Loading through DICOM files:  63%|██████████████████████████████████████████████████████████▎                                  | 128/204 [00:36<01:37,  1.29s/it]"
     ]
    },
    {
     "name": "stdout",
     "output_type": "stream",
     "text": [
      "Loading from /home/lam3654/MSAI_pneumonitis/data/BATCH 1/NU_0035/2016-07__Studies/NU.0035_NU.0035_RTPLAN_2016-07-30_083030_SBRT.lung.planning.bellows_NU.0035_n1__00000\n",
      "Had an error loading /home/lam3654/MSAI_pneumonitis/data/BATCH 1/NU_0045/2018-04__Studies/NU.0045_NU.0045_RTPLAN_2018-04-03_145050_MinIP.sbrt.lung.planning_NU.0045_n1__00000/2.16.840.1.114362.1.11940992.22933840372.579401083.747.3316.dcm\n",
      "Loading from /home/lam3654/MSAI_pneumonitis/data/BATCH 1/NU_0063/2018-12__Studies/NU.0063_NU.0063_CT_2018-12-01_145941_SBRT.Chest.planning_NU.0063_n164__00000\n"
     ]
    },
    {
     "name": "stderr",
     "output_type": "stream",
     "text": [
      "Loading through DICOM files:  63%|██████████████████████████████████████████████████████████▊                                  | 129/204 [00:40<02:39,  2.12s/it]"
     ]
    },
    {
     "name": "stdout",
     "output_type": "stream",
     "text": [
      "Loading from /home/lam3654/MSAI_pneumonitis/data/BATCH 1/NU_0063/2018-12__Studies/NU.0063_NU.0063_RTPLAN_2018-12-01_145941_MinIP.SBRT.Chest.planning_NU.0063_n1__00000\n"
     ]
    },
    {
     "name": "stderr",
     "output_type": "stream",
     "text": [
      "Loading through DICOM files:  64%|███████████████████████████████████████████████████████████▎                                 | 130/204 [00:41<02:03,  1.67s/it]"
     ]
    },
    {
     "name": "stdout",
     "output_type": "stream",
     "text": [
      "Had an error loading /home/lam3654/MSAI_pneumonitis/data/BATCH 1/NU_0035/2016-07__Studies/NU.0035_NU.0035_RTPLAN_2016-07-30_083030_SBRT.lung.planning.bellows_NU.0035_n1__00000/2.16.840.1.114362.1.11940992.22933840372.569048698.1055.7021.dcm\n",
      "Loading from /home/lam3654/MSAI_pneumonitis/data/BATCH 1/NU_0063/2018-12__Studies/NU.0063_NU.0063_RTst_2018-12-01_145941_SBRT.Chest.planning_AY_n1__00000\n"
     ]
    },
    {
     "name": "stderr",
     "output_type": "stream",
     "text": [
      "Loading through DICOM files:  64%|███████████████████████████████████████████████████████████▋                                 | 131/204 [00:49<04:29,  3.69s/it]"
     ]
    },
    {
     "name": "stdout",
     "output_type": "stream",
     "text": [
      "Had an error loading /home/lam3654/MSAI_pneumonitis/data/BATCH 1/NU_0063/2018-12__Studies/NU.0063_NU.0063_RTPLAN_2018-12-01_145941_MinIP.SBRT.Chest.planning_NU.0063_n1__00000/2.16.840.1.114362.1.11940992.22933840372.569052301.996.1566.dcm\n",
      "Loading from /home/lam3654/MSAI_pneumonitis/data/BATCH 1/NU_0063/2018-12__Studies/NU.0063_NU.0063_RTDOSE_2018-12-01_145941_MinIP.SBRT.Chest.planning_NU.0063_n1__00000\n"
     ]
    },
    {
     "name": "stderr",
     "output_type": "stream",
     "text": [
      "Loading through DICOM files:  65%|████████████████████████████████████████████████████████████▏                                | 132/204 [00:50<03:25,  2.85s/it]"
     ]
    },
    {
     "name": "stdout",
     "output_type": "stream",
     "text": [
      "Loading from /home/lam3654/MSAI_pneumonitis/data/BATCH 1/NU_0028/2018-08__Studies/NU.0028_NU.0028_CT_2018-08-07_111010_SBRT.Lung.Planning_NU.0028_n177__00000\n"
     ]
    },
    {
     "name": "stderr",
     "output_type": "stream",
     "text": [
      "Loading through DICOM files:  65%|████████████████████████████████████████████████████████████▋                                | 133/204 [00:50<02:29,  2.10s/it]"
     ]
    },
    {
     "name": "stdout",
     "output_type": "stream",
     "text": [
      "Loading from /home/lam3654/MSAI_pneumonitis/data/BATCH 1/NU_0028/2018-08__Studies/NU.0028_NU.0028_RTPLAN_2018-08-07_111010_MInIP.SBRT.Lung.Planning_NU.0028_n1__00000\n"
     ]
    },
    {
     "name": "stderr",
     "output_type": "stream",
     "text": [
      "Loading through DICOM files:  66%|█████████████████████████████████████████████████████████████                                | 134/204 [00:54<02:58,  2.54s/it]"
     ]
    },
    {
     "name": "stdout",
     "output_type": "stream",
     "text": [
      "Loading from /home/lam3654/MSAI_pneumonitis/data/BATCH 1/NU_0028/2018-08__Studies/NU.0028_NU.0028_RTst_2018-08-07_111010_SBRT.Lung.Planning_AY_n1__00000\n"
     ]
    },
    {
     "name": "stderr",
     "output_type": "stream",
     "text": [
      "Loading through DICOM files:  66%|█████████████████████████████████████████████████████████████▌                               | 135/204 [00:54<02:09,  1.88s/it]"
     ]
    },
    {
     "name": "stdout",
     "output_type": "stream",
     "text": [
      "Loading from /home/lam3654/MSAI_pneumonitis/data/BATCH 1/NU_0028/2018-08__Studies/NU.0028_NU.0028_RTDOSE_2018-08-07_111010_MInIP.SBRT.Lung.Planning_NU.0028_n1__00000\n"
     ]
    },
    {
     "name": "stderr",
     "output_type": "stream",
     "text": [
      "Loading through DICOM files:  67%|██████████████████████████████████████████████████████████████▍                              | 137/204 [00:55<01:22,  1.23s/it]"
     ]
    },
    {
     "name": "stdout",
     "output_type": "stream",
     "text": [
      "Loading from /home/lam3654/MSAI_pneumonitis/data/BATCH 1/NU_0053/2016-03__Studies/NU.0053_NU.0053_RTDOSE_2016-03-14_083416_SBRT.Lung.Planning_NU.0053_n1__00000\n",
      "Had an error loading /home/lam3654/MSAI_pneumonitis/data/BATCH 1/NU_0028/2018-08__Studies/NU.0028_NU.0028_RTPLAN_2018-08-07_111010_MInIP.SBRT.Lung.Planning_NU.0028_n1__00000/2.16.840.1.114362.1.11940992.22933840372.569053332.327.1295.dcm\n"
     ]
    },
    {
     "name": "stderr",
     "output_type": "stream",
     "text": [
      "Loading through DICOM files:  68%|██████████████████████████████████████████████████████████████▉                              | 138/204 [00:56<01:00,  1.08it/s]"
     ]
    },
    {
     "name": "stdout",
     "output_type": "stream",
     "text": [
      "Loading from /home/lam3654/MSAI_pneumonitis/data/BATCH 1/NU_0053/2016-03__Studies/NU.0053_NU.0053_RTPLAN_2016-03-14_083416_SBRT.Lung.Planning_NU.0053_n1__00000\n",
      "Loading from /home/lam3654/MSAI_pneumonitis/data/BATCH 1/NU_0053/2016-03__Studies/NU.0053_NU.0053_CT_2016-03-14_083416_SBRT.Lung.Planning_NU.0053_n168__00000\n"
     ]
    },
    {
     "name": "stderr",
     "output_type": "stream",
     "text": [
      "Loading through DICOM files:  68%|███████████████████████████████████████████████████████████████▎                             | 139/204 [00:58<01:21,  1.25s/it]"
     ]
    },
    {
     "name": "stdout",
     "output_type": "stream",
     "text": [
      "Loading from /home/lam3654/MSAI_pneumonitis/data/BATCH 1/NU_0053/2016-03__Studies/NU.0053_NU.0053_RTst_2016-03-14_083416_SBRT.Lung.Planning_AY_n1__00000\n"
     ]
    },
    {
     "name": "stderr",
     "output_type": "stream",
     "text": [
      "Loading through DICOM files:  69%|███████████████████████████████████████████████████████████████▊                             | 140/204 [00:59<01:28,  1.39s/it]"
     ]
    },
    {
     "name": "stdout",
     "output_type": "stream",
     "text": [
      "Loading from /home/lam3654/MSAI_pneumonitis/data/BATCH 1/NU_0046/2010-04__Studies/NU.0046_NU.0046_RTDOSE_2010-04-17_111158_SBRT.Lung.Planning_NU.0046_n1__00000\n"
     ]
    },
    {
     "name": "stderr",
     "output_type": "stream",
     "text": [
      "Loading through DICOM files:  69%|████████████████████████████████████████████████████████████████▎                            | 141/204 [01:00<01:12,  1.15s/it]"
     ]
    },
    {
     "name": "stdout",
     "output_type": "stream",
     "text": [
      "Loading from /home/lam3654/MSAI_pneumonitis/data/BATCH 1/NU_0046/2010-04__Studies/NU.0046_NU.0046_RTst_2010-04-17_111158_SBRT.Lung.Planning_AY_n1__00000\n",
      "Loading from /home/lam3654/MSAI_pneumonitis/data/BATCH 1/NU_0046/2010-04__Studies/NU.0046_NU.0046_CT_2010-04-17_111158_SBRT.Lung.Planning_NU.0046_n194__00000\n"
     ]
    },
    {
     "name": "stderr",
     "output_type": "stream",
     "text": [
      "Loading through DICOM files:  71%|█████████████████████████████████████████████████████████████████▋                           | 144/204 [01:03<01:03,  1.05s/it]"
     ]
    },
    {
     "name": "stdout",
     "output_type": "stream",
     "text": [
      "Loading from /home/lam3654/MSAI_pneumonitis/data/BATCH 1/NU_0046/2010-04__Studies/NU.0046_NU.0046_RTPLAN_2010-04-17_111158_SBRT.Lung.Planning_NU.0046_n1__00000\n",
      "Loading from /home/lam3654/MSAI_pneumonitis/data/BATCH 1/NU_0039/2010-12__Studies/NU.0039_NU.0039_RTPLAN_2010-12-12_105749_._NU.0039_n1__00000\n"
     ]
    },
    {
     "name": "stderr",
     "output_type": "stream",
     "text": [
      "Loading through DICOM files:  71%|██████████████████████████████████████████████████████████████████                           | 145/204 [01:04<01:05,  1.11s/it]"
     ]
    },
    {
     "name": "stdout",
     "output_type": "stream",
     "text": [
      "Loading from /home/lam3654/MSAI_pneumonitis/data/BATCH 1/NU_0039/2010-12__Studies/NU.0039_NU.0039_RTst_2010-12-12_105749_SBRT.Lung.planning.w.IV.and.bellows_AY_n1__00000\n"
     ]
    },
    {
     "name": "stderr",
     "output_type": "stream",
     "text": [
      "Loading through DICOM files:  72%|███████████████████████████████████████████████████████████████████                          | 147/204 [01:05<00:48,  1.18it/s]"
     ]
    },
    {
     "name": "stdout",
     "output_type": "stream",
     "text": [
      "Loading from /home/lam3654/MSAI_pneumonitis/data/BATCH 1/NU_0039/2010-12__Studies/NU.0039_NU.0039_CT_2010-12-12_105749_SBRT.Lung.planning.w.IV.and.bellows_NU.0039_n152__00000\n",
      "Loading from /home/lam3654/MSAI_pneumonitis/data/BATCH 1/NU_0039/2010-12__Studies/NU.0039_NU.0039_RTDOSE_2010-12-12_105749_._NU.0039_n1__00000\n"
     ]
    },
    {
     "name": "stderr",
     "output_type": "stream",
     "text": [
      "Loading through DICOM files:  73%|███████████████████████████████████████████████████████████████████▍                         | 148/204 [01:05<00:41,  1.36it/s]"
     ]
    },
    {
     "name": "stdout",
     "output_type": "stream",
     "text": [
      "Loading from /home/lam3654/MSAI_pneumonitis/data/BATCH 1/NU_0057/2018-11__Studies/NU.0057_NU.0057_RTPLAN_2018-11-19_160816_sbrt.lung.planning_NU.0057_n1__00000\n"
     ]
    },
    {
     "name": "stderr",
     "output_type": "stream",
     "text": [
      "Loading through DICOM files:  74%|████████████████████████████████████████████████████████████████████▍                        | 150/204 [01:06<00:28,  1.92it/s]"
     ]
    },
    {
     "name": "stdout",
     "output_type": "stream",
     "text": [
      "Loading from /home/lam3654/MSAI_pneumonitis/data/BATCH 1/NU_0057/2018-11__Studies/NU.0057_NU.0057_RTst_2018-11-19_160816_sbrt.lung.planning_AY_n1__00000\n",
      "Loading from /home/lam3654/MSAI_pneumonitis/data/BATCH 1/NU_0057/2018-11__Studies/NU.0057_NU.0057_CT_2018-11-19_160816_sbrt.lung.planning_NU.0057_n167__00000\n"
     ]
    },
    {
     "name": "stderr",
     "output_type": "stream",
     "text": [
      "Loading through DICOM files:  74%|████████████████████████████████████████████████████████████████████▊                        | 151/204 [01:07<00:27,  1.89it/s]"
     ]
    },
    {
     "name": "stdout",
     "output_type": "stream",
     "text": [
      "Had an error loading /home/lam3654/MSAI_pneumonitis/data/BATCH 1/NU_0039/2010-12__Studies/NU.0039_NU.0039_RTPLAN_2010-12-12_105749_._NU.0039_n1__00000/2.16.840.1.114362.1.11940992.22933840372.569051369.808.5103.dcm\n",
      "Loading from /home/lam3654/MSAI_pneumonitis/data/BATCH 1/NU_0057/2018-11__Studies/NU.0057_NU.0057_RTDOSE_2018-11-19_160816_sbrt.lung.planning_NU.0057_n1__00000\n"
     ]
    },
    {
     "name": "stderr",
     "output_type": "stream",
     "text": [
      "Loading through DICOM files:  75%|██████████████████████████████████████████████████████████████████████▏                      | 154/204 [01:07<00:13,  3.63it/s]"
     ]
    },
    {
     "name": "stdout",
     "output_type": "stream",
     "text": [
      "Loading from /home/lam3654/MSAI_pneumonitis/data/BATCH 1/NU_0068/2014-12__Studies/NU.0068_NU.0068_CT_2014-12-15_150552_Sbrt.planning.bellows_NU.0068_n172__00000\n",
      "Had an error loading /home/lam3654/MSAI_pneumonitis/data/BATCH 1/NU_0053/2016-03__Studies/NU.0053_NU.0053_RTPLAN_2016-03-14_083416_SBRT.Lung.Planning_NU.0053_n1__00000/2.16.840.1.114362.1.11940992.22933840372.569048380.980.3450.dcm\n",
      "Loading from /home/lam3654/MSAI_pneumonitis/data/BATCH 1/NU_0068/2014-12__Studies/NU.0068_NU.0068_RTPLAN_2014-12-15_150552_Sbrt.planning.bellows_NU.0068_n1__00000\n",
      "Loading from /home/lam3654/MSAI_pneumonitis/data/BATCH 1/NU_0068/2014-12__Studies/NU.0068_NU.0068_RTst_2014-12-15_150552_Sbrt.planning.bellows_AY_n1__00000\n"
     ]
    },
    {
     "name": "stderr",
     "output_type": "stream",
     "text": [
      "Loading through DICOM files:  76%|██████████████████████████████████████████████████████████████████████▋                      | 155/204 [01:08<00:16,  3.06it/s]"
     ]
    },
    {
     "name": "stdout",
     "output_type": "stream",
     "text": [
      "Had an error loading /home/lam3654/MSAI_pneumonitis/data/BATCH 1/NU_0046/2010-04__Studies/NU.0046_NU.0046_RTPLAN_2010-04-17_111158_SBRT.Lung.Planning_NU.0046_n1__00000/2.16.840.1.114362.1.11940992.22933840372.574577423.363.3121.dcm\n",
      "Loading from /home/lam3654/MSAI_pneumonitis/data/BATCH 1/NU_0068/2014-12__Studies/NU.0068_NU.0068_RTDOSE_2014-12-15_150552_Sbrt.planning.bellows_NU.0068_n1__00000\n"
     ]
    },
    {
     "name": "stderr",
     "output_type": "stream",
     "text": [
      "Loading through DICOM files:  77%|███████████████████████████████████████████████████████████████████████▌                     | 157/204 [01:08<00:14,  3.29it/s]"
     ]
    },
    {
     "name": "stdout",
     "output_type": "stream",
     "text": [
      "Loading from /home/lam3654/MSAI_pneumonitis/data/BATCH 1/NU_0010/2019-02__Studies/NU.0010_NU.0010_RTPLAN_2019-02-01_150559_SBRT.RLL.Planning.scan_NU.0010_n1__00000\n",
      "Loading from /home/lam3654/MSAI_pneumonitis/data/BATCH 1/NU_0010/2019-02__Studies/NU.0010_NU.0010_CT_2019-02-01_150559_SBRT.RLL.Planning.scan_NU.0010_n196__00000\n"
     ]
    },
    {
     "name": "stderr",
     "output_type": "stream",
     "text": [
      "Loading through DICOM files:  77%|████████████████████████████████████████████████████████████████████████                     | 158/204 [01:09<00:14,  3.27it/s]"
     ]
    },
    {
     "name": "stdout",
     "output_type": "stream",
     "text": [
      "Loading from /home/lam3654/MSAI_pneumonitis/data/BATCH 1/NU_0010/2019-02__Studies/NU.0010_NU.0010_RTst_2019-02-01_150559_SBRT.RLL.Planning.scan_AY_n1__00000\n"
     ]
    },
    {
     "name": "stderr",
     "output_type": "stream",
     "text": [
      "Loading through DICOM files:  78%|████████████████████████████████████████████████████████████████████████▍                    | 159/204 [01:09<00:15,  2.84it/s]"
     ]
    },
    {
     "name": "stdout",
     "output_type": "stream",
     "text": [
      "Loading from /home/lam3654/MSAI_pneumonitis/data/BATCH 1/NU_0010/2019-02__Studies/NU.0010_NU.0010_RTDOSE_2019-02-01_150559_SBRT.RLL.Planning.scan_NU.0010_n1__00000\n"
     ]
    },
    {
     "name": "stderr",
     "output_type": "stream",
     "text": [
      "Loading through DICOM files:  81%|███████████████████████████████████████████████████████████████████████████▏                 | 165/204 [01:11<00:15,  2.47it/s]"
     ]
    },
    {
     "name": "stdout",
     "output_type": "stream",
     "text": [
      "Had an error loading /home/lam3654/MSAI_pneumonitis/data/BATCH 1/NU_0057/2018-11__Studies/NU.0057_NU.0057_RTPLAN_2018-11-19_160816_sbrt.lung.planning_NU.0057_n1__00000/2.16.840.1.114362.1.11940992.22933840372.569461563.665.9001.dcm\n"
     ]
    },
    {
     "name": "stderr",
     "output_type": "stream",
     "text": [
      "Loading through DICOM files:  82%|████████████████████████████████████████████████████████████████████████████▏                | 167/204 [01:13<00:21,  1.73it/s]"
     ]
    },
    {
     "name": "stdout",
     "output_type": "stream",
     "text": [
      "Had an error loading /home/lam3654/MSAI_pneumonitis/data/BATCH 1/NU_0068/2014-12__Studies/NU.0068_NU.0068_RTPLAN_2014-12-15_150552_Sbrt.planning.bellows_NU.0068_n1__00000/2.16.840.1.114362.1.11940992.22933840372.569052830.195.2946.dcm\n"
     ]
    },
    {
     "name": "stderr",
     "output_type": "stream",
     "text": [
      "Loading through DICOM files:  85%|██████████████████████████████████████████████████████████████████████████████▊              | 173/204 [01:14<00:12,  2.45it/s]"
     ]
    },
    {
     "name": "stdout",
     "output_type": "stream",
     "text": [
      "Had an error loading /home/lam3654/MSAI_pneumonitis/data/BATCH 1/NU_0010/2019-02__Studies/NU.0010_NU.0010_RTPLAN_2019-02-01_150559_SBRT.RLL.Planning.scan_NU.0010_n1__00000/2.16.840.1.114362.1.11940992.22933840372.569054352.626.1661.dcm\n"
     ]
    },
    {
     "name": "stderr",
     "output_type": "stream",
     "text": [
      "Loading through DICOM files: 100%|█████████████████████████████████████████████████████████████████████████████████████████████| 204/204 [01:31<00:00,  2.23it/s]\n"
     ]
    },
    {
     "name": "stdout",
     "output_type": "stream",
     "text": [
      "Compiling dictionaries together...\n",
      "Index 0, description NU_0038  at /home/lam3654/MSAI_pneumonitis/data/BATCH 1/NU_0038/2012-03__Studies/NU.0038_NU.0038_CT_2012-03-05_113831_SBRT.Planning.Scan_NU.0038_n162__00000\n",
      "Index 1, description NU_0053  at /home/lam3654/MSAI_pneumonitis/data/BATCH 1/NU_0053/2016-03__Studies/NU.0053_NU.0053_CT_2016-03-14_083416_SBRT.Lung.Planning_NU.0053_n168__00000\n",
      "Index 2, description NU_0036  at /home/lam3654/MSAI_pneumonitis/data/BATCH 1/NU_0036/2010-10__Studies/NU.0036_NU.0036_CT_2010-10-20_100815_SBRT.Right.Lung.Plan_NU.0036_n165__00000\n",
      "Index 3, description NU_0037  at /home/lam3654/MSAI_pneumonitis/data/BATCH 1/NU_0037/2012-09__Studies/NU.0037_NU.0037_CT_2012-09-12_091234_SBRT.planning.bellows_NU.0037_n214__00000\n",
      "Index 4, description NU_0043  at /home/lam3654/MSAI_pneumonitis/data/BATCH 1/NU_0043/2018-08__Studies/NU.0043_NU.0043_CT_2018-08-20_085659_SBRT.Planning.Scan_NU.0043_n160__00000\n",
      "Index 5, description NU_0023  at /home/lam3654/MSAI_pneumonitis/data/BATCH 1/NU_0023/2018-08__Studies/NU.0023_NU.0023_CT_2018-08-03_144220_sbrt.lung.planning_NU.0023_n183__00000\n",
      "Index 6, description NU_0035  at /home/lam3654/MSAI_pneumonitis/data/BATCH 1/NU_0035/2016-07__Studies/NU.0035_NU.0035_CT_2016-07-30_083030_SBRT.lung.planning.bellows_NU.0035_n198__00000\n",
      "Index 7, description NU_0026  at /home/lam3654/MSAI_pneumonitis/data/BATCH 1/NU_0026/2018-07__Studies/NU.0026_NU.0026_CT_2018-07-13_153554_SBRT.chest.plan.and.bellows_NU.0026_n161__00000\n",
      "Index 8, description NU_0055  at /home/lam3654/MSAI_pneumonitis/data/BATCH 1/NU_0055/2016-04__Studies/NU.0055_NU.0055_CT_2016-04-18_135434_SBRT.lung.planning_NU.0055_n164__00000\n",
      "Index 9, description NU_0039  at /home/lam3654/MSAI_pneumonitis/data/BATCH 1/NU_0039/2010-12__Studies/NU.0039_NU.0039_CT_2010-12-12_105749_SBRT.Lung.planning.w.IV.and.bellows_NU.0039_n152__00000\n",
      "Index 10, description NU_0004  at /home/lam3654/MSAI_pneumonitis/data/BATCH 1/NU_0004R/2019-03__Studies/NU.0004_NU.0004_CT_2019-03-02_105611_SBRT.Planning.Scan_NU.0004_n174__00000\n",
      "Index 11, description NU_0004  at /home/lam3654/MSAI_pneumonitis/data/BATCH 1/NU_0004/2016-07__Studies/NU.0004_NU.0004_CT_2016-07-03_145128_SBRT.Lung.planning_NU.0004_n187__00000\n",
      "Index 12, description NU_0003  at /home/lam3654/MSAI_pneumonitis/data/BATCH 1/NU_0003/2018-06__Studies/NU.0003_NU.0003_CT_2018-06-01_135234_SBRT.lung.planning.scan_NU.0003_n169__00000\n",
      "Index 13, description NU_0063  at /home/lam3654/MSAI_pneumonitis/data/BATCH 1/NU_0063/2018-12__Studies/NU.0063_NU.0063_CT_2018-12-01_145941_SBRT.Chest.planning_NU.0063_n164__00000\n",
      "Index 14, description NU_0034  at /home/lam3654/MSAI_pneumonitis/data/BATCH 1/NU_0034/2012-08__Studies/NU.0034_NU.0034_CT_2012-08-30_110406_SBRT.planning.+.bellows_NU.0034_n148__00000\n",
      "Index 15, description NU_0062  at /home/lam3654/MSAI_pneumonitis/data/BATCH 1/NU_0062/2012-09__Studies/NU.0062_NU.0062_CT_2012-09-23_092750_SBRT.Lung.Plan_NU.0062_n175__00000\n",
      "Index 16, description NU_0068  at /home/lam3654/MSAI_pneumonitis/data/BATCH 1/NU_0068/2014-12__Studies/NU.0068_NU.0068_CT_2014-12-15_150552_Sbrt.planning.bellows_NU.0068_n172__00000\n",
      "Index 17, description NU_0015  at /home/lam3654/MSAI_pneumonitis/data/BATCH 1/NU_0015/2018-08__Studies/NU.0015_NU.0015_CT_2018-08-25_111034_SBRT.Chest.planning_NU.0015_n170__00000\n",
      "Index 18, description NU_0041  at /home/lam3654/MSAI_pneumonitis/data/BATCH 1/NU_0041/2013-10__Studies/NU.0041_NU.0041_CT_2013-10-29_091902_SBRT.LLL.Plan_NU.0041_n213__00000\n",
      "Index 19, description NU_0067  at /home/lam3654/MSAI_pneumonitis/data/BATCH 1/NU_0067/2012-08__Studies/NU.0067_NU.0067_CT_2012-08-26_125240_RUL.SBRT.planning.scan.w..bellows_NU.0067_n195__00000\n",
      "Index 20, description NU_0028  at /home/lam3654/MSAI_pneumonitis/data/BATCH 1/NU_0028/2018-08__Studies/NU.0028_NU.0028_CT_2018-08-07_111010_SBRT.Lung.Planning_NU.0028_n177__00000\n",
      "Index 21, description NU_0024  at /home/lam3654/MSAI_pneumonitis/data/BATCH 1/NU_0024/2018-08__Studies/NU.0024_NU.0024_CT_2018-08-09_163459_sbrt.lung.planning.scan_NU.0024_n170__00000\n",
      "Index 22, description NU_0006  at /home/lam3654/MSAI_pneumonitis/data/BATCH 1/NU_0006/2018-07__Studies/NU.0006_NU.0006_CT_2018-07-17_141739_SBRT.lung.Planning.Scan_NU.0006_n143__00000\n",
      "Index 23, description NU_0010  at /home/lam3654/MSAI_pneumonitis/data/BATCH 1/NU_0010/2019-02__Studies/NU.0010_NU.0010_CT_2019-02-01_150559_SBRT.RLL.Planning.scan_NU.0010_n196__00000\n",
      "Index 24, description NU_0046  at /home/lam3654/MSAI_pneumonitis/data/BATCH 1/NU_0046/2010-04__Studies/NU.0046_NU.0046_CT_2010-04-17_111158_SBRT.Lung.Planning_NU.0046_n194__00000\n",
      "Index 25, description NU_0052  at /home/lam3654/MSAI_pneumonitis/data/BATCH 1/NU_0052/2013-02__Studies/NU.0052_NU.0052_CT_2013-02-04_085835_SBRT.Lung.Plan_NU.0052_n157__00000\n",
      "Index 26, description NU_0007  at /home/lam3654/MSAI_pneumonitis/data/BATCH 1/NU_0007/2018-08__Studies/NU.0007_NU.0007_CT_2018-08-27_133110_SBRT.Plan.and.Bellows_NU.0007_n165__00000\n",
      "Index 27, description NU_0012C at /home/lam3654/MSAI_pneumonitis/data/BATCH 1/NU_0012A/2019-04__Studies/NU.0012C_NU.0012C_CT_2019-04-11_095832_SBRT.Lung.Planning.Scan_NU.0012C_n180__00000\n",
      "Index 28, description NU_0044  at /home/lam3654/MSAI_pneumonitis/data/BATCH 1/NU_0044/2016-08__Studies/NU.0044_NU.0044_CT_2016-08-12_091943_SBRT.RLL.PLANNING_NU.0044_n177__00000\n",
      "Index 29, description NU_0001  at /home/lam3654/MSAI_pneumonitis/data/BATCH 1/NU_0001/2018-10__Studies/NU.0001_NU.0001_CT_2018-10-08_144305_SBRT.Planning_NU.0001_n172__00000\n",
      "Index 30, description NU_0030  at /home/lam3654/MSAI_pneumonitis/data/BATCH 1/NU_0030/2018-10__Studies/NU.0030_NU.0030_CT_2018-10-02_150021_SBRT.Chest.Planning.Scan_NU.0030_n142__00000\n",
      "Index 31, description NU_0045  at /home/lam3654/MSAI_pneumonitis/data/BATCH 1/NU_0045/2018-04__Studies/NU.0045_NU.0045_CT_2018-04-03_145050_sbrt.lung.planning_NU.0045_n156__00000\n",
      "Index 32, description NU_0049  at /home/lam3654/MSAI_pneumonitis/data/BATCH 1/NU_0049/2017-12__Studies/NU.0049_NU.0049_CT_2017-12-24_145132_SBRT.Lung.planning_NU.0049_n133__00000\n",
      "Index 33, description NU_0042  at /home/lam3654/MSAI_pneumonitis/data/BATCH 1/NU_0042/2010-02__Studies/NU.0042_NU.0042_CT_2010-02-07_103323_SBRT.Lung.Planning_NU.0042_n217__00000\n",
      "Index 34, description NU_0048  at /home/lam3654/MSAI_pneumonitis/data/BATCH 1/NU_0048/2019-01__Studies/NU.0048_NU.0048_CT_2019-01-06_133940_sbrt.lung.iso.Planning_NU.0048_n116__00000\n",
      "Index 35, description NU_0057  at /home/lam3654/MSAI_pneumonitis/data/BATCH 1/NU_0057/2018-11__Studies/NU.0057_NU.0057_CT_2018-11-19_160816_sbrt.lung.planning_NU.0057_n167__00000\n",
      "Index 36, description NU_0032  at /home/lam3654/MSAI_pneumonitis/data/BATCH 1/NU_0032/2010-09__Studies/NU.0032_NU.0032_CT_2010-09-14_101742_SBRT.Lung.Planning_NU.0032_n153__00000\n",
      "Index 37, description  at /home/lam3654/MSAI_pneumonitis/data/BATCH 1/NU_0011/2019-06__Studies/NU.0011_NU.0011_CT_2019-06-11_160923_SBRT.Planning.Scan_._n126__00000\n",
      "Index 38, description  at /home/lam3654/MSAI_pneumonitis/data/BATCH 1/NU_0018/2018-07__Studies/NU.0018_NU.0018_CT_2018-07-11_125322_sbrt.lung.planning_._n151__00000\n",
      "Index 39, description NU_0020  at /home/lam3654/MSAI_pneumonitis/data/BATCH 1/NU_0020/2018-07__Studies/NU.0020_NU.0020_CT_2018-07-10_145219_SBRT.planning_NU.0020_n156__00000\n",
      "Index 40, description NU_0033  at /home/lam3654/MSAI_pneumonitis/data/BATCH 1/NU_0033/2018-06__Studies/NU.0033_NU.0033_CT_2018-06-21_152956_sbrt.lung.planning.w.contrast_NU.0033_n135__00000\n",
      "Index 41, description NU_0040  at /home/lam3654/MSAI_pneumonitis/data/BATCH 1/NU_0040/2019-05__Studies/NU.0040_NU.0040_CT_2019-05-22_143029_SBRT.LUL.Planning_NU.0040_n155__00000\n",
      "Index 42, description NU_0059  at /home/lam3654/MSAI_pneumonitis/data/BATCH 1/NU_0059/2015-12__Studies/NU.0059_NU.0059_CT_2015-12-17_094629_LUL-Planning_NU.0059_n157__00000\n",
      "Index 43, description NU_0061  at /home/lam3654/MSAI_pneumonitis/data/BATCH 1/NU_0061/2018-05__Studies/NU.0061_NU.0061_CT_2018-05-15_103830_sbrt.lung.planning.bellows_NU.0061_n144__00000\n",
      "Index 44, description NU_0065  at /home/lam3654/MSAI_pneumonitis/data/BATCH 1/NU_0065/2016-05__Studies/NU.0065_NU.0065_CT_2016-05-10_133801_sbrt.lung_NU.0065_n149__00000\n",
      "Index 45, description NU_0066  at /home/lam3654/MSAI_pneumonitis/data/BATCH 1/NU_0066/2017-08__Studies/NU.0066_NU.0066_CT_2017-08-25_144014_R.Lung.SBRT.planning_NU.0066_n143__00000\n",
      "Index 46, description NU_0019  at /home/lam3654/MSAI_pneumonitis/data/BATCH 1/NU_0019/2018-07__Studies/NU.0019_NU.0019_CT_2018-07-11_162227_sbrt.lung.planning_NU.0019_n158__00000\n",
      "Index 47, description  at /home/lam3654/MSAI_pneumonitis/data/BATCH 1/NU_0239/2017-08__Studies/NU.0239_NU.0239_CT_2017-08-01_093310_SBRT.Lung_._n215__00000\n",
      "Index 48, description  at /home/lam3654/MSAI_pneumonitis/data/BATCH 1/ANON_0021/2018-07__Studies/ANON.0021_ANON.0021_CT_2018-07-09_160712_SBRT.lung.planning_._n113__00000\n",
      "Index 49, description  at /home/lam3654/MSAI_pneumonitis/data/BATCH 1/NU_0005/2018-08__Studies/NU.0005_NU.0005_CT_2018-08-29_144651_SBRT.LUL.Plan.Scan.and.Bellows_._n187__00000\n",
      "Index 50, description  at /home/lam3654/MSAI_pneumonitis/data/BATCH 1/NU_0054/2016-02__Studies/NU.0054_NU.0054_CT_2016-02-25_161010_L.Lung.SBRT.plan_._n171__00000\n",
      "Index 51, description None at None\n",
      "Index 52, description None at None\n",
      "Index 53, description None at None\n",
      "Index 54, description None at None\n",
      "Index 55, description None at None\n",
      "Index 56, description None at None\n",
      "Index 57, description None at None\n",
      "Index 58, description None at None\n",
      "Index 59, description None at None\n",
      "Index 60, description None at None\n",
      "Index 61, description None at None\n",
      "Index 62, description None at None\n",
      "Index 63, description None at None\n",
      "Index 64, description None at None\n",
      "Index 65, description None at None\n",
      "Index 66, description None at None\n",
      "Index 67, description None at None\n",
      "Index 68, description None at None\n",
      "Index 69, description None at None\n",
      "Index 70, description None at None\n",
      "Index 71, description None at None\n",
      "Index 72, description None at None\n",
      "Index 73, description None at None\n",
      "Index 74, description None at None\n",
      "Index 75, description None at None\n",
      "Index 76, description None at None\n",
      "Index 77, description None at None\n",
      "Index 78, description None at None\n",
      "Index 79, description None at None\n",
      "Index 80, description None at None\n",
      "Index 81, description None at None\n",
      "Index 82, description None at None\n",
      "Index 83, description None at None\n",
      "Index 84, description None at None\n",
      "Index 85, description None at None\n",
      "Index 86, description None at None\n",
      "Index 87, description None at None\n",
      "Index 88, description None at None\n",
      "Index 89, description None at None\n",
      "Index 90, description None at None\n",
      "Index 91, description None at None\n",
      "Index 92, description None at None\n",
      "Index 93, description None at None\n",
      "Index 94, description None at None\n",
      "Index 95, description None at None\n",
      "Index 96, description None at None\n",
      "Index 97, description None at None\n",
      "Index 98, description None at None\n",
      "Index 99, description None at None\n",
      "Index 100, description None at None\n",
      "Index 101, description None at None\n",
      "102 unique series IDs were found. Default is index 0, to change use set_index(index)\n"
     ]
    },
    {
     "name": "stderr",
     "output_type": "stream",
     "text": [
      "Loading through DICOM files:   0%|                                                                                                       | 0/204 [00:00<?, ?it/s]"
     ]
    },
    {
     "name": "stdout",
     "output_type": "stream",
     "text": [
      "Loading from /home/lam3654/MSAI_pneumonitis/data/BATCH 1/NU_0239/2017-08__Studies/NU.0239_NU.0239_RTst_2017-08-01_093310_SBRT.Lung_AY_n1__00000Loading from /home/lam3654/MSAI_pneumonitis/data/BATCH 1/NU_0239/2017-08__Studies/NU.0239_NU.0239_RTDOSE_2017-08-01_093310_SBRT.Lung_._n1__00000\n",
      "Loading from /home/lam3654/MSAI_pneumonitis/data/BATCH 1/NU_0015/2018-08__Studies/NU.0015_NU.0015_CT_2018-08-25_111034_SBRT.Chest.planning_NU.0015_n170__00000\n",
      "Loading from /home/lam3654/MSAI_pneumonitis/data/BATCH 1/NU_0011/2019-06__Studies/NU.0011_NU.0011_RTPLAN_2019-06-11_160923_MinIP.SBRT.Planning.Scan_._n1__00000\n",
      "Loading from /home/lam3654/MSAI_pneumonitis/data/BATCH 1/NU_0019/2018-07__Studies/NU.0019_NU.0019_RTDOSE_2018-07-11_162227_sbrt.lung.planning_NU.0019_n1__00000\n",
      "Loading from /home/lam3654/MSAI_pneumonitis/data/BATCH 1/NU_0033/2018-06__Studies/NU.0033_NU.0033_RTst_2018-06-21_152956_sbrt.lung.planning.w.contrast_AY_n1__00000\n",
      "Loading from /home/lam3654/MSAI_pneumonitis/data/BATCH 1/NU_0033/2018-06__Studies/NU.0033_NU.0033_RTPLAN_2018-06-21_152956_sbrt.lung.planning.w.contrast_NU.0033_n1__00000\n",
      "Loading from /home/lam3654/MSAI_pneumonitis/data/BATCH 1/NU_0011/2019-06__Studies/NU.0011_NU.0011_RTDOSE_2019-06-11_160923_MinIP.SBRT.Planning.Scan_._n1__00000\n",
      "Loading from /home/lam3654/MSAI_pneumonitis/data/BATCH 1/NU_0011/2019-06__Studies/NU.0011_NU.0011_CT_2019-06-11_160923_SBRT.Planning.Scan_._n126__00000\n",
      "Loading from /home/lam3654/MSAI_pneumonitis/data/BATCH 1/NU_0044/2016-08__Studies/NU.0044_NU.0044_RTPLAN_2016-08-12_091943_SBRT.RLL.PLANNING_NU.0044_n1__00000\n",
      "Loading from /home/lam3654/MSAI_pneumonitis/data/BATCH 1/NU_0015/2018-08__Studies/NU.0015_NU.0015_RTDOSE_2018-08-25_111034_SBRT.Chest.planning_NU.0015_n1__00000\n",
      "Loading from /home/lam3654/MSAI_pneumonitis/data/BATCH 1/NU_0026/2018-07__Studies/NU.0026_NU.0026_RTDOSE_2018-07-13_153554_MInIP.SBRT.chest.plan.and.bellows_NU.0026_n1__00000\n",
      "Loading from /home/lam3654/MSAI_pneumonitis/data/BATCH 1/NU_0004/2016-07__Studies/NU.0004_NU.0004_RTDOSE_2016-07-03_145128_SBRT.Lung.planning_NU.0004_n1__00000\n",
      "Loading from /home/lam3654/MSAI_pneumonitis/data/BATCH 1/NU_0239/2017-08__Studies/NU.0239_NU.0239_RTPLAN_2017-08-01_093310_SBRT.Lung_._n1__00000\n",
      "Loading from /home/lam3654/MSAI_pneumonitis/data/BATCH 1/NU_0015/2018-08__Studies/NU.0015_NU.0015_RTst_2018-08-25_111034_SBRT.Chest.planning_AY_n1__00000\n",
      "Loading from /home/lam3654/MSAI_pneumonitis/data/BATCH 1/NU_0040/2019-05__Studies/NU.0040_NU.0040_RTPLAN_2019-05-22_143029_SBRT.LUL.Planning_NU.0040_n1__00000\n",
      "Loading from /home/lam3654/MSAI_pneumonitis/data/BATCH 1/NU_0037/2012-09__Studies/NU.0037_NU.0037_CT_2012-09-12_091234_SBRT.planning.bellows_NU.0037_n214__00000\n",
      "Loading from /home/lam3654/MSAI_pneumonitis/data/BATCH 1/NU_0044/2016-08__Studies/NU.0044_NU.0044_RTDOSE_2016-08-12_091943_SBRT.RLL.PLANNING_NU.0044_n1__00000\n",
      "Loading from /home/lam3654/MSAI_pneumonitis/data/BATCH 1/NU_0040/2019-05__Studies/NU.0040_NU.0040_CT_2019-05-22_143029_SBRT.LUL.Planning_NU.0040_n155__00000\n",
      "Loading from /home/lam3654/MSAI_pneumonitis/data/BATCH 1/NU_0026/2018-07__Studies/NU.0026_NU.0026_RTPLAN_2018-07-13_153554_MInIP.SBRT.chest.plan.and.bellows_NU.0026_n1__00000\n",
      "Loading from /home/lam3654/MSAI_pneumonitis/data/BATCH 1/NU_0040/2019-05__Studies/NU.0040_NU.0040_RTDOSE_2019-05-22_143029_SBRT.LUL.Planning_NU.0040_n1__00000\n",
      "Loading from /home/lam3654/MSAI_pneumonitis/data/BATCH 1/NU_0004/2016-07__Studies/NU.0004_NU.0004_CT_2016-07-03_145128_SBRT.Lung.planning_NU.0004_n187__00000\n",
      "Loading from /home/lam3654/MSAI_pneumonitis/data/BATCH 1/NU_0062/2012-09__Studies/NU.0062_NU.0062_RTst_2012-09-23_092750_SBRT.Lung.Plan_AY_n1__00000\n",
      "\n",
      "Loading from /home/lam3654/MSAI_pneumonitis/data/BATCH 1/NU_0019/2018-07__Studies/NU.0019_NU.0019_CT_2018-07-11_162227_sbrt.lung.planning_NU.0019_n158__00000\n",
      "Loading from /home/lam3654/MSAI_pneumonitis/data/BATCH 1/NU_0019/2018-07__Studies/NU.0019_NU.0019_RTst_2018-07-11_162227_sbrt.lung.planning_AY_n1__00000\n",
      "Loading from /home/lam3654/MSAI_pneumonitis/data/BATCH 1/NU_0239/2017-08__Studies/NU.0239_NU.0239_CT_2017-08-01_093310_SBRT.Lung_._n215__00000\n",
      "Loading from /home/lam3654/MSAI_pneumonitis/data/BATCH 1/NU_0040/2019-05__Studies/NU.0040_NU.0040_RTst_2019-05-22_143029_SBRT.LUL.Planning_AY_n1__00000\n",
      "Loading from /home/lam3654/MSAI_pneumonitis/data/BATCH 1/NU_0044/2016-08__Studies/NU.0044_NU.0044_CT_2016-08-12_091943_SBRT.RLL.PLANNING_NU.0044_n177__00000\n",
      "Loading from /home/lam3654/MSAI_pneumonitis/data/BATCH 1/NU_0037/2012-09__Studies/NU.0037_NU.0037_RTPLAN_2012-09-12_091234_SBRT.planning.bellows_NU.0037_n1__00000\n",
      "Loading from /home/lam3654/MSAI_pneumonitis/data/BATCH 1/NU_0037/2012-09__Studies/NU.0037_NU.0037_RTst_2012-09-12_091234_SBRT.planning.bellows_AY_n1__00000\n",
      "Loading from /home/lam3654/MSAI_pneumonitis/data/BATCH 1/NU_0062/2012-09__Studies/NU.0062_NU.0062_RTDOSE_2012-09-23_092750_SBRT.Lung.Plan_NU.0062_n1__00000\n",
      "Loading from /home/lam3654/MSAI_pneumonitis/data/BATCH 1/NU_0004/2016-07__Studies/NU.0004_NU.0004_RTst_2016-07-03_145128_SBRT.Lung.planning_AY_n1__00000\n",
      "Loading from /home/lam3654/MSAI_pneumonitis/data/BATCH 1/NU_0044/2016-08__Studies/NU.0044_NU.0044_RTst_2016-08-12_091943_SBRT.RLL.PLANNING_AY_n1__00000\n",
      "Loading from /home/lam3654/MSAI_pneumonitis/data/BATCH 1/NU_0015/2018-08__Studies/NU.0015_NU.0015_RTPLAN_2018-08-25_111034_SBRT.Chest.planning_NU.0015_n1__00000\n",
      "Loading from /home/lam3654/MSAI_pneumonitis/data/BATCH 1/NU_0055/2016-04__Studies/NU.0055_NU.0055_RTDOSE_2016-04-18_135434_SBRT.lung.planning_NU.0055_n1__00000\n",
      "Loading from /home/lam3654/MSAI_pneumonitis/data/BATCH 1/NU_0062/2012-09__Studies/NU.0062_NU.0062_CT_2012-09-23_092750_SBRT.Lung.Plan_NU.0062_n175__00000\n",
      "Loading from /home/lam3654/MSAI_pneumonitis/data/BATCH 1/NU_0011/2019-06__Studies/NU.0011_NU.0011_RTst_2019-06-11_160923_SBRT.Planning.Scan_AY_n1__00000\n",
      "Loading from /home/lam3654/MSAI_pneumonitis/data/BATCH 1/NU_0026/2018-07__Studies/NU.0026_NU.0026_CT_2018-07-13_153554_SBRT.chest.plan.and.bellows_NU.0026_n161__00000\n",
      "Loading from /home/lam3654/MSAI_pneumonitis/data/BATCH 1/NU_0019/2018-07__Studies/NU.0019_NU.0019_RTPLAN_2018-07-11_162227_sbrt.lung.planning_NU.0019_n1__00000\n",
      "Loading from /home/lam3654/MSAI_pneumonitis/data/BATCH 1/NU_0033/2018-06__Studies/NU.0033_NU.0033_CT_2018-06-21_152956_sbrt.lung.planning.w.contrast_NU.0033_n135__00000\n",
      "Loading from /home/lam3654/MSAI_pneumonitis/data/BATCH 1/NU_0026/2018-07__Studies/NU.0026_NU.0026_RTst_2018-07-13_153554_SBRT.chest.plan.and.bellows_AY_n1__00000\n",
      "Loading from /home/lam3654/MSAI_pneumonitis/data/BATCH 1/NU_0004/2016-07__Studies/NU.0004_NU.0004_RTPLAN_2016-07-03_145128_SBRT.Lung.planning_NU.0004_n1__00000\n",
      "Loading from /home/lam3654/MSAI_pneumonitis/data/BATCH 1/NU_0037/2012-09__Studies/NU.0037_NU.0037_RTDOSE_2012-09-12_091234_SBRT.planning.bellows_NU.0037_n1__00000\n",
      "Loading from /home/lam3654/MSAI_pneumonitis/data/BATCH 1/NU_0033/2018-06__Studies/NU.0033_NU.0033_RTDOSE_2018-06-21_152956_sbrt.lung.planning.w.contrast_NU.0033_n1__00000\n",
      "Loading from /home/lam3654/MSAI_pneumonitis/data/BATCH 1/NU_0062/2012-09__Studies/NU.0062_NU.0062_RTPLAN_2012-09-23_092750_SBRT.Lung.Plan_NU.0062_n1__00000\n"
     ]
    },
    {
     "name": "stderr",
     "output_type": "stream",
     "text": [
      "Loading through DICOM files:   5%|█████                                                                                         | 11/204 [00:00<00:08, 21.93it/s]"
     ]
    },
    {
     "name": "stdout",
     "output_type": "stream",
     "text": [
      "Loading from /home/lam3654/MSAI_pneumonitis/data/BATCH 1/NU_0055/2016-04__Studies/NU.0055_NU.0055_RTst_2016-04-18_135434_SBRT.lung.planning_AY_n1__00000\n",
      "Loading from /home/lam3654/MSAI_pneumonitis/data/BATCH 1/NU_0055/2016-04__Studies/NU.0055_NU.0055_RTPLAN_2016-04-18_135434_SBRT.lung.planning_NU.0055_n1__00000\n",
      "Loading from /home/lam3654/MSAI_pneumonitis/data/BATCH 1/NU_0055/2016-04__Studies/NU.0055_NU.0055_CT_2016-04-18_135434_SBRT.lung.planning_NU.0055_n164__00000\n",
      "Loading from /home/lam3654/MSAI_pneumonitis/data/BATCH 1/NU_0038/2012-03__Studies/NU.0038_NU.0038_CT_2012-03-05_113831_SBRT.Planning.Scan_NU.0038_n162__00000\n",
      "Loading from /home/lam3654/MSAI_pneumonitis/data/BATCH 1/NU_0038/2012-03__Studies/NU.0038_NU.0038_RTPLAN_2012-03-05_113831_SBRT.Planning.Scan_NU.0038_n1__00000\n",
      "Loading from /home/lam3654/MSAI_pneumonitis/data/BATCH 1/NU_0038/2012-03__Studies/NU.0038_NU.0038_RTst_2012-03-05_113831_SBRT.Planning.Scan_AY_n1__00000\n",
      "Loading from /home/lam3654/MSAI_pneumonitis/data/BATCH 1/NU_0066/2017-08__Studies/NU.0066_NU.0066_RTst_2017-08-25_144014_R.Lung.SBRT.planning_AY_n1__00000\n",
      "Loading from /home/lam3654/MSAI_pneumonitis/data/BATCH 1/NU_0038/2012-03__Studies/NU.0038_NU.0038_RTDOSE_2012-03-05_113831_SBRT.Planning.Scan_NU.0038_n1__00000\n",
      "Loading from /home/lam3654/MSAI_pneumonitis/data/BATCH 1/NU_0066/2017-08__Studies/NU.0066_NU.0066_CT_2017-08-25_144014_R.Lung.SBRT.planning_NU.0066_n143__00000\n",
      "Loading from /home/lam3654/MSAI_pneumonitis/data/BATCH 1/NU_0066/2017-08__Studies/NU.0066_NU.0066_RTDOSE_2017-08-25_144014_R.Lung.SBRT.planning_NU.0066_n1__00000\n"
     ]
    },
    {
     "name": "stderr",
     "output_type": "stream",
     "text": [
      "Loading through DICOM files:   7%|██████▍                                                                                       | 14/204 [00:00<00:11, 15.99it/s]"
     ]
    },
    {
     "name": "stdout",
     "output_type": "stream",
     "text": [
      "Loading from /home/lam3654/MSAI_pneumonitis/data/BATCH 1/NU_0049/2017-12__Studies/NU.0049_NU.0049_RTst_2017-12-24_145132_SBRT.Lung.planning_AY_n1__00000\n",
      "Loading from /home/lam3654/MSAI_pneumonitis/data/BATCH 1/NU_0066/2017-08__Studies/NU.0066_NU.0066_RTPLAN_2017-08-25_144014_R.Lung.SBRT.planning_NU.0066_n1__00000\n",
      "Loading from /home/lam3654/MSAI_pneumonitis/data/BATCH 1/NU_0049/2017-12__Studies/NU.0049_NU.0049_RTDOSE_2017-12-24_145132_SBRT.Lung.planning_NU.0049_n1__00000\n",
      "Loading from /home/lam3654/MSAI_pneumonitis/data/BATCH 1/NU_0049/2017-12__Studies/NU.0049_NU.0049_CT_2017-12-24_145132_SBRT.Lung.planning_NU.0049_n133__00000\n"
     ]
    },
    {
     "name": "stderr",
     "output_type": "stream",
     "text": [
      "Loading through DICOM files:   8%|███████▊                                                                                      | 17/204 [00:01<00:18, 10.13it/s]"
     ]
    },
    {
     "name": "stdout",
     "output_type": "stream",
     "text": [
      "Loading from /home/lam3654/MSAI_pneumonitis/data/BATCH 1/NU_0049/2017-12__Studies/NU.0049_NU.0049_RTPLAN_2017-12-24_145132_SBRT.Lung.planning_NU.0049_n1__00000\n",
      "Loading from /home/lam3654/MSAI_pneumonitis/data/BATCH 1/NU_0067/2012-08__Studies/NU.0067_NU.0067_CT_2012-08-26_125240_RUL.SBRT.planning.scan.w..bellows_NU.0067_n195__00000\n"
     ]
    },
    {
     "name": "stderr",
     "output_type": "stream",
     "text": [
      "Loading through DICOM files:  11%|██████████▌                                                                                   | 23/204 [00:01<00:22,  8.01it/s]"
     ]
    },
    {
     "name": "stdout",
     "output_type": "stream",
     "text": [
      "Loading from /home/lam3654/MSAI_pneumonitis/data/BATCH 1/NU_0067/2012-08__Studies/NU.0067_NU.0067_RTPLAN_2012-08-26_125240_RUL.SBRT.planning.scan.w..bellows_NU.0067_n1__00000\n",
      "Loading from /home/lam3654/MSAI_pneumonitis/data/BATCH 1/NU_0067/2012-08__Studies/NU.0067_NU.0067_RTst_2012-08-26_125240_RUL.SBRT.planning.scan.w..bellows_AY_n1__00000\n",
      "Loading from /home/lam3654/MSAI_pneumonitis/data/BATCH 1/NU_0067/2012-08__Studies/NU.0067_NU.0067_RTDOSE_2012-08-26_125240_RUL.SBRT.planning.scan.w..bellows_NU.0067_n1__00000\n",
      "Loading from /home/lam3654/MSAI_pneumonitis/data/BATCH 1/ANON_0021/2018-07__Studies/ANON.0021_ANON.0021_RTPLAN_2018-07-09_160712_MinIP.SBRT.lung.planning_._n1__00000\n",
      "Loading from /home/lam3654/MSAI_pneumonitis/data/BATCH 1/ANON_0021/2018-07__Studies/ANON.0021_ANON.0021_RTDOSE_2018-07-09_160712_MinIP.SBRT.lung.planning_._n1__00000\n",
      "Loading from /home/lam3654/MSAI_pneumonitis/data/BATCH 1/ANON_0021/2018-07__Studies/ANON.0021_ANON.0021_CT_2018-07-09_160712_SBRT.lung.planning_._n113__00000\n"
     ]
    },
    {
     "name": "stderr",
     "output_type": "stream",
     "text": [
      "Loading through DICOM files:  13%|███████████▉                                                                                  | 26/204 [00:02<00:18,  9.49it/s]"
     ]
    },
    {
     "name": "stdout",
     "output_type": "stream",
     "text": [
      "Loading from /home/lam3654/MSAI_pneumonitis/data/BATCH 1/NU_0020/2018-07__Studies/NU.0020_NU.0020_RTDOSE_2018-07-10_145219_SBRT.planning_NU.0020_n1__00000\n",
      "Loading from /home/lam3654/MSAI_pneumonitis/data/BATCH 1/NU_0020/2018-07__Studies/NU.0020_NU.0020_RTst_2018-07-10_145219_SBRT.planning_AY_n1__00000\n",
      "Loading from /home/lam3654/MSAI_pneumonitis/data/BATCH 1/ANON_0021/2018-07__Studies/ANON.0021_ANON.0021_RTst_2018-07-09_160712_SBRT.lung.planning_AY_n1__00000\n"
     ]
    },
    {
     "name": "stderr",
     "output_type": "stream",
     "text": [
      "Loading through DICOM files:  17%|███████████████▋                                                                              | 34/204 [00:02<00:16, 10.21it/s]"
     ]
    },
    {
     "name": "stdout",
     "output_type": "stream",
     "text": [
      "Loading from /home/lam3654/MSAI_pneumonitis/data/BATCH 1/NU_0020/2018-07__Studies/NU.0020_NU.0020_CT_2018-07-10_145219_SBRT.planning_NU.0020_n156__00000\n",
      "Loading from /home/lam3654/MSAI_pneumonitis/data/BATCH 1/NU_0003/2018-06__Studies/NU.0003_NU.0003_CT_2018-06-01_135234_SBRT.lung.planning.scan_NU.0003_n169__00000\n",
      "Loading from /home/lam3654/MSAI_pneumonitis/data/BATCH 1/NU_0020/2018-07__Studies/NU.0020_NU.0020_RTPLAN_2018-07-10_145219_SBRT.planning_NU.0020_n1__00000\n",
      "Loading from /home/lam3654/MSAI_pneumonitis/data/BATCH 1/NU_0003/2018-06__Studies/NU.0003_NU.0003_RTst_2018-06-01_135234_SBRT.lung.planning.scan_AY_n1__00000\n",
      "Loading from /home/lam3654/MSAI_pneumonitis/data/BATCH 1/NU_0003/2018-06__Studies/NU.0003_NU.0003_RTDOSE_2018-06-01_135234_SBRT.lung.planning.scan_Coron_n1__00000\n",
      "Loading from /home/lam3654/MSAI_pneumonitis/data/BATCH 1/NU_0003/2018-06__Studies/NU.0003_NU.0003_RTPLAN_2018-06-01_135234_SBRT.lung.planning.scan_NU.0003_n1__00000\n",
      "Loading from /home/lam3654/MSAI_pneumonitis/data/BATCH 1/NU_0012A/2019-04__Studies/NU.0012C_NU.0012C_CT_2019-04-11_095832_SBRT.Lung.Planning.Scan_NU.0012C_n180__00000\n",
      "Had an error loading /home/lam3654/MSAI_pneumonitis/data/BATCH 1/NU_0037/2012-09__Studies/NU.0037_NU.0037_RTPLAN_2012-09-12_091234_SBRT.planning.bellows_NU.0037_n1__00000/2.16.840.1.114362.1.11940992.22933840372.569048464.189.8906.dcm\n",
      "Loading from /home/lam3654/MSAI_pneumonitis/data/BATCH 1/NU_0012A/2019-04__Studies/NU.0012C_NU.0012C_RTst_2019-04-11_095832_SBRT.Lung.Planning.Scan_AY.0012A_n1__00000\n",
      "Loading from /home/lam3654/MSAI_pneumonitis/data/BATCH 1/NU_0012A/2019-04__Studies/NU.0012C_NU.0012C_RTPLAN_2019-04-11_095832_MinIP.SBRT.Lung.Planning.Scan_NU.0012C_n1__00000\n"
     ]
    },
    {
     "name": "stderr",
     "output_type": "stream",
     "text": [
      "Loading through DICOM files:  18%|█████████████████                                                                             | 37/204 [00:03<00:26,  6.31it/s]"
     ]
    },
    {
     "name": "stdout",
     "output_type": "stream",
     "text": [
      "Loading from /home/lam3654/MSAI_pneumonitis/data/BATCH 1/NU_0012A/2019-04__Studies/NU.0012C_NU.0012C_RTDOSE_2019-04-11_095832_MinIP.SBRT.Lung.Planning.Scan_NU.0012C_n1__00000Had an error loading /home/lam3654/MSAI_pneumonitis/data/BATCH 1/NU_0062/2012-09__Studies/NU.0062_NU.0062_RTPLAN_2012-09-23_092750_SBRT.Lung.Plan_NU.0062_n1__00000/2.16.840.1.114362.1.11940992.22933840372.569052816.114.2423.dcm\n",
      "\n",
      "Loading from /home/lam3654/MSAI_pneumonitis/data/BATCH 1/NU_0042/2010-02__Studies/NU.0042_NU.0042_CT_2010-02-07_103323_SBRT.Lung.Planning_NU.0042_n217__00000\n",
      "Had an error loading /home/lam3654/MSAI_pneumonitis/data/BATCH 1/NU_0038/2012-03__Studies/NU.0038_NU.0038_RTPLAN_2012-03-05_113831_SBRT.Planning.Scan_NU.0038_n1__00000/2.16.840.1.114362.1.11940992.22933840372.569048378.424.3253.dcm\n"
     ]
    },
    {
     "name": "stderr",
     "output_type": "stream",
     "text": [
      "Loading through DICOM files:  20%|██████████████████▍                                                                           | 40/204 [00:03<00:26,  6.09it/s]"
     ]
    },
    {
     "name": "stdout",
     "output_type": "stream",
     "text": [
      "Loading from /home/lam3654/MSAI_pneumonitis/data/BATCH 1/NU_0042/2010-02__Studies/NU.0042_NU.0042_RTDOSE_2010-02-07_103323_SBRT.Lung.Planning_NU.0042_n1__00000\n",
      "Loading from /home/lam3654/MSAI_pneumonitis/data/BATCH 1/NU_0042/2010-02__Studies/NU.0042_NU.0042_RTst_2010-02-07_103323_SBRT.Lung.Planning_AY_n1__00000\n",
      "Loading from /home/lam3654/MSAI_pneumonitis/data/BATCH 1/NU_0042/2010-02__Studies/NU.0042_NU.0042_RTPLAN_2010-02-07_103323_SBRT.Lung.Planning_NU.0042_n1__00000\n",
      "Loading from /home/lam3654/MSAI_pneumonitis/data/BATCH 1/NU_0007/2018-08__Studies/NU.0007_NU.0007_RTDOSE_2018-08-27_133110_SBRT.Plan.and.Bellows_NU.0007_n1__00000\n"
     ]
    },
    {
     "name": "stderr",
     "output_type": "stream",
     "text": [
      "Loading through DICOM files:  21%|███████████████████▎                                                                          | 42/204 [00:04<00:34,  4.68it/s]"
     ]
    },
    {
     "name": "stdout",
     "output_type": "stream",
     "text": [
      "Loading from /home/lam3654/MSAI_pneumonitis/data/BATCH 1/NU_0007/2018-08__Studies/NU.0007_NU.0007_RTPLAN_2018-08-27_133110_SBRT.Plan.and.Bellows_NU.0007_n1__00000\n"
     ]
    },
    {
     "name": "stderr",
     "output_type": "stream",
     "text": [
      "Loading through DICOM files:  22%|████████████████████▎                                                                         | 44/204 [00:04<00:24,  6.57it/s]"
     ]
    },
    {
     "name": "stdout",
     "output_type": "stream",
     "text": [
      "Loading from /home/lam3654/MSAI_pneumonitis/data/BATCH 1/NU_0007/2018-08__Studies/NU.0007_NU.0007_CT_2018-08-27_133110_SBRT.Plan.and.Bellows_NU.0007_n165__00000Had an error loading /home/lam3654/MSAI_pneumonitis/data/BATCH 1/NU_0026/2018-07__Studies/NU.0026_NU.0026_RTPLAN_2018-07-13_153554_MInIP.SBRT.chest.plan.and.bellows_NU.0026_n1__00000/2.16.840.1.114362.1.11940992.22933840372.569049523.577.8684.dcm\n",
      "\n",
      "Had an error loading /home/lam3654/MSAI_pneumonitis/data/BATCH 1/NU_0239/2017-08__Studies/NU.0239_NU.0239_RTPLAN_2017-08-01_093310_SBRT.Lung_._n1__00000/2.16.840.1.114362.1.12046989.24327927514.609546435.590.354.dcm\n",
      "Loading from /home/lam3654/MSAI_pneumonitis/data/BATCH 1/NU_0032/2010-09__Studies/NU.0032_NU.0032_RTDOSE_2010-09-14_101742_SBRT.Lung.Planning_NU.0032_n1__00000\n",
      "Had an error loading /home/lam3654/MSAI_pneumonitis/data/BATCH 1/NU_0015/2018-08__Studies/NU.0015_NU.0015_RTPLAN_2018-08-25_111034_SBRT.Chest.planning_NU.0015_n1__00000/2.16.840.1.114362.1.11940992.22933840372.569052960.1004.6977.dcm\n",
      "Loading from /home/lam3654/MSAI_pneumonitis/data/BATCH 1/NU_0007/2018-08__Studies/NU.0007_NU.0007_RTst_2018-08-27_133110_SBRT.Plan.and.Bellows_AY_n1__00000\n",
      "Loading from /home/lam3654/MSAI_pneumonitis/data/BATCH 1/NU_0032/2010-09__Studies/NU.0032_NU.0032_CT_2010-09-14_101742_SBRT.Lung.Planning_NU.0032_n153__00000\n",
      "Loading from /home/lam3654/MSAI_pneumonitis/data/BATCH 1/NU_0032/2010-09__Studies/NU.0032_NU.0032_RTPLAN_2010-09-14_101742_SBRT.Lung.Planning_NU.0032_n1__00000\n",
      "Loading from /home/lam3654/MSAI_pneumonitis/data/BATCH 1/NU_0032/2010-09__Studies/NU.0032_NU.0032_RTst_2010-09-14_101742_SBRT.Lung.Planning_AY_n1__00000\n"
     ]
    },
    {
     "name": "stderr",
     "output_type": "stream",
     "text": [
      "Loading through DICOM files:  25%|███████████████████████                                                                       | 50/204 [00:04<00:20,  7.67it/s]"
     ]
    },
    {
     "name": "stdout",
     "output_type": "stream",
     "text": [
      "Had an error loading /home/lam3654/MSAI_pneumonitis/data/BATCH 1/NU_0004/2016-07__Studies/NU.0004_NU.0004_RTPLAN_2016-07-03_145128_SBRT.Lung.planning_NU.0004_n1__00000/2.16.840.1.114362.1.11940992.22933840372.569051611.481.7904.dcm\n",
      "Had an error loading /home/lam3654/MSAI_pneumonitis/data/BATCH 1/NU_0044/2016-08__Studies/NU.0044_NU.0044_RTPLAN_2016-08-12_091943_SBRT.RLL.PLANNING_NU.0044_n1__00000/2.16.840.1.114362.1.11940992.22933840372.569056857.729.6663.dcm\n",
      "Loading from /home/lam3654/MSAI_pneumonitis/data/BATCH 1/NU_0018/2018-07__Studies/NU.0018_NU.0018_RTst_2018-07-11_125322_sbrt.lung.planning_AY_n1__00000\n",
      "Had an error loading /home/lam3654/MSAI_pneumonitis/data/BATCH 1/NU_0040/2019-05__Studies/NU.0040_NU.0040_RTPLAN_2019-05-22_143029_SBRT.LUL.Planning_NU.0040_n1__00000/2.16.840.1.114362.1.11940992.24327927514.584242565.183.1320.dcm\n",
      "Loading from /home/lam3654/MSAI_pneumonitis/data/BATCH 1/NU_0018/2018-07__Studies/NU.0018_NU.0018_RTDOSE_2018-07-11_125322_sbrt.lung.planning_._n1__00000\n"
     ]
    },
    {
     "name": "stderr",
     "output_type": "stream",
     "text": [
      "Loading through DICOM files:  26%|████████████████████████▉                                                                     | 54/204 [00:05<00:15,  9.57it/s]"
     ]
    },
    {
     "name": "stdout",
     "output_type": "stream",
     "text": [
      "Loading from /home/lam3654/MSAI_pneumonitis/data/BATCH 1/NU_0018/2018-07__Studies/NU.0018_NU.0018_CT_2018-07-11_125322_sbrt.lung.planning_._n151__00000\n",
      "Loading from /home/lam3654/MSAI_pneumonitis/data/BATCH 1/NU_0018/2018-07__Studies/NU.0018_NU.0018_RTPLAN_2018-07-11_125322_sbrt.lung.planning_._n1__00000\n",
      "Had an error loading /home/lam3654/MSAI_pneumonitis/data/BATCH 1/NU_0019/2018-07__Studies/NU.0019_NU.0019_RTPLAN_2018-07-11_162227_sbrt.lung.planning_NU.0019_n1__00000/2.16.840.1.114362.1.11940992.24327927514.584609494.501.403.dcm\n",
      "Had an error loading /home/lam3654/MSAI_pneumonitis/data/BATCH 1/NU_0055/2016-04__Studies/NU.0055_NU.0055_RTPLAN_2016-04-18_135434_SBRT.lung.planning_NU.0055_n1__00000/2.16.840.1.114362.1.11940992.22933840372.569051027.554.635.dcm\n",
      "Loading from /home/lam3654/MSAI_pneumonitis/data/BATCH 1/NU_0043/2018-08__Studies/NU.0043_NU.0043_RTst_2018-08-20_085659_SBRT.Planning.Scan_AY_n1__00000\n",
      "Loading from /home/lam3654/MSAI_pneumonitis/data/BATCH 1/NU_0043/2018-08__Studies/NU.0043_NU.0043_CT_2018-08-20_085659_SBRT.Planning.Scan_NU.0043_n160__00000\n"
     ]
    },
    {
     "name": "stderr",
     "output_type": "stream",
     "text": [
      "Loading through DICOM files:  29%|███████████████████████████▏                                                                  | 59/204 [00:05<00:13, 10.58it/s]"
     ]
    },
    {
     "name": "stdout",
     "output_type": "stream",
     "text": [
      "Loading from /home/lam3654/MSAI_pneumonitis/data/BATCH 1/NU_0043/2018-08__Studies/NU.0043_NU.0043_RTPLAN_2018-08-20_085659_SBRT.Planning.Scan_NU.0043_n1__00000\n",
      "Loading from /home/lam3654/MSAI_pneumonitis/data/BATCH 1/NU_0043/2018-08__Studies/NU.0043_NU.0043_RTDOSE_2018-08-20_085659_SBRT.Planning.Scan_NU.0043_n1__00000\n",
      "Had an error loading /home/lam3654/MSAI_pneumonitis/data/BATCH 1/NU_0067/2012-08__Studies/NU.0067_NU.0067_RTPLAN_2012-08-26_125240_RUL.SBRT.planning.scan.w..bellows_NU.0067_n1__00000/2.16.840.1.114362.1.11940992.22933840372.569053028.436.1055.dcm\n",
      "Had an error loading /home/lam3654/MSAI_pneumonitis/data/BATCH 1/NU_0011/2019-06__Studies/NU.0011_NU.0011_RTPLAN_2019-06-11_160923_MinIP.SBRT.Planning.Scan_._n1__00000/2.16.840.1.114362.1.11940992.24327927514.584240850.1027.478.dcm\n",
      "Loading from /home/lam3654/MSAI_pneumonitis/data/BATCH 1/NU_0036/2010-10__Studies/NU.0036_NU.0036_RTDOSE_2010-10-20_100815_SBRT.Right.Lung.Plan_NU.0036_n1__00000\n",
      "Loading from /home/lam3654/MSAI_pneumonitis/data/BATCH 1/NU_0036/2010-10__Studies/NU.0036_NU.0036_CT_2010-10-20_100815_SBRT.Right.Lung.Plan_NU.0036_n165__00000\n",
      "Loading from /home/lam3654/MSAI_pneumonitis/data/BATCH 1/NU_0036/2010-10__Studies/NU.0036_NU.0036_RTst_2010-10-20_100815_SBRT.Right.Lung.Plan_AY_n1__00000\n"
     ]
    },
    {
     "name": "stderr",
     "output_type": "stream",
     "text": [
      "Loading through DICOM files:  30%|████████████████████████████                                                                  | 61/204 [00:05<00:17,  8.11it/s]"
     ]
    },
    {
     "name": "stdout",
     "output_type": "stream",
     "text": [
      "Loading from /home/lam3654/MSAI_pneumonitis/data/BATCH 1/NU_0036/2010-10__Studies/NU.0036_NU.0036_RTPLAN_2010-10-20_100815_SBRT.Right.Lung.Plan_NU.0036_n1__00000Loading from /home/lam3654/MSAI_pneumonitis/data/BATCH 1/NU_0061/2018-05__Studies/NU.0061_NU.0061_RTPLAN_2018-05-15_103830_sbrt.lung.planning.bellows_NU.0061_n1__00000\n",
      "\n",
      "Had an error loading /home/lam3654/MSAI_pneumonitis/data/BATCH 1/NU_0066/2017-08__Studies/NU.0066_NU.0066_RTPLAN_2017-08-25_144014_R.Lung.SBRT.planning_NU.0066_n1__00000/2.16.840.1.114362.1.11940992.24327927514.584243478.990.1958.dcm\n",
      "Had an error loading /home/lam3654/MSAI_pneumonitis/data/BATCH 1/NU_0042/2010-02__Studies/NU.0042_NU.0042_RTPLAN_2010-02-07_103323_SBRT.Lung.Planning_NU.0042_n1__00000/2.16.840.1.114362.1.11940992.22933840372.569060004.554.2310.dcm\n"
     ]
    },
    {
     "name": "stderr",
     "output_type": "stream",
     "text": [
      "Loading through DICOM files:  31%|█████████████████████████████▍                                                                | 64/204 [00:06<00:15,  9.18it/s]"
     ]
    },
    {
     "name": "stdout",
     "output_type": "stream",
     "text": [
      "Had an error loading /home/lam3654/MSAI_pneumonitis/data/BATCH 1/NU_0033/2018-06__Studies/NU.0033_NU.0033_RTPLAN_2018-06-21_152956_sbrt.lung.planning.w.contrast_NU.0033_n1__00000/2.16.840.1.114362.1.11940992.24327927514.584242361.878.1154.dcm\n",
      "Loading from /home/lam3654/MSAI_pneumonitis/data/BATCH 1/NU_0061/2018-05__Studies/NU.0061_NU.0061_RTDOSE_2018-05-15_103830_sbrt.lung.planning.bellows_NU.0061_n1__00000\n",
      "Loading from /home/lam3654/MSAI_pneumonitis/data/BATCH 1/NU_0061/2018-05__Studies/NU.0061_NU.0061_RTst_2018-05-15_103830_sbrt.lung.planning.bellows_AY_n1__00000\n",
      "Loading from /home/lam3654/MSAI_pneumonitis/data/BATCH 1/NU_0061/2018-05__Studies/NU.0061_NU.0061_CT_2018-05-15_103830_sbrt.lung.planning.bellows_NU.0061_n144__00000\n",
      "Had an error loading /home/lam3654/MSAI_pneumonitis/data/BATCH 1/NU_0032/2010-09__Studies/NU.0032_NU.0032_RTPLAN_2010-09-14_101742_SBRT.Lung.Planning_NU.0032_n1__00000/2.16.840.1.114362.1.11940992.22933840372.569468540.891.2986.dcm\n"
     ]
    },
    {
     "name": "stderr",
     "output_type": "stream",
     "text": [
      "Loading through DICOM files:  33%|██████████████████████████████▊                                                               | 67/204 [00:06<00:17,  7.67it/s]"
     ]
    },
    {
     "name": "stdout",
     "output_type": "stream",
     "text": [
      "Loading from /home/lam3654/MSAI_pneumonitis/data/BATCH 1/NU_0004R/2019-03__Studies/NU.0004_NU.0004_CT_2019-03-02_105611_SBRT.Planning.Scan_NU.0004_n174__00000\n",
      "Loading from /home/lam3654/MSAI_pneumonitis/data/BATCH 1/NU_0004R/2019-03__Studies/NU.0004_NU.0004_RTst_2019-03-02_105611_SBRT.Planning.Scan_AY_n1__00000\n",
      "Loading from /home/lam3654/MSAI_pneumonitis/data/BATCH 1/NU_0004R/2019-03__Studies/NU.0004_NU.0004_RTPLAN_2019-03-02_105611_SBRT.Planning.Scan_NU.0004_n1__00000\n"
     ]
    },
    {
     "name": "stderr",
     "output_type": "stream",
     "text": [
      "Loading through DICOM files:  33%|███████████████████████████████▎                                                              | 68/204 [00:06<00:15,  9.03it/s]"
     ]
    },
    {
     "name": "stdout",
     "output_type": "stream",
     "text": [
      "Loading from /home/lam3654/MSAI_pneumonitis/data/BATCH 1/NU_0004R/2019-03__Studies/NU.0004_NU.0004_RTDOSE_2019-03-02_105611_SBRT.Planning.Scan_NU.0004_n1__00000\n",
      "Loading from /home/lam3654/MSAI_pneumonitis/data/BATCH 1/NU_0054/2016-02__Studies/NU.0054_NU.0054_RTst_2016-02-25_161010_L.Lung.SBRT.plan_AY_n1__00000\n",
      "Loading from /home/lam3654/MSAI_pneumonitis/data/BATCH 1/NU_0054/2016-02__Studies/NU.0054_NU.0054_RTPLAN_2016-02-25_161010_L.Lung.SBRT.plan_._n1__00000\n"
     ]
    },
    {
     "name": "stderr",
     "output_type": "stream",
     "text": [
      "Loading through DICOM files:  34%|████████████████████████████████▎                                                             | 70/204 [00:07<00:19,  7.00it/s]"
     ]
    },
    {
     "name": "stdout",
     "output_type": "stream",
     "text": [
      "Had an error loading /home/lam3654/MSAI_pneumonitis/data/BATCH 1/ANON_0021/2018-07__Studies/ANON.0021_ANON.0021_RTPLAN_2018-07-09_160712_MinIP.SBRT.lung.planning_._n1__00000/2.16.840.1.114362.1.12046989.25219549400.615947618.725.9510.dcmLoading from /home/lam3654/MSAI_pneumonitis/data/BATCH 1/NU_0054/2016-02__Studies/NU.0054_NU.0054_CT_2016-02-25_161010_L.Lung.SBRT.plan_._n171__00000\n",
      "\n",
      "Loading from /home/lam3654/MSAI_pneumonitis/data/BATCH 1/NU_0054/2016-02__Studies/NU.0054_NU.0054_RTDOSE_2016-02-25_161010_L.Lung.SBRT.plan_._n1__00000\n"
     ]
    },
    {
     "name": "stderr",
     "output_type": "stream",
     "text": [
      "Loading through DICOM files:  38%|███████████████████████████████████▍                                                          | 77/204 [00:07<00:09, 12.77it/s]"
     ]
    },
    {
     "name": "stdout",
     "output_type": "stream",
     "text": [
      "Loading from /home/lam3654/MSAI_pneumonitis/data/BATCH 1/NU_0065/2016-05__Studies/NU.0065_NU.0065_RTPLAN_2016-05-10_133801_sbrt.lung_NU.0065_n1__00000\n",
      "Had an error loading /home/lam3654/MSAI_pneumonitis/data/BATCH 1/NU_0012A/2019-04__Studies/NU.0012C_NU.0012C_RTPLAN_2019-04-11_095832_MinIP.SBRT.Lung.Planning.Scan_NU.0012C_n1__00000/2.16.840.1.114362.1.11940992.22933840372.569056651.949.553.dcm\n",
      "Loading from /home/lam3654/MSAI_pneumonitis/data/BATCH 1/NU_0065/2016-05__Studies/NU.0065_NU.0065_RTDOSE_2016-05-10_133801_sbrt.lung_NU.0065_n1__00000\n",
      "Loading from /home/lam3654/MSAI_pneumonitis/data/BATCH 1/NU_0065/2016-05__Studies/NU.0065_NU.0065_RTst_2016-05-10_133801_sbrt.lung_AY_n1__00000\n",
      "Had an error loading /home/lam3654/MSAI_pneumonitis/data/BATCH 1/NU_0036/2010-10__Studies/NU.0036_NU.0036_RTPLAN_2010-10-20_100815_SBRT.Right.Lung.Plan_NU.0036_n1__00000/2.16.840.1.114362.1.11940992.22933840372.569048418.186.6931.dcm\n",
      "Loading from /home/lam3654/MSAI_pneumonitis/data/BATCH 1/NU_0065/2016-05__Studies/NU.0065_NU.0065_CT_2016-05-10_133801_sbrt.lung_NU.0065_n149__00000\n",
      "Had an error loading /home/lam3654/MSAI_pneumonitis/data/BATCH 1/NU_0049/2017-12__Studies/NU.0049_NU.0049_RTPLAN_2017-12-24_145132_SBRT.Lung.planning_NU.0049_n1__00000/2.16.840.1.114362.1.11940992.22933840372.569059197.800.7175.dcm\n",
      "Loading from /home/lam3654/MSAI_pneumonitis/data/BATCH 1/NU_0048/2019-01__Studies/NU.0048_NU.0048_RTst_2019-01-06_133940_sbrt.lung.iso.Planning_AY_n1__00000\n",
      "Loading from /home/lam3654/MSAI_pneumonitis/data/BATCH 1/NU_0048/2019-01__Studies/NU.0048_NU.0048_RTPLAN_2019-01-06_133940_MinIP.sbrt.lung.iso.Planning_NU.0048_n1__00000\n"
     ]
    },
    {
     "name": "stderr",
     "output_type": "stream",
     "text": [
      "Loading through DICOM files:  39%|████████████████████████████████████▍                                                         | 79/204 [00:08<00:15,  7.89it/s]"
     ]
    },
    {
     "name": "stdout",
     "output_type": "stream",
     "text": [
      "Loading from /home/lam3654/MSAI_pneumonitis/data/BATCH 1/NU_0048/2019-01__Studies/NU.0048_NU.0048_CT_2019-01-06_133940_sbrt.lung.iso.Planning_NU.0048_n116__00000\n",
      "Had an error loading /home/lam3654/MSAI_pneumonitis/data/BATCH 1/NU_0020/2018-07__Studies/NU.0020_NU.0020_RTPLAN_2018-07-10_145219_SBRT.planning_NU.0020_n1__00000/2.16.840.1.114362.1.11940992.24327927514.584242176.1086.1008.dcm\n",
      "Had an error loading /home/lam3654/MSAI_pneumonitis/data/BATCH 1/NU_0003/2018-06__Studies/NU.0003_NU.0003_RTPLAN_2018-06-01_135234_SBRT.lung.planning.scan_NU.0003_n1__00000/2.16.840.1.114362.1.11940992.22933840372.569051724.879.4022.dcm\n"
     ]
    },
    {
     "name": "stderr",
     "output_type": "stream",
     "text": [
      "Loading through DICOM files:  40%|█████████████████████████████████████▊                                                        | 82/204 [00:08<00:21,  5.61it/s]"
     ]
    },
    {
     "name": "stdout",
     "output_type": "stream",
     "text": [
      "Loading from /home/lam3654/MSAI_pneumonitis/data/BATCH 1/NU_0048/2019-01__Studies/NU.0048_NU.0048_RTDOSE_2019-01-06_133940_MinIP.sbrt.lung.iso.Planning_NU.0048_n1__00000\n",
      "Loading from /home/lam3654/MSAI_pneumonitis/data/BATCH 1/NU_0059/2015-12__Studies/NU.0059_NU.0059_CT_2015-12-17_094629_LUL-Planning_NU.0059_n157__00000\n",
      "Loading from /home/lam3654/MSAI_pneumonitis/data/BATCH 1/NU_0059/2015-12__Studies/NU.0059_NU.0059_RTst_2015-12-17_094629_LUL-Planning_AY_n1__00000\n"
     ]
    },
    {
     "name": "stderr",
     "output_type": "stream",
     "text": [
      "Loading through DICOM files:  41%|██████████████████████████████████████▏                                                       | 83/204 [00:08<00:21,  5.67it/s]"
     ]
    },
    {
     "name": "stdout",
     "output_type": "stream",
     "text": [
      "Loading from /home/lam3654/MSAI_pneumonitis/data/BATCH 1/NU_0059/2015-12__Studies/NU.0059_NU.0059_RTDOSE_2015-12-17_094629_LUL-Planning_NU.0059_n1__00000\n",
      "Loading from /home/lam3654/MSAI_pneumonitis/data/BATCH 1/NU_0059/2015-12__Studies/NU.0059_NU.0059_RTPLAN_2015-12-17_094629_LUL-Planning_NU.0059_n1__00000\n"
     ]
    },
    {
     "name": "stderr",
     "output_type": "stream",
     "text": [
      "Loading through DICOM files:  43%|████████████████████████████████████████                                                      | 87/204 [00:09<00:24,  4.81it/s]"
     ]
    },
    {
     "name": "stdout",
     "output_type": "stream",
     "text": [
      "Loading from /home/lam3654/MSAI_pneumonitis/data/BATCH 1/NU_0001/2018-10__Studies/NU.0001_NU.0001_RTDOSE_2018-10-08_144305_SBRT.Planning_NU.0001_n1__00000Loading from /home/lam3654/MSAI_pneumonitis/data/BATCH 1/NU_0001/2018-10__Studies/NU.0001_NU.0001_CT_2018-10-08_144305_SBRT.Planning_NU.0001_n172__00000\n",
      "\n",
      "Loading from /home/lam3654/MSAI_pneumonitis/data/BATCH 1/NU_0001/2018-10__Studies/NU.0001_NU.0001_RTst_2018-10-08_144305_SBRT.Planning_AY_n1__00000\n",
      "Had an error loading /home/lam3654/MSAI_pneumonitis/data/BATCH 1/NU_0043/2018-08__Studies/NU.0043_NU.0043_RTPLAN_2018-08-20_085659_SBRT.Planning.Scan_NU.0043_n1__00000/2.16.840.1.114362.1.11940992.22933840372.569048660.834.5222.dcm\n",
      "Loading from /home/lam3654/MSAI_pneumonitis/data/BATCH 1/NU_0001/2018-10__Studies/NU.0001_NU.0001_RTPLAN_2018-10-08_144305_SBRT.Planning_NU.0001_n1__00000\n"
     ]
    },
    {
     "name": "stderr",
     "output_type": "stream",
     "text": [
      "Loading through DICOM files:  44%|█████████████████████████████████████████▍                                                    | 90/204 [00:09<00:23,  4.95it/s]"
     ]
    },
    {
     "name": "stdout",
     "output_type": "stream",
     "text": [
      "Loading from /home/lam3654/MSAI_pneumonitis/data/BATCH 1/NU_0005/2018-08__Studies/NU.0005_NU.0005_RTst_2018-08-29_144651_SBRT.LUL.Plan.Scan.and.Bellows_AY_n1__00000\n",
      "Loading from /home/lam3654/MSAI_pneumonitis/data/BATCH 1/NU_0005/2018-08__Studies/NU.0005_NU.0005_RTDOSE_2018-08-29_144651_SBRT.LUL.Plan.Scan.and.Bellows_._n1__00000\n",
      "Had an error loading /home/lam3654/MSAI_pneumonitis/data/BATCH 1/NU_0018/2018-07__Studies/NU.0018_NU.0018_RTPLAN_2018-07-11_125322_sbrt.lung.planning_._n1__00000/2.16.840.1.114362.1.11940992.24327927514.584241430.895.839.dcm\n"
     ]
    },
    {
     "name": "stderr",
     "output_type": "stream",
     "text": [
      "Loading through DICOM files:  45%|█████████████████████████████████████████▉                                                    | 91/204 [00:10<00:27,  4.18it/s]"
     ]
    },
    {
     "name": "stdout",
     "output_type": "stream",
     "text": [
      "Loading from /home/lam3654/MSAI_pneumonitis/data/BATCH 1/NU_0005/2018-08__Studies/NU.0005_NU.0005_RTPLAN_2018-08-29_144651_SBRT.LUL.Plan.Scan.and.Bellows_._n1__00000\n",
      "Loading from /home/lam3654/MSAI_pneumonitis/data/BATCH 1/NU_0005/2018-08__Studies/NU.0005_NU.0005_CT_2018-08-29_144651_SBRT.LUL.Plan.Scan.and.Bellows_._n187__00000\n"
     ]
    },
    {
     "name": "stderr",
     "output_type": "stream",
     "text": [
      "Loading through DICOM files:  46%|██████████████████████████████████████████▊                                                   | 93/204 [00:11<00:33,  3.33it/s]"
     ]
    },
    {
     "name": "stdout",
     "output_type": "stream",
     "text": [
      "Had an error loading /home/lam3654/MSAI_pneumonitis/data/BATCH 1/NU_0061/2018-05__Studies/NU.0061_NU.0061_RTPLAN_2018-05-15_103830_sbrt.lung.planning.bellows_NU.0061_n1__00000/2.16.840.1.114362.1.11940992.24327927514.584243033.865.1644.dcm\n",
      "Had an error loading /home/lam3654/MSAI_pneumonitis/data/BATCH 1/NU_0007/2018-08__Studies/NU.0007_NU.0007_RTPLAN_2018-08-27_133110_SBRT.Plan.and.Bellows_NU.0007_n1__00000/2.16.840.1.114362.1.11940992.22933840372.569056098.532.3477.dcm\n",
      "Loading from /home/lam3654/MSAI_pneumonitis/data/BATCH 1/NU_0030/2018-10__Studies/NU.0030_NU.0030_RTst_2018-10-02_150021_SBRT.Chest.Planning.Scan_AY_n1__00000\n",
      "Loading from /home/lam3654/MSAI_pneumonitis/data/BATCH 1/NU_0030/2018-10__Studies/NU.0030_NU.0030_RTPLAN_2018-10-02_150021_MinIP.SBRT.Chest.Planning.Scan_NU.0030_n1__00000\n"
     ]
    },
    {
     "name": "stderr",
     "output_type": "stream",
     "text": [
      "Loading through DICOM files:  47%|███████████████████████████████████████████▊                                                  | 95/204 [00:11<00:31,  3.48it/s]"
     ]
    },
    {
     "name": "stdout",
     "output_type": "stream",
     "text": [
      "Had an error loading /home/lam3654/MSAI_pneumonitis/data/BATCH 1/NU_0004R/2019-03__Studies/NU.0004_NU.0004_RTPLAN_2019-03-02_105611_SBRT.Planning.Scan_NU.0004_n1__00000/2.16.840.1.114362.1.11940992.22933840372.569051611.962.7907.dcm\n",
      "Loading from /home/lam3654/MSAI_pneumonitis/data/BATCH 1/NU_0030/2018-10__Studies/NU.0030_NU.0030_CT_2018-10-02_150021_SBRT.Chest.Planning.Scan_NU.0030_n142__00000\n",
      "Loading from /home/lam3654/MSAI_pneumonitis/data/BATCH 1/NU_0030/2018-10__Studies/NU.0030_NU.0030_RTDOSE_2018-10-02_150021_MinIP.SBRT.Chest.Planning.Scan_NU.0030_n1__00000\n"
     ]
    },
    {
     "name": "stderr",
     "output_type": "stream",
     "text": [
      "Loading through DICOM files:  48%|████████████████████████████████████████████▋                                                 | 97/204 [00:12<00:34,  3.08it/s]"
     ]
    },
    {
     "name": "stdout",
     "output_type": "stream",
     "text": [
      "Loading from /home/lam3654/MSAI_pneumonitis/data/BATCH 1/NU_0023/2018-08__Studies/NU.0023_NU.0023_CT_2018-08-03_144220_sbrt.lung.planning_NU.0023_n183__00000\n"
     ]
    },
    {
     "name": "stderr",
     "output_type": "stream",
     "text": [
      "Loading through DICOM files:  49%|█████████████████████████████████████████████▌                                                | 99/204 [00:12<00:26,  4.02it/s]"
     ]
    },
    {
     "name": "stdout",
     "output_type": "stream",
     "text": [
      "Loading from /home/lam3654/MSAI_pneumonitis/data/BATCH 1/NU_0023/2018-08__Studies/NU.0023_NU.0023_RTst_2018-08-03_144220_sbrt.lung.planning_AY_n1__00000\n",
      "Loading from /home/lam3654/MSAI_pneumonitis/data/BATCH 1/NU_0023/2018-08__Studies/NU.0023_NU.0023_RTDOSE_2018-08-03_144220_MinIP.sbrt.lung.planning_NU.0023_n1__00000\n",
      "Had an error loading /home/lam3654/MSAI_pneumonitis/data/BATCH 1/NU_0048/2019-01__Studies/NU.0048_NU.0048_RTPLAN_2019-01-06_133940_MinIP.sbrt.lung.iso.Planning_NU.0048_n1__00000/2.16.840.1.114362.1.11940992.22933840372.569461427.807.6079.dcm\n"
     ]
    },
    {
     "name": "stderr",
     "output_type": "stream",
     "text": [
      "Loading through DICOM files:  49%|█████████████████████████████████████████████▌                                               | 100/204 [00:12<00:17,  5.83it/s]"
     ]
    },
    {
     "name": "stdout",
     "output_type": "stream",
     "text": [
      "Had an error loading /home/lam3654/MSAI_pneumonitis/data/BATCH 1/NU_0065/2016-05__Studies/NU.0065_NU.0065_RTPLAN_2016-05-10_133801_sbrt.lung_NU.0065_n1__00000/2.16.840.1.114362.1.11940992.24327927514.584243432.204.1804.dcm\n",
      "Loading from /home/lam3654/MSAI_pneumonitis/data/BATCH 1/NU_0023/2018-08__Studies/NU.0023_NU.0023_RTPLAN_2018-08-03_144220_MinIP.sbrt.lung.planning_NU.0023_n1__00000\n",
      "Loading from /home/lam3654/MSAI_pneumonitis/data/BATCH 1/NU_0041/2013-10__Studies/NU.0041_NU.0041_RTst_2013-10-29_091902_SBRT.LLL.Plan_AY_n1__00000\n"
     ]
    },
    {
     "name": "stderr",
     "output_type": "stream",
     "text": [
      "Loading through DICOM files:  50%|██████████████████████████████████████████████▌                                              | 102/204 [00:13<00:21,  4.67it/s]"
     ]
    },
    {
     "name": "stdout",
     "output_type": "stream",
     "text": [
      "Loading from /home/lam3654/MSAI_pneumonitis/data/BATCH 1/NU_0041/2013-10__Studies/NU.0041_NU.0041_CT_2013-10-29_091902_SBRT.LLL.Plan_NU.0041_n213__00000\n",
      "Had an error loading /home/lam3654/MSAI_pneumonitis/data/BATCH 1/NU_0054/2016-02__Studies/NU.0054_NU.0054_RTPLAN_2016-02-25_161010_L.Lung.SBRT.plan_._n1__00000/2.16.840.1.114362.1.12046989.25391989775.615975847.169.1214.dcm\n",
      "Loading from /home/lam3654/MSAI_pneumonitis/data/BATCH 1/NU_0041/2013-10__Studies/NU.0041_NU.0041_RTDOSE_2013-10-29_091902_SBRT.LLL.Plan_NU.0041_n1__00000\n"
     ]
    },
    {
     "name": "stderr",
     "output_type": "stream",
     "text": [
      "Loading through DICOM files:  51%|███████████████████████████████████████████████▍                                             | 104/204 [00:14<00:24,  4.15it/s]"
     ]
    },
    {
     "name": "stdout",
     "output_type": "stream",
     "text": [
      "Loading from /home/lam3654/MSAI_pneumonitis/data/BATCH 1/NU_0041/2013-10__Studies/NU.0041_NU.0041_RTPLAN_2013-10-29_091902_SBRT.LLL.Plan_NU.0041_n1__00000\n",
      "Loading from /home/lam3654/MSAI_pneumonitis/data/BATCH 1/NU_0006/2018-07__Studies/NU.0006_NU.0006_RTst_2018-07-17_141739_SBRT.lung.Planning.Scan_AY_n1__00000\n"
     ]
    },
    {
     "name": "stderr",
     "output_type": "stream",
     "text": [
      "Loading through DICOM files:  51%|███████████████████████████████████████████████▊                                             | 105/204 [00:14<00:32,  3.08it/s]"
     ]
    },
    {
     "name": "stdout",
     "output_type": "stream",
     "text": [
      "Had an error loading /home/lam3654/MSAI_pneumonitis/data/BATCH 1/NU_0059/2015-12__Studies/NU.0059_NU.0059_RTPLAN_2015-12-17_094629_LUL-Planning_NU.0059_n1__00000/2.16.840.1.114362.1.11940992.24327927514.584242873.368.1488.dcm\n",
      "Loading from /home/lam3654/MSAI_pneumonitis/data/BATCH 1/NU_0006/2018-07__Studies/NU.0006_NU.0006_CT_2018-07-17_141739_SBRT.lung.Planning.Scan_NU.0006_n143__00000\n"
     ]
    },
    {
     "name": "stderr",
     "output_type": "stream",
     "text": [
      "Loading through DICOM files:  52%|████████████████████████████████████████████████▎                                            | 106/204 [00:15<00:38,  2.58it/s]"
     ]
    },
    {
     "name": "stdout",
     "output_type": "stream",
     "text": [
      "Loading from /home/lam3654/MSAI_pneumonitis/data/BATCH 1/NU_0006/2018-07__Studies/NU.0006_NU.0006_RTPLAN_2018-07-17_141739_MInIP.SBRT.lung.Bellows.Scan_NU.0006_n1__00000\n"
     ]
    },
    {
     "name": "stderr",
     "output_type": "stream",
     "text": [
      "Loading through DICOM files:  52%|████████████████████████████████████████████████▊                                            | 107/204 [00:15<00:36,  2.67it/s]"
     ]
    },
    {
     "name": "stdout",
     "output_type": "stream",
     "text": [
      "Had an error loading /home/lam3654/MSAI_pneumonitis/data/BATCH 1/NU_0005/2018-08__Studies/NU.0005_NU.0005_RTPLAN_2018-08-29_144651_SBRT.LUL.Plan.Scan.and.Bellows_._n1__00000/2.16.840.1.114362.1.12046989.25391989775.615974270.1010.1.dcm\n",
      "Loading from /home/lam3654/MSAI_pneumonitis/data/BATCH 1/NU_0006/2018-07__Studies/NU.0006_NU.0006_RTDOSE_2018-07-17_141739_MInIP.SBRT.lung.Bellows.Scan_NU.0006_n1__00000\n",
      "Had an error loading /home/lam3654/MSAI_pneumonitis/data/BATCH 1/NU_0030/2018-10__Studies/NU.0030_NU.0030_RTPLAN_2018-10-02_150021_MinIP.SBRT.Chest.Planning.Scan_NU.0030_n1__00000/2.16.840.1.114362.1.11940992.22933840372.569057948.717.549.dcm\n"
     ]
    },
    {
     "name": "stderr",
     "output_type": "stream",
     "text": [
      "Loading through DICOM files:  53%|█████████████████████████████████████████████████▋                                           | 109/204 [00:16<00:33,  2.87it/s]"
     ]
    },
    {
     "name": "stdout",
     "output_type": "stream",
     "text": [
      "Loading from /home/lam3654/MSAI_pneumonitis/data/BATCH 1/NU_0034/2012-08__Studies/NU.0034_NU.0034_RTst_2012-08-30_110406_SBRT.planning.+.bellows_AY_n1__00000\n",
      "Loading from /home/lam3654/MSAI_pneumonitis/data/BATCH 1/NU_0034/2012-08__Studies/NU.0034_NU.0034_RTDOSE_2012-08-30_110406_SBRT.planning.+.bellows_NU.0034_n1__00000\n",
      "Loading from /home/lam3654/MSAI_pneumonitis/data/BATCH 1/NU_0034/2012-08__Studies/NU.0034_NU.0034_CT_2012-08-30_110406_SBRT.planning.+.bellows_NU.0034_n148__00000\n",
      "Had an error loading /home/lam3654/MSAI_pneumonitis/data/BATCH 1/NU_0001/2018-10__Studies/NU.0001_NU.0001_RTPLAN_2018-10-08_144305_SBRT.Planning_NU.0001_n1__00000/2.16.840.1.114362.1.11940992.22933840372.569057282.346.7761.dcm\n",
      "Loading from /home/lam3654/MSAI_pneumonitis/data/BATCH 1/NU_0034/2012-08__Studies/NU.0034_NU.0034_CT_2012-08-30_110406_SBRT.planning.+.bellows_NU.0034_n148__00000\n",
      "Had an error loading /home/lam3654/MSAI_pneumonitis/data/BATCH 1/NU_0001/2018-10__Studies/NU.0001_NU.0001_RTPLAN_2018-10-08_144305_SBRT.Planning_NU.0001_n1__00000/2.16.840.1.114362.1.11940992.22933840372.569057282.346.7761.dcm\n"
     ]
    }
   ],
   "source": [
    "\n",
    "\n",
    "Dicom_right_reader = DicomReaderWriter(description='Examples', arg_max=True)\n",
    "Dicom_right_reader.walk_through_folders(Dicom_path) # This will parse through all DICOM present in the folder and subfolders\n"
   ]
  },
  {
   "cell_type": "code",
   "execution_count": null,
   "metadata": {},
   "outputs": [],
   "source": [
    "all_rois = Dicom_left_reader.return_rois(print_rois=True) # Return a list of all rois present"
   ]
  },
  {
   "cell_type": "code",
   "execution_count": null,
   "metadata": {},
   "outputs": [],
   "source": [
    "Contour_left_names = ['l lung-gtv']\n",
    "Dicom_left_reader.set_contour_names_and_associations(contour_names=Contour_left_names)\n",
    "Contour_right_names = ['r lung-gtv']\n",
    "Dicom_right_reader.set_contour_names_and_associations(contour_names=Contour_right_names)"
   ]
  },
  {
   "cell_type": "code",
   "execution_count": null,
   "metadata": {},
   "outputs": [],
   "source": [
    "left_indexes = Dicom_left_reader.which_indexes_have_all_rois()\n",
    "right_indexes = Dicom_right_reader.which_indexes_have_all_rois()"
   ]
  },
  {
   "cell_type": "code",
   "execution_count": null,
   "metadata": {},
   "outputs": [],
   "source": [
    "left_pt_indx = left_indexes[-1]\n",
    "Dicom_left_reader.set_index(left_pt_indx)  # This index has all the structures, corresponds to pre-RT T1-w image for patient 011\n",
    "Dicom_left_reader.get_images_and_mask()  # Load up the images and mask for the requested index\n",
    "\n",
    "right_pt_indx = right_indexes[-1]\n",
    "Dicom_right_reader.set_index(right_pt_indx)  # This index has all the structures, corresponds to pre-RT T1-w image for patient 011\n",
    "Dicom_right_reader.get_images_and_mask()  # Load up the images and mask for the requested index"
   ]
  },
  {
   "cell_type": "code",
   "execution_count": null,
   "metadata": {},
   "outputs": [],
   "source": [
    "left_image = Dicom_left_reader.ArrayDicom # image array\n",
    "left_mask = Dicom_left_reader.mask # mask array\n",
    "right_image = Dicom_right_reader.ArrayDicom # image array\n",
    "right_mask = Dicom_right_reader.mask # mask array"
   ]
  },
  {
   "cell_type": "code",
   "execution_count": null,
   "metadata": {},
   "outputs": [],
   "source": [
    "n_slices_skip = 4\n",
    "display_slices(left_image, left_mask, skip = n_slices_skip) # visualize that our segmentations were succesfully convereted"
   ]
  },
  {
   "cell_type": "code",
   "execution_count": null,
   "metadata": {},
   "outputs": [],
   "source": [
    "# Load the labels from the Excel file\n",
    "labels_df = pd.read_excel('label.xlsx')\n",
    "\n",
    "class CTMaskDataset(Dataset):\n",
    "    def __init__(self, image, mask, labels_df):\n",
    "        self.image = image\n",
    "        self.mask = mask\n",
    "        self.labels_df = labels_df\n",
    "\n",
    "    def __len__(self):\n",
    "        return len(self.image)\n",
    "\n",
    "    def __getitem__(self, idx):\n",
    "        img_slice = self.image[idx]\n",
    "        mask_slice = self.mask[idx]\n",
    "\n",
    "        # Normalize the image slice\n",
    "        img_slice = (img_slice - img_slice.min()) / (img_slice.max() - img_slice.min())\n",
    "        img_slice = torch.tensor(img_slice[np.newaxis], dtype=torch.float32)\n",
    "\n",
    "        # Convert mask into binary format (0 for background, 1 for lungs)\n",
    "        mask_slice = np.where(mask_slice > 0, 1, 0)\n",
    "        mask_slice = torch.tensor(mask_slice, dtype=torch.long)\n",
    "\n",
    "        # Get the corresponding label from the Excel file\n",
    "        anon_id = self.labels_df.iloc[idx]['anon_id']  # Assuming 'anon_id' is the column name for the anonymous id\n",
    "        label = self.labels_df.loc[self.labels_df['anon_id'] == anon_id, 'pneumonitis'].values[0]  # Assuming 'label' is the column name for the labels\n",
    "\n",
    "        return img_slice, mask_slice, label\n",
    "\n",
    "# Create the dataset and data loader\n",
    "left_dataset = CTMaskDataset(left_image, left_mask, labels_df)\n",
    "right_dataset = CTMaskDataset(right_image, right_mask, labels_df)\n",
    "dataset = ConcatDataset([left_dataset, right_dataset])\n",
    "data_loader = DataLoader(dataset, batch_size=4, shuffle=True)"
   ]
  },
  {
   "attachments": {},
   "cell_type": "markdown",
   "metadata": {},
   "source": [
    "## Define Model Structure \n"
   ]
  },
  {
   "cell_type": "code",
   "execution_count": null,
   "metadata": {},
   "outputs": [],
   "source": [
    "class CNNClassifier(nn.Module):\n",
    "    def __init__(self):\n",
    "        super(CNNClassifier, self).__init__()\n",
    "        self.conv1 = nn.Conv2d(1, 32, kernel_size=3, padding=1)\n",
    "        self.conv2 = nn.Conv2d(32, 64, kernel_size=3, padding=1)\n",
    "        self.pool = nn.MaxPool2d(2, 2)\n",
    "        self.fc1 = nn.Linear(64 * 128 * 128, 512)\n",
    "        self.fc2 = nn.Linear(512, 2)\n",
    "        self.relu = nn.ReLU()\n",
    "\n",
    "    def forward(self, x):\n",
    "        x = self.pool(self.relu(self.conv1(x)))\n",
    "        x = self.pool(self.relu(self.conv2(x)))\n",
    "        x = x.view(-1, 64 * 128 * 128)\n",
    "        x = self.relu(self.fc1(x))\n",
    "        x = self.fc2(x)\n",
    "        return x"
   ]
  },
  {
   "attachments": {},
   "cell_type": "markdown",
   "metadata": {},
   "source": [
    "## Train Model"
   ]
  },
  {
   "cell_type": "code",
   "execution_count": null,
   "metadata": {},
   "outputs": [],
   "source": [
    "# Check if a GPU is available and if not, default to CPU\n",
    "device = torch.device(\"cuda:0\" if torch.cuda.is_available() else \"cpu\")\n",
    "print(f\"Training on {device}\")\n",
    "\n",
    "# Initialize the model, loss function, and optimizer\n",
    "model = CNNClassifier().to(device)\n",
    "criterion = nn.CrossEntropyLoss()\n",
    "optimizer = optim.Adam(model.parameters(), lr=0.001)\n",
    "\n",
    "# Now you can use the model in your training loop\n",
    "n_epochs = 10\n",
    "for epoch in range(n_epochs):\n",
    "    model.train()\n",
    "    running_loss = 0.0\n",
    "    for i, (inputs, masks, labels) in enumerate(data_loader):\n",
    "        # Move data and labels to device\n",
    "        inputs, labels = inputs.to(device), labels.to(device)\n",
    "        mask = masks.to(device)\n",
    "        inputs = masks.unsqueeze(1).float()\n",
    "        optimizer.zero_grad()\n",
    "        outputs = model(inputs).float()\n",
    "        labels = labels.long()\n",
    "        loss = criterion(outputs, labels)\n",
    "\n",
    "        loss.backward()\n",
    "        optimizer.step()\n",
    "\n",
    "        running_loss += loss.item()\n",
    "\n",
    "    print(f\"Epoch {epoch + 1}/{n_epochs}, Loss: {running_loss / len(data_loader)}\")\n",
    "# Save the model\n",
    "model_save_path = \"./model.pth\"\n",
    "torch.save(model.state_dict(), model_save_path)\n",
    "print(f\"Model saved to {model_save_path}\")"
   ]
  }
 ],
 "metadata": {
  "kernelspec": {
   "display_name": "Python 3 (ipykernel)",
   "language": "python",
   "name": "python3"
  },
  "language_info": {
   "codemirror_mode": {
    "name": "ipython",
    "version": 3
   },
   "file_extension": ".py",
   "mimetype": "text/x-python",
   "name": "python",
   "nbconvert_exporter": "python",
   "pygments_lexer": "ipython3",
   "version": "3.8.13"
  },
  "orig_nbformat": 4
 },
 "nbformat": 4,
 "nbformat_minor": 2
}
